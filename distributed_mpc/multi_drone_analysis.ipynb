{
 "cells": [
  {
   "cell_type": "code",
   "execution_count": null,
   "id": "46a632e1-349d-4a59-a2d8-7910b1f89014",
   "metadata": {},
   "outputs": [],
   "source": [
    "import numpy as np\n",
    "from util import *\n",
    "from dpilqr import plot_solve\n",
    "import matplotlib.pyplot as plt\n",
    "import os\n",
    "import util"
   ]
  },
  {
   "cell_type": "code",
   "execution_count": null,
   "id": "1d1abf09",
   "metadata": {},
   "outputs": [],
   "source": []
  },
  {
   "cell_type": "code",
   "execution_count": null,
   "id": "bf8a7616-6cd5-4079-bcea-a9c67c5c4de9",
   "metadata": {},
   "outputs": [],
   "source": [
    "%load_ext autoreload\n",
    "%autoreload 2"
   ]
  },
  {
   "cell_type": "code",
   "execution_count": null,
   "id": "7c39d635-2061-4334-89d4-3af39e05cc31",
   "metadata": {},
   "outputs": [],
   "source": [
    "from dpilqr import random_setup,pos_mask\n"
   ]
  },
  {
   "cell_type": "code",
   "execution_count": null,
   "id": "978d91b5",
   "metadata": {},
   "outputs": [],
   "source": [
    "n_agents = 4\n",
    "n_states = 6\n",
    "x_dims = [n_states]*n_agents"
   ]
  },
  {
   "cell_type": "code",
   "execution_count": null,
   "id": "0af14da7",
   "metadata": {},
   "outputs": [],
   "source": [
    "data = np.load('4_drones_distributed_sim_data(equal_dist).npy')"
   ]
  },
  {
   "cell_type": "code",
   "execution_count": null,
   "id": "75276758",
   "metadata": {},
   "outputs": [],
   "source": [
    "unit_dist=1"
   ]
  },
  {
   "cell_type": "code",
   "execution_count": null,
   "id": "1ab1f190",
   "metadata": {},
   "outputs": [],
   "source": [
    "x0 = np.array([[-2, 0, 1, 0, 0, 0,\n",
    "                -2, 1, 1, 0, 0, 0,\n",
    "                2 ,0, 1, 0, 0, 0,\n",
    "                2, 1, 1, 0, 0, 0]], \n",
    "                dtype=float).T\n",
    "xf = np.array([[-2+unit_dist*2, 0+unit_dist*2, 1.5, 0, 0, 0,\n",
    "                -2+unit_dist*2, 1+unit_dist*2, 1.5, 0, 0, 0,\n",
    "                2+unit_dist*2 ,0+unit_dist*2, 1.5, 0, 0, 0,\n",
    "                2+unit_dist*2, 1+unit_dist*2, 1.5, 0, 0, 0]], \n",
    "                dtype=float).T"
   ]
  },
  {
   "cell_type": "code",
   "execution_count": null,
   "id": "529d8fe3",
   "metadata": {},
   "outputs": [],
   "source": [
    "%matplotlib ipympl\n",
    "plt.figure(dpi=150)\n",
    "np.set_printoptions(precision=3)\n",
    "plot_solve(data,0,xf,x_dims,n_d=3)\n",
    "# plt.title('Centralized MPC (IPOPT) for 3 drones');\n",
    "plt.legend(plt.gca().get_children()[1:3], [\"Start Position\", \"Goal Position\"]);\n",
    "plt.savefig('results/Distributed MPC (IPOPT) equal distance constraint.png');"
   ]
  },
  {
   "cell_type": "code",
   "execution_count": null,
   "id": "9f00a156",
   "metadata": {},
   "outputs": [],
   "source": []
  },
  {
   "cell_type": "code",
   "execution_count": null,
   "id": "d18705e8",
   "metadata": {},
   "outputs": [],
   "source": [
    "plt.figure(dpi=150)\n",
    "plt.plot(compute_pairwise_distance(data,x_dims));\n",
    "plt.hlines(0.51, 0, data.shape[0], 'r', ls='--', label=\"$d_{prox}$\")\n",
    "# plt.title(\"Inter-Agent Distances (w/ hard constraint)\")\n",
    "plt.xlabel(\"Time step\")\n",
    "plt.ylabel(\"Inter-agent distance [m]\")\n",
    "# plt.ylim(0.15,2.25)\n",
    "np.set_printoptions(precision=0)\n",
    "plt.legend(loc='center right')\n",
    "# plt.grid()\n",
    "plt.savefig('results/4_drone_equal_distance.png')\n",
    "plt.draw()"
   ]
  },
  {
   "cell_type": "code",
   "execution_count": null,
   "id": "ad1b67ee",
   "metadata": {},
   "outputs": [],
   "source": [
    "X_trj = data"
   ]
  },
  {
   "cell_type": "code",
   "execution_count": null,
   "id": "ecdd4c51",
   "metadata": {},
   "outputs": [],
   "source": [
    "import matplotlib.animation as animation\n",
    "\n",
    "\n",
    "# first, fill X_trj with some test data\n",
    "\n",
    "\n",
    "# second, create a function that updates the scatter plot for each frame\n",
    "def update_plot(k, X_trj, scatters):\n",
    "     # Set the data for each scatter plot\n",
    "    scatters[0]._offsets3d = X_trj.T[0:3, :k]\n",
    "    scatters[1]._offsets3d = X_trj.T[6:9, :k]\n",
    "    scatters[2]._offsets3d = X_trj.T[12:15, :k]\n",
    "    scatters[3]._offsets3d = X_trj.T[18:21, :k]\n",
    "    return scatters\n",
    "\n",
    "# Create the figure and axis\n",
    "fig = plt.figure()\n",
    "ax = plt.axes(projection='3d')\n",
    "\n",
    "# Create the scatter plots\n",
    "scatters = []\n",
    "scatters.append(ax.scatter([], [], []))\n",
    "scatters.append(ax.scatter([], [], []))\n",
    "scatters.append(ax.scatter([], [], []))\n",
    "scatters.append(ax.scatter([], [], []))\n",
    "\n",
    "# set the axis limits\n",
    "ax.set_xlim3d(X_trj.T[[0, 6, 12,18], :].min(), X_trj.T[[0, 6, 12, 18], :].max())\n",
    "ax.set_ylim3d(X_trj.T[[1, 7, 13,19], :].min(), X_trj.T[[1, 7, 13, 19], :].max())\n",
    "ax.set_zlim3d(X_trj.T[[2, 8, 14, 20], :].min(), X_trj.T[[2, 8, 14, 20], :].max())\n",
    "\n",
    "\n",
    "# Set the title\n",
    "# ax.set_title('Trajectory from one-shot optimization (human + drones)')\n",
    "\n",
    "ani = animation.FuncAnimation(fig, update_plot, frames=500, fargs=(X_trj, scatters))\n",
    "\n",
    "ani.save('animation(4_drones_equal_dist).gif',dpi = 150)\n",
    "plt.show()"
   ]
  },
  {
   "cell_type": "markdown",
   "id": "e9d97b18-b4f7-45f0-9f23-237a95e8373c",
   "metadata": {},
   "source": [
    "## Load results from centralized simulation:"
   ]
  },
  {
   "cell_type": "code",
   "execution_count": null,
   "id": "20d3f80a-03ec-4ad5-a097-b159340f5503",
   "metadata": {},
   "outputs": [],
   "source": [
    "n_agents = 3\n",
    "n_states = 6\n",
    "x_dims = [n_states]*n_agents"
   ]
  },
  {
   "cell_type": "code",
   "execution_count": null,
   "id": "d351bce0-00bc-4a74-a932-5f6235eea5c8",
   "metadata": {},
   "outputs": [],
   "source": [
    "data = np.load('simulation_data(drones)/3_drones_centralized_sim_data.npy')"
   ]
  },
  {
   "cell_type": "code",
   "execution_count": null,
   "id": "3914b27d-e6d1-4b3c-9b43-ecb23436ad16",
   "metadata": {},
   "outputs": [],
   "source": [
    "data.shape"
   ]
  },
  {
   "cell_type": "code",
   "execution_count": null,
   "id": "7b489815-868c-41b8-9703-a17e961abc75",
   "metadata": {},
   "outputs": [],
   "source": [
    "x0,xf = util.paper_setup_3_quads()"
   ]
  },
  {
   "cell_type": "code",
   "execution_count": null,
   "id": "e4036f4d-cd1f-4ad7-bdc6-363fac1c783e",
   "metadata": {},
   "outputs": [],
   "source": [
    "x0.T"
   ]
  },
  {
   "cell_type": "code",
   "execution_count": null,
   "id": "bf53f571-8b59-4af1-8364-04ca0e099f91",
   "metadata": {},
   "outputs": [],
   "source": [
    "xf.T"
   ]
  },
  {
   "cell_type": "code",
   "execution_count": null,
   "id": "f569959c-2d8b-474c-8a82-61bbddbd864a",
   "metadata": {},
   "outputs": [],
   "source": [
    "%matplotlib ipympl\n",
    "plt.figure(dpi=150)\n",
    "plot_solve(data,0,xf,x_dims,n_d=3)\n",
    "# plt.title('Centralized MPC (IPOPT) for 3 drones');\n",
    "plt.legend(plt.gca().get_children()[1:3], [\"Start Position\", \"Goal Position\"]);\n",
    "# plt.savefig('results/Centralized MPC (IPOPT) for 3 drones.png');"
   ]
  },
  {
   "cell_type": "code",
   "execution_count": null,
   "id": "68ca6052-2c7b-46df-93fd-4243489f2c41",
   "metadata": {},
   "outputs": [],
   "source": [
    "X_trj = data"
   ]
  },
  {
   "cell_type": "code",
   "execution_count": null,
   "id": "162cac62-0077-4436-9bbd-02c69df1315f",
   "metadata": {},
   "outputs": [],
   "source": [
    "import matplotlib.animation as animation\n",
    "\n",
    "\n",
    "# first, fill X_trj with some test data\n",
    "\n",
    "\n",
    "# second, create a function that updates the scatter plot for each frame\n",
    "def update_plot(k, X_trj, scatters):\n",
    "     # Set the data for each scatter plot\n",
    "    scatters[0]._offsets3d = X_trj.T[0:3, :k]\n",
    "    scatters[1]._offsets3d = X_trj.T[6:9, :k]\n",
    "    scatters[2]._offsets3d = X_trj.T[12:15, :k]\n",
    "    return scatters\n",
    "\n",
    "# Create the figure and axis\n",
    "fig = plt.figure()\n",
    "ax = plt.axes(projection='3d')\n",
    "\n",
    "# Create the scatter plots\n",
    "scatters = []\n",
    "scatters.append(ax.scatter([], [], []))\n",
    "scatters.append(ax.scatter([], [], []))\n",
    "scatters.append(ax.scatter([], [], []))\n",
    "\n",
    "# set the axis limits\n",
    "ax.set_xlim3d(X_trj.T[[0, 6, 12], :].min(), X_trj.T[[0, 6, 12], :].max())\n",
    "ax.set_ylim3d(X_trj.T[[1, 7, 13], :].min(), X_trj.T[[1, 7, 13], :].max())\n",
    "ax.set_zlim3d(X_trj.T[[2, 8, 14], :].min(), X_trj.T[[2, 8, 14], :].max())\n",
    "\n",
    "\n",
    "# Set the title\n",
    "# ax.set_title('Trajectory from one-shot optimization (human + drones)')\n",
    "\n",
    "ani = animation.FuncAnimation(fig, update_plot, frames=500, fargs=(X_trj, scatters))\n",
    "\n",
    "ani.save('animation(3_drones_MPC).gif',dpi = 150)\n",
    "plt.show()"
   ]
  },
  {
   "cell_type": "code",
   "execution_count": null,
   "id": "d5727d77-4891-4d31-a019-b6a9306a8e3e",
   "metadata": {},
   "outputs": [],
   "source": [
    "plt.figure(dpi=150)\n",
    "plt.plot(compute_pairwise_distance(data,x_dims));\n",
    "plt.hlines(0.35, 0, data.shape[0], 'r', ls='--', label=\"$d_{prox}$\")\n",
    "# plt.title(\"Inter-Agent Distances (w/ hard constraint)\")\n",
    "plt.xlabel(\"Time step\")\n",
    "plt.ylabel(\"Inter-agent distance [m]\")\n",
    "plt.ylim(0.15,2.25)\n",
    "np.set_printoptions(precision=0)\n",
    "plt.legend()\n",
    "# plt.grid()\n",
    "# plt.savefig('results/3_drone_pairwise_distance.png')\n",
    "plt.draw()"
   ]
  },
  {
   "cell_type": "markdown",
   "id": "6c77a046-c998-4df0-bccd-2942ffefc723",
   "metadata": {},
   "source": [
    "## Loading results from distributed IPOPT"
   ]
  },
  {
   "cell_type": "code",
   "execution_count": null,
   "id": "5259afb1-8be5-4888-8259-78e85588e153",
   "metadata": {},
   "outputs": [],
   "source": [
    "n_agents = 3\n",
    "n_states = 6\n",
    "x_dims = [n_states]*n_agents"
   ]
  },
  {
   "cell_type": "code",
   "execution_count": null,
   "id": "60ccdfc0-2082-4f98-927c-0e0f438222e3",
   "metadata": {},
   "outputs": [],
   "source": [
    "data = np.load('3_drones_distributed_sim_data.npy')"
   ]
  },
  {
   "cell_type": "code",
   "execution_count": null,
   "id": "9384a708-6a13-4eab-a104-76df3aa5668c",
   "metadata": {},
   "outputs": [],
   "source": [
    "%matplotlib ipympl\n",
    "plt.figure(dpi=150)\n",
    "plot_solve(data,0,xf,x_dims,n_d=3)\n",
    "plt.legend(plt.gca().get_children()[1:3], [\"Start Position\", \"Goal Position\"]);\n",
    "# plt.title('Distributed MPC(IPOPT) for 3 drones.png');\n",
    "# plt.savefig('results/Distributed MPC (IPOPT) for 3 drones.png')"
   ]
  },
  {
   "cell_type": "code",
   "execution_count": null,
   "id": "73fe80f7-5085-4172-8440-3509c6854b47",
   "metadata": {},
   "outputs": [],
   "source": [
    "X_trj = data"
   ]
  },
  {
   "cell_type": "code",
   "execution_count": null,
   "id": "0e74adc4-cfb9-4603-993d-3a1cf0fbf187",
   "metadata": {},
   "outputs": [],
   "source": [
    "import matplotlib.animation as animation\n",
    "\n",
    "\n",
    "# first, fill X_trj with some test data\n",
    "\n",
    "\n",
    "# second, create a function that updates the scatter plot for each frame\n",
    "def update_plot(k, X_trj, scatters):\n",
    "     # Set the data for each scatter plot\n",
    "    scatters[0]._offsets3d = X_trj.T[0:3, :k]\n",
    "    scatters[1]._offsets3d = X_trj.T[6:9, :k]\n",
    "    scatters[2]._offsets3d = X_trj.T[12:15, :k]\n",
    "    return scatters\n",
    "\n",
    "# Create the figure and axis\n",
    "fig = plt.figure()\n",
    "ax = plt.axes(projection='3d')\n",
    "\n",
    "# Create the scatter plots\n",
    "scatters = []\n",
    "scatters.append(ax.scatter([], [], []))\n",
    "scatters.append(ax.scatter([], [], []))\n",
    "scatters.append(ax.scatter([], [], []))\n",
    "\n",
    "# set the axis limits\n",
    "ax.set_xlim3d(X_trj.T[[0, 6, 12], :].min(), X_trj.T[[0, 6, 12], :].max())\n",
    "ax.set_ylim3d(X_trj.T[[1, 7, 13], :].min(), X_trj.T[[1, 7, 13], :].max())\n",
    "ax.set_zlim3d(X_trj.T[[2, 8, 14], :].min(), X_trj.T[[2, 8, 14], :].max())\n",
    "\n",
    "\n",
    "# Set the title\n",
    "# ax.set_title('Trajectory from one-shot optimization (human + drones)')\n",
    "\n",
    "ani = animation.FuncAnimation(fig, update_plot, frames=500, fargs=(X_trj, scatters))\n",
    "\n",
    "ani.save('animation(3_drones_distributed_MPC).gif',dpi = 150)\n",
    "plt.show()"
   ]
  },
  {
   "cell_type": "code",
   "execution_count": null,
   "id": "6b589784-8584-4d10-b4e6-ea2286dc5002",
   "metadata": {},
   "outputs": [],
   "source": [
    "plt.figure(dpi=150)\n",
    "plt.plot(compute_pairwise_distance(data,x_dims));\n",
    "plt.hlines(0.35, 0, data.shape[0], 'r', ls='--', label=\"$d_{prox}$\")\n",
    "# plt.title(\"Inter-Agent Distances (w/ hard constraint)\")\n",
    "plt.xlabel(\"Time Step\")\n",
    "plt.ylabel(\"Inter-agent distance [m]\")\n",
    "plt.ylim(0.25,2.25)\n",
    "plt.legend()\n",
    "# plt.grid()\n",
    "# plt.savefig('results/3_drone_pairwise_distance(distributed).png')\n",
    "plt.draw()"
   ]
  },
  {
   "cell_type": "code",
   "execution_count": null,
   "id": "88522a7f-8532-457c-8f0d-5fc81ee5e636",
   "metadata": {},
   "outputs": [],
   "source": [
    "#5 drones"
   ]
  },
  {
   "cell_type": "code",
   "execution_count": null,
   "id": "5f4a3563-6723-491f-ae30-0ec2890f5513",
   "metadata": {},
   "outputs": [],
   "source": []
  },
  {
   "cell_type": "code",
   "execution_count": null,
   "id": "4e32179e-5471-4d41-ba4f-6e48226af43a",
   "metadata": {},
   "outputs": [],
   "source": [
    "n_agents = 5\n",
    "n_states = 6\n",
    "x_dims = [n_states]*n_agents"
   ]
  },
  {
   "cell_type": "code",
   "execution_count": null,
   "id": "8582dd53-d722-472d-a58c-10a6700ce877",
   "metadata": {},
   "outputs": [],
   "source": [
    "data = np.load('5_drones_centralized_sim_data.npy')"
   ]
  },
  {
   "cell_type": "code",
   "execution_count": null,
   "id": "90ce7cf6-2e66-44e1-82b6-74b2136e27ea",
   "metadata": {},
   "outputs": [],
   "source": [
    "x0,xf = util.paper_setup_5_quads()"
   ]
  },
  {
   "cell_type": "code",
   "execution_count": null,
   "id": "814c75dd-f077-4bd0-a87f-a938290c0c76",
   "metadata": {},
   "outputs": [],
   "source": [
    "%matplotlib ipympl\n",
    "plt.figure(dpi=150)\n",
    "plot_solve(data,0,xf,x_dims,n_d=3)\n",
    "plt.legend(plt.gca().get_children()[1:3], [\"Start Position\", \"Goal Position\"]);"
   ]
  },
  {
   "cell_type": "code",
   "execution_count": null,
   "id": "821adfde-cea9-484f-9e47-1527dcb369dd",
   "metadata": {},
   "outputs": [],
   "source": [
    "X_trj = data\n",
    "def update_plot(k, X_trj, scatters):\n",
    "     # Set the data for each scatter plot\n",
    "    scatters[0]._offsets3d = X_trj.T[0:3, :k]\n",
    "    scatters[1]._offsets3d = X_trj.T[6:9, :k]\n",
    "    scatters[2]._offsets3d = X_trj.T[12:15, :k]\n",
    "    scatters[3]._offsets3d = X_trj.T[18:21, :k]\n",
    "    scatters[4]._offsets3d = X_trj.T[24:27, :k]\n",
    "    return scatters\n",
    "\n",
    "fig = plt.figure()\n",
    "ax = plt.axes(projection='3d')\n",
    "\n",
    "# Create the scatter plots\n",
    "scatters = []\n",
    "scatters.append(ax.scatter([], [], []))\n",
    "scatters.append(ax.scatter([], [], []))\n",
    "scatters.append(ax.scatter([], [], []))\n",
    "scatters.append(ax.scatter([], [], []))\n",
    "scatters.append(ax.scatter([], [], []))\n",
    "\n",
    "\n",
    "# set the axis limits\n",
    "ax.set_xlim3d(X_trj.T[[0, 6, 12, 18, 24], :].min(), X_trj.T[[0, 6, 12, 18, 24], :].max())\n",
    "ax.set_ylim3d(X_trj.T[[1, 7, 13, 19, 25], :].min(), X_trj.T[[1, 7, 13, 19, 25], :].max())\n",
    "ax.set_zlim3d(X_trj.T[[2, 8, 14, 20, 26], :].min(), X_trj.T[[2, 8, 14, 20, 26], :].max())\n",
    "\n",
    "\n",
    "# Set the title\n",
    "# ax.set_title('Trajectory from one-shot optimization (human + drones)')\n",
    "\n",
    "ani = animation.FuncAnimation(fig, update_plot, frames=500, fargs=(X_trj, scatters))\n",
    "\n",
    "ani.save('animation(5_drones_MPC).gif',dpi = 150)\n",
    "plt.show()"
   ]
  },
  {
   "cell_type": "code",
   "execution_count": null,
   "id": "44b506e6-d52d-419e-a46f-0ef3921a116c",
   "metadata": {},
   "outputs": [],
   "source": [
    "data = np.load('5_drones_distributed_sim_data.npy')"
   ]
  },
  {
   "cell_type": "code",
   "execution_count": null,
   "id": "21a16202-ca74-44d1-a457-9975c916579c",
   "metadata": {},
   "outputs": [],
   "source": [
    "%matplotlib ipympl\n",
    "plt.figure(dpi=150)\n",
    "plot_solve(data,0,xf,x_dims,n_d=3)\n",
    "plt.legend(plt.gca().get_children()[1:3], [\"Start Position\", \"Goal Position\"]);"
   ]
  },
  {
   "cell_type": "code",
   "execution_count": null,
   "id": "b2dea97d-1243-488c-8498-d3eb45933d36",
   "metadata": {},
   "outputs": [],
   "source": [
    "X_trj = data\n",
    "def update_plot(k, X_trj, scatters):\n",
    "     # Set the data for each scatter plot\n",
    "    scatters[0]._offsets3d = X_trj.T[0:3, :k]\n",
    "    scatters[1]._offsets3d = X_trj.T[6:9, :k]\n",
    "    scatters[2]._offsets3d = X_trj.T[12:15, :k]\n",
    "    scatters[3]._offsets3d = X_trj.T[18:21, :k]\n",
    "    scatters[4]._offsets3d = X_trj.T[24:27, :k]\n",
    "    return scatters\n",
    "\n",
    "fig = plt.figure()\n",
    "ax = plt.axes(projection='3d')\n",
    "\n",
    "# Create the scatter plots\n",
    "scatters = []\n",
    "scatters.append(ax.scatter([], [], []))\n",
    "scatters.append(ax.scatter([], [], []))\n",
    "scatters.append(ax.scatter([], [], []))\n",
    "scatters.append(ax.scatter([], [], []))\n",
    "scatters.append(ax.scatter([], [], []))\n",
    "\n",
    "\n",
    "# set the axis limits\n",
    "ax.set_xlim3d(X_trj.T[[0, 6, 12, 18, 24], :].min(), X_trj.T[[0, 6, 12, 18, 24], :].max())\n",
    "ax.set_ylim3d(X_trj.T[[1, 7, 13, 19, 25], :].min(), X_trj.T[[1, 7, 13, 19, 25], :].max())\n",
    "ax.set_zlim3d(X_trj.T[[2, 8, 14, 20, 26], :].min(), X_trj.T[[2, 8, 14, 20, 26], :].max())\n",
    "\n",
    "\n",
    "# Set the title\n",
    "# ax.set_title('Trajectory from one-shot optimization (human + drones)')\n",
    "\n",
    "ani = animation.FuncAnimation(fig, update_plot, frames=500, fargs=(X_trj, scatters))\n",
    "\n",
    "ani.save('animation(5_drones_distributed_MPC).gif',dpi = 150)\n",
    "plt.show()"
   ]
  },
  {
   "cell_type": "code",
   "execution_count": null,
   "id": "e882fc1b-670c-45dc-a2b4-453b13a55bbf",
   "metadata": {},
   "outputs": [],
   "source": []
  }
 ],
 "metadata": {
  "kernelspec": {
   "display_name": "Python 3 (ipykernel)",
   "language": "python",
   "name": "python3"
  },
  "language_info": {
   "codemirror_mode": {
    "name": "ipython",
    "version": 3
   },
   "file_extension": ".py",
   "mimetype": "text/x-python",
   "name": "python",
   "nbconvert_exporter": "python",
   "pygments_lexer": "ipython3",
   "version": "3.10.4"
  },
  "vscode": {
   "interpreter": {
    "hash": "399811294a7819b7e239898a57da83318870bf6cc244d0feadb37fb854947374"
   }
  }
 },
 "nbformat": 4,
 "nbformat_minor": 5
}
