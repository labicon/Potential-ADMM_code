{
 "cells": [
  {
   "cell_type": "code",
   "execution_count": 1,
   "id": "3ef4cab7-e2a9-4b4e-a9ec-e082a8bac929",
   "metadata": {},
   "outputs": [],
   "source": [
    "import numpy as np\n",
    "from casadi import *\n",
    "import casadi as cs\n",
    "import matplotlib.pyplot as plt\n",
    "import seaborn as sns\n",
    "from util import *\n",
    "import itertools \n",
    "from time import perf_counter\n",
    "import sympy as sym\n",
    "from IPython.display import display, Math\n"
   ]
  },
  {
   "cell_type": "code",
   "execution_count": 2,
   "id": "1e36870b-d8fd-4cf5-b894-351f7ae45b0f",
   "metadata": {},
   "outputs": [],
   "source": [
    "from dpilqr import util"
   ]
  },
  {
   "cell_type": "code",
   "execution_count": 3,
   "id": "738a66ad-f816-43c0-a9b0-2bf8b3e2fb9c",
   "metadata": {},
   "outputs": [],
   "source": [
    "%load_ext autoreload\n",
    "%autoreload 2"
   ]
  },
  {
   "cell_type": "code",
   "execution_count": 49,
   "id": "2703ac01-b6b8-48ee-ac60-b83c7ae97362",
   "metadata": {},
   "outputs": [],
   "source": [
    "theta_max = np.pi / 6\n",
    "phi_max = np.pi / 6\n",
    "\n",
    "v_max = 3\n",
    "v_min = -3\n",
    "\n",
    "theta_min = -np.pi / 6\n",
    "phi_min = -np.pi / 6\n",
    "\n",
    "tau_max = 15\n",
    "tau_min = 0\n",
    "\n",
    "x_min = -5\n",
    "x_max = 5\n",
    "\n",
    "y_min = -5\n",
    "y_max = 5\n",
    "\n",
    "z_min = 0\n",
    "z_max = 3.5\n",
    "\n",
    "max_input_base = np.array([[theta_max], [phi_max], [tau_max]])\n",
    "min_input_base = np.array([[theta_min], [phi_min], [tau_min]])\n",
    "max_state_base = np.array([[x_max], [y_max], [z_max], [v_max],[v_max], [v_max]])\n",
    "min_state_base = np.array([[x_min], [y_min], [z_min], [v_min],[v_min],[v_min]])\n"
   ]
  },
  {
   "cell_type": "code",
   "execution_count": 53,
   "id": "ed525b21-950b-429a-a865-4bb7b7e01edd",
   "metadata": {},
   "outputs": [],
   "source": [
    "n_agents = 3"
   ]
  },
  {
   "cell_type": "code",
   "execution_count": 54,
   "id": "14bf7903-1c4a-480f-a59c-f10a105a1107",
   "metadata": {},
   "outputs": [],
   "source": [
    "\n",
    "max_input = np.tile(max_input_base,(n_agents,1))\n",
    "min_input = np.tile(min_input_base,n_agents)\n",
    "max_state = np.tile(max_state_base,n_agents)\n",
    "min_state = np.tile(min_state_base,n_agents)"
   ]
  },
  {
   "cell_type": "code",
   "execution_count": 57,
   "id": "ec33cbb2-0b24-4708-8bc2-534bd7842cd2",
   "metadata": {},
   "outputs": [
    {
     "data": {
      "text/plain": [
       "array([[ 0.524],\n",
       "       [ 0.524],\n",
       "       [15.   ],\n",
       "       [ 0.524],\n",
       "       [ 0.524],\n",
       "       [15.   ],\n",
       "       [ 0.524],\n",
       "       [ 0.524],\n",
       "       [15.   ]])"
      ]
     },
     "execution_count": 57,
     "metadata": {},
     "output_type": "execute_result"
    }
   ],
   "source": [
    "max_input"
   ]
  },
  {
   "cell_type": "code",
   "execution_count": 51,
   "id": "1c0066dc-4286-4a10-9d01-0b2106bcdbcf",
   "metadata": {},
   "outputs": [],
   "source": [
    "max_input = np.array([[theta_max], [phi_max], [tau_max], \\\n",
    "                          [theta_max], [phi_max], [tau_max], \\\n",
    "                          [theta_max], [phi_max], [tau_max]])"
   ]
  },
  {
   "cell_type": "code",
   "execution_count": 52,
   "id": "a661a997-d30f-4f3d-a548-74e5129fdddb",
   "metadata": {},
   "outputs": [
    {
     "data": {
      "text/plain": [
       "array([[ 0.524],\n",
       "       [ 0.524],\n",
       "       [15.   ],\n",
       "       [ 0.524],\n",
       "       [ 0.524],\n",
       "       [15.   ],\n",
       "       [ 0.524],\n",
       "       [ 0.524],\n",
       "       [15.   ]])"
      ]
     },
     "execution_count": 52,
     "metadata": {},
     "output_type": "execute_result"
    }
   ],
   "source": [
    "max_input"
   ]
  },
  {
   "cell_type": "code",
   "execution_count": null,
   "id": "0001f49e-ae18-41f4-bfd4-f022c2b4b4a3",
   "metadata": {},
   "outputs": [],
   "source": []
  }
 ],
 "metadata": {
  "kernelspec": {
   "display_name": "Python 3 (ipykernel)",
   "language": "python",
   "name": "python3"
  },
  "language_info": {
   "codemirror_mode": {
    "name": "ipython",
    "version": 3
   },
   "file_extension": ".py",
   "mimetype": "text/x-python",
   "name": "python",
   "nbconvert_exporter": "python",
   "pygments_lexer": "ipython3",
   "version": "3.10.4"
  }
 },
 "nbformat": 4,
 "nbformat_minor": 5
}
