{
 "cells": [
  {
   "cell_type": "code",
   "execution_count": 70,
   "id": "3ef4cab7-e2a9-4b4e-a9ec-e082a8bac929",
   "metadata": {},
   "outputs": [],
   "source": [
    "import numpy as np\n",
    "from casadi import *\n",
    "import casadi as cs\n",
    "import matplotlib.pyplot as plt\n",
    "import seaborn as sns\n",
    "from util import *\n",
    "import itertools \n",
    "from time import perf_counter\n",
    "import sympy as sym\n",
    "from IPython.display import display, Math\n",
    "import util"
   ]
  },
  {
   "cell_type": "code",
   "execution_count": 59,
   "id": "1e36870b-d8fd-4cf5-b894-351f7ae45b0f",
   "metadata": {},
   "outputs": [],
   "source": [
    "# from dpilqr import util"
   ]
  },
  {
   "cell_type": "code",
   "execution_count": 60,
   "id": "738a66ad-f816-43c0-a9b0-2bf8b3e2fb9c",
   "metadata": {},
   "outputs": [
    {
     "name": "stdout",
     "output_type": "stream",
     "text": [
      "The autoreload extension is already loaded. To reload it, use:\n",
      "  %reload_ext autoreload\n"
     ]
    }
   ],
   "source": [
    "%load_ext autoreload\n",
    "%autoreload 2"
   ]
  },
  {
   "cell_type": "code",
   "execution_count": 61,
   "id": "2703ac01-b6b8-48ee-ac60-b83c7ae97362",
   "metadata": {},
   "outputs": [],
   "source": [
    "theta_max = np.pi / 6\n",
    "phi_max = np.pi / 6\n",
    "\n",
    "v_max = 3\n",
    "v_min = -3\n",
    "\n",
    "theta_min = -np.pi / 6\n",
    "phi_min = -np.pi / 6\n",
    "\n",
    "tau_max = 15\n",
    "tau_min = 0\n",
    "\n",
    "x_min = -5\n",
    "x_max = 5\n",
    "\n",
    "y_min = -5\n",
    "y_max = 5\n",
    "\n",
    "z_min = 0\n",
    "z_max = 3.5\n",
    "\n",
    "max_input_base = np.array([[theta_max], [phi_max], [tau_max]])\n",
    "min_input_base = np.array([[theta_min], [phi_min], [tau_min]])\n",
    "max_state_base = np.array([[x_max], [y_max], [z_max], [v_max],[v_max], [v_max]])\n",
    "min_state_base = np.array([[x_min], [y_min], [z_min], [v_min],[v_min],[v_min]])\n"
   ]
  },
  {
   "cell_type": "code",
   "execution_count": 140,
   "id": "ed525b21-950b-429a-a865-4bb7b7e01edd",
   "metadata": {},
   "outputs": [],
   "source": [
    "n_agents = 3"
   ]
  },
  {
   "cell_type": "code",
   "execution_count": 141,
   "id": "14bf7903-1c4a-480f-a59c-f10a105a1107",
   "metadata": {},
   "outputs": [],
   "source": [
    "\n",
    "max_input = np.tile(max_input_base,(n_agents,1))\n",
    "min_input = np.tile(min_input_base,n_agents)\n",
    "max_state = np.tile(max_state_base,n_agents)\n",
    "min_state = np.tile(min_state_base,n_agents)"
   ]
  },
  {
   "cell_type": "code",
   "execution_count": 142,
   "id": "ec33cbb2-0b24-4708-8bc2-534bd7842cd2",
   "metadata": {},
   "outputs": [
    {
     "data": {
      "text/plain": [
       "array([[ 0.524],\n",
       "       [ 0.524],\n",
       "       [15.   ],\n",
       "       [ 0.524],\n",
       "       [ 0.524],\n",
       "       [15.   ],\n",
       "       [ 0.524],\n",
       "       [ 0.524],\n",
       "       [15.   ]])"
      ]
     },
     "execution_count": 142,
     "metadata": {},
     "output_type": "execute_result"
    }
   ],
   "source": [
    "max_input"
   ]
  },
  {
   "cell_type": "code",
   "execution_count": 143,
   "id": "1c0066dc-4286-4a10-9d01-0b2106bcdbcf",
   "metadata": {},
   "outputs": [],
   "source": [
    "max_input = np.array([[theta_max], [phi_max], [tau_max], \\\n",
    "                          [theta_max], [phi_max], [tau_max], \\\n",
    "                          [theta_max], [phi_max], [tau_max]])"
   ]
  },
  {
   "cell_type": "code",
   "execution_count": 146,
   "id": "a661a997-d30f-4f3d-a548-74e5129fdddb",
   "metadata": {},
   "outputs": [
    {
     "data": {
      "text/plain": [
       "(9, 1)"
      ]
     },
     "execution_count": 146,
     "metadata": {},
     "output_type": "execute_result"
    }
   ],
   "source": [
    "max_input.shape"
   ]
  },
  {
   "cell_type": "code",
   "execution_count": 86,
   "id": "f3734e85-90ad-4c6d-bade-b873fb575466",
   "metadata": {},
   "outputs": [],
   "source": [
    "x0 = np.random.rand(18,1)\n",
    "xf = np.random.rand(18,1)\n",
    "x_dims = [6]*3\n",
    "n_dims = [3,3,3]\n",
    "radius = 0.5\n",
    "ids =  [100 + i for i in range(n_agents)]\n",
    "g = 9.81\n",
    "u_dims = [3]*3\n",
    "N = 10"
   ]
  },
  {
   "cell_type": "code",
   "execution_count": 87,
   "id": "f706bad5-8c75-4fc8-99c5-a4a06a08a796",
   "metadata": {},
   "outputs": [],
   "source": [
    "u_ref = np.array([0,0,g,0,0,g,0,0,g])"
   ]
  },
  {
   "cell_type": "code",
   "execution_count": 88,
   "id": "850c2fa4-73c3-46b5-8eab-4a600bae0093",
   "metadata": {},
   "outputs": [
    {
     "name": "stdout",
     "output_type": "stream",
     "text": [
      "determining interaction graph with the following pair-wise distance : [[0.321 0.481 0.426]]\n"
     ]
    }
   ],
   "source": [
    "# rel_dists = util.compute_pairwise_distance(x0, x_dims, n_d=3)\n",
    "rel_dists = util.compute_pairwise_distance_nd_Sym(x0,x_dims,n_dims)\n",
    "#Pairwise distance between any agent and a human agent is the 2-D planar Euclidean distance\n",
    "#since the human agent is assumed to be a cylindrical object with constant height\n",
    "\n",
    "#How do I know if the current subproblem has a human agent?\n",
    "# ids[-n_humans:]: id(s) of the human agents\n",
    "graph = util.define_inter_graph_threshold(x0, radius, x_dims, ids, n_dims)\n",
    "\n",
    "# print(\n",
    "    # f\"current interaction graph is {graph}, the pairwise distances between each agent is {rel_dists} \\n\"\n",
    "# )\n",
    "# x0 is updated until convergence (treat x0 as the combined CURRENT state)\n",
    "\n",
    "# break up the problem into potential-game sub-problems at every outer iteration\n",
    "split_problem_states_initial = split_graph(x0.T, x_dims, graph)\n",
    "# print(split_problem_states_initial)\n",
    "split_problem_states = split_graph(xf.T, x_dims, graph)\n",
    "split_problem_inputs = split_graph(u_ref.reshape(-1, 1).T, u_dims, graph)\n",
    "\n",
    "# Initiate different instances of Opti() object\n",
    "# Each Opti() object corresponds to a subproblem (there is NO central node)\n",
    "# Note that when 2 agents are combined into a single problem, we have 2 copies of the same sub problem\n",
    "########################################################################\n",
    "# Setting up the solvers:\n",
    "d = {}\n",
    "states = {}\n",
    "inputs = {}\n",
    "cost_fun_list = []\n",
    "\n",
    "d = {}  # dictionary holding Opti() objects (or subproblems)\n",
    "states = {}  # dictionary holding symbolic state trajectory for each sub-problem\n",
    "inputs = {}  ##dictionary holding symbolic input trajectory for each sub-problem\n",
    "\n",
    "for i, j in enumerate(split_problem_states_initial):\n",
    "    d[\"opti_{0}\".format(i)] = cs.Opti()\n",
    "    states[\"X_{0}\".format(i)] = d[f\"opti_{i}\"].variable(j.shape[1], N + 1)\n",
    "\n",
    "for i, j in enumerate(split_problem_inputs):\n",
    "    inputs[\"U_{0}\".format(i)] = d[f\"opti_{i}\"].variable(j.shape[1], N)\n",
    "\n",
    "# Storing objective functions for each sub-problem into a list:\n",
    "for i in range(len(split_problem_states_initial)):\n",
    "    cost_fun_list.append(\n",
    "        objective(\n",
    "            states[f\"X_{i}\"],\n",
    "            inputs[f\"U_{i}\"],\n",
    "            split_problem_inputs[i].reshape(\n",
    "                -1,\n",
    "            ),\n",
    "            split_problem_states[i].reshape(-1, 1),\n",
    "            np.eye(split_problem_states_initial[i].shape[1]) * 100,\n",
    "            np.eye(\n",
    "                split_problem_inputs[i]\n",
    "                .reshape(\n",
    "                    -1,\n",
    "                )\n",
    "                .shape[0]\n",
    "            )\n",
    "            * 0.1,\n",
    "            np.eye(split_problem_states_initial[i].shape[1]) * 1000,\n",
    "        )\n",
    "    )"
   ]
  },
  {
   "cell_type": "code",
   "execution_count": 92,
   "id": "a614994c-2ead-4c00-9d06-8636e7c04213",
   "metadata": {},
   "outputs": [],
   "source": [
    "n_inputs = 3\n",
    "n_states = 6"
   ]
  },
  {
   "cell_type": "code",
   "execution_count": 93,
   "id": "0001f49e-ae18-41f4-bfd4-f022c2b4b4a3",
   "metadata": {},
   "outputs": [],
   "source": [
    "min_max_input_list = generate_min_max_input(inputs, n_inputs,theta_max,\n",
    "                  theta_min,tau_max,tau_min,phi_max,phi_min)\n",
    "min_max_state_list = generate_min_max_state(states, n_states,x_min,\n",
    "                  x_max,y_min,y_max,z_min,z_max,v_min,v_max)"
   ]
  },
  {
   "cell_type": "code",
   "execution_count": 94,
   "id": "5495633d-6fa2-4274-8733-651ac05e912c",
   "metadata": {},
   "outputs": [
    {
     "data": {
      "text/plain": [
       "[(array([[-0.524, -0.524,  0.   , -0.524, -0.524,  0.   , -0.524, -0.524,\n",
       "           0.   ]]),\n",
       "  array([[ 0.524,  0.524, 15.   ,  0.524,  0.524, 15.   ,  0.524,  0.524,\n",
       "          15.   ]])),\n",
       " (array([[-0.524, -0.524,  0.   , -0.524, -0.524,  0.   , -0.524, -0.524,\n",
       "           0.   ]]),\n",
       "  array([[ 0.524,  0.524, 15.   ,  0.524,  0.524, 15.   ,  0.524,  0.524,\n",
       "          15.   ]])),\n",
       " (array([[-0.524, -0.524,  0.   , -0.524, -0.524,  0.   , -0.524, -0.524,\n",
       "           0.   ]]),\n",
       "  array([[ 0.524,  0.524, 15.   ,  0.524,  0.524, 15.   ,  0.524,  0.524,\n",
       "          15.   ]]))]"
      ]
     },
     "execution_count": 94,
     "metadata": {},
     "output_type": "execute_result"
    }
   ],
   "source": [
    "min_max_input_list"
   ]
  },
  {
   "cell_type": "code",
   "execution_count": 129,
   "id": "26d90df4-58d5-4af7-adc9-aad4117b5b90",
   "metadata": {},
   "outputs": [],
   "source": [
    "id_humans = ids[-1:]"
   ]
  },
  {
   "cell_type": "code",
   "execution_count": 145,
   "id": "2360f9e1-7b5e-4fe1-8589-1a9462ca4a1f",
   "metadata": {},
   "outputs": [
    {
     "name": "stdout",
     "output_type": "stream",
     "text": [
      "2\n",
      "n_dims is [3, 3, 2]\n",
      "2\n",
      "n_dims is [3, 3, 2]\n",
      "2\n",
      "n_dims is [3, 3, 2]\n"
     ]
    }
   ],
   "source": [
    "for (\n",
    "    di,\n",
    "    statesi,\n",
    "    inputsi,\n",
    "    costi,\n",
    "    state_boundsi,\n",
    "    input_boundsi,\n",
    "    (prob, ids_),\n",
    "    count,\n",
    ") in zip(\n",
    "    d.values(),\n",
    "    states.values(),\n",
    "    inputs.values(),\n",
    "    cost_fun_list,\n",
    "    min_max_state_list,\n",
    "    min_max_input_list,\n",
    "    graph.items(),\n",
    "    range(len(d)),\n",
    "):  # loop over sub-problems\n",
    "#     min_states, max_states = state_boundsi\n",
    "#     min_inputs, max_inputs = input_boundsi\n",
    "#     n_states_local = statesi.shape[0]\n",
    "#     n_inputs_local = inputsi.shape[0]\n",
    "#     x_dims_local = [int(n_states)] * int(n_states_local / n_states)\n",
    "#     drones_count = len(x_dims_local)\n",
    "#     for k in range(N):  # loop over control intervals\n",
    "               \n",
    "#         if drones_count !=0:\n",
    "#             # print(f'inputsi has shape{inputsi[0:drones_count*n_inputs,k].shape},max_inputs has shape{max_inputs.shape}\\n')\n",
    "#             di.subject_to(inputsi[0:drones_count*n_inputs,k] <= max_inputs[: , 0:drones_count*n_inputs].T)\n",
    "#             di.subject_to(min_inputs[: , 0:drones_count*n_inputs].T <= inputsi[0:drones_count*n_inputs,k])\n",
    "#             # print(inputsi[0:9,0].shape)\n",
    "#             # print(drones_count*n_inputs)\n",
    "#             # print(max_inputs.T.shape)\n",
    "\n",
    "    # print(prob,ids_)\n",
    "    human_count = sum(item in ids_ for item in id_humans)\n",
    "    drones_count = len(x_dims_local)-human_count\n",
    "    print(drones_count)\n",
    "    n_dims_local = [3]*drones_count \n",
    "    n_dims_local+= [2]*human_count\n",
    "    print(f'n_dims is {n_dims_local}')"
   ]
  },
  {
   "cell_type": "code",
   "execution_count": null,
   "id": "73bbcd4d-ac5b-4d1e-a11d-9f069a404093",
   "metadata": {},
   "outputs": [],
   "source": []
  },
  {
   "cell_type": "code",
   "execution_count": 101,
   "id": "c428cfc0-fceb-4b74-82db-f7d2f1b544c2",
   "metadata": {},
   "outputs": [
    {
     "data": {
      "text/plain": [
       "{100: [100, 101, 102], 101: [100, 101, 102], 102: [100, 101, 102]}"
      ]
     },
     "execution_count": 101,
     "metadata": {},
     "output_type": "execute_result"
    }
   ],
   "source": [
    "graph"
   ]
  },
  {
   "cell_type": "code",
   "execution_count": 96,
   "id": "72663e53-b3c7-4e54-a0fc-d645b197eaf5",
   "metadata": {},
   "outputs": [
    {
     "data": {
      "text/plain": [
       "array([[-5, -5,  0, -3, -3, -3, -5, -5,  0, -3, -3, -3, -5, -5,  0, -3,\n",
       "        -3, -3]])"
      ]
     },
     "execution_count": 96,
     "metadata": {},
     "output_type": "execute_result"
    }
   ],
   "source": [
    "min_states"
   ]
  },
  {
   "cell_type": "code",
   "execution_count": 98,
   "id": "d0045452-19b7-44a4-8d3a-517610e392c7",
   "metadata": {},
   "outputs": [
    {
     "data": {
      "text/plain": [
       "array([[5. , 5. , 3.5, 3. , 3. , 3. , 5. , 5. , 3.5, 3. , 3. , 3. , 5. ,\n",
       "        5. , 3.5, 3. , 3. , 3. ]])"
      ]
     },
     "execution_count": 98,
     "metadata": {},
     "output_type": "execute_result"
    }
   ],
   "source": [
    "max_states"
   ]
  },
  {
   "cell_type": "code",
   "execution_count": 99,
   "id": "627a3f02-533f-44cf-b3cf-182f71399599",
   "metadata": {},
   "outputs": [
    {
     "data": {
      "text/plain": [
       "array([[-0.524, -0.524,  0.   , -0.524, -0.524,  0.   , -0.524, -0.524,\n",
       "         0.   ]])"
      ]
     },
     "execution_count": 99,
     "metadata": {},
     "output_type": "execute_result"
    }
   ],
   "source": [
    "min_inputs"
   ]
  },
  {
   "cell_type": "code",
   "execution_count": 100,
   "id": "214197d9-4ad1-48a9-84a7-7ee7a49b5346",
   "metadata": {},
   "outputs": [
    {
     "data": {
      "text/plain": [
       "array([[ 0.524,  0.524, 15.   ,  0.524,  0.524, 15.   ,  0.524,  0.524,\n",
       "        15.   ]])"
      ]
     },
     "execution_count": 100,
     "metadata": {},
     "output_type": "execute_result"
    }
   ],
   "source": [
    "max_inputs"
   ]
  },
  {
   "cell_type": "code",
   "execution_count": null,
   "id": "b438b8e2-5b65-4987-a915-c0120b2e5f9f",
   "metadata": {},
   "outputs": [],
   "source": []
  }
 ],
 "metadata": {
  "kernelspec": {
   "display_name": "Python 3 (ipykernel)",
   "language": "python",
   "name": "python3"
  },
  "language_info": {
   "codemirror_mode": {
    "name": "ipython",
    "version": 3
   },
   "file_extension": ".py",
   "mimetype": "text/x-python",
   "name": "python",
   "nbconvert_exporter": "python",
   "pygments_lexer": "ipython3",
   "version": "3.10.4"
  }
 },
 "nbformat": 4,
 "nbformat_minor": 5
}
