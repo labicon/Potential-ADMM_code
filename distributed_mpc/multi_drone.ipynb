{
 "cells": [
  {
   "cell_type": "code",
   "execution_count": null,
   "metadata": {},
   "outputs": [],
   "source": []
  }
 ],
 "metadata": {
  "kernelspec": {
   "display_name": "Randy",
   "language": "python",
   "name": "python3"
  },
  "language_info": {
   "name": "python",
   "version": "3.10.4 (main, Mar 31 2022, 08:41:55) [GCC 7.5.0]"
  },
  "vscode": {
   "interpreter": {
    "hash": "399811294a7819b7e239898a57da83318870bf6cc244d0feadb37fb854947374"
   }
  }
 },
 "nbformat": 4,
 "nbformat_minor": 5
}
