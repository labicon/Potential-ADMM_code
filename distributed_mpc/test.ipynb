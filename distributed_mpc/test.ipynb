{
 "cells": [
  {
   "cell_type": "code",
   "execution_count": 2,
   "metadata": {},
   "outputs": [],
   "source": [
    "from dynamics import *\n",
    "from problem import *\n",
    "import numpy as np\n",
    "from casadi import *\n",
    "import matplotlib.pyplot as plt\n",
    "import seaborn as sns\n",
    "from util import *\n",
    "import itertools \n",
    "from time import perf_counter"
   ]
  },
  {
   "cell_type": "code",
   "execution_count": 3,
   "metadata": {},
   "outputs": [],
   "source": [
    "from decentralized import util"
   ]
  },
  {
   "cell_type": "code",
   "execution_count": 4,
   "metadata": {},
   "outputs": [],
   "source": [
    "%load_ext autoreload\n",
    "%autoreload 2"
   ]
  },
  {
   "cell_type": "markdown",
   "metadata": {},
   "source": [
    "## An example of using Casadi to optimize trajectory for a single quadrotor:"
   ]
  },
  {
   "cell_type": "code",
   "execution_count": null,
   "metadata": {},
   "outputs": [],
   "source": [
    "# x0 = np.random.rand(6*3,1)\n",
    "x0 = np.array([0.1, 0.1, 1.0, 0.1, 0.1, 0.1])\n",
    "xf = np.array([1.2, 1.2, 1.8, 0, 0, 0])\n",
    "Q = np.diag([5,5,5,1,1,1])\n",
    "R = np.eye(3)*0.01\n",
    "Qf = np.eye(6)*1000\n",
    "g = 9.8\n",
    "\n",
    "u_ref = np.array([0,0,g])\n",
    "N = 100\n",
    "\n",
    "opti = Opti()\n",
    "\n",
    "dt = 0.05"
   ]
  },
  {
   "cell_type": "code",
   "execution_count": null,
   "metadata": {},
   "outputs": [],
   "source": [
    "# models = [quad6D,quad6D,quad6D]"
   ]
  },
  {
   "cell_type": "code",
   "execution_count": null,
   "metadata": {},
   "outputs": [],
   "source": [
    "# ids = [i for i in range(n_agents)]"
   ]
  },
  {
   "cell_type": "code",
   "execution_count": null,
   "metadata": {},
   "outputs": [],
   "source": [
    "# quad6D(xf,Q,R,Qf,u_ref,N).cost()"
   ]
  },
  {
   "cell_type": "code",
   "execution_count": null,
   "metadata": {},
   "outputs": [],
   "source": [
    "# dynamics = MultiDynamicalModel([model(split_agents(xf.T,x_dims)[id_],Q,R,Qf,split_agents(u_ref.T,u_dims)[id_],N) for model,id_ in zip(models,ids)])"
   ]
  },
  {
   "cell_type": "code",
   "execution_count": null,
   "metadata": {},
   "outputs": [],
   "source": [
    "# problem = quadProblem()"
   ]
  },
  {
   "cell_type": "code",
   "execution_count": null,
   "metadata": {},
   "outputs": [],
   "source": [
    "X = opti.variable(6,N+1)\n",
    "U = opti.variable(3,N)"
   ]
  },
  {
   "cell_type": "code",
   "execution_count": null,
   "metadata": {},
   "outputs": [],
   "source": [
    "# x_dims = [6,6,6,6]"
   ]
  },
  {
   "cell_type": "code",
   "execution_count": null,
   "metadata": {},
   "outputs": [],
   "source": [
    "g = 9.81"
   ]
  },
  {
   "cell_type": "code",
   "execution_count": null,
   "metadata": {},
   "outputs": [],
   "source": [
    "f = lambda x,u: vertcat(x[3],x[4],x[5],g*tan(u[0]),-g*tan(u[1]),u[2]-g) #dx/dt = f(x,u)"
   ]
  },
  {
   "cell_type": "code",
   "execution_count": null,
   "metadata": {},
   "outputs": [],
   "source": [
    "for k in range(N): #loop over control intervals\n",
    "    # Runge-Kutta 4 integration\n",
    "    k1 = f(X[:,k],         U[:,k])\n",
    "    k2 = f(X[:,k]+dt/2*k1, U[:,k])\n",
    "    k3 = f(X[:,k]+dt/2*k2, U[:,k])\n",
    "    k4 = f(X[:,k]+dt*k3,   U[:,k])\n",
    "    x_next = X[:,k] + dt/6*(k1+2*k2+2*k3+k4) \n",
    "\n",
    "    opti.subject_to(X[:,k+1]==x_next) # close the gaps\n"
   ]
  },
  {
   "cell_type": "code",
   "execution_count": null,
   "metadata": {},
   "outputs": [],
   "source": [
    "total_stage_cost = 0\n",
    "for j in range(X.shape[1]-1):\n",
    "    for i in range(X.shape[0]):\n",
    "        total_stage_cost += (X[i,j]-xf[i])*Q[i, i]*(X[i,j]-xf[i])\n",
    "\n",
    "for j in range(U.shape[1]-1):\n",
    "    for i in range(U.shape[0]):\n",
    "        total_stage_cost += (U[i,j]-u_ref[i])*R[i, i]*(U[i,j]-u_ref[i])\n",
    "\n",
    "#Quadratic terminal cost:\n",
    "total_terminal_cost = 0\n",
    "# for j in range(X.shape[1]):\n",
    "for i in range(X.shape[0]):\n",
    "    total_terminal_cost += (X[i,-1]-xf[i])*Qf[i, i]*(X[i,-1]-xf[i])"
   ]
  },
  {
   "cell_type": "code",
   "execution_count": null,
   "metadata": {},
   "outputs": [],
   "source": [
    "objective = total_terminal_cost + total_stage_cost\n",
    "# objective = total_stage_cost\n"
   ]
  },
  {
   "cell_type": "code",
   "execution_count": null,
   "metadata": {},
   "outputs": [],
   "source": [
    "opti.minimize(objective) "
   ]
  },
  {
   "cell_type": "code",
   "execution_count": null,
   "metadata": {},
   "outputs": [],
   "source": [
    "opti.subject_to(X[2,:]<=3.0) # altitude p_z is limited\n",
    "opti.subject_to(0.4<=X[2,:])\n",
    "\n",
    "opti.subject_to(X[0,:]<=3) # p_x is limited\n",
    "opti.subject_to(-3<=X[0,:])\n",
    "\n",
    "opti.subject_to(X[1,:]<=3) # p_y is limited\n",
    "opti.subject_to(-3<=X[1,:])\n",
    "\n",
    "opti.subject_to(U[0,:]<=np.pi/6) # theta is limited\n",
    "opti.subject_to(-np.pi/6<=U[0,:])\n",
    "\n",
    "opti.subject_to(U[1,:]<=np.pi/6) # phi is limited\n",
    "opti.subject_to(-np.pi/6<=U[1,:])\n",
    "\n",
    "opti.subject_to(U[2,:]<=25) # tau is limited\n",
    "opti.subject_to(0<=U[2,:]) #minimum force \n",
    "\n",
    "# opti.subject_to(X[0:3,-1] == xf[0:3])\n",
    "#equality constraints:\n",
    "opti.subject_to(X[:,0] == x0)\n",
    "t0 = perf_counter()\n",
    "opti.solver(\"ipopt\")\n",
    "sol = opti.solve()\n",
    "tf = perf_counter()\n",
    "\n",
    "print(f'total run time is {tf-t0} seconds')\n"
   ]
  },
  {
   "cell_type": "code",
   "execution_count": null,
   "metadata": {},
   "outputs": [],
   "source": [
    "X_trj = sol.value(X)\n",
    "U_trj = sol.value(U)"
   ]
  },
  {
   "cell_type": "code",
   "execution_count": null,
   "metadata": {},
   "outputs": [],
   "source": [
    "U_trj.shape"
   ]
  },
  {
   "cell_type": "code",
   "execution_count": null,
   "metadata": {},
   "outputs": [],
   "source": [
    "%matplotlib ipympl\n",
    "fig = plt.figure()\n",
    "ax = plt.axes(projection='3d')\n",
    "ax.scatter(X_trj[0,:],X_trj[1,:],X_trj[2,:])\n",
    "ax.set_title('Trajectory from one-shot optimization')\n"
   ]
  },
  {
   "cell_type": "code",
   "execution_count": null,
   "metadata": {},
   "outputs": [],
   "source": [
    "pos_err = np.linalg.norm(X_trj[0:3,-1]-xf[0:3])\n",
    "pos_err"
   ]
  },
  {
   "cell_type": "markdown",
   "metadata": {},
   "source": [
    "## Running the above optimizaiton but in a receding-horizon fashion:\n",
    "In this case, we relax the terminal state constraint and impose a terminal state cost into the objective function. The reason is that each optimization step is solved over a control horizon, and it's not possible that the drone reaches its goal after each control horizon (which keeps shifting forward)"
   ]
  },
  {
   "cell_type": "code",
   "execution_count": 4,
   "metadata": {},
   "outputs": [],
   "source": [
    "def objective(X,U,u_ref,xf,Q,R,Qf):\n",
    "    total_stage_cost = 0\n",
    "    for j in range(X.shape[1]-1):\n",
    "        for i in range(X.shape[0]):\n",
    "            total_stage_cost += (X[i,j]-xf[i])*Q[i, i]*(X[i,j]-xf[i])\n",
    "\n",
    "    for j in range(U.shape[1]-1):\n",
    "        for i in range(U.shape[0]):\n",
    "            total_stage_cost += (U[i,j]-u_ref[i])*R[i, i]*(U[i,j]-u_ref[i])\n",
    "\n",
    "    #Quadratic terminal cost:\n",
    "    total_terminal_cost = 0\n",
    "\n",
    "    for i in range(X.shape[0]):\n",
    "        total_terminal_cost += (X[i,-1]-xf[i])*Qf[i, i]*(X[i,-1]-xf[i])\n",
    "            \n",
    "    return total_stage_cost + total_terminal_cost\n",
    "    # return total_stage_cost"
   ]
  },
  {
   "cell_type": "code",
   "execution_count": null,
   "metadata": {},
   "outputs": [],
   "source": [
    "x0 = np.array([0.5, 0.5, 1.0, 0.0, 0.0, 0.0])\n",
    "xf = np.array([1.3, 1.1, 1.8, 0, 0, 0])\n",
    "Q = np.diag([5,5,5,1,1,1])\n",
    "R = np.eye(3)*0.01\n",
    "Qf = np.eye(6)*1000\n",
    "\n",
    "# u_ref = np.zeros((3,1))\n",
    "u_ref = np.array([0,0,9.8])"
   ]
  },
  {
   "cell_type": "code",
   "execution_count": null,
   "metadata": {},
   "outputs": [],
   "source": [
    "n_agents = 1\n",
    "n_states = 6\n",
    "n_inputs=  3"
   ]
  },
  {
   "cell_type": "code",
   "execution_count": null,
   "metadata": {},
   "outputs": [],
   "source": [
    "def solve_rhc(x0,xf,u_ref,N,Qf):\n",
    "    #N is the shifting prediction horizon\n",
    "    \n",
    "    p_opts = {\"expand\":True}\n",
    "    s_opts = {\"max_iter\": 100,\"print_level\":4}\n",
    "    \n",
    "    opti = Opti()\n",
    "    M = 100 # this is the entire fixed horizon\n",
    " \n",
    "    n_x = n_agents*n_states\n",
    "    n_u = n_agents*n_inputs\n",
    "    \n",
    "    X_full = np.zeros((0, n_x))\n",
    "    U_full = np.zeros((0, n_u))\n",
    "    \n",
    "    t = 0\n",
    "\n",
    "    J_list = []\n",
    "    J_list.append(np.inf)\n",
    "    # for i in range(M) :\n",
    "    i = 0\n",
    "    \n",
    "    f = lambda x,u: vertcat(x[3],x[4],x[5],g*tan(u[0]),-g*tan(u[1]),u[2]-g) #dx/dt = f(x,u)\n",
    "    \n",
    "    dt = 0.05\n",
    "    \n",
    "    while (np.linalg.norm(x0[0:3]-xf[0:3]) > 0.1) and (i < M):\n",
    "    \n",
    "        X = opti.variable(6,N+1)\n",
    "        U = opti.variable(3,N)\n",
    "        \n",
    "        cost_fun = objective(X,U,u_ref,xf,Q,R,Qf)\n",
    "        opti.minimize(cost_fun)\n",
    "        \n",
    "        for k in range(N): #loop over control intervals\n",
    "            # Runge-Kutta 4 integration\n",
    "            k1 = f(X[:,k],         U[:,k])\n",
    "            k2 = f(X[:,k]+dt/2*k1, U[:,k])\n",
    "            k3 = f(X[:,k]+dt/2*k2, U[:,k])\n",
    "            k4 = f(X[:,k]+dt*k3,   U[:,k])\n",
    "            x_next = X[:,k] + dt/6*(k1+2*k2+2*k3+k4) \n",
    "\n",
    "            opti.subject_to(X[:,k+1]==x_next) # close the gaps\n",
    "\n",
    "        opti.subject_to(X[2,:]<=3.0) # altitude p_z is limited\n",
    "        opti.subject_to(0.4<=X[2,:])\n",
    "\n",
    "        opti.subject_to(X[0,:]<=3) # p_x is limited\n",
    "        opti.subject_to(-3<=X[0,:])\n",
    "\n",
    "        opti.subject_to(X[1,:]<=3) # p_y is limited\n",
    "        opti.subject_to(-3<=X[1,:])\n",
    "        \n",
    "        opti.subject_to(X[3,:] <=5) #Vx is limited\n",
    "        opti.subject_to(0 <= X[3,:])\n",
    "        \n",
    "        opti.subject_to(X[4,:] <=5) #Vy is limited\n",
    "        opti.subject_to(0 <= X[4,:])\n",
    "        \n",
    "        opti.subject_to(X[5,:] <=5) #Vz is limited\n",
    "        opti.subject_to(0 <= X[5,:])\n",
    "\n",
    "        opti.subject_to(U[0,:]<=np.pi/6) # theta is limited\n",
    "        opti.subject_to(-np.pi/6<=U[0,:])\n",
    "\n",
    "        opti.subject_to(U[1,:]<=np.pi/6) # phi is limited\n",
    "        opti.subject_to(-np.pi/6<=U[1,:])\n",
    "\n",
    "        opti.subject_to(U[2,:]<=20) # tau is limited\n",
    "        opti.subject_to(0<=U[2,:]) #minimum force keeps the drone at hover\n",
    "\n",
    "        #equality constraints for initial condition:\n",
    "        opti.subject_to(X[:,0] == x0)\n",
    "\n",
    "        \n",
    "        opti.solver(\"ipopt\",p_opts,\n",
    "                    s_opts) \n",
    "        \n",
    "        \n",
    "        sol = opti.solve()\n",
    "        x0 = sol.value(X)[:,1]\n",
    "        u_sol = sol.value(U)[:,0]\n",
    "        J_list.append(sol.value(cost_fun))\n",
    "        \n",
    "        \n",
    "        #Store the trajectory\n",
    "        \n",
    "        X_full = np.r_[X_full, x0.reshape(1,-1)]\n",
    "        U_full = np.r_[U_full, u_sol.reshape(1,-1)]\n",
    "        \n",
    "        t += dt\n",
    "        i +=1\n",
    "        \n",
    "        if abs(J_list[i]-J_list[i-1]) <= 10 :\n",
    "            print(f'Terminated! at i = {i}')\n",
    "            break\n",
    "        \n",
    "        \n",
    "    return X_full,U_full, t\n",
    "    "
   ]
  },
  {
   "cell_type": "code",
   "execution_count": null,
   "metadata": {},
   "outputs": [],
   "source": [
    "from time import perf_counter"
   ]
  },
  {
   "cell_type": "code",
   "execution_count": null,
   "metadata": {},
   "outputs": [],
   "source": [
    "N = 5\n",
    "t0 = perf_counter()\n",
    "x_trj,u_trj, t = solve_rhc(x0,xf,u_ref,N,Qf)\n",
    "tf = perf_counter()\n",
    "print(f'total run time is {tf-t0} seconds')"
   ]
  },
  {
   "cell_type": "code",
   "execution_count": null,
   "metadata": {},
   "outputs": [],
   "source": [
    "x_trj.shape"
   ]
  },
  {
   "cell_type": "code",
   "execution_count": null,
   "metadata": {},
   "outputs": [],
   "source": [
    "%matplotlib ipympl\n",
    "fig = plt.figure()\n",
    "ax = plt.axes(projection='3d')\n",
    "ax.scatter(x_trj[:,0],x_trj[:,1],x_trj[:,2])\n",
    "ax.set_title('Trajectory with receding horizon')"
   ]
  },
  {
   "cell_type": "code",
   "execution_count": null,
   "metadata": {},
   "outputs": [],
   "source": [
    "x0"
   ]
  },
  {
   "cell_type": "code",
   "execution_count": null,
   "metadata": {},
   "outputs": [],
   "source": [
    "xf"
   ]
  },
  {
   "cell_type": "code",
   "execution_count": null,
   "metadata": {},
   "outputs": [],
   "source": [
    "pos_err = np.linalg.norm(x_trj[-1,0:3]-xf[0:3])"
   ]
  },
  {
   "cell_type": "code",
   "execution_count": null,
   "metadata": {},
   "outputs": [],
   "source": [
    "pos_err  #not bad!\n"
   ]
  },
  {
   "cell_type": "markdown",
   "metadata": {},
   "source": [
    "## Running 3 drones in a centralized fashion:"
   ]
  },
  {
   "cell_type": "code",
   "execution_count": 5,
   "metadata": {},
   "outputs": [],
   "source": [
    "x0,xf = paper_setup_3_quads()"
   ]
  },
  {
   "cell_type": "code",
   "execution_count": 6,
   "metadata": {},
   "outputs": [
    {
     "data": {
      "text/plain": [
       "(18, 1)"
      ]
     },
     "execution_count": 6,
     "metadata": {},
     "output_type": "execute_result"
    }
   ],
   "source": [
    "xf.shape"
   ]
  },
  {
   "cell_type": "code",
   "execution_count": 7,
   "metadata": {},
   "outputs": [],
   "source": [
    "g = 9.81"
   ]
  },
  {
   "cell_type": "code",
   "execution_count": 8,
   "metadata": {},
   "outputs": [],
   "source": [
    "n_agents = 3\n",
    "n_states = 6\n",
    "n_inputs=  3\n",
    "\n",
    "\n",
    "# Qs = [Q] * n_agents\n",
    "# Rs = [R] * n_agents\n",
    "# Qfs = [Qf] * n_agents\n",
    "# x_dims = [n_states]*n_agents\n",
    "# u_dims = [n_inputs]*n_agents"
   ]
  },
  {
   "cell_type": "code",
   "execution_count": 9,
   "metadata": {},
   "outputs": [],
   "source": [
    "u_ref = np.array([0, 0, g, 0, 0, g, 0, 0, g])\n",
    "Q = np.diag([5,5,5,1,1,1,5,5,5,1,1,1,5,5,5,1,1,1])\n",
    "R = np.eye(n_agents*n_inputs)*0.01\n",
    "Qf = np.eye(n_agents*n_states)*1000\n",
    "\n",
    "theta_max = np.pi/6\n",
    "phi_max = np.pi/6\n",
    "\n",
    "v_max = 3\n",
    "v_min = -3\n",
    "\n",
    "theta_min = -np.pi/6\n",
    "phi_min = -np.pi/6\n",
    "\n",
    "tau_max = 15\n",
    "tau_min = 0\n",
    "\n",
    "x_min = -5\n",
    "x_max = 5\n",
    "\n",
    "y_min = -5\n",
    "y_max = 5\n",
    "\n",
    "z_min = 0\n",
    "z_max = 3.0"
   ]
  },
  {
   "cell_type": "code",
   "execution_count": 10,
   "metadata": {},
   "outputs": [],
   "source": [
    "max_input = np.array([[theta_max], [phi_max], [tau_max], \\\n",
    "                          [theta_max], [phi_max], [tau_max], \\\n",
    "                          [theta_max], [phi_max], [tau_max]])\n",
    "\n",
    "min_input = np.array([[theta_min], [phi_min], [tau_min], \\\n",
    "                      [theta_min], [phi_min], [tau_min], \\\n",
    "                      [theta_min], [phi_min], [tau_min]])\n",
    "\n",
    "max_state_upper = np.array([[x_max], [y_max], [z_max], [v_max],[v_max], [v_max],\\\n",
    "                          [x_max], [y_max], [z_max], [v_max],[v_max], [v_max],\\\n",
    "                          [x_max], [y_max], [z_max], [v_max],[v_max], [v_max]])\n",
    "    \n",
    "max_state_lower = np.array([[x_min], [y_min], [z_min], [v_min],[v_min], [v_min],\\\n",
    "                          [x_min], [y_min], [z_min], [v_min],[v_min], [v_min],\\\n",
    "                          [x_min], [y_min], [z_min], [v_min],[v_min], [v_min]])"
   ]
  },
  {
   "cell_type": "code",
   "execution_count": 11,
   "metadata": {},
   "outputs": [],
   "source": [
    "def objective(X,U,u_ref,xf,Q,R,Qf):\n",
    "    total_stage_cost = 0\n",
    "    for j in range(X.shape[1]-1):\n",
    "        for i in range(X.shape[0]):\n",
    "            total_stage_cost += (X[i,j]-xf[i])*Q[i, i]*(X[i,j]-xf[i])\n",
    "\n",
    "    for j in range(U.shape[1]):\n",
    "        for i in range(U.shape[0]):\n",
    "            total_stage_cost += (U[i,j]-u_ref[i])*R[i, i]*(U[i,j]-u_ref[i])\n",
    "\n",
    "    #Quadratic terminal cost:\n",
    "    total_terminal_cost = 0\n",
    "\n",
    "    for i in range(X.shape[0]):\n",
    "        total_terminal_cost += (X[i,-1]-xf[i])*Qf[i, i]*(X[i,-1]-xf[i])\n",
    "            \n",
    "    return total_stage_cost + total_terminal_cost"
   ]
  },
  {
   "cell_type": "code",
   "execution_count": 12,
   "metadata": {},
   "outputs": [],
   "source": [
    "eps = 1e-3"
   ]
  },
  {
   "cell_type": "code",
   "execution_count": 13,
   "metadata": {},
   "outputs": [],
   "source": [
    "f = lambda x,u: vertcat(x[3],x[4],x[5],  g*tan(u[0]), -g*tan(u[1]),u[2]-g,\n",
    "                        x[9],x[10],x[11], g*tan(u[3]), -g*tan(u[4]), u[5]-g,\n",
    "                        x[15],x[16],x[17], g*tan(u[6]), -g*tan(u[7]), u[8]-g) #dx/dt = f(x,u)"
   ]
  },
  {
   "cell_type": "code",
   "execution_count": 15,
   "metadata": {},
   "outputs": [],
   "source": [
    "def solve_rhc(x0,xf,u_ref,N,Q,R,Qf):\n",
    "    #N is the shifting prediction horizon\n",
    "    \n",
    "    p_opts = {\"expand\":True}\n",
    "    s_opts = {\"max_iter\": 150,\"print_level\":2}\n",
    "    \n",
    "    \n",
    "    M = 100 # this is the entire fixed horizon\n",
    " \n",
    "    n_x = n_agents*n_states\n",
    "    n_u = n_agents*n_inputs\n",
    "    x_dims = [n_states]*n_agents\n",
    "    \n",
    "    \n",
    "    X_full = np.zeros((0, n_x))\n",
    "    U_full = np.zeros((0, n_u))\n",
    "    \n",
    "    t = 0\n",
    "\n",
    "    J_list = []\n",
    "    J_list.append(np.inf)\n",
    "    # for i in range(M) :\n",
    "    i = 0\n",
    "    dt = 0.05\n",
    "    \n",
    "    while (np.linalg.norm(x0[0:3]-xf[0:3]) > 0.1) and (i < M):\n",
    "        \n",
    "        \n",
    "        opti = Opti()\n",
    "        X = opti.variable(n_x,N+1)\n",
    "        U = opti.variable(n_u,N)\n",
    "        \n",
    "        cost_fun = objective(X,U,u_ref,xf,Q,R,Qf)\n",
    "        opti.minimize(cost_fun)\n",
    "        \n",
    "        for k in range(N): #loop over control intervals\n",
    "            # Runge-Kutta 4 integration\n",
    "            k1 = f(X[:,k],         U[:,k])\n",
    "            k2 = f(X[:,k]+dt/2*k1, U[:,k])\n",
    "            k3 = f(X[:,k]+dt/2*k2, U[:,k])\n",
    "            k4 = f(X[:,k]+dt*k3,   U[:,k])\n",
    "            x_next = X[:,k] + dt/6*(k1+2*k2+2*k3+k4) \n",
    "\n",
    "            opti.subject_to(X[:,k+1]==x_next) # close the gaps\n",
    "            \n",
    "            #Constraints on inputs:\n",
    "            for j in range(max_input.shape[0]):\n",
    "\n",
    "                opti.subject_to(U[j,k] <= max_input[j] )\n",
    "                opti.subject_to(min_input[j] <= U[j,k] )\n",
    "                \n",
    "        #Hard-coding collision avoidance constraints:\n",
    "        # for k in range(N+1):    \n",
    "        #     #Collision avoidance:\n",
    "        #     opti.subject_to(-sqrt((X[0,k]-X[6,k])**2+ (X[1,k]-X[7,k])**2 +(X[2,k]-X[8,k])**2 + eps)  <= -0.5)\n",
    "        #     opti.subject_to(-sqrt((X[0,k]-X[12,k])**2 +(X[1,k]-X[13,k])**2 +(X[2,k]-X[14,k])**2 + eps) <= -0.5)\n",
    "        #     opti.subject_to(-sqrt((X[12,k]-X[6,k])**2 +(X[13,k]-X[7,k])**2 +(X[14,k]-X[8,k])**2 + eps) <= -0.5)\n",
    "        \n",
    "        #collision avoidance\n",
    "        for k in range(N+1):\n",
    "            distances = compute_pairwise_distance_Sym(X[:,k], x_dims)\n",
    "            for n in range(len(distances)):\n",
    "                opti.subject_to(distances[n] >= 0.5)\n",
    "                \n",
    "            #constraints on states:\n",
    "            for m in range(max_state_lower.shape[0]):\n",
    "\n",
    "                opti.subject_to(X[m,k]<= max_state_upper[m] )\n",
    "                opti.subject_to(max_state_lower[m] <= X[m,k])\n",
    "\n",
    "            \n",
    "        #equality constraints for initial condition:\n",
    "        opti.subject_to(X[:,0] == x0)\n",
    "        \n",
    "        opti.solver(\"ipopt\",p_opts,\n",
    "                    s_opts) \n",
    "        \n",
    "        \n",
    "        sol = opti.solve()\n",
    "        x0 = sol.value(X)[:,1]\n",
    "        u_sol = sol.value(U)[:,0]\n",
    "        \n",
    "        J_list.append(sol.value(cost_fun))\n",
    "        print(f'current objective function value is {sol.value(cost_fun)}')\n",
    "        \n",
    "        \n",
    "        #Store the trajectory\n",
    "        \n",
    "        X_full = np.r_[X_full, x0.reshape(1,-1)]\n",
    "        U_full = np.r_[U_full, u_sol.reshape(1,-1)]\n",
    "        \n",
    "        t += dt\n",
    "        i +=1\n",
    "        \n",
    "        # print(opti.variable) #print this to check the optimization parameters for each control horizon\n",
    "        \n",
    "        if abs(J_list[i]-J_list[i-1]) <= 1.0 :\n",
    "            print(f'Terminated! at i = {i}')\n",
    "            break\n",
    "            \n",
    "        \n",
    "    return X_full,U_full, t"
   ]
  },
  {
   "cell_type": "code",
   "execution_count": 16,
   "metadata": {},
   "outputs": [
    {
     "name": "stdout",
     "output_type": "stream",
     "text": [
      "\n",
      "******************************************************************************\n",
      "This program contains Ipopt, a library for large-scale nonlinear optimization.\n",
      " Ipopt is released as open source code under the Eclipse Public License (EPL).\n",
      "         For more information visit https://github.com/coin-or/Ipopt\n",
      "******************************************************************************\n",
      "\n",
      "      solver  :   t_proc      (avg)   t_wall      (avg)    n_eval\n",
      "       nlp_f  |        0 (       0) 734.40us ( 20.40us)        36\n",
      "       nlp_g  |        0 (       0)   2.11ms ( 58.56us)        36\n",
      "  nlp_grad_f  |        0 (       0)   1.04ms ( 30.72us)        34\n",
      "  nlp_hess_l  |        0 (       0)   2.67ms ( 83.43us)        32\n",
      "   nlp_jac_g  |        0 (       0)   4.36ms (128.33us)        34\n",
      "       total  | 343.75ms (343.75ms) 366.01ms (366.01ms)         1\n",
      "current objective function value is 3208.3983588182737\n",
      "      solver  :   t_proc      (avg)   t_wall      (avg)    n_eval\n",
      "       nlp_f  |        0 (       0) 813.50us ( 20.86us)        39\n",
      "       nlp_g  |        0 (       0)   2.47ms ( 63.32us)        39\n",
      "  nlp_grad_f  |        0 (       0)   1.01ms ( 26.57us)        38\n",
      "  nlp_hess_l  |        0 (       0)   2.75ms ( 76.48us)        36\n",
      "   nlp_jac_g  |        0 (       0)   3.30ms ( 86.85us)        38\n",
      "       total  | 437.50ms (437.50ms) 434.84ms (434.84ms)         1\n",
      "current objective function value is 2707.8494922195623\n",
      "      solver  :   t_proc      (avg)   t_wall      (avg)    n_eval\n",
      "       nlp_f  |        0 (       0) 614.00us ( 17.54us)        35\n",
      "       nlp_g  |        0 (       0)   2.12ms ( 60.53us)        35\n",
      "  nlp_grad_f  |        0 (       0) 778.30us ( 21.62us)        36\n",
      "  nlp_hess_l  |        0 (       0)   2.30ms ( 67.54us)        34\n",
      "   nlp_jac_g  |        0 (       0)   2.68ms ( 74.56us)        36\n",
      "       total  | 406.25ms (406.25ms) 396.54ms (396.54ms)         1\n",
      "current objective function value is 2177.021241607863\n",
      "      solver  :   t_proc      (avg)   t_wall      (avg)    n_eval\n",
      "       nlp_f  |        0 (       0) 846.70us ( 18.82us)        45\n",
      "       nlp_g  |        0 (       0)   2.72ms ( 60.40us)        45\n",
      "  nlp_grad_f  |        0 (       0)   1.06ms ( 23.46us)        45\n",
      "  nlp_hess_l  |        0 (       0)   3.00ms ( 69.84us)        43\n",
      "   nlp_jac_g  |        0 (       0)   3.55ms ( 78.88us)        45\n",
      "       total  | 453.12ms (453.12ms) 462.81ms (462.81ms)         1\n",
      "current objective function value is 1684.4532502468574\n",
      "      solver  :   t_proc      (avg)   t_wall      (avg)    n_eval\n",
      "       nlp_f  |        0 (       0) 639.80us ( 16.00us)        40\n",
      "       nlp_g  |        0 (       0)   1.99ms ( 49.82us)        40\n",
      "  nlp_grad_f  |        0 (       0) 755.20us ( 19.36us)        39\n",
      "  nlp_hess_l  |        0 (       0)   2.08ms ( 56.14us)        37\n",
      "   nlp_jac_g  |        0 (       0)   2.44ms ( 62.67us)        39\n",
      "       total  | 328.12ms (328.12ms) 348.00ms (348.00ms)         1\n",
      "current objective function value is 1263.5034807065895\n",
      "      solver  :   t_proc      (avg)   t_wall      (avg)    n_eval\n",
      "       nlp_f  |        0 (       0) 674.60us ( 14.67us)        46\n",
      "       nlp_g  |        0 (       0)   2.16ms ( 46.87us)        46\n",
      "  nlp_grad_f  |        0 (       0) 842.30us ( 17.92us)        47\n",
      "  nlp_hess_l  |  15.62ms (347.22us)   2.43ms ( 53.98us)        45\n",
      "   nlp_jac_g  |        0 (       0)   2.72ms ( 57.79us)        47\n",
      "       total  | 375.00ms (375.00ms) 378.15ms (378.15ms)         1\n",
      "current objective function value is 923.85551570212\n",
      "      solver  :   t_proc      (avg)   t_wall      (avg)    n_eval\n",
      "       nlp_f  |        0 (       0) 798.10us ( 18.56us)        43\n",
      "       nlp_g  |        0 (       0)   2.49ms ( 57.96us)        43\n",
      "  nlp_grad_f  |        0 (       0) 963.90us ( 21.91us)        44\n",
      "  nlp_hess_l  |        0 (       0)   2.78ms ( 66.17us)        42\n",
      "   nlp_jac_g  |  15.62ms (355.11us)   3.22ms ( 73.24us)        44\n",
      "       total  | 515.62ms (515.62ms) 519.28ms (519.28ms)         1\n",
      "current objective function value is 641.2910580539435\n",
      "      solver  :   t_proc      (avg)   t_wall      (avg)    n_eval\n",
      "       nlp_f  |        0 (       0) 746.20us ( 15.23us)        49\n",
      "       nlp_g  |        0 (       0)   2.39ms ( 48.68us)        49\n",
      "  nlp_grad_f  |        0 (       0) 936.70us ( 18.73us)        50\n",
      "  nlp_hess_l  |        0 (       0)   2.64ms ( 54.93us)        48\n",
      "   nlp_jac_g  |        0 (       0)   3.21ms ( 64.27us)        50\n",
      "       total  | 453.12ms (453.12ms) 446.91ms (446.91ms)         1\n",
      "current objective function value is 435.7819370983726\n",
      "      solver  :   t_proc      (avg)   t_wall      (avg)    n_eval\n",
      "       nlp_f  |        0 (       0) 823.00us ( 14.70us)        56\n",
      "       nlp_g  |        0 (       0)   2.54ms ( 45.37us)        56\n",
      "  nlp_grad_f  |        0 (       0)   1.04ms ( 18.28us)        57\n",
      "  nlp_hess_l  |        0 (       0)   3.15ms ( 57.29us)        55\n",
      "   nlp_jac_g  |        0 (       0)   3.58ms ( 62.86us)        57\n",
      "       total  | 468.75ms (468.75ms) 474.98ms (474.98ms)         1\n",
      "current objective function value is 303.8065125321036\n",
      "      solver  :   t_proc      (avg)   t_wall      (avg)    n_eval\n",
      "       nlp_f  |        0 (       0)   1.13ms ( 15.42us)        73\n",
      "       nlp_g  |        0 (       0)   3.46ms ( 47.42us)        73\n",
      "  nlp_grad_f  |        0 (       0)   1.83ms ( 24.69us)        74\n",
      "  nlp_hess_l  |  15.62ms (217.01us)   4.00ms ( 55.52us)        72\n",
      "   nlp_jac_g  |        0 (       0)   4.44ms ( 59.96us)        74\n",
      "       total  | 656.25ms (656.25ms) 673.52ms (673.52ms)         1\n",
      "current objective function value is 241.19111290035275\n",
      "      solver  :   t_proc      (avg)   t_wall      (avg)    n_eval\n",
      "       nlp_f  |        0 (       0)   1.09ms ( 17.80us)        61\n",
      "       nlp_g  |        0 (       0)   2.70ms ( 44.31us)        61\n",
      "  nlp_grad_f  |        0 (       0)   1.18ms ( 18.98us)        62\n",
      "  nlp_hess_l  |        0 (       0)   3.39ms ( 56.50us)        60\n",
      "   nlp_jac_g  |        0 (       0)   3.70ms ( 59.67us)        62\n",
      "       total  | 546.88ms (546.88ms) 538.68ms (538.68ms)         1\n",
      "current objective function value is 198.4539105741256\n",
      "      solver  :   t_proc      (avg)   t_wall      (avg)    n_eval\n",
      "       nlp_f  |        0 (       0) 462.50us ( 13.21us)        35\n",
      "       nlp_g  |        0 (       0)   1.40ms ( 39.97us)        35\n",
      "  nlp_grad_f  |        0 (       0) 559.70us ( 17.49us)        32\n",
      "  nlp_hess_l  |        0 (       0)   1.51ms ( 50.20us)        30\n",
      "   nlp_jac_g  |        0 (       0)   1.90ms ( 55.82us)        34\n",
      "       total  | 250.00ms (250.00ms) 252.33ms (252.33ms)         1\n",
      "current objective function value is 158.79786991900278\n",
      "      solver  :   t_proc      (avg)   t_wall      (avg)    n_eval\n",
      "       nlp_f  |        0 (       0)   2.07ms ( 14.00us)       148\n",
      "       nlp_g  | 203.12ms (  1.37ms)   6.52ms ( 44.06us)       148\n",
      "  nlp_grad_f  |        0 (       0)   1.78ms ( 17.82us)       100\n",
      "  nlp_hess_l  |        0 (       0)   5.02ms ( 53.41us)        94\n",
      "   nlp_jac_g  |        0 (       0)   7.15ms ( 58.61us)       122\n",
      "       total  |   4.86 s (  4.86 s)   1.05 s (  1.05 s)         1\n",
      "current objective function value is 123.53826496808959\n",
      "      solver  :   t_proc      (avg)   t_wall      (avg)    n_eval\n",
      "       nlp_f  |        0 (       0) 660.20us ( 15.72us)        42\n",
      "       nlp_g  |        0 (       0)   1.89ms ( 44.95us)        42\n",
      "  nlp_grad_f  |        0 (       0) 601.30us ( 18.79us)        32\n",
      "  nlp_hess_l  |        0 (       0)   1.69ms ( 56.39us)        30\n",
      "   nlp_jac_g  |        0 (       0)   2.12ms ( 58.87us)        36\n",
      "       total  | 296.88ms (296.88ms) 295.65ms (295.65ms)         1\n",
      "current objective function value is 95.69199511619969\n",
      "      solver  :   t_proc      (avg)   t_wall      (avg)    n_eval\n",
      "       nlp_f  |  15.62ms (446.43us) 589.70us ( 16.85us)        35\n",
      "       nlp_g  |        0 (       0)   1.55ms ( 44.39us)        35\n",
      "  nlp_grad_f  |        0 (       0) 619.90us ( 20.00us)        31\n",
      "  nlp_hess_l  |        0 (       0)   1.64ms ( 56.55us)        29\n",
      "   nlp_jac_g  |        0 (       0)   1.99ms ( 60.36us)        33\n",
      "       total  | 250.00ms (250.00ms) 248.41ms (248.41ms)         1\n",
      "current objective function value is 73.71041701002706\n",
      "      solver  :   t_proc      (avg)   t_wall      (avg)    n_eval\n",
      "       nlp_f  |        0 (       0) 484.50us ( 16.15us)        30\n",
      "       nlp_g  |        0 (       0)   1.34ms ( 44.63us)        30\n",
      "  nlp_grad_f  |        0 (       0) 603.20us ( 19.46us)        31\n",
      "  nlp_hess_l  |        0 (       0)   1.59ms ( 54.69us)        29\n",
      "   nlp_jac_g  |        0 (       0)   1.83ms ( 58.98us)        31\n",
      "       total  | 250.00ms (250.00ms) 235.70ms (235.70ms)         1\n",
      "current objective function value is 56.36907987490924\n",
      "      solver  :   t_proc      (avg)   t_wall      (avg)    n_eval\n",
      "       nlp_f  |        0 (       0) 502.70us ( 16.22us)        31\n",
      "       nlp_g  |        0 (       0)   1.34ms ( 43.07us)        31\n",
      "  nlp_grad_f  |  15.62ms (488.28us) 663.70us ( 20.74us)        32\n",
      "  nlp_hess_l  |        0 (       0)   1.61ms ( 53.69us)        30\n",
      "   nlp_jac_g  |        0 (       0)   1.87ms ( 58.30us)        32\n",
      "       total  | 218.75ms (218.75ms) 222.02ms (222.02ms)         1\n",
      "current objective function value is 43.22964813503654\n",
      "      solver  :   t_proc      (avg)   t_wall      (avg)    n_eval\n",
      "       nlp_f  |        0 (       0) 406.90us ( 13.13us)        31\n",
      "       nlp_g  |        0 (       0)   1.18ms ( 38.12us)        31\n",
      "  nlp_grad_f  |        0 (       0) 538.10us ( 16.82us)        32\n",
      "  nlp_hess_l  |        0 (       0)   1.50ms ( 49.97us)        30\n",
      "   nlp_jac_g  |        0 (       0)   1.67ms ( 52.26us)        32\n",
      "       total  | 218.75ms (218.75ms) 218.50ms (218.50ms)         1\n",
      "current objective function value is 33.48404844418585\n",
      "      solver  :   t_proc      (avg)   t_wall      (avg)    n_eval\n",
      "       nlp_f  |        0 (       0) 456.70us ( 14.73us)        31\n",
      "       nlp_g  |        0 (       0)   1.26ms ( 40.78us)        31\n",
      "  nlp_grad_f  |        0 (       0) 577.30us ( 18.04us)        32\n",
      "  nlp_hess_l  |        0 (       0)   1.57ms ( 52.34us)        30\n",
      "   nlp_jac_g  |        0 (       0)   5.31ms (165.93us)        32\n",
      "       total  | 250.00ms (250.00ms) 255.66ms (255.66ms)         1\n",
      "current objective function value is 26.12612330348121\n",
      "      solver  :   t_proc      (avg)   t_wall      (avg)    n_eval\n",
      "       nlp_f  |        0 (       0) 481.40us ( 15.53us)        31\n",
      "       nlp_g  |        0 (       0)   1.36ms ( 43.97us)        31\n",
      "  nlp_grad_f  |        0 (       0) 607.30us ( 18.98us)        32\n",
      "  nlp_hess_l  |        0 (       0)   1.67ms ( 55.70us)        30\n",
      "   nlp_jac_g  |        0 (       0)   1.82ms ( 56.77us)        32\n",
      "       total  | 250.00ms (250.00ms) 255.21ms (255.21ms)         1\n",
      "current objective function value is 20.396076349296965\n",
      "      solver  :   t_proc      (avg)   t_wall      (avg)    n_eval\n",
      "       nlp_f  |        0 (       0) 497.50us ( 15.08us)        33\n",
      "       nlp_g  |        0 (       0)   1.40ms ( 42.33us)        33\n",
      "  nlp_grad_f  |        0 (       0) 659.50us ( 19.40us)        34\n",
      "  nlp_hess_l  |        0 (       0)   1.84ms ( 57.51us)        32\n",
      "   nlp_jac_g  |        0 (       0)   2.10ms ( 61.81us)        34\n",
      "       total  | 265.62ms (265.62ms) 264.96ms (264.96ms)         1\n",
      "current objective function value is 15.931564245503383\n",
      "      solver  :   t_proc      (avg)   t_wall      (avg)    n_eval\n",
      "       nlp_f  |        0 (       0) 455.40us ( 14.23us)        32\n",
      "       nlp_g  |        0 (       0)   1.25ms ( 39.20us)        32\n",
      "  nlp_grad_f  |        0 (       0) 574.20us ( 17.40us)        33\n",
      "  nlp_hess_l  |        0 (       0)   1.86ms ( 60.11us)        31\n",
      "   nlp_jac_g  |        0 (       0)   1.75ms ( 52.97us)        33\n",
      "       total  | 250.00ms (250.00ms) 249.20ms (249.20ms)         1\n",
      "current objective function value is 12.453322254218838\n",
      "      solver  :   t_proc      (avg)   t_wall      (avg)    n_eval\n",
      "       nlp_f  |        0 (       0) 461.80us ( 15.39us)        30\n",
      "       nlp_g  |        0 (       0)   1.36ms ( 45.24us)        30\n",
      "  nlp_grad_f  |        0 (       0) 626.90us ( 20.22us)        31\n",
      "  nlp_hess_l  |        0 (       0)   1.81ms ( 62.51us)        29\n",
      "   nlp_jac_g  |        0 (       0)   1.83ms ( 59.14us)        31\n",
      "       total  | 250.00ms (250.00ms) 266.29ms (266.29ms)         1\n",
      "current objective function value is 9.740220814438375\n",
      "      solver  :   t_proc      (avg)   t_wall      (avg)    n_eval\n",
      "       nlp_f  |        0 (       0) 391.30us ( 13.49us)        29\n",
      "       nlp_g  |        0 (       0)   1.15ms ( 39.57us)        29\n",
      "  nlp_grad_f  |        0 (       0) 561.30us ( 18.71us)        30\n",
      "  nlp_hess_l  |        0 (       0)   1.50ms ( 53.47us)        28\n",
      "   nlp_jac_g  |        0 (       0)   1.68ms ( 56.02us)        30\n",
      "       total  | 218.75ms (218.75ms) 229.94ms (229.94ms)         1\n",
      "current objective function value is 7.621255353940717\n",
      "      solver  :   t_proc      (avg)   t_wall      (avg)    n_eval\n",
      "       nlp_f  |        0 (       0) 402.40us ( 14.37us)        28\n",
      "       nlp_g  |        0 (       0)   1.18ms ( 42.18us)        28\n",
      "  nlp_grad_f  |        0 (       0) 521.70us ( 17.99us)        29\n",
      "  nlp_hess_l  |        0 (       0)   1.44ms ( 53.45us)        27\n",
      "   nlp_jac_g  |        0 (       0)   1.55ms ( 53.57us)        29\n",
      "       total  | 203.12ms (203.12ms) 225.68ms (225.68ms)         1\n",
      "current objective function value is 5.963198267405658\n",
      "      solver  :   t_proc      (avg)   t_wall      (avg)    n_eval\n",
      "       nlp_f  |        0 (       0) 402.00us ( 14.89us)        27\n",
      "       nlp_g  |        0 (       0)   1.16ms ( 42.85us)        27\n",
      "  nlp_grad_f  |        0 (       0) 575.00us ( 20.54us)        28\n",
      "  nlp_hess_l  |        0 (       0)   1.46ms ( 56.08us)        26\n",
      "   nlp_jac_g  |        0 (       0)   1.62ms ( 57.88us)        28\n",
      "       total  | 218.75ms (218.75ms) 212.93ms (212.93ms)         1\n",
      "current objective function value is 4.665771607429359\n",
      "      solver  :   t_proc      (avg)   t_wall      (avg)    n_eval\n",
      "       nlp_f  |        0 (       0) 396.40us ( 14.68us)        27\n",
      "       nlp_g  |        0 (       0)   1.16ms ( 43.08us)        27\n",
      "  nlp_grad_f  |        0 (       0) 541.50us ( 19.34us)        28\n",
      "  nlp_hess_l  |        0 (       0)   1.66ms ( 63.74us)        26\n",
      "   nlp_jac_g  |  15.62ms (558.04us)   1.66ms ( 59.14us)        28\n",
      "       total  | 250.00ms (250.00ms) 313.28ms (313.28ms)         1\n",
      "current objective function value is 3.6505775654015293\n",
      "      solver  :   t_proc      (avg)   t_wall      (avg)    n_eval\n",
      "       nlp_f  |        0 (       0) 492.90us ( 18.26us)        27\n",
      "       nlp_g  |  15.62ms (578.70us)   1.18ms ( 43.72us)        27\n",
      "  nlp_grad_f  |        0 (       0) 537.70us ( 19.20us)        28\n",
      "  nlp_hess_l  |        0 (       0)   1.39ms ( 53.29us)        26\n",
      "   nlp_jac_g  |        0 (       0)   1.59ms ( 56.94us)        28\n",
      "       total  | 218.75ms (218.75ms) 227.30ms (227.30ms)         1\n",
      "current objective function value is 2.856245807797453\n",
      "Terminated! at i = 28\n",
      "total run time is 22.125842599896714 seconds\n"
     ]
    }
   ],
   "source": [
    "N = 15\n",
    "t0 = perf_counter()\n",
    "x_trj,u_trj, t = solve_rhc(x0,xf,u_ref,N,Q,R,Qf)\n",
    "tf = perf_counter()\n",
    "print(f'total run time is {tf-t0} seconds')"
   ]
  },
  {
   "cell_type": "code",
   "execution_count": 17,
   "metadata": {},
   "outputs": [
    {
     "data": {
      "image/png": "[encoded data removed]",
      "text/plain": [
       "<Figure size 640x480 with 1 Axes>"
      ]
     },
     "metadata": {},
     "output_type": "display_data"
    }
   ],
   "source": [
    "plt.figure()\n",
    "util.plot_solve(x_trj,6.2, xf, [6,6,6], n_d=3)\n",
    "plt.title('Centralized MPC (IPOPT) for 3 drones');\n",
    "plt.legend(plt.gca().get_children()[1:3], [\"Start Position\", \"Goal Position\"]);\n",
    "# plt.savefig('results/Centralized MPC (IPOPT) for 3 drones.png')"
   ]
  },
  {
   "cell_type": "markdown",
   "metadata": {},
   "source": [
    "## Todo: run the centralized MPC above for up to 10 drones:"
   ]
  },
  {
   "cell_type": "markdown",
   "metadata": {},
   "source": [
    "## Now run the above optimization problem in distributed fashion using game-potential formulation:"
   ]
  },
  {
   "cell_type": "code",
   "execution_count": 18,
   "metadata": {},
   "outputs": [],
   "source": [
    "n_agents = 3\n",
    "n_states = 6\n",
    "n_inputs = 3"
   ]
  },
  {
   "cell_type": "code",
   "execution_count": 19,
   "metadata": {},
   "outputs": [],
   "source": [
    "ids = [100 + i for i in range(n_agents)]"
   ]
  },
  {
   "cell_type": "code",
   "execution_count": 21,
   "metadata": {},
   "outputs": [],
   "source": [
    "def define_inter_graph_threshold(X, radius, x_dims, ids):\n",
    "    \"\"\"\n",
    "    Compute the interaction graph based on a simple thresholded distance\n",
    "    for each pair of agents at a specific time step\n",
    "    (X is a one-dimensional array)\n",
    "    \"\"\"\n",
    "    \n",
    "    \n",
    "    #radius is the collision avoidance threshold\n",
    "    #Planning_radii is the threshold distance below which two agents are combined into a sub problem\n",
    "    planning_radii = 2 * radius\n",
    "   \n",
    "    rel_dists = util.compute_pairwise_distance(X, x_dims)\n",
    "\n",
    "    # N = X.shape[0]\n",
    "    # n_samples = 10\n",
    "    # sample_step = max(N // n_samples, 1)\n",
    "    # sample_slice = slice(0, N + 1, sample_step)\n",
    "\n",
    "    # Put each pair of agents within each others' graphs if they are within\n",
    "    # some threshold distance from each other.\n",
    "    graph = {id_: [id_] for id_ in ids}\n",
    "    pair_inds = np.array(list(itertools.combinations(ids, 2)))\n",
    "   \n",
    "    for i, pair in enumerate(pair_inds):\n",
    "    \n",
    "        if np.any(rel_dists.flatten()[i] < planning_radii):\n",
    "            graph[pair[0]].append(pair[1])\n",
    "            graph[pair[1]].append(pair[0])\n",
    "\n",
    "    graph = {agent_id: sorted(prob_ids) for agent_id, prob_ids in graph.items()}\n",
    "    return graph"
   ]
  },
  {
   "cell_type": "code",
   "execution_count": 22,
   "metadata": {},
   "outputs": [],
   "source": [
    "# graph = define_inter_graph_threshold(x0.T*0.5, 0.5, x_dims, ids)"
   ]
  },
  {
   "cell_type": "code",
   "execution_count": 23,
   "metadata": {},
   "outputs": [],
   "source": [
    "# split_problem_states = split_graph(x0.T,x_dims,graph)\n",
    "# split_problem_states"
   ]
  },
  {
   "cell_type": "code",
   "execution_count": 24,
   "metadata": {},
   "outputs": [],
   "source": [
    "# split_problem_inputs = split_graph(u_ref.reshape(-1,1).T,u_dims,graph)\n",
    "# split_problem_inputs"
   ]
  },
  {
   "cell_type": "code",
   "execution_count": 27,
   "metadata": {},
   "outputs": [],
   "source": [
    "def objective(X,U,u_ref,xf,Q,R,Qf):\n",
    "    total_stage_cost = 0\n",
    "    for j in range(X.shape[1]-1):\n",
    "        for i in range(X.shape[0]):\n",
    "            total_stage_cost += (X[i,j]-xf[i])*Q[i, i]*(X[i,j]-xf[i])\n",
    "\n",
    "    for j in range(U.shape[1]):\n",
    "        for i in range(U.shape[0]):\n",
    "            total_stage_cost += (U[i,j]-u_ref[i])*R[i, i]*(U[i,j]-u_ref[i])\n",
    "\n",
    "    #Quadratic terminal cost:\n",
    "    total_terminal_cost = 0\n",
    "\n",
    "    for i in range(X.shape[0]):\n",
    "        total_terminal_cost += (X[i,-1]-xf[i])*Qf[i, i]*(X[i,-1]-xf[i])\n",
    "            \n",
    "    return total_stage_cost + total_terminal_cost"
   ]
  },
  {
   "cell_type": "code",
   "execution_count": 55,
   "metadata": {},
   "outputs": [
    {
     "data": {
      "text/plain": [
       "2"
      ]
     },
     "execution_count": 55,
     "metadata": {},
     "output_type": "execute_result"
    }
   ],
   "source": [
    "n_agents = 3"
   ]
  },
  {
   "cell_type": "code",
   "execution_count": 42,
   "metadata": {},
   "outputs": [],
   "source": [
    "def generate_min_max_input(inputs_dict,n_inputs):\n",
    "    n_agents = [u.shape[0] // n_inputs for u in inputs_dict.values()]\n",
    "    u_min = np.array([[theta_min, phi_min, tau_min]])\n",
    "    u_max = np.array([[theta_max, phi_max, tau_max]])\n",
    "    \n",
    "    return [\n",
    "        (np.tile(u_min, n_agents_i), np.tile(u_max, n_agents_i)) \n",
    "        for n_agents_i in n_agents\n",
    "        ]\n",
    "\n",
    "  "
   ]
  },
  {
   "cell_type": "code",
   "execution_count": 105,
   "metadata": {},
   "outputs": [],
   "source": [
    "def generate_min_max_state(states_dict,n_states):\n",
    "    n_agents = [x.shape[0] // n_states for x in states_dict.values()]\n",
    "    x_min = np.array([[x_min, y_min, z_min, v_min, v_min , v_min]])\n",
    "    x_max = np.array([[x_max, y_max, z_max, v_max, v_max, v_max]])\n",
    "    \n",
    "    return [\n",
    "        (np.tile(x_min, n_agents_i), np.tile(x_max, n_agents_i)) \n",
    "        for n_agents_i in n_agents\n",
    "        ]\n",
    "\n",
    "  "
   ]
  },
  {
   "cell_type": "code",
   "execution_count": 106,
   "metadata": {},
   "outputs": [],
   "source": [
    "u_ref = np.array([0, 0, g, 0, 0, g, 0, 0, g])\n",
    "Q = np.diag([5,5,5,1,1,1,5,5,5,1,1,1,5,5,5,1,1,1])\n",
    "R = np.eye(n_agents*n_inputs)*0.01\n",
    "Qf = np.eye(n_agents*n_states)*1000\n",
    "\n",
    "theta_max = np.pi/6\n",
    "phi_max = np.pi/6\n",
    "\n",
    "v_max = 3\n",
    "v_min = -3\n",
    "\n",
    "theta_min = -np.pi/6\n",
    "phi_min = -np.pi/6\n",
    "\n",
    "tau_max = 15\n",
    "tau_min = 0\n",
    "\n",
    "x_min = -5\n",
    "x_max = 5\n",
    "\n",
    "y_min = -5\n",
    "y_max = 5\n",
    "\n",
    "z_min = 0\n",
    "z_max = 3.0\n",
    "\n",
    "x0,xf = paper_setup_3_quads()\n",
    "n_agents = 3\n"
   ]
  },
  {
   "cell_type": "code",
   "execution_count": 107,
   "metadata": {},
   "outputs": [],
   "source": [
    "import casadi"
   ]
  },
  {
   "cell_type": "code",
   "execution_count": 108,
   "metadata": {},
   "outputs": [
    {
     "data": {
      "text/plain": [
       "2"
      ]
     },
     "execution_count": 108,
     "metadata": {},
     "output_type": "execute_result"
    }
   ],
   "source": [
    "a.numel()"
   ]
  },
  {
   "cell_type": "code",
   "execution_count": 109,
   "metadata": {},
   "outputs": [
    {
     "data": {
      "text/plain": [
       "MX(sq([1, 2, 3]))"
      ]
     },
     "execution_count": 109,
     "metadata": {},
     "output_type": "execute_result"
    }
   ],
   "source": [
    "casadi.MX([1, 2, 3]) * casadi.MX([1, 2, 3])"
   ]
  },
  {
   "cell_type": "code",
   "execution_count": 110,
   "metadata": {},
   "outputs": [
    {
     "data": {
      "text/plain": [
       "MX(vertcat(x[0], x[1], y[0], y[1]))"
      ]
     },
     "execution_count": 110,
     "metadata": {},
     "output_type": "execute_result"
    }
   ],
   "source": [
    "a = casadi.MX.sym(\"x\", 2)\n",
    "b = casadi.MX.sym(\"y\", 2)\n",
    "casadi.vertcat(a[0], a[1], b[0], b[1])"
   ]
  },
  {
   "cell_type": "code",
   "execution_count": 111,
   "metadata": {},
   "outputs": [],
   "source": [
    "def generate_f(x_dims_local):\n",
    "    \n",
    "    # NOTE: Assume homogeneity of agents.\n",
    "    n_agents = len(x_dims_local)\n",
    "    n_states = x_dims_local[0] // n_agents\n",
    "    n_controls = 3\n",
    "    \n",
    "    def f(x, u):\n",
    "        x_dot = casadi.MX.sym(\"x_dot\", x.numel())\n",
    "        for i_agent in range(n_agents):\n",
    "            i_xstart = i_agent * n_states + 3\n",
    "            i_ustart = i_agent * n_controls\n",
    "            x_dot[i_xstart:i_xstart + n_states] = casadi.vertcat(\n",
    "                x[i_xstart: i_xstart + 3],\n",
    "                g*u[i_ustart], -g*u[i_ustart+1], u[i_ustart+2] - g\n",
    "                )\n",
    "            \n",
    "    # if len(x_dims_local) == 1:\n",
    "    #     f = lambda x,u: vertcat(x[3],x[4],x[5],  g*tan(u[0]), -g*tan(u[1]),u[2]-g)\n",
    "\n",
    "    # if len(x_dims_local) == 2:\n",
    "    #     f = lambda x,u: vertcat(x[3],x[4],x[5],  g*tan(u[0]), -g*tan(u[1]),u[2]-g,\\\n",
    "    #             x[9],x[10],x[11], g*tan(u[3]), -g*tan(u[4]), u[5]-g)\n",
    "\n",
    "    # if len(x_dims_local) == 3:\n",
    "\n",
    "    #     f = lambda x,u: vertcat(x[3],x[4],x[5],  g*tan(u[0]), -g*tan(u[1]),u[2]-g,\n",
    "    #             x[9],x[10],x[11], g*tan(u[3]), -g*tan(u[4]), u[5]-g,\n",
    "    #             x[15],x[16],x[17], g*tan(u[6]), -g*tan(u[7]), u[8]-g) #dx/dt = f(x,u)\n",
    "        \n",
    "    return f\n",
    "    "
   ]
  },
  {
   "cell_type": "code",
   "execution_count": 112,
   "metadata": {},
   "outputs": [],
   "source": [
    "def distance_to_goal(x,xf):\n",
    "    n_d =3 \n",
    "    return np.linalg.norm((x - xf).reshape(n_agents, n_states)[:, :n_d], axis=1)"
   ]
  },
  {
   "cell_type": "code",
   "execution_count": 113,
   "metadata": {},
   "outputs": [],
   "source": [
    "def solve_rhc_distributed(x0,xf,u_ref,N,Q,R,Qf,n_agents,n_states,n_inputs,radius, ids):\n",
    "    Qs = [Q] * n_agents\n",
    "    Rs = [R] * n_agents\n",
    "    Qfs = [Qf] * n_agents\n",
    "    x_dims = [n_states]*n_agents\n",
    "    u_dims = [n_inputs]*n_agents\n",
    "    \n",
    "    p_opts = {\"expand\":True}\n",
    "    s_opts = {\"max_iter\": 150,\"print_level\":0}\n",
    "    \n",
    "    \n",
    "    M = 200 # this is the entire fixed horizon\n",
    " \n",
    "    n_x = n_agents*n_states\n",
    "    n_u = n_agents*n_inputs\n",
    "    x_dims = [n_states]*n_agents\n",
    "\n",
    "    t = 0\n",
    "\n",
    "    J_list = []\n",
    "    J_list.append(np.inf)\n",
    "    # for i in range(M) :\n",
    "    loop = 0\n",
    "    dt = 0.1\n",
    "    \n",
    "    X_full = np.zeros((0, n_x))\n",
    "    U_full = np.zeros((0, n_u))\n",
    "    \n",
    "    \n",
    "    while not np.all(distance_to_goal(x0,xf) <= 0.1) and (loop < M):\n",
    "        ######################################################################\n",
    "        #Determine sub problems to solve:\n",
    "        \n",
    "        #compute interaction graph at the current time step:\n",
    "        graph = define_inter_graph_threshold(x0, radius, x_dims, ids)\n",
    "        #x0 is updated until convergence (treat x0 as the combined CURRENT state)\n",
    "        \n",
    "        #break up the problem into potential-game sub-problems at every outer iteration\n",
    "        split_problem_states = split_graph(x0.T,x_dims,graph)\n",
    "        split_problem_inputs = split_graph(u_ref.reshape(-1,1).T,u_dims,graph)\n",
    "        \n",
    "        #Initiate different instances of Opti() object\n",
    "        #Each Opti() object corresponds to a subproblem (there is NO central node)\n",
    "        #Note that when 2 agents are combined into a single problem, we have 2 copies of the same sub problem\n",
    "        ########################################################################\n",
    "        #Setting up the solvers:\n",
    "        d = {}\n",
    "        states = {}\n",
    "        inputs = {}\n",
    "        cost_fun_list = [] \n",
    "        \n",
    "        d = {} #dictionary holding Opti() objects (or subproblems)\n",
    "        states = {} #dictionary holding symbolic state trajectory for each sub-problem\n",
    "        inputs = {} ##dictionary holding symbolic input trajectory for each sub-problem\n",
    "        \n",
    "        for i,j in enumerate(split_problem_states):\n",
    "            d['opti_{0}'.format(i)] = Opti()\n",
    "            states['X_{0}'.format(i)] = d[f'opti_{i}'].variable(j.shape[1],N+1) \n",
    "\n",
    "        for i,j in enumerate(split_problem_inputs):\n",
    "            inputs['U_{0}'.format(i)] = d[f'opti_{i}'].variable(j.shape[1],N)\n",
    "        \n",
    "        #Storing objective functions for each sub-problem into a list:\n",
    "        for i in range(len(split_problem_states)):\n",
    "            cost_fun_list.append(objective(states[f'X_{i}'],\\\n",
    "                                   inputs[f'U_{i}'],\\\n",
    "                                   split_problem_inputs[i].reshape(-1,),\\\n",
    "                                   split_problem_states[i].reshape(-1,1),\\\n",
    "                                   np.eye(split_problem_states[i].shape[1]),\n",
    "                                   np.eye(split_problem_inputs[i].reshape(-1,).shape[0])*0.1,\n",
    "                                   np.eye(split_problem_states[i].shape[1])*1000))\n",
    "        \n",
    "        min_max_input_list = generate_min_max_input(inputs,n_inputs)\n",
    "        min_max_state_list = generate_min_max_state(states,n_states)\n",
    "        \n",
    "        ##########################################################################\n",
    "        #Solve each sub-problem in a sequential manner:\n",
    "        #TODO: parallel computation for better speed?\n",
    "        \n",
    "        X_dec = np.zeros((1, n_agents * n_states))\n",
    "        U_dec = np.zeros((1, n_agents * n_inputs))\n",
    "        \n",
    "        objective_val = 0\n",
    "        \n",
    "        for di, statesi, inputsi, costi, u_boundsi in zip(\n",
    "            d.values(), \n",
    "            states.values(), \n",
    "            inputs.values, \n",
    "            cost_fun_list, \n",
    "            min_max_input_list\n",
    "            ): #loop over sub-problems\n",
    "            \n",
    "            di.minimize(costi)\n",
    "\n",
    "            n_states_local = statesi.shape[0] #each subproblem has different number of states\n",
    "            x_dims_local = [int(n_states_local/(n_states_local/n_states))]*(int(n_states_local/n_states))\n",
    "            #i.e, [6,6] if the current sub-problem has 2 agents combined, or [6,6,6] if 3 agents are combined\n",
    "          \n",
    "            f = generate_f(x_dims_local)\n",
    "            \n",
    "\n",
    "            for k in range(N): #loop over control intervals\n",
    "                # Runge-Kutta 4 integration\n",
    " \n",
    "                k1 = f(statesi[:,k],         inputsi[:,k])\n",
    "                k2 = f(states[f'X_{i}'][:,k]+dt/2*k1, inputs[f'U_{i}'][:,k])\n",
    "                k3 = f(states[f'X_{i}'][:,k]+dt/2*k2, inputs[f'U_{i}'][:,k])\n",
    "                k4 = f(states[f'X_{i}'][:,k]+dt*k3,   inputs[f'U_{i}'][:,k])\n",
    "                x_next = states[f'X_{i}'][:,k] + dt/6*(k1+2*k2+2*k3+k4) \n",
    "                \n",
    "                d[f'opti_{i}'].subject_to(states[f'X_{i}'][:,k+1]==x_next) # close the gaps\n",
    "\n",
    "                #Constraints on inputs for current sub-problem (over control horizon):\n",
    "                for j in range(u_boundsi.shape[0]):\n",
    "                    di.subject_to(inputsi[j,k] <= u_boundsi[1][j] )\n",
    "                    d[f'opti_{i}'].subject_to(u_boundsi[0][j] <= inputsi[j,k] )\n",
    "\n",
    "            \n",
    "            for k in range(N+1):\n",
    "                for j in range(min_states.shape[0]):\n",
    "                #constraints on states for current sub-problem (over control horizon):\n",
    "                    d[f'opti_{i}'].subject_to(states[f'X_{i}'][j,k]<= max_states[j] )\n",
    "                    d[f'opti_{i}'].subject_to(min_states[j] <= states[f'X_{i}'][j,k])\n",
    "                \n",
    "                #collision avoidance over control horizon (only if the current sub-problem contains the states of more than 1 agent):\n",
    "                try:\n",
    "                    distances = compute_pairwise_distance_Sym(states['X_{0}'.format(i)][:,k], x_dims_local)\n",
    "                #pair-wise distances between the agents within the same sub-problem\n",
    "                    for n in distances:\n",
    "                        d[f'opti_{i}'].subject_to(n >= 0.5)\n",
    "                        \n",
    "                #ValueError arises when the current sub-problem only has 1 agent, so there is no collision constraint\n",
    "                except ValueError:\n",
    "                    break\n",
    "            \n",
    "            #equality constraints for initial condition:\n",
    "            d[f'opti_{i}'].subject_to(states[f'X_{i}'][:,k] == split_problem_states[i].reshape(-1,1))\n",
    "            \n",
    "            d[f'opti_{i}'].solver(\"ipopt\",p_opts,\n",
    "                        s_opts) \n",
    "            print(f'Solving the {i}th sub-problem at iteration {loop}, t = {t}')\n",
    "            sol = d[f'opti_{i}'].solve()\n",
    "          \n",
    "            objective_val += sol.value(cost_fun_list[i]) \n",
    "            x0_local = sol.value(states[f'X_{i}'])[:,1]\n",
    "        \n",
    "            u_sol_local = sol.value(inputs[f'U_{i}'])[:,0]\n",
    "            X_dec[:,i*n_states:(i+1)*n_states] = x0_local\n",
    "            U_dec[:,i*n_inputs:(i+1)*n_inputs] = u_sol_local\n",
    "        \n",
    "        x0 = X_dec[:,:].reshape(-1,1)\n",
    "        J_list.append(objective_val) #collect aggregate objective function from all sub-problems after each control horizon is over\n",
    "        # print(f'current objective function value is {objective_val}')\n",
    "        \n",
    "        \n",
    "        #Store the trajectory\n",
    "        \n",
    "        X_full = np.r_[X_full, X_dec.reshape(1,-1)]\n",
    "        U_full = np.r_[U_full, U_dec.reshape(1,-1)]\n",
    "        \n",
    "        t += dt\n",
    "        loop +=1\n",
    "        \n",
    "        # print(opti.variable) #print this to check the optimization parameters for each control horizon\n",
    "        \n",
    "#         if abs(J_list[loop]-J_list[loop-1]) <= 1 :\n",
    "#             print(f'Terminated! at loop = {loop}')\n",
    "#             break\n",
    "            \n",
    "        \n",
    "    return X_full,U_full, t\n",
    "    \n",
    "    "
   ]
  },
  {
   "cell_type": "code",
   "execution_count": 102,
   "metadata": {},
   "outputs": [],
   "source": [
    "##TODO: objective function values not right"
   ]
  },
  {
   "cell_type": "code",
   "execution_count": 103,
   "metadata": {},
   "outputs": [],
   "source": [
    "N = 10\n",
    "radius = 0.5"
   ]
  },
  {
   "cell_type": "code",
   "execution_count": 104,
   "metadata": {},
   "outputs": [
    {
     "ename": "ValueError",
     "evalue": "too many values to unpack (expected 2)",
     "output_type": "error",
     "traceback": [
      "\u001b[0;31m---------------------------------------------------------------------------\u001b[0m",
      "\u001b[0;31mValueError\u001b[0m                                Traceback (most recent call last)",
      "\u001b[1;32m/home/randychen233/projects/ICON_lab/nonlinear_opt/distributed_mpc/test.ipynb Cell 72\u001b[0m in \u001b[0;36m<cell line: 1>\u001b[0;34m()\u001b[0m\n\u001b[0;32m----> <a href='vscode-notebook-cell://wsl%2Bubuntu-20.04/home/randychen233/projects/ICON_lab/nonlinear_opt/distributed_mpc/test.ipynb#Y124sdnNjb2RlLXJlbW90ZQ%3D%3D?line=0'>1</a>\u001b[0m X_full,U_full, t \u001b[39m=\u001b[39m solve_rhc_distributed(x0,xf,u_ref,N,Q,R,Qf,n_agents,n_states,n_inputs,radius, ids)\n",
      "\u001b[1;32m/home/randychen233/projects/ICON_lab/nonlinear_opt/distributed_mpc/test.ipynb Cell 72\u001b[0m in \u001b[0;36msolve_rhc_distributed\u001b[0;34m(x0, xf, u_ref, N, Q, R, Qf, n_agents, n_states, n_inputs, radius, ids)\u001b[0m\n\u001b[1;32m     <a href='vscode-notebook-cell://wsl%2Bubuntu-20.04/home/randychen233/projects/ICON_lab/nonlinear_opt/distributed_mpc/test.ipynb#Y124sdnNjb2RlLXJlbW90ZQ%3D%3D?line=63'>64</a>\u001b[0m \u001b[39mfor\u001b[39;00m i \u001b[39min\u001b[39;00m \u001b[39mrange\u001b[39m(\u001b[39mlen\u001b[39m(split_problem_states)):\n\u001b[1;32m     <a href='vscode-notebook-cell://wsl%2Bubuntu-20.04/home/randychen233/projects/ICON_lab/nonlinear_opt/distributed_mpc/test.ipynb#Y124sdnNjb2RlLXJlbW90ZQ%3D%3D?line=64'>65</a>\u001b[0m     cost_fun_list\u001b[39m.\u001b[39mappend(objective(states[\u001b[39mf\u001b[39m\u001b[39m'\u001b[39m\u001b[39mX_\u001b[39m\u001b[39m{\u001b[39;00mi\u001b[39m}\u001b[39;00m\u001b[39m'\u001b[39m],\\\n\u001b[1;32m     <a href='vscode-notebook-cell://wsl%2Bubuntu-20.04/home/randychen233/projects/ICON_lab/nonlinear_opt/distributed_mpc/test.ipynb#Y124sdnNjb2RlLXJlbW90ZQ%3D%3D?line=65'>66</a>\u001b[0m                            inputs[\u001b[39mf\u001b[39m\u001b[39m'\u001b[39m\u001b[39mU_\u001b[39m\u001b[39m{\u001b[39;00mi\u001b[39m}\u001b[39;00m\u001b[39m'\u001b[39m],\\\n\u001b[1;32m     <a href='vscode-notebook-cell://wsl%2Bubuntu-20.04/home/randychen233/projects/ICON_lab/nonlinear_opt/distributed_mpc/test.ipynb#Y124sdnNjb2RlLXJlbW90ZQ%3D%3D?line=66'>67</a>\u001b[0m                            split_problem_inputs[i]\u001b[39m.\u001b[39mreshape(\u001b[39m-\u001b[39m\u001b[39m1\u001b[39m,),\\\n\u001b[0;32m   (...)\u001b[0m\n\u001b[1;32m     <a href='vscode-notebook-cell://wsl%2Bubuntu-20.04/home/randychen233/projects/ICON_lab/nonlinear_opt/distributed_mpc/test.ipynb#Y124sdnNjb2RlLXJlbW90ZQ%3D%3D?line=69'>70</a>\u001b[0m                            np\u001b[39m.\u001b[39meye(split_problem_inputs[i]\u001b[39m.\u001b[39mreshape(\u001b[39m-\u001b[39m\u001b[39m1\u001b[39m,)\u001b[39m.\u001b[39mshape[\u001b[39m0\u001b[39m])\u001b[39m*\u001b[39m\u001b[39m0.1\u001b[39m,\n\u001b[1;32m     <a href='vscode-notebook-cell://wsl%2Bubuntu-20.04/home/randychen233/projects/ICON_lab/nonlinear_opt/distributed_mpc/test.ipynb#Y124sdnNjb2RlLXJlbW90ZQ%3D%3D?line=70'>71</a>\u001b[0m                            np\u001b[39m.\u001b[39meye(split_problem_states[i]\u001b[39m.\u001b[39mshape[\u001b[39m1\u001b[39m])\u001b[39m*\u001b[39m\u001b[39m1000\u001b[39m))\n\u001b[0;32m---> <a href='vscode-notebook-cell://wsl%2Bubuntu-20.04/home/randychen233/projects/ICON_lab/nonlinear_opt/distributed_mpc/test.ipynb#Y124sdnNjb2RlLXJlbW90ZQ%3D%3D?line=72'>73</a>\u001b[0m min_inputs,max_inputs \u001b[39m=\u001b[39m generate_min_max_input(inputs,n_inputs)\n\u001b[1;32m     <a href='vscode-notebook-cell://wsl%2Bubuntu-20.04/home/randychen233/projects/ICON_lab/nonlinear_opt/distributed_mpc/test.ipynb#Y124sdnNjb2RlLXJlbW90ZQ%3D%3D?line=73'>74</a>\u001b[0m min_states,max_states \u001b[39m=\u001b[39m generate_min_max_state(states,n_states)\n\u001b[1;32m     <a href='vscode-notebook-cell://wsl%2Bubuntu-20.04/home/randychen233/projects/ICON_lab/nonlinear_opt/distributed_mpc/test.ipynb#Y124sdnNjb2RlLXJlbW90ZQ%3D%3D?line=75'>76</a>\u001b[0m \u001b[39m##########################################################################\u001b[39;00m\n\u001b[1;32m     <a href='vscode-notebook-cell://wsl%2Bubuntu-20.04/home/randychen233/projects/ICON_lab/nonlinear_opt/distributed_mpc/test.ipynb#Y124sdnNjb2RlLXJlbW90ZQ%3D%3D?line=76'>77</a>\u001b[0m \u001b[39m#Solve each sub-problem in a sequential manner:\u001b[39;00m\n\u001b[1;32m     <a href='vscode-notebook-cell://wsl%2Bubuntu-20.04/home/randychen233/projects/ICON_lab/nonlinear_opt/distributed_mpc/test.ipynb#Y124sdnNjb2RlLXJlbW90ZQ%3D%3D?line=77'>78</a>\u001b[0m \u001b[39m#TODO: parallel computation for better speed?\u001b[39;00m\n",
      "\u001b[0;31mValueError\u001b[0m: too many values to unpack (expected 2)"
     ]
    }
   ],
   "source": [
    "X_full,U_full, t = solve_rhc_distributed(x0,xf,u_ref,N,Q,R,Qf,n_agents,n_states,n_inputs,radius, ids)"
   ]
  },
  {
   "cell_type": "code",
   "execution_count": 219,
   "metadata": {},
   "outputs": [
    {
     "data": {
      "text/plain": [
       "(200, 18)"
      ]
     },
     "execution_count": 219,
     "metadata": {},
     "output_type": "execute_result"
    }
   ],
   "source": [
    "X_full.shape"
   ]
  },
  {
   "cell_type": "code",
   "execution_count": 220,
   "metadata": {},
   "outputs": [
    {
     "data": {
      "application/vnd.jupyter.widget-view+json": {
       "model_id": "141a554fdacd45e387dc77f397d30e63",
       "version_major": 2,
       "version_minor": 0
      },
      "image/png": "[encoded data removed]",
      "text/html": [
       "\n",
       "            <div style=\"display: inline-block;\">\n",
       "                <div class=\"jupyter-widgets widget-label\" style=\"text-align: center;\">\n",
       "                    Figure\n",
       "                </div>\n",
       "                <img src='data:image/png;base64,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' width=640.0/>\n",
       "            </div>\n",
       "        "
      ],
      "text/plain": [
       "Canvas(toolbar=Toolbar(toolitems=[('Home', 'Reset original view', 'home', 'home'), ('Back', 'Back to previous …"
      ]
     },
     "metadata": {},
     "output_type": "display_data"
    }
   ],
   "source": [
    "plt.figure()\n",
    "%matplotlib ipympl\n",
    "util.plot_solve(X_full, 0, xf, [6,6,6], False, n_d=3)\n",
    "plt.title('Distributed MPC (IPOPT) for 3 drones');\n",
    "plt.legend(plt.gca().get_children()[1:3], [\"Start Position\", \"Goal Position\"]);\n",
    "plt.savefig('results/Distributed MPC (IPOPT) for 3 drones.png')\n"
   ]
  },
  {
   "cell_type": "code",
   "execution_count": null,
   "metadata": {},
   "outputs": [],
   "source": []
  }
 ],
 "metadata": {
  "kernelspec": {
   "display_name": "Python 3.10.4 ('ICON_lab')",
   "language": "python",
   "name": "python3"
  },
  "language_info": {
   "codemirror_mode": {
    "name": "ipython",
    "version": 3
   },
   "file_extension": ".py",
   "mimetype": "text/x-python",
   "name": "python",
   "nbconvert_exporter": "python",
   "pygments_lexer": "ipython3",
   "version": "3.10.4"
  },
  "vscode": {
   "interpreter": {
    "hash": "47f19a4884d69c1662ba195a765da507abd8104c88696148164f3dd77b63a1cd"
   }
  }
 },
 "nbformat": 4,
 "nbformat_minor": 4
}
