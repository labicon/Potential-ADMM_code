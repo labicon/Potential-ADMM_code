{
 "cells": [
  {
   "cell_type": "code",
   "execution_count": null,
   "metadata": {},
   "outputs": [],
   "source": [
    "from dynamics import *\n",
    "from problem import *\n",
    "import numpy as np\n",
    "from casadi import *\n",
    "import casadi as cs\n",
    "import matplotlib.pyplot as plt\n",
    "import seaborn as sns\n",
    "from util import *\n",
    "import itertools \n",
    "from time import perf_counter"
   ]
  },
  {
   "cell_type": "code",
   "execution_count": null,
   "metadata": {},
   "outputs": [],
   "source": [
    "from decentralized import util"
   ]
  },
  {
   "cell_type": "code",
   "execution_count": null,
   "metadata": {},
   "outputs": [],
   "source": [
    "%load_ext autoreload\n",
    "%autoreload 2"
   ]
  },
  {
   "cell_type": "markdown",
   "metadata": {},
   "source": [
    "## An example of using Casadi to optimize trajectory for a single quadrotor:"
   ]
  },
  {
   "cell_type": "code",
   "execution_count": null,
   "metadata": {},
   "outputs": [],
   "source": [
    "# x0 = np.random.rand(6*3,1)\n",
    "x0 = np.array([0.1, 0.1, 1.0, 0.1, 0.1, 0.1])\n",
    "xf = np.array([1.2, 1.2, 1.8, 0, 0, 0])\n",
    "Q = np.diag([5,5,5,1,1,1])\n",
    "R = np.eye(3)*0.01\n",
    "Qf = np.eye(6)*1000\n",
    "g = 9.8\n",
    "\n",
    "u_ref = np.array([0,0,g])\n",
    "N = 100\n",
    "\n",
    "opti = Opti()\n",
    "\n",
    "dt = 0.05"
   ]
  },
  {
   "cell_type": "code",
   "execution_count": null,
   "metadata": {},
   "outputs": [],
   "source": [
    "# models = [quad6D,quad6D,quad6D]"
   ]
  },
  {
   "cell_type": "code",
   "execution_count": null,
   "metadata": {},
   "outputs": [],
   "source": [
    "# ids = [i for i in range(n_agents)]"
   ]
  },
  {
   "cell_type": "code",
   "execution_count": null,
   "metadata": {},
   "outputs": [],
   "source": [
    "# quad6D(xf,Q,R,Qf,u_ref,N).cost()"
   ]
  },
  {
   "cell_type": "code",
   "execution_count": null,
   "metadata": {},
   "outputs": [],
   "source": [
    "# dynamics = MultiDynamicalModel([model(split_agents(xf.T,x_dims)[id_],Q,R,Qf,split_agents(u_ref.T,u_dims)[id_],N) for model,id_ in zip(models,ids)])"
   ]
  },
  {
   "cell_type": "code",
   "execution_count": null,
   "metadata": {},
   "outputs": [],
   "source": [
    "# problem = quadProblem()"
   ]
  },
  {
   "cell_type": "code",
   "execution_count": null,
   "metadata": {},
   "outputs": [],
   "source": [
    "X = opti.variable(6,N+1)\n",
    "U = opti.variable(3,N)"
   ]
  },
  {
   "cell_type": "code",
   "execution_count": null,
   "metadata": {},
   "outputs": [],
   "source": [
    "# x_dims = [6,6,6,6]"
   ]
  },
  {
   "cell_type": "code",
   "execution_count": null,
   "metadata": {},
   "outputs": [],
   "source": [
    "g = 9.81"
   ]
  },
  {
   "cell_type": "code",
   "execution_count": null,
   "metadata": {},
   "outputs": [],
   "source": [
    "f = lambda x,u: vertcat(x[3],x[4],x[5],g*tan(u[0]),-g*tan(u[1]),u[2]-g) #dx/dt = f(x,u)"
   ]
  },
  {
   "cell_type": "code",
   "execution_count": null,
   "metadata": {},
   "outputs": [],
   "source": [
    "for k in range(N): #loop over control intervals\n",
    "    # Runge-Kutta 4 integration\n",
    "    k1 = f(X[:,k],         U[:,k])\n",
    "    k2 = f(X[:,k]+dt/2*k1, U[:,k])\n",
    "    k3 = f(X[:,k]+dt/2*k2, U[:,k])\n",
    "    k4 = f(X[:,k]+dt*k3,   U[:,k])\n",
    "    x_next = X[:,k] + dt/6*(k1+2*k2+2*k3+k4) \n",
    "\n",
    "    opti.subject_to(X[:,k+1]==x_next) # close the gaps\n"
   ]
  },
  {
   "cell_type": "code",
   "execution_count": null,
   "metadata": {},
   "outputs": [],
   "source": [
    "total_stage_cost = 0\n",
    "for j in range(X.shape[1]-1):\n",
    "    for i in range(X.shape[0]):\n",
    "        total_stage_cost += (X[i,j]-xf[i])*Q[i, i]*(X[i,j]-xf[i])\n",
    "\n",
    "for j in range(U.shape[1]-1):\n",
    "    for i in range(U.shape[0]):\n",
    "        total_stage_cost += (U[i,j]-u_ref[i])*R[i, i]*(U[i,j]-u_ref[i])\n",
    "\n",
    "#Quadratic terminal cost:\n",
    "total_terminal_cost = 0\n",
    "# for j in range(X.shape[1]):\n",
    "for i in range(X.shape[0]):\n",
    "    total_terminal_cost += (X[i,-1]-xf[i])*Qf[i, i]*(X[i,-1]-xf[i])"
   ]
  },
  {
   "cell_type": "code",
   "execution_count": null,
   "metadata": {},
   "outputs": [],
   "source": [
    "objective = total_terminal_cost + total_stage_cost\n",
    "# objective = total_stage_cost\n"
   ]
  },
  {
   "cell_type": "code",
   "execution_count": null,
   "metadata": {},
   "outputs": [],
   "source": [
    "opti.minimize(objective) "
   ]
  },
  {
   "cell_type": "code",
   "execution_count": null,
   "metadata": {},
   "outputs": [],
   "source": [
    "opti.subject_to(X[2,:]<=3.0) # altitude p_z is limited\n",
    "opti.subject_to(0.4<=X[2,:])\n",
    "\n",
    "opti.subject_to(X[0,:]<=3) # p_x is limited\n",
    "opti.subject_to(-3<=X[0,:])\n",
    "\n",
    "opti.subject_to(X[1,:]<=3) # p_y is limited\n",
    "opti.subject_to(-3<=X[1,:])\n",
    "\n",
    "opti.subject_to(U[0,:]<=np.pi/6) # theta is limited\n",
    "opti.subject_to(-np.pi/6<=U[0,:])\n",
    "\n",
    "opti.subject_to(U[1,:]<=np.pi/6) # phi is limited\n",
    "opti.subject_to(-np.pi/6<=U[1,:])\n",
    "\n",
    "opti.subject_to(U[2,:]<=25) # tau is limited\n",
    "opti.subject_to(0<=U[2,:]) #minimum force \n",
    "\n",
    "# opti.subject_to(X[0:3,-1] == xf[0:3])\n",
    "#equality constraints:\n",
    "opti.subject_to(X[:,0] == x0)\n",
    "t0 = perf_counter()\n",
    "opti.solver('ipopt');\n",
    "sol = opti.solve()\n",
    "tf = perf_counter()\n",
    "\n",
    "print(f'total run time is {tf-t0} seconds')\n"
   ]
  },
  {
   "cell_type": "code",
   "execution_count": null,
   "metadata": {},
   "outputs": [],
   "source": [
    "X_trj = sol.value(X)\n",
    "U_trj = sol.value(U)"
   ]
  },
  {
   "cell_type": "code",
   "execution_count": null,
   "metadata": {},
   "outputs": [],
   "source": [
    "U_trj.shape"
   ]
  },
  {
   "cell_type": "code",
   "execution_count": null,
   "metadata": {},
   "outputs": [],
   "source": [
    "%matplotlib ipympl\n",
    "fig = plt.figure()\n",
    "ax = plt.axes(projection='3d')\n",
    "ax.scatter(X_trj[0,:],X_trj[1,:],X_trj[2,:])\n",
    "ax.set_title('Trajectory from one-shot optimization')\n"
   ]
  },
  {
   "cell_type": "code",
   "execution_count": null,
   "metadata": {},
   "outputs": [],
   "source": [
    "pos_err = np.linalg.norm(X_trj[0:3,-1]-xf[0:3])\n",
    "pos_err"
   ]
  },
  {
   "cell_type": "markdown",
   "metadata": {},
   "source": [
    "## Running the above optimizaiton but in a receding-horizon fashion:\n",
    "In this case, we relax the terminal state constraint and impose a terminal state cost into the objective function. The reason is that each optimization step is solved over a control horizon, and it's not possible that the drone reaches its goal after each control horizon (which keeps shifting forward)"
   ]
  },
  {
   "cell_type": "code",
   "execution_count": null,
   "metadata": {},
   "outputs": [],
   "source": [
    "def objective(X,U,u_ref,xf,Q,R,Qf):\n",
    "    total_stage_cost = 0\n",
    "    for j in range(X.shape[1]-1):\n",
    "        for i in range(X.shape[0]):\n",
    "            total_stage_cost += (X[i,j]-xf[i])*Q[i, i]*(X[i,j]-xf[i])\n",
    "\n",
    "    for j in range(U.shape[1]-1):\n",
    "        for i in range(U.shape[0]):\n",
    "            total_stage_cost += (U[i,j]-u_ref[i])*R[i, i]*(U[i,j]-u_ref[i])\n",
    "\n",
    "    #Quadratic terminal cost:\n",
    "    total_terminal_cost = 0\n",
    "\n",
    "    for i in range(X.shape[0]):\n",
    "        total_terminal_cost += (X[i,-1]-xf[i])*Qf[i, i]*(X[i,-1]-xf[i])\n",
    "            \n",
    "    return total_stage_cost + total_terminal_cost\n",
    "    # return total_stage_cost"
   ]
  },
  {
   "cell_type": "code",
   "execution_count": null,
   "metadata": {},
   "outputs": [],
   "source": [
    "x0 = np.array([0.5, 0.5, 1.0, 0.0, 0.0, 0.0])\n",
    "xf = np.array([1.3, 1.1, 1.8, 0, 0, 0])\n",
    "Q = np.diag([5,5,5,1,1,1])\n",
    "R = np.eye(3)*0.01\n",
    "Qf = np.eye(6)*1000\n",
    "\n",
    "# u_ref = np.zeros((3,1))\n",
    "u_ref = np.array([0,0,9.8])"
   ]
  },
  {
   "cell_type": "code",
   "execution_count": null,
   "metadata": {},
   "outputs": [],
   "source": [
    "n_agents = 1\n",
    "n_states = 6\n",
    "n_inputs=  3"
   ]
  },
  {
   "cell_type": "code",
   "execution_count": null,
   "metadata": {},
   "outputs": [],
   "source": [
    "def solve_rhc(x0,xf,u_ref,N,Qf):\n",
    "    #N is the shifting prediction horizon\n",
    "    \n",
    "    p_opts = {\"expand\":True}\n",
    "    s_opts = {\"max_iter\": 100,\"print_level\":0}\n",
    "    \n",
    "    opti = Opti()\n",
    "    M = 100 # this is the entire fixed horizon\n",
    " \n",
    "    n_x = n_agents*n_states\n",
    "    n_u = n_agents*n_inputs\n",
    "    \n",
    "    X_full = np.zeros((0, n_x))\n",
    "    U_full = np.zeros((0, n_u))\n",
    "    \n",
    "    t = 0\n",
    "\n",
    "    J_list = []\n",
    "    J_list.append(np.inf)\n",
    "    # for i in range(M) :\n",
    "    i = 0\n",
    "    \n",
    "    f = lambda x,u: vertcat(x[3],x[4],x[5],g*tan(u[0]),-g*tan(u[1]),u[2]-g) #dx/dt = f(x,u)\n",
    "    \n",
    "    dt = 0.05\n",
    "    \n",
    "    while (np.linalg.norm(x0[0:3]-xf[0:3]) > 0.1) and (i < M):\n",
    "    \n",
    "        X = opti.variable(6,N+1)\n",
    "        U = opti.variable(3,N)\n",
    "        \n",
    "        cost_fun = objective(X,U,u_ref,xf,Q,R,Qf)\n",
    "        opti.minimize(cost_fun)\n",
    "        \n",
    "        for k in range(N): #loop over control intervals\n",
    "            # Runge-Kutta 4 integration\n",
    "            k1 = f(X[:,k],         U[:,k])\n",
    "            k2 = f(X[:,k]+dt/2*k1, U[:,k])\n",
    "            k3 = f(X[:,k]+dt/2*k2, U[:,k])\n",
    "            k4 = f(X[:,k]+dt*k3,   U[:,k])\n",
    "            x_next = X[:,k] + dt/6*(k1+2*k2+2*k3+k4) \n",
    "\n",
    "            opti.subject_to(X[:,k+1]==x_next) # close the gaps\n",
    "\n",
    "        opti.subject_to(X[2,:]<=3.0) # altitude p_z is limited\n",
    "        opti.subject_to(0.4<=X[2,:])\n",
    "\n",
    "        opti.subject_to(X[0,:]<=3) # p_x is limited\n",
    "        opti.subject_to(-3<=X[0,:])\n",
    "\n",
    "        opti.subject_to(X[1,:]<=3) # p_y is limited\n",
    "        opti.subject_to(-3<=X[1,:])\n",
    "        \n",
    "        opti.subject_to(X[3,:] <=5) #Vx is limited\n",
    "        opti.subject_to(0 <= X[3,:])\n",
    "        \n",
    "        opti.subject_to(X[4,:] <=5) #Vy is limited\n",
    "        opti.subject_to(0 <= X[4,:])\n",
    "        \n",
    "        opti.subject_to(X[5,:] <=5) #Vz is limited\n",
    "        opti.subject_to(0 <= X[5,:])\n",
    "\n",
    "        opti.subject_to(U[0,:]<=np.pi/6) # theta is limited\n",
    "        opti.subject_to(-np.pi/6<=U[0,:])\n",
    "\n",
    "        opti.subject_to(U[1,:]<=np.pi/6) # phi is limited\n",
    "        opti.subject_to(-np.pi/6<=U[1,:])\n",
    "\n",
    "        opti.subject_to(U[2,:]<=20) # tau is limited\n",
    "        opti.subject_to(0<=U[2,:]) #minimum force keeps the drone at hover\n",
    "\n",
    "        #equality constraints for initial condition:\n",
    "        opti.subject_to(X[:,0] == x0)\n",
    "\n",
    "        \n",
    "        opti.solver(\"ipopt\",p_opts,\n",
    "                    s_opts) \n",
    "        \n",
    "        \n",
    "        sol = opti.solve()\n",
    "        x0 = sol.value(X)[:,1]\n",
    "        u_sol = sol.value(U)[:,0]\n",
    "        J_list.append(sol.value(cost_fun))\n",
    "        \n",
    "        \n",
    "        #Store the trajectory\n",
    "        \n",
    "        X_full = np.r_[X_full, x0.reshape(1,-1)]\n",
    "        U_full = np.r_[U_full, u_sol.reshape(1,-1)]\n",
    "        \n",
    "        t += dt\n",
    "        i +=1\n",
    "        \n",
    "        if abs(J_list[i]-J_list[i-1]) <= 1 :\n",
    "            print(f'Terminated! at i = {i}')\n",
    "            break\n",
    "        \n",
    "        \n",
    "    return X_full,U_full, t\n",
    "    "
   ]
  },
  {
   "cell_type": "code",
   "execution_count": null,
   "metadata": {},
   "outputs": [],
   "source": [
    "from time import perf_counter"
   ]
  },
  {
   "cell_type": "code",
   "execution_count": null,
   "metadata": {},
   "outputs": [],
   "source": [
    "N = 5\n",
    "t0 = perf_counter()\n",
    "x_trj,u_trj, t = solve_rhc(x0,xf,u_ref,N,Qf)\n",
    "tf = perf_counter()\n",
    "print(f'total run time is {tf-t0} seconds')"
   ]
  },
  {
   "cell_type": "code",
   "execution_count": null,
   "metadata": {},
   "outputs": [],
   "source": [
    "x_trj.shape"
   ]
  },
  {
   "cell_type": "code",
   "execution_count": null,
   "metadata": {},
   "outputs": [],
   "source": [
    "%matplotlib ipympl\n",
    "fig = plt.figure()\n",
    "ax = plt.axes(projection='3d')\n",
    "ax.scatter(x_trj[:,0],x_trj[:,1],x_trj[:,2])\n",
    "ax.set_title('Trajectory with receding horizon')"
   ]
  },
  {
   "cell_type": "code",
   "execution_count": null,
   "metadata": {},
   "outputs": [],
   "source": [
    "pos_err = np.linalg.norm(x_trj[-1,0:3]-xf[0:3])"
   ]
  },
  {
   "cell_type": "code",
   "execution_count": null,
   "metadata": {},
   "outputs": [],
   "source": [
    "pos_err  #not bad!\n"
   ]
  },
  {
   "cell_type": "markdown",
   "metadata": {},
   "source": [
    "## Running 3 drones in a centralized fashion:"
   ]
  },
  {
   "cell_type": "code",
   "execution_count": null,
   "metadata": {},
   "outputs": [],
   "source": [
    "x0,xf = paper_setup_3_quads()"
   ]
  },
  {
   "cell_type": "code",
   "execution_count": null,
   "metadata": {},
   "outputs": [],
   "source": [
    "xf.shape"
   ]
  },
  {
   "cell_type": "code",
   "execution_count": null,
   "metadata": {},
   "outputs": [],
   "source": [
    "g = 9.81"
   ]
  },
  {
   "cell_type": "code",
   "execution_count": null,
   "metadata": {},
   "outputs": [],
   "source": [
    "n_agents = 3\n",
    "n_states = 6\n",
    "n_inputs=  3\n",
    "\n",
    "\n",
    "# Qs = [Q] * n_agents\n",
    "# Rs = [R] * n_agents\n",
    "# Qfs = [Qf] * n_agents\n",
    "# x_dims = [n_states]*n_agents\n",
    "# u_dims = [n_inputs]*n_agents"
   ]
  },
  {
   "cell_type": "code",
   "execution_count": null,
   "metadata": {},
   "outputs": [],
   "source": [
    "u_ref = np.array([0, 0, g, 0, 0, g, 0, 0, g])\n",
    "Q = np.diag([5,5,5,1,1,1,5,5,5,1,1,1,5,5,5,1,1,1])\n",
    "R = np.eye(n_agents*n_inputs)*0.01\n",
    "Qf = np.eye(n_agents*n_states)*1000\n",
    "\n",
    "theta_max = np.pi/6\n",
    "phi_max = np.pi/6\n",
    "\n",
    "v_max = 3\n",
    "v_min = -3\n",
    "\n",
    "theta_min = -np.pi/6\n",
    "phi_min = -np.pi/6\n",
    "\n",
    "tau_max = 15\n",
    "tau_min = 0\n",
    "\n",
    "x_min = -5\n",
    "x_max = 5\n",
    "\n",
    "y_min = -5\n",
    "y_max = 5\n",
    "\n",
    "z_min = 0\n",
    "z_max = 3.0"
   ]
  },
  {
   "cell_type": "code",
   "execution_count": null,
   "metadata": {},
   "outputs": [],
   "source": [
    "max_input = np.array([[theta_max], [phi_max], [tau_max], \\\n",
    "                          [theta_max], [phi_max], [tau_max], \\\n",
    "                          [theta_max], [phi_max], [tau_max]])\n",
    "\n",
    "min_input = np.array([[theta_min], [phi_min], [tau_min], \\\n",
    "                      [theta_min], [phi_min], [tau_min], \\\n",
    "                      [theta_min], [phi_min], [tau_min]])\n",
    "\n",
    "max_state_upper = np.array([[x_max], [y_max], [z_max], [v_max],[v_max], [v_max],\\\n",
    "                          [x_max], [y_max], [z_max], [v_max],[v_max], [v_max],\\\n",
    "                          [x_max], [y_max], [z_max], [v_max],[v_max], [v_max]])\n",
    "    \n",
    "max_state_lower = np.array([[x_min], [y_min], [z_min], [v_min],[v_min], [v_min],\\\n",
    "                          [x_min], [y_min], [z_min], [v_min],[v_min], [v_min],\\\n",
    "                          [x_min], [y_min], [z_min], [v_min],[v_min], [v_min]])"
   ]
  },
  {
   "cell_type": "code",
   "execution_count": null,
   "metadata": {},
   "outputs": [],
   "source": [
    "max_input.shape"
   ]
  },
  {
   "cell_type": "code",
   "execution_count": null,
   "metadata": {},
   "outputs": [],
   "source": [
    "def objective(X,U,u_ref,xf,Q,R,Qf):\n",
    "    total_stage_cost = 0\n",
    "    for j in range(X.shape[1]-1):\n",
    "        for i in range(X.shape[0]):\n",
    "            total_stage_cost += (X[i,j]-xf[i])*Q[i, i]*(X[i,j]-xf[i])\n",
    "\n",
    "    for j in range(U.shape[1]):\n",
    "        for i in range(U.shape[0]):\n",
    "            total_stage_cost += (U[i,j]-u_ref[i])*R[i, i]*(U[i,j]-u_ref[i])\n",
    "\n",
    "    #Quadratic terminal cost:\n",
    "    total_terminal_cost = 0\n",
    "\n",
    "    for i in range(X.shape[0]):\n",
    "        total_terminal_cost += (X[i,-1]-xf[i])*Qf[i, i]*(X[i,-1]-xf[i])\n",
    "            \n",
    "    return total_stage_cost + total_terminal_cost"
   ]
  },
  {
   "cell_type": "code",
   "execution_count": null,
   "metadata": {},
   "outputs": [],
   "source": [
    "eps = 1e-3"
   ]
  },
  {
   "cell_type": "code",
   "execution_count": null,
   "metadata": {},
   "outputs": [],
   "source": [
    "f = lambda x,u: vertcat(x[3],x[4],x[5],  g*tan(u[0]), -g*tan(u[1]),u[2]-g,\n",
    "                        x[9],x[10],x[11], g*tan(u[3]), -g*tan(u[4]), u[5]-g,\n",
    "                        x[15],x[16],x[17], g*tan(u[6]), -g*tan(u[7]), u[8]-g) #dx/dt = f(x,u)"
   ]
  },
  {
   "cell_type": "code",
   "execution_count": null,
   "metadata": {},
   "outputs": [],
   "source": [
    "def solve_rhc(x0,xf,u_ref,N,Q,R,Qf,n_agents,n_states,d_threshold):\n",
    "    #N is the shifting prediction horizon\n",
    "    \n",
    "    p_opts = {\"expand\":True}\n",
    "    s_opts = {\"max_iter\": 1000,\"print_level\":0}\n",
    "    \n",
    "    \n",
    "    M = 200 # this is the entire fixed horizon\n",
    " \n",
    "    n_x = n_agents*n_states\n",
    "    n_u = n_agents*n_inputs\n",
    "    x_dims = [n_states]*n_agents\n",
    "    \n",
    "    X_full = np.zeros((0, n_x))\n",
    "    U_full = np.zeros((0, n_u))\n",
    "    \n",
    "    t = 0\n",
    "\n",
    "    J_list = []\n",
    "    J_list.append(np.inf)\n",
    "    # for i in range(M) :\n",
    "    i = 0\n",
    "    dt = 0.05\n",
    "    \n",
    "    while np.any(distance_to_goal(x0,xf,n_agents,n_states) > 0.1)  and (i < M):\n",
    "        \n",
    "        \n",
    "        opti = Opti()\n",
    "        \n",
    "        X = opti.variable(n_x,N+1)\n",
    "        U = opti.variable(n_u,N)\n",
    "        \n",
    "        cost_fun = objective(X,U,u_ref,xf,Q,R,Qf)\n",
    "        opti.minimize(cost_fun)\n",
    "        \n",
    "        for k in range(N): #loop over control intervals\n",
    "            # Runge-Kutta 4 integration\n",
    "            k1 = f(X[:,k],         U[:,k])\n",
    "            k2 = f(X[:,k]+dt/2*k1, U[:,k])\n",
    "            k3 = f(X[:,k]+dt/2*k2, U[:,k])\n",
    "            k4 = f(X[:,k]+dt*k3,   U[:,k])\n",
    "            x_next = X[:,k] + dt/6*(k1+2*k2+2*k3+k4) \n",
    "\n",
    "            opti.subject_to(X[:,k+1]==x_next) # close the gaps\n",
    "            \n",
    "            #Constraints on inputs:\n",
    "            for j in range(max_input.shape[0]):\n",
    "                # print(U[j,k].shape,max_input[j].shape)\n",
    "                opti.subject_to(U[j,k] <= max_input[j] )\n",
    "                opti.subject_to(min_input[j] <= U[j,k] )\n",
    "                \n",
    "       #Hard-coding collision avoidance constraints:\n",
    "        # for k in range(N+1):    \n",
    "        #     #Collision avoidance: \n",
    "        #     opti.subject_to(-sqrt((X[0,k]-X[6,k])**2+ (X[1,k]-X[7,k])**2 +(X[2,k]-X[8,k])**2 + eps)  <= -0.5)\n",
    "        #     opti.subject_to(-sqrt((X[0,k]-X[12,k])**2 +(X[1,k]-X[13,k])**2 +(X[2,k]-X[14,k])**2 + eps) <= -0.5)\n",
    "        #     opti.subject_to(-sqrt((X[12,k]-X[6,k])**2 +(X[13,k]-X[7,k])**2 +(X[14,k]-X[8,k])**2 + eps) <= -0.5)\n",
    "        \n",
    "        #collision avoidance constraints\n",
    "        for k in range(N+1):\n",
    "            distances = compute_pairwise_distance_Sym(X[:,k], x_dims)\n",
    "            for n in range(len(distances)):\n",
    "                opti.subject_to(distances[n] >= d_threshold)\n",
    "                \n",
    "            #constraints on states:\n",
    "            for m in range(max_state_lower.shape[0]):\n",
    "\n",
    "                opti.subject_to(X[m,k]<= max_state_upper[m] )\n",
    "                opti.subject_to(max_state_lower[m] <= X[m,k])\n",
    "\n",
    "            \n",
    "        #equality constraints for initial condition:\n",
    "        opti.subject_to(X[:,0] == x0)\n",
    "        \n",
    "        opti.solver(\"ipopt\",p_opts,\n",
    "                    s_opts) \n",
    "        \n",
    "        \n",
    "        sol = opti.solve()\n",
    "        # print(opti.debug.value)\n",
    "        x0 = sol.value(X)[:,1].reshape(-1,1)\n",
    "        # print(x0.shape)\n",
    "        u_sol = sol.value(U)[:,0]\n",
    "        \n",
    "        J_list.append(sol.value(cost_fun))\n",
    "        print(f'current objective function value is {sol.value(cost_fun)}')\n",
    "        \n",
    "        \n",
    "        #Store the trajectory\n",
    "        \n",
    "        X_full = np.r_[X_full, x0.reshape(1,-1)]\n",
    "        U_full = np.r_[U_full, u_sol.reshape(1,-1)]\n",
    "        \n",
    "        t += dt\n",
    "        i +=1\n",
    "        \n",
    "        # print(opti.variable) #print this to check the optimization parameters for each control horizon\n",
    "        \n",
    "        if abs(J_list[i]-J_list[i-1]) <= 1.0 :\n",
    "            print(f'Terminated! at i = {i}')\n",
    "            break\n",
    "            \n",
    "        \n",
    "    return X_full,U_full, t"
   ]
  },
  {
   "cell_type": "code",
   "execution_count": null,
   "metadata": {},
   "outputs": [],
   "source": [
    "N = 15\n",
    "t0 = perf_counter()\n",
    "n_agents =3\n",
    "n_states=6\n",
    "x_trj,u_trj, t = solve_rhc(x0,xf,u_ref,N,Q,R,Qf,n_agents,n_states,0.5)\n",
    "tf = perf_counter()\n",
    "print(f'total run time is {tf-t0} seconds')"
   ]
  },
  {
   "cell_type": "code",
   "execution_count": null,
   "metadata": {},
   "outputs": [],
   "source": [
    "plt.close('all')"
   ]
  },
  {
   "cell_type": "code",
   "execution_count": null,
   "metadata": {},
   "outputs": [],
   "source": [
    "plt.figure()\n",
    "%matplotlib ipympl\n",
    "util.plot_solve(x_trj,6.2, xf, [6,6,6], n_d=3)\n",
    "plt.title('Centralized MPC (IPOPT) for 3 drones');\n",
    "plt.legend(plt.gca().get_children()[1:3], [\"Start Position\", \"Goal Position\"]);\n",
    "\n",
    "plt.savefig('results/Centralized MPC (IPOPT) for 3 drones.png')"
   ]
  },
  {
   "cell_type": "markdown",
   "metadata": {},
   "source": [
    "## 5 Drones in centralized fashion"
   ]
  },
  {
   "cell_type": "code",
   "execution_count": null,
   "metadata": {},
   "outputs": [],
   "source": [
    "#5 drones:\n",
    "x0 = np.array([[-0.182, -0.545,  1.161,  0.   ,  0.   ,  0.   ,  1.335,  1.484,\n",
    "         0.5  ,  0.   ,  0.   ,  0.   , -0.97 , -0.831,  2.295,  0.   ,\n",
    "         0.   ,  0.   , -1.144, -1.193,  1.7  ,  0.   ,  0.   ,  0.   ,\n",
    "         0.961,  1.085,  0.88 ,  0.   ,  0.   ,  0.   ]]).T\n",
    "xf = np.array([[-1.751,  0.674, -1.193,  0.   ,  0.   ,  0.   ,  1.769,  0.102,\n",
    "         2.998,  0.   ,  0.   ,  0.   , -1.452, -0.02 , -1.11 ,  0.   ,\n",
    "         0.   ,  0.   ,  0.34 , -0.993, -0.832,  0.   ,  0.   ,  0.   ,\n",
    "         1.094,  0.237,  0.137,  0.   ,  0.   ,  0.   ]]).T\n",
    "\n",
    "u_ref = np.array([0,0,g,0,0,g,0,0,g,0,0,g,0,0,g])\n",
    "\n",
    "n_agents = 5\n",
    "n_states = 6\n",
    "n_inputs=  3\n",
    "Q = np.diag([5,5,5,1,1,1,\\\n",
    "             5,5,5,1,1,1,\\\n",
    "             5,5,5,1,1,1,\\\n",
    "             5,5,5,1,1,1,\\\n",
    "             5,5,5,1,1,1])\n",
    "R = np.eye(n_agents*n_inputs)*0.01\n",
    "Qf = np.eye(n_agents*n_states)*1000\n",
    "\n",
    "theta_max = np.pi/6\n",
    "phi_max = np.pi/6\n",
    "\n",
    "v_max = 3\n",
    "v_min = -3\n",
    "\n",
    "theta_min = -np.pi/6\n",
    "phi_min = -np.pi/6\n",
    "\n",
    "tau_max = 15\n",
    "tau_min = 0\n",
    "\n",
    "x_min = -5\n",
    "x_max = 5\n",
    "\n",
    "y_min = -5\n",
    "y_max = 5\n",
    "\n",
    "z_min = 0\n",
    "z_max = 3.0"
   ]
  },
  {
   "cell_type": "code",
   "execution_count": null,
   "metadata": {},
   "outputs": [],
   "source": [
    "max_input_base = np.array([[theta_max], [phi_max], [tau_max]])\n",
    "min_input_base = np.array([[theta_min], [phi_min], [tau_min]])\n",
    "max_state_base = np.array([[x_max], [y_max], [z_max], [v_max],[v_max], [v_max]])\n",
    "min_state_base = np.array([[x_min], [y_min], [z_min], [v_min],[v_min], [v_min]])"
   ]
  },
  {
   "cell_type": "code",
   "execution_count": null,
   "metadata": {},
   "outputs": [],
   "source": [
    "max_input = np.tile(max_input_base,5)\n",
    "min_input = np.tile(min_input_base,5)\n",
    "\n",
    "max_state = np.tile(max_state_base,5)\n",
    "min_state = np.tile(min_state_base,5)"
   ]
  },
  {
   "cell_type": "code",
   "execution_count": null,
   "metadata": {},
   "outputs": [],
   "source": [
    "x0.shape"
   ]
  },
  {
   "cell_type": "code",
   "execution_count": null,
   "metadata": {},
   "outputs": [],
   "source": [
    "f = lambda x,u: vertcat(x[3],x[4],x[5],  g*tan(u[0]), -g*tan(u[1]),u[2]-g,\n",
    "                        x[9],x[10],x[11], g*tan(u[3]), -g*tan(u[4]), u[5]-g,\n",
    "                        x[15],x[16],x[17], g*tan(u[6]), -g*tan(u[7]), u[8]-g,\n",
    "                        x[21],x[22],x[23], g*tan(u[9]), -g*tan(u[10]), u[11]-g,\n",
    "                        x[27],x[28],x[29], g*tan(u[12]), -g*tan(u[13]), u[14]-g) #dx/dt = f(x,u)"
   ]
  },
  {
   "cell_type": "code",
   "execution_count": null,
   "metadata": {},
   "outputs": [],
   "source": [
    "N = 15\n",
    "t0 = perf_counter()\n",
    "\n",
    "x_trj,u_trj, t = solve_rhc(x0,xf,u_ref,N,Q,R,Qf,n_agents,n_states,0.5)\n",
    "tf = perf_counter()\n",
    "print(f'total run time is {tf-t0} seconds')"
   ]
  },
  {
   "cell_type": "code",
   "execution_count": null,
   "metadata": {},
   "outputs": [],
   "source": [
    "%matplotlib ipympl\n",
    "plt.figure()\n",
    "\n",
    "util.plot_solve(x_trj, 2857, xf, [6,6,6,6,6], n_d=3)\n",
    "plt.title('Centralized MPC (IPOPT) for 5 drones');\n",
    "plt.legend(plt.gca().get_children()[1:3], [\"Start Position\", \"Goal Position\"]);\n",
    "plt.savefig('results/Centralized MPC (IPOPT) for 5 drones.png')"
   ]
  },
  {
   "cell_type": "markdown",
   "metadata": {},
   "source": [
    "## 10 Drones in centralized fashion:"
   ]
  },
  {
   "cell_type": "code",
   "execution_count": null,
   "metadata": {},
   "outputs": [],
   "source": [
    "x0 = np.array([[ 0.357,  0.799,  1.504,  0.   ,  0.   ,  0.   ,  2.172,  2.283,\n",
    "         1.436,  0.   ,  0.   ,  0.   , -0.085,  0.577,  2.433,  0.   ,\n",
    "         0.   ,  0.   ,  0.378,  0.254,  2.488,  0.   ,  0.   ,  0.   ,\n",
    "         0.184,  0.344,  2.399,  0.   ,  0.   ,  0.   ,  2.094,  2.089,\n",
    "         1.304,  0.   ,  0.   ,  0.   , -2.219, -3.09 ,  1.487,  0.   ,\n",
    "         0.   ,  0.   , -0.6  , -0.406,  1.319,  0.   ,  0.   ,  0.   ,\n",
    "        -2.059, -3.279,  1.48 ,  0.   ,  0.   ,  0.   , -0.222,  0.43 ,\n",
    "         2.325,  0.   ,  0.   ,  0.   ]]).T\n",
    "\n",
    "xf = np.array([[ 1.115,  1.749,  3.871,  0.   ,  0.   ,  0.   ,  0.653,  1.288,\n",
    "         1.529,  0.   ,  0.   ,  0.   , -1.373, -0.243,  2.488,  0.   ,\n",
    "         0.   ,  0.   , -1.314,  0.229,  1.771,  0.   ,  0.   ,  0.   ,\n",
    "         1.735,  1.558,  2.081,  0.   ,  0.   ,  0.   ,  0.852, -1.583,\n",
    "         2.264,  0.   ,  0.   ,  0.   ,  0.387, -1.5  ,  1.685,  0.   ,\n",
    "         0.   ,  0.   , -1.26 , -0.697,  2.494,  0.   ,  0.   ,  0.   ,\n",
    "        -0.213, -0.138,  1.545,  0.   ,  0.   ,  0.   , -0.582, -0.663,\n",
    "         2.518,  0.   ,  0.   ,  0.   ]]).T"
   ]
  },
  {
   "cell_type": "code",
   "execution_count": null,
   "metadata": {},
   "outputs": [],
   "source": [
    "u_ref_base = np.array([0,0,g])\n",
    "u_ref = np.tile(u_ref_base,10)"
   ]
  },
  {
   "cell_type": "code",
   "execution_count": null,
   "metadata": {},
   "outputs": [],
   "source": [
    "u_ref"
   ]
  },
  {
   "cell_type": "code",
   "execution_count": null,
   "metadata": {},
   "outputs": [],
   "source": [
    "n_agents = 10\n",
    "n_states = 6\n",
    "n_inputs=  3\n",
    "Q = np.diag([5,5,5,1,1,1,\\\n",
    "             5,5,5,1,1,1,\\\n",
    "             5,5,5,1,1,1,\\\n",
    "             5,5,5,1,1,1,\\\n",
    "             5,5,5,1,1,1,\\\n",
    "             5,5,5,1,1,1,\\\n",
    "             5,5,5,1,1,1,\\\n",
    "             5,5,5,1,1,1,\\\n",
    "             5,5,5,1,1,1,\\\n",
    "             5,5,5,1,1,1])\n",
    "R = np.eye(n_agents*n_inputs)*0.01\n",
    "Qf = np.eye(n_agents*n_states)*1000"
   ]
  },
  {
   "cell_type": "code",
   "execution_count": null,
   "metadata": {},
   "outputs": [],
   "source": [
    "max_input = np.tile(max_input_base,n_agents)\n",
    "min_input = np.tile(min_input_base,n_agents)\n",
    "\n",
    "max_state = np.tile(max_state_base,n_agents)\n",
    "min_state = np.tile(min_state_base,n_agents)"
   ]
  },
  {
   "cell_type": "code",
   "execution_count": null,
   "metadata": {},
   "outputs": [],
   "source": [
    "x_dims = [n_states]*n_agents\n",
    "x_dims\n"
   ]
  },
  {
   "cell_type": "code",
   "execution_count": null,
   "metadata": {},
   "outputs": [],
   "source": [
    "x0.shape"
   ]
  },
  {
   "cell_type": "code",
   "execution_count": null,
   "metadata": {},
   "outputs": [],
   "source": [
    "xf.shape"
   ]
  },
  {
   "cell_type": "code",
   "execution_count": null,
   "metadata": {},
   "outputs": [],
   "source": [
    "u_ref.shape"
   ]
  },
  {
   "cell_type": "code",
   "execution_count": null,
   "metadata": {},
   "outputs": [],
   "source": [
    "f = lambda x,u: vertcat(x[3],x[4],x[5],  g*tan(u[0]), -g*tan(u[1]),u[2]-g,\n",
    "                        x[9],x[10],x[11], g*tan(u[3]), -g*tan(u[4]), u[5]-g,\n",
    "                        x[15],x[16],x[17], g*tan(u[6]), -g*tan(u[7]), u[8]-g,\n",
    "                        x[21],x[22],x[23], g*tan(u[9]), -g*tan(u[10]), u[11]-g,\n",
    "                        x[27],x[28],x[29], g*tan(u[12]), -g*tan(u[13]), u[14]-g,\n",
    "                        x[33],x[34],x[35], g*tan(u[15]), -g*tan(u[16]), u[17]-g,\n",
    "                        x[39],x[40],x[41], g*tan(u[18]), -g*tan(u[19]), u[20]-g,\n",
    "                        x[45],x[46],x[47], g*tan(u[21]), -g*tan(u[22]), u[23]-g,\n",
    "                        x[51],x[52],x[53], g*tan(u[24]), -g*tan(u[25]), u[26]-g,\n",
    "                        x[57],x[58],x[59], g*tan(u[27]), -g*tan(u[28]), u[29]-g) #dx/dt = f(x,u)"
   ]
  },
  {
   "cell_type": "code",
   "execution_count": null,
   "metadata": {},
   "outputs": [],
   "source": []
  },
  {
   "cell_type": "code",
   "execution_count": null,
   "metadata": {},
   "outputs": [],
   "source": [
    "N = 15\n",
    "t0 = perf_counter()\n",
    "# print(x0.shape,xf.shape)\n",
    "x_trj,u_trj, t = solve_rhc(x0,xf,u_ref,N,Q,R,Qf,n_agents,n_states,0.3)\n",
    "tf = perf_counter()\n",
    "print(f'total run time is {tf-t0} seconds')"
   ]
  },
  {
   "cell_type": "code",
   "execution_count": null,
   "metadata": {},
   "outputs": [],
   "source": [
    "x_trj.shape"
   ]
  },
  {
   "cell_type": "code",
   "execution_count": null,
   "metadata": {},
   "outputs": [],
   "source": [
    "%matplotlib ipympl\n",
    "plt.figure()\n",
    "\n",
    "util.plot_solve(x_trj, 821, xf, [6,6,6,6,6,6,6,6,6,6], n_d=3)\n",
    "plt.title('Centralized MPC (IPOPT) for 10 drones');\n",
    "plt.legend(plt.gca().get_children()[1:3], [\"Start Position\", \"Goal Position\"]);\n",
    "plt.savefig('results/Centralized MPC (IPOPT) for 10 drones.png')"
   ]
  },
  {
   "cell_type": "code",
   "execution_count": null,
   "metadata": {},
   "outputs": [],
   "source": [
    "x_dims "
   ]
  },
  {
   "cell_type": "code",
   "execution_count": null,
   "metadata": {},
   "outputs": [],
   "source": [
    "util.compute_pairwise_distance(x_trj,x_dims).shape"
   ]
  },
  {
   "cell_type": "code",
   "execution_count": null,
   "metadata": {},
   "outputs": [],
   "source": [
    "plt.figure()\n",
    "plt.plot(util.compute_pairwise_distance(x_trj, x_dims, 3))\n",
    "plt.hlines(0.3, 0, x_trj.shape[0], 'r', ls='--', label=\"$d_{prox}$\")\n",
    "plt.title(\"Inter-Agent Distances\")\n",
    "plt.xlabel(\"Time Steps\")\n",
    "plt.ylabel(\"Distance\")\n",
    "plt.legend()\n",
    "plt.grid()\n",
    "plt.draw()"
   ]
  },
  {
   "cell_type": "markdown",
   "metadata": {},
   "source": [
    "## Now run the above optimization problem in distributed fashion using game-potential formulation:"
   ]
  },
  {
   "cell_type": "code",
   "execution_count": null,
   "metadata": {},
   "outputs": [],
   "source": [
    "def objective(X,U,u_ref,xf,Q,R,Qf):\n",
    "    total_stage_cost = 0\n",
    "    for j in range(X.shape[1]-1): #summing over horizon\n",
    "        for i in range(X.shape[0]):#element-wise multiplication\n",
    "            total_stage_cost += (X[i,j]-xf[i])*Q[i, i]*(X[i,j]-xf[i])\n",
    "\n",
    "    for j in range(U.shape[1]): #summing over horizon\n",
    "        for i in range(U.shape[0]):#element-wise multiplication\n",
    "            total_stage_cost += (U[i,j]-u_ref[i])*R[i, i]*(U[i,j]-u_ref[i])\n",
    "\n",
    "    #Quadratic terminal cost:\n",
    "    total_terminal_cost = 0\n",
    "\n",
    "    for i in range(X.shape[0]):\n",
    "        total_terminal_cost += (X[i,-1]-xf[i])*Qf[i, i]*(X[i,-1]-xf[i])\n",
    "            \n",
    "    return total_stage_cost + total_terminal_cost"
   ]
  },
  {
   "cell_type": "code",
   "execution_count": null,
   "metadata": {},
   "outputs": [],
   "source": [
    "def generate_min_max_input(inputs_dict,n_inputs):\n",
    "    \n",
    "    theta_max = np.pi/6\n",
    "    phi_max = np.pi/6\n",
    "\n",
    "    v_max = 3\n",
    "    v_min = -3\n",
    "\n",
    "    theta_min = -np.pi/6\n",
    "    phi_min = -np.pi/6\n",
    "\n",
    "    tau_max = 15\n",
    "    tau_min = 0\n",
    "    \n",
    "    n_agents = [u.shape[0] // n_inputs for u in inputs_dict.values()]\n",
    "\n",
    "    u_min = np.array([[theta_min, phi_min, tau_min]])\n",
    "    u_max = np.array([[theta_max, phi_max, tau_max]])\n",
    "    \n",
    "    return [\n",
    "        (np.tile(u_min, n_agents_i), np.tile(u_max, n_agents_i)) \n",
    "        for n_agents_i in n_agents\n",
    "        ]\n",
    "\n",
    "  "
   ]
  },
  {
   "cell_type": "code",
   "execution_count": null,
   "metadata": {},
   "outputs": [],
   "source": [
    "def generate_min_max_state(states_dict,n_states):\n",
    "    \n",
    "    x_min = -5\n",
    "    x_max = 5\n",
    "\n",
    "    y_min = -5\n",
    "    y_max = 5\n",
    "\n",
    "    z_min = 0\n",
    "    z_max = 3.0\n",
    "    \n",
    "    n_agents = [x.shape[0] // n_states for x in states_dict.values()]\n",
    "    x_min = np.array([[x_min, y_min, z_min, v_min, v_min , v_min]])\n",
    "    x_max = np.array([[x_max, y_max, z_max, v_max, v_max, v_max]])\n",
    "    \n",
    "    return [\n",
    "        (np.tile(x_min, n_agents_i), np.tile(x_max, n_agents_i)) \n",
    "        for n_agents_i in n_agents\n",
    "        ]\n",
    "\n",
    "  "
   ]
  },
  {
   "cell_type": "code",
   "execution_count": null,
   "metadata": {},
   "outputs": [],
   "source": [
    "u_ref = np.array([0, 0, g, 0, 0, g, 0, 0, g])\n",
    "\n",
    "theta_max = np.pi/6\n",
    "phi_max = np.pi/6\n",
    "\n",
    "v_max = 3\n",
    "v_min = -3\n",
    "\n",
    "theta_min = -np.pi/6\n",
    "phi_min = -np.pi/6\n",
    "\n",
    "tau_max = 15\n",
    "tau_min = 0\n",
    "\n",
    "x_min = -5\n",
    "x_max = 5\n",
    "\n",
    "y_min = -5\n",
    "y_max = 5\n",
    "\n",
    "z_min = 0\n",
    "z_max = 3.0\n",
    "\n",
    "x0,xf = paper_setup_3_quads()\n",
    "n_agents = 3\n",
    "n_states=6\n",
    "n_inputs=3\n",
    "x_dims = [n_states]*n_agents\n",
    "u_dims = [n_inputs]*n_agents\n",
    "radius=0.5\n",
    "ids = [100 + i for i in range(n_agents)]\n",
    "\n",
    "dt = 0.1"
   ]
  },
  {
   "cell_type": "code",
   "execution_count": null,
   "metadata": {},
   "outputs": [],
   "source": [
    "# def generate_f(x_dims_local):\n",
    "    \n",
    "#     # NOTE: Assume homogeneity of agents.\n",
    "#     n_agents = len(x_dims_local)\n",
    "#     n_states = x_dims_local[0] // n_agents\n",
    "#     n_controls = 3\n",
    "    \n",
    "#     def f(x, u):\n",
    "#         x_dot = cs.MX.zeros(x.numel())\n",
    "#         for i_agent in range(n_agents):\n",
    "#             i_xstart = i_agent * n_states\n",
    "#             i_ustart = i_agent * n_controls\n",
    "#             x_dot[i_xstart:i_xstart + n_states] = cs.vertcat(\n",
    "#                 x[i_xstart + 3: i_xstart + 6],\n",
    "#                 g*cs.tan(u[i_ustart]), -g*cs.tan(u[i_ustart+1]), u[i_ustart+2] - g\n",
    "#                 )\n",
    "            \n",
    "#         return x_dot\n",
    "    \n",
    "#     return f    "
   ]
  },
  {
   "cell_type": "code",
   "execution_count": null,
   "metadata": {},
   "outputs": [],
   "source": [
    "def generate_f(x_dims_local):\n",
    "    \n",
    "    \n",
    "    if len(x_dims_local) == 1:\n",
    "        f = lambda x,u: vertcat(x[3],x[4],x[5],  g*tan(u[0]), -g*tan(u[1]),u[2]-g)\n",
    "\n",
    "    if len(x_dims_local) == 2:\n",
    "        f = lambda x,u: vertcat(x[3],x[4],x[5],  g*tan(u[0]), -g*tan(u[1]),u[2]-g,\\\n",
    "                                x[9],x[10],x[11], g*tan(u[3]), -g*tan(u[4]), u[5]-g)\n",
    "\n",
    "    if len(x_dims_local) == 3:\n",
    "\n",
    "        f = lambda x,u: vertcat(x[3],x[4],x[5],  g*tan(u[0]), -g*tan(u[1]),u[2]-g,\n",
    "                                x[9],x[10],x[11], g*tan(u[3]), -g*tan(u[4]), u[5]-g,\n",
    "                                x[15],x[16],x[17], g*tan(u[6]), -g*tan(u[7]), u[8]-g) #dx/dt = f(x,u)\n",
    "        \n",
    "        \n",
    "    if len(x_dims_local) == 4:\n",
    "        \n",
    "        f = lambda x,u: vertcat(x[3],x[4],x[5],  g*tan(u[0]), -g*tan(u[1]),u[2]-g,\n",
    "                                x[9],x[10],x[11], g*tan(u[3]), -g*tan(u[4]), u[5]-g,\n",
    "                                x[15],x[16],x[17], g*tan(u[6]), -g*tan(u[7]), u[8]-g,\n",
    "                                x[21], x[22],x[23], g*tan(u[9]),-g*tan(u[10]),u[11]-g)\n",
    "        \n",
    "    if len(x_dims_local) == 5:\n",
    "\n",
    "        f = lambda x,u: vertcat(x[3],x[4],x[5],  g*tan(u[0]), -g*tan(u[1]),u[2]-g,\n",
    "                        x[9],x[10],x[11], g*tan(u[3]), -g*tan(u[4]), u[5]-g,\n",
    "                        x[15],x[16],x[17], g*tan(u[6]), -g*tan(u[7]), u[8]-g,\n",
    "                        x[21],x[22],x[23], g*tan(u[9]), -g*tan(u[10]), u[11]-g,\n",
    "                        x[27],x[28],x[29], g*tan(u[12]), -g*tan(u[13]), u[14]-g) #dx/dt = f(x,u)\n",
    "        \n",
    "    if len(x_dims_local) == 6:\n",
    "        \n",
    "        f = lambda x,u: vertcat(x[3],x[4],x[5],  g*tan(u[0]), -g*tan(u[1]),u[2]-g,\n",
    "                                x[9],x[10],x[11], g*tan(u[3]), -g*tan(u[4]),u[5]-g,\n",
    "                                x[15],x[16],x[17],g*tan(u[6]),-g*tan(u[7]), u[8]-g,\n",
    "                                x[21],x[22],x[23],g*tan(u[9]),-g*tan(u[10]),u[11]-g,\n",
    "                                x[27],x[28],x[29],g*tan(u[12]),-g*tan(u[13]),u[14]-g,\n",
    "                               x[33],x[34],x[35],g*tan(u[15]),-g*tan(u[16]),u[17]-g)\n",
    "        \n",
    "    if len(x_dims_local) == 7:\n",
    "        \n",
    "        f = lambda x,u: vertcat(x[3],x[4],x[5],  g*tan(u[0]), -g*tan(u[1]),u[2]-g,\n",
    "                                x[9],x[10],x[11], g*tan(u[3]), -g*tan(u[4]),u[5]-g,\n",
    "                                x[15],x[16],x[17],g*tan(u[6]),-g*tan(u[7]), u[8]-g,\n",
    "                                x[21],x[22],x[23],g*tan(u[9]),-g*tan(u[10]),u[11]-g,\n",
    "                                x[27],x[28],x[29],g*tan(u[12]),-g*tan(u[13]),u[14]-g,\n",
    "                               x[33],x[34],x[35],g*tan(u[15]),-g*tan(u[16]),u[17]-g,\n",
    "                                x[39],x[40],x[41],g*tan(u[18]),-g*tan(u[19]),u[20]-g)\n",
    "        \n",
    "    if len(x_dims_local) == 8:\n",
    "        \n",
    "        f = lambda x,u: vertcat(x[3],x[4],x[5],  g*tan(u[0]), -g*tan(u[1]),u[2]-g,\n",
    "                                x[9],x[10],x[11], g*tan(u[3]), -g*tan(u[4]),u[5]-g,\n",
    "                                x[15],x[16],x[17],g*tan(u[6]),-g*tan(u[7]), u[8]-g,\n",
    "                                x[21],x[22],x[23],g*tan(u[9]),-g*tan(u[10]),u[11]-g,\n",
    "                                x[27],x[28],x[29],g*tan(u[12]),-g*tan(u[13]),u[14]-g,\n",
    "                               x[33],x[34],x[35],g*tan(u[15]),-g*tan(u[16]),u[17]-g,\n",
    "                                x[39],x[40],x[41],g*tan(u[18]),-g*tan(u[19]),u[20]-g,\n",
    "                                 x[45],x[46],x[47],g*tan(u[21]),-g*tan(u[22]),u[23]-g)\n",
    "        \n",
    "    if len(x_dims_local) == 9:\n",
    "        \n",
    "        f = lambda x,u: vertcat(x[3],x[4],x[5],  g*tan(u[0]), -g*tan(u[1]),u[2]-g,\n",
    "                                x[9],x[10],x[11], g*tan(u[3]), -g*tan(u[4]),u[5]-g,\n",
    "                                x[15],x[16],x[17],g*tan(u[6]),-g*tan(u[7]), u[8]-g,\n",
    "                                x[21],x[22],x[23],g*tan(u[9]),-g*tan(u[10]),u[11]-g,\n",
    "                                x[27],x[28],x[29],g*tan(u[12]),-g*tan(u[13]),u[14]-g,\n",
    "                               x[33],x[34],x[35],g*tan(u[15]),-g*tan(u[16]),u[17]-g,\n",
    "                                x[39],x[40],x[41],g*tan(u[18]),-g*tan(u[19]),u[20]-g,\n",
    "                                 x[45],x[46],x[47],g*tan(u[21]),-g*tan(u[22]),u[23]-g,\n",
    "                               x[51],x[52],x[53],g*tan(u[24]),-g*tan(u[25]),u[26]-g)\n",
    "        \n",
    "    if len(x_dims_local) == 10:\n",
    "        \n",
    "        f = lambda x,u: vertcat(x[3],x[4],x[5],  g*tan(u[0]), -g*tan(u[1]),u[2]-g,\n",
    "                        x[9],x[10],x[11], g*tan(u[3]), -g*tan(u[4]), u[5]-g,\n",
    "                        x[15],x[16],x[17], g*tan(u[6]), -g*tan(u[7]), u[8]-g,\n",
    "                        x[21],x[22],x[23], g*tan(u[9]), -g*tan(u[10]), u[11]-g,\n",
    "                        x[27],x[28],x[29], g*tan(u[12]), -g*tan(u[13]), u[14]-g,\n",
    "                        x[33],x[34],x[35], g*tan(u[15]), -g*tan(u[16]), u[17]-g,\n",
    "                        x[39],x[40],x[41], g*tan(u[18]), -g*tan(u[19]), u[20]-g,\n",
    "                        x[45],x[46],x[47], g*tan(u[21]), -g*tan(u[22]), u[23]-g,\n",
    "                        x[51],x[52],x[53], g*tan(u[24]), -g*tan(u[25]), u[26]-g,\n",
    "                        x[57],x[58],x[59], g*tan(u[27]), -g*tan(u[28]), u[29]-g)\n",
    "        \n",
    "        \n",
    "    return f\n",
    "    "
   ]
  },
  {
   "cell_type": "code",
   "execution_count": null,
   "metadata": {
    "tags": []
   },
   "outputs": [],
   "source": [
    "def solve_rhc_distributed(x0,xf,u_ref,N,Q,R,Qf,n_agents,n_states,n_inputs,radius, ids):\n",
    "\n",
    "    x_dims = [n_states]*n_agents\n",
    "    u_dims = [n_inputs]*n_agents\n",
    "    \n",
    "    p_opts = {\"expand\":True}\n",
    "    s_opts = {\"max_iter\": 1000,\"print_level\":0}\n",
    "    \n",
    "    M = 100 # this is the entire fixed horizon\n",
    "    \n",
    "    n_x = n_agents*n_states\n",
    "    n_u = n_agents*n_inputs\n",
    "    t = 0\n",
    "\n",
    "    J_list = []\n",
    "    J_list.append(np.inf)\n",
    "    # for i in range(M) :\n",
    "    loop = 0\n",
    "    dt = 0.1\n",
    "    \n",
    "    X_full = np.zeros((0, n_x))\n",
    "    U_full = np.zeros((0, n_u))\n",
    "\n",
    "    while np.any(distance_to_goal(x0,xf,n_agents,n_states) > 0.1) and (loop < M):\n",
    "        # print(f'dis to goal is {distance_to_goal(x0,xf,n_agents,n_states)}')\n",
    "        ######################################################################\n",
    "        #Determine sub problems to solve:\n",
    "        \n",
    "        #compute interaction graph at the current time step:\n",
    "        if loop > 0 :\n",
    "            print(f're-optimizing at {x0.T}')\n",
    "            \n",
    "        rel_dists = compute_pairwise_distance(x0, x_dims, n_d=3)\n",
    "\n",
    "        graph = define_inter_graph_threshold(x0, radius, x_dims, ids)\n",
    "      \n",
    "        print(f'current interaction graph is {graph}, the pairwise distances between each agent is {rel_dists}')\n",
    "        #x0 is updated until convergence (treat x0 as the combined CURRENT state)\n",
    "        \n",
    "        #break up the problem into potential-game sub-problems at every outer iteration\n",
    "        split_problem_states_initial = split_graph(x0.T,x_dims,graph)\n",
    "        # print(split_problem_states_initial)\n",
    "        split_problem_states = split_graph(xf.T,x_dims,graph)\n",
    "        split_problem_inputs = split_graph(u_ref.reshape(-1,1).T,u_dims,graph)\n",
    "        \n",
    "        #Initiate different instances of Opti() object\n",
    "        #Each Opti() object corresponds to a subproblem (there is NO central node)\n",
    "        #Note that when 2 agents are combined into a single problem, we have 2 copies of the same sub problem\n",
    "        ########################################################################\n",
    "        #Setting up the solvers:\n",
    "        d = {}\n",
    "        states = {}\n",
    "        inputs = {}\n",
    "        cost_fun_list = [] \n",
    "        \n",
    "        d = {} #dictionary holding Opti() objects (or subproblems)\n",
    "        states = {} #dictionary holding symbolic state trajectory for each sub-problem\n",
    "        inputs = {} ##dictionary holding symbolic input trajectory for each sub-problem\n",
    "        \n",
    "        for i,j in enumerate(split_problem_states_initial):\n",
    "            d['opti_{0}'.format(i)] = Opti()\n",
    "            states['X_{0}'.format(i)] = d[f'opti_{i}'].variable(j.shape[1],N+1) \n",
    "\n",
    "        for i,j in enumerate(split_problem_inputs):\n",
    "            inputs['U_{0}'.format(i)] = d[f'opti_{i}'].variable(j.shape[1],N)\n",
    "        \n",
    "        #Storing objective functions for each sub-problem into a list:\n",
    "        for i in range(len(split_problem_states_initial)):\n",
    "            cost_fun_list.append(objective(states[f'X_{i}'],\\\n",
    "                                   inputs[f'U_{i}'],\\\n",
    "                                   split_problem_inputs[i].reshape(-1,),\\\n",
    "                                   split_problem_states[i].reshape(-1,1),\\\n",
    "                                   np.eye(split_problem_states_initial[i].shape[1])*100,\n",
    "                                   np.eye(split_problem_inputs[i].reshape(-1,).shape[0])*0.1,\n",
    "                                   np.eye(split_problem_states_initial[i].shape[1])*1000))\n",
    "        \n",
    "        min_max_input_list = generate_min_max_input(inputs,n_inputs)\n",
    "        min_max_state_list = generate_min_max_state(states,n_states)\n",
    "        \n",
    "        ##########################################################################\n",
    "        #Solve each sub-problem in a sequential manner:\n",
    "        #TODO: parallel computation for better speed?\n",
    "    \n",
    "        \n",
    "        objective_val = 0\n",
    "        X_dec = np.zeros((1, n_x))\n",
    "        U_dec = np.zeros((1, n_u))\n",
    "        for di, statesi, inputsi, costi, state_boundsi, input_boundsi, (prob,ids_), count in zip(\n",
    "            d.values(), \n",
    "            states.values(), \n",
    "            inputs.values(), \n",
    "            cost_fun_list, \n",
    "            min_max_state_list,\n",
    "            min_max_input_list,\n",
    "            graph.items(),\n",
    "            range(len(d))): #loop over sub-problems\n",
    "            \n",
    "            \n",
    "            print(f'Solving the {count}th sub-problem at iteration {loop}, t = {t}')\n",
    "            \n",
    "   \n",
    "            min_states, max_states = state_boundsi\n",
    "            min_inputs, max_inputs = input_boundsi\n",
    "\n",
    "            di.minimize(costi)\n",
    "            \n",
    "            n_states_local = statesi.shape[0] #each subproblem has different number of states\n",
    "            # print(f'n_states_local:{n_states_local}')\n",
    "            n_inputs_local = inputsi.shape[0]\n",
    "            x_dims_local = [int(n_states)]*int(n_states_local/n_states)\n",
    "            \n",
    "            print(f'current sub-problem has state dimension : {x_dims_local}')\n",
    "            # u_dims_local =  [int(n_inputs_local/(n_inputs_local/n_inputs))]*int(n_inputs_local/n_inputs)\n",
    "            #i.e, [6,6] if the current sub-problem has 2 agents combined, or [6,6,6] if 3 agents are combined\n",
    "            \n",
    "            f = generate_f(x_dims_local)\n",
    "            \n",
    "            for k in range(N): #loop over control intervals\n",
    "                # Runge-Kutta 4 integration\n",
    " \n",
    "                k1 = f(statesi[:,k],         inputsi[:,k])\n",
    "                k2 = f(statesi[:,k]+dt/2*k1, inputsi[:,k])\n",
    "                k3 = f(statesi[:,k]+dt/2*k2, inputsi[:,k])\n",
    "                k4 = f(statesi[:,k]+dt*k3,   inputsi[:,k])\n",
    "                x_next = statesi[:,k] + dt/6*(k1+2*k2+2*k3+k4) \n",
    "                \n",
    "                di.subject_to(statesi[:,k+1]==x_next) # close the gaps\n",
    "                \n",
    "                di.subject_to(inputsi[:,k] <= max_inputs.T)\n",
    "                di.subject_to(min_inputs.T <= inputsi[:,k])\n",
    "            \n",
    "            for k in range(N+1):\n",
    "                \n",
    "                di.subject_to(statesi[:,k] <= max_states.T)\n",
    "                di.subject_to(min_states.T <= statesi[:,k])\n",
    "                \n",
    "                # DBG\n",
    "                # distances, d_test = compute_pairwise_distance_Sym(statesi[:,k], x_dims_local)\n",
    "                # print(distances, d_test)\n",
    "                \n",
    "                #collision avoidance over control horizon (only if the current sub-problem contains the states of more than 1 agent):\n",
    "\n",
    "                if len(x_dims_local) !=1:\n",
    "                    distances= compute_pairwise_distance_Sym(statesi[:,k], x_dims_local)\n",
    "                    for n in distances:\n",
    "                        di.subject_to(n >= radius)\n",
    "        \n",
    "            \n",
    "            #equality constraints for initial condition:\n",
    "            di.subject_to(statesi[:,0] == split_problem_states_initial[count].reshape(-1,1))\n",
    "            \n",
    "            di.solver(\"ipopt\",p_opts,\n",
    "                        s_opts) \n",
    "            \n",
    "            \n",
    "            sol = di.solve()\n",
    "          \n",
    "            objective_val += sol.value(costi)\n",
    "            print(f'objective value for the {count}th subproblem at iteration {loop} is {sol.value(costi)}')\n",
    "            # print(sol.value(statesi).shape)\n",
    "            x0_local = sol.value(statesi)[:,1]\n",
    "\n",
    "            u_sol_local = sol.value(inputsi)[:,0]\n",
    "\n",
    "            i_prob = ids_.index(prob)\n",
    "\n",
    "            # X_dec[0,:] = x0.reshape(1,-1)\n",
    "            \n",
    "            X_dec[:,count*n_states:(count+1)*n_states] = x0_local[i_prob*n_states:(i_prob+1)*n_states]\n",
    "            U_dec[:,count*n_inputs:(count+1)*n_inputs] = u_sol_local[i_prob*n_inputs:(i_prob+1)*n_inputs]\n",
    "            \n",
    "        #PROBLEM RIGHT HERE!!! somehow I get a bunch of unexpected zeros at this step (in the current solution x0)\n",
    "        x0 = X_dec.reshape(-1,1)\n",
    "        print(f'current collected solution is {x0.T}#')\n",
    "        \n",
    "        # print(x0)\n",
    "        J_list.append(objective_val) #collect aggregate objective function from all sub-problems after each control horizon is over\n",
    "        print(f'current combined objective value is {objective_val}##########################\\n')\n",
    "        #Store the trajectory\n",
    "        \n",
    "        X_full = np.r_[X_full, X_dec.reshape(1,-1)]\n",
    "        # print(X_full.shape)\n",
    "        # x0 = X_full[loop,:].reshape(-1,1)\n",
    "\n",
    "        U_full = np.r_[U_full, U_dec.reshape(1,-1)]\n",
    "        \n",
    "        t += dt\n",
    "        loop +=1\n",
    "        \n",
    "      \n",
    "        if abs(J_list[loop]-J_list[loop-1]) <= 1 :\n",
    "            print(f'Terminated! at loop = {loop}')\n",
    "            break\n",
    "            \n",
    "        # if loop == 5:\n",
    "        #     break\n",
    "            \n",
    "    return X_full,U_full, t\n",
    "    \n",
    "    "
   ]
  },
  {
   "cell_type": "code",
   "execution_count": null,
   "metadata": {},
   "outputs": [],
   "source": [
    "ids = [100 + i for i in range(n_agents)]\n",
    "N = 15\n",
    "radius = 0.5"
   ]
  },
  {
   "cell_type": "code",
   "execution_count": null,
   "metadata": {
    "tags": []
   },
   "outputs": [],
   "source": [
    "t0 = perf_counter()\n",
    "X_full,U_full, t= solve_rhc_distributed(x0,xf,u_ref,N,Q,R,Qf,n_agents,n_states,n_inputs,radius, ids)\n",
    "tf = perf_counter()\n",
    "print(f'\\n Total run time for distributed RHC is {tf-t0}')"
   ]
  },
  {
   "cell_type": "code",
   "execution_count": null,
   "metadata": {},
   "outputs": [],
   "source": [
    "X_full.shape"
   ]
  },
  {
   "cell_type": "code",
   "execution_count": null,
   "metadata": {},
   "outputs": [],
   "source": [
    "plt.figure()\n",
    "\n",
    "%matplotlib ipympl\n",
    "util.plot_solve(X_full, 0, xf, [6,6,6], False, n_d=3)\n",
    "plt.title('Distributed MPC (IPOPT) for 3 drones');\n",
    "plt.legend(plt.gca().get_children()[1:3], [\"Start Position\", \"Goal Position\"]);\n",
    "plt.savefig('results/Distributed MPC (IPOPT) for 3 drones.png')\n"
   ]
  },
  {
   "cell_type": "markdown",
   "metadata": {},
   "source": [
    "## 5 drones:"
   ]
  },
  {
   "cell_type": "code",
   "execution_count": null,
   "metadata": {},
   "outputs": [],
   "source": [
    "x0 = np.array([[-0.182, -0.545,  1.161,  0.   ,  0.   ,  0.   ,  1.335,  1.484,\n",
    "         0.5  ,  0.   ,  0.   ,  0.   , -0.97 , -0.831,  2.295,  0.   ,\n",
    "         0.   ,  0.   , -1.144, -1.193,  1.7  ,  0.   ,  0.   ,  0.   ,\n",
    "         0.961,  1.085,  0.88 ,  0.   ,  0.   ,  0.   ]]).T\n",
    "xf = np.array([[-1.751,  0.674, -1.193,  0.   ,  0.   ,  0.   ,  1.769,  0.102,\n",
    "         2.998,  0.   ,  0.   ,  0.   , -1.452, -0.02 , -1.11 ,  0.   ,\n",
    "         0.   ,  0.   ,  0.34 , -0.993, -0.832,  0.   ,  0.   ,  0.   ,\n",
    "         1.094,  0.237,  0.137,  0.   ,  0.   ,  0.   ]]).T\n",
    "\n",
    "\n",
    "n_agents = 5\n",
    "n_states=6\n",
    "n_inputs=3\n",
    "x_dims = [n_states]*n_agents\n",
    "u_dims = [n_inputs]*n_agents\n",
    "radius=0.5\n",
    "ids = [100 + i for i in range(n_agents)]\n",
    "\n",
    "dt = 0.1\n",
    "\n",
    "u_ref = np.tile(u_ref_base,n_agents)\n",
    "\n",
    "ids = [100 + i for i in range(n_agents)]\n",
    "N = 15"
   ]
  },
  {
   "cell_type": "code",
   "execution_count": null,
   "metadata": {},
   "outputs": [],
   "source": [
    "t0 = perf_counter()\n",
    "X_full,U_full, t= solve_rhc_distributed(x0,xf,u_ref,N,Q,R,Qf,n_agents,n_states,n_inputs,radius, ids)\n",
    "tf = perf_counter()\n",
    "print(f'\\n Total run time for distributed RHC is {tf-t0}')"
   ]
  },
  {
   "cell_type": "code",
   "execution_count": null,
   "metadata": {},
   "outputs": [],
   "source": [
    "plt.figure()\n",
    "\n",
    "%matplotlib ipympl\n",
    "util.plot_solve(X_full, 0, xf, [6,6,6,6,6], False, n_d=3)\n",
    "plt.title('Distributed MPC (IPOPT) for 5 drones');\n",
    "plt.legend(plt.gca().get_children()[1:3], [\"Start Position\", \"Goal Position\"]);\n",
    "plt.savefig('results/Distributed MPC (IPOPT) for 5 drones.png')"
   ]
  },
  {
   "cell_type": "markdown",
   "metadata": {},
   "source": [
    "## Distributed for 10 drones:"
   ]
  },
  {
   "cell_type": "code",
   "execution_count": null,
   "metadata": {},
   "outputs": [],
   "source": [
    "x0 = np.array([[ 0.357,  0.799,  1.504,  0.   ,  0.   ,  0.   ,  2.172,  2.283,\n",
    "         1.436,  0.   ,  0.   ,  0.   , -0.085,  0.577,  2.433,  0.   ,\n",
    "         0.   ,  0.   ,  0.378,  0.254,  2.488,  0.   ,  0.   ,  0.   ,\n",
    "         0.184,  0.344,  2.399,  0.   ,  0.   ,  0.   ,  2.094,  2.089,\n",
    "         1.304,  0.   ,  0.   ,  0.   , -2.219, -3.09 ,  1.487,  0.   ,\n",
    "         0.   ,  0.   , -0.6  , -0.406,  1.319,  0.   ,  0.   ,  0.   ,\n",
    "        -2.059, -3.279,  1.48 ,  0.   ,  0.   ,  0.   , -0.222,  0.43 ,\n",
    "         2.325,  0.   ,  0.   ,  0.   ]]).T\n",
    "xf = np.array([[ 1.115,  1.749,  3.871,  0.   ,  0.   ,  0.   ,  0.653,  1.288,\n",
    "         1.529,  0.   ,  0.   ,  0.   , -1.373, -0.243,  2.488,  0.   ,\n",
    "         0.   ,  0.   , -1.314,  0.229,  1.771,  0.   ,  0.   ,  0.   ,\n",
    "         1.735,  1.558,  2.081,  0.   ,  0.   ,  0.   ,  0.852, -1.583,\n",
    "         2.264,  0.   ,  0.   ,  0.   ,  0.387, -1.5  ,  1.685,  0.   ,\n",
    "         0.   ,  0.   , -1.26 , -0.697,  2.494,  0.   ,  0.   ,  0.   ,\n",
    "        -0.213, -0.138,  1.545,  0.   ,  0.   ,  0.   , -0.582, -0.663,\n",
    "         2.518,  0.   ,  0.   ,  0.   ]]).T\n",
    "\n",
    "\n",
    "n_agents = 10\n",
    "n_states=6\n",
    "n_inputs=3\n",
    "x_dims = [n_states]*n_agents\n",
    "u_dims = [n_inputs]*n_agents\n",
    "radius=0.1\n",
    "ids = [100 + i for i in range(n_agents)]\n",
    "\n",
    "dt = 0.01\n",
    "\n",
    "u_ref = np.tile(u_ref_base,n_agents)\n",
    "\n",
    "ids = [100 + i for i in range(n_agents)]\n",
    "N = 5"
   ]
  },
  {
   "cell_type": "code",
   "execution_count": null,
   "metadata": {},
   "outputs": [],
   "source": [
    "u_ref"
   ]
  },
  {
   "cell_type": "code",
   "execution_count": null,
   "metadata": {},
   "outputs": [],
   "source": [
    "t0 = perf_counter()\n",
    "X_full,U_full, t= solve_rhc_distributed(x0,xf,u_ref,N,Q,R,Qf,n_agents,n_states,n_inputs,radius, ids)\n",
    "tf = perf_counter()\n",
    "print(f'\\n Total run time for distributed RHC is {tf-t0}')"
   ]
  },
  {
   "cell_type": "code",
   "execution_count": null,
   "metadata": {},
   "outputs": [],
   "source": [
    "X_full.shape"
   ]
  },
  {
   "cell_type": "code",
   "execution_count": null,
   "metadata": {},
   "outputs": [],
   "source": [
    "%matplotlib ipympl\n",
    "plt.figure()\n",
    "\n",
    "util.plot_solve(X_full, 1142, xf, [6,6,6,6,6,6,6,6,6,6], n_d=3)\n",
    "plt.title('Distributed MPC (IPOPT) for 10 drones');\n",
    "plt.legend(plt.gca().get_children()[1:3], [\"Start Position\", \"Goal Position\"]);\n",
    "plt.savefig('results/Distributed MPC (IPOPT) for 10 drones.png')"
   ]
  },
  {
   "cell_type": "code",
   "execution_count": null,
   "metadata": {},
   "outputs": [],
   "source": [
    "plt.figure()\n",
    "plt.plot(util.compute_pairwise_distance(X_full, x_dims, 3))\n",
    "plt.hlines(0.3, 0, x_trj.shape[0], 'r', ls='--', label=\"$d_{prox}$\")\n",
    "plt.title(\"Inter-Agent Distances\")\n",
    "plt.xlabel(\"Time Steps\")\n",
    "plt.ylabel(\"Distance\")\n",
    "plt.legend()\n",
    "plt.grid()\n",
    "plt.draw()"
   ]
  },
  {
   "cell_type": "code",
   "execution_count": null,
   "metadata": {},
   "outputs": [],
   "source": []
  }
 ],
 "metadata": {
  "kernelspec": {
   "display_name": "Python 3 (ipykernel)",
   "language": "python",
   "name": "python3"
  },
  "language_info": {
   "codemirror_mode": {
    "name": "ipython",
    "version": 3
   },
   "file_extension": ".py",
   "mimetype": "text/x-python",
   "name": "python",
   "nbconvert_exporter": "python",
   "pygments_lexer": "ipython3",
   "version": "3.10.4"
  },
  "vscode": {
   "interpreter": {
    "hash": "47f19a4884d69c1662ba195a765da507abd8104c88696148164f3dd77b63a1cd"
   }
  }
 },
 "nbformat": 4,
 "nbformat_minor": 4
}
