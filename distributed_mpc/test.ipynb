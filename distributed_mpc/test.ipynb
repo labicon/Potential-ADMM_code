{
 "cells": [
  {
   "cell_type": "code",
   "execution_count": 1,
   "metadata": {},
   "outputs": [],
   "source": [
    "from dynamics import *\n",
    "from problem import *\n",
    "import numpy as np\n",
    "from casadi import *\n",
    "import matplotlib.pyplot as plt\n",
    "import seaborn as sns\n",
    "from util import *\n",
    "import itertools \n",
    "from time import perf_counter"
   ]
  },
  {
   "cell_type": "code",
   "execution_count": 54,
   "metadata": {},
   "outputs": [],
   "source": [
    "from decentralized import util"
   ]
  },
  {
   "cell_type": "code",
   "execution_count": 2,
   "metadata": {},
   "outputs": [],
   "source": [
    "%load_ext autoreload\n",
    "%autoreload 2"
   ]
  },
  {
   "cell_type": "markdown",
   "metadata": {},
   "source": [
    "## An example of using Casadi to optimize trajectory for a single quadrotor:"
   ]
  },
  {
   "cell_type": "code",
   "execution_count": null,
   "metadata": {},
   "outputs": [],
   "source": [
    "# x0 = np.random.rand(6*3,1)\n",
    "x0 = np.array([0.1, 0.1, 1.0, 0.1, 0.1, 0.1])\n",
    "xf = np.array([1.2, 1.2, 1.8, 0, 0, 0])\n",
    "Q = np.diag([5,5,5,1,1,1])\n",
    "R = np.eye(3)*0.01\n",
    "Qf = np.eye(6)*1000\n",
    "g = 9.8\n",
    "\n",
    "u_ref = np.array([0,0,g])\n",
    "N = 100\n",
    "\n",
    "opti = Opti()\n",
    "\n",
    "dt = 0.05"
   ]
  },
  {
   "cell_type": "code",
   "execution_count": null,
   "metadata": {},
   "outputs": [],
   "source": [
    "# models = [quad6D,quad6D,quad6D]"
   ]
  },
  {
   "cell_type": "code",
   "execution_count": null,
   "metadata": {},
   "outputs": [],
   "source": [
    "# ids = [i for i in range(n_agents)]"
   ]
  },
  {
   "cell_type": "code",
   "execution_count": null,
   "metadata": {},
   "outputs": [],
   "source": [
    "# quad6D(xf,Q,R,Qf,u_ref,N).cost()"
   ]
  },
  {
   "cell_type": "code",
   "execution_count": null,
   "metadata": {},
   "outputs": [],
   "source": [
    "# dynamics = MultiDynamicalModel([model(split_agents(xf.T,x_dims)[id_],Q,R,Qf,split_agents(u_ref.T,u_dims)[id_],N) for model,id_ in zip(models,ids)])"
   ]
  },
  {
   "cell_type": "code",
   "execution_count": null,
   "metadata": {},
   "outputs": [],
   "source": [
    "# problem = quadProblem()"
   ]
  },
  {
   "cell_type": "code",
   "execution_count": null,
   "metadata": {},
   "outputs": [],
   "source": [
    "X = opti.variable(6,N+1)\n",
    "U = opti.variable(3,N)"
   ]
  },
  {
   "cell_type": "code",
   "execution_count": null,
   "metadata": {},
   "outputs": [],
   "source": [
    "# x_dims = [6,6,6,6]"
   ]
  },
  {
   "cell_type": "code",
   "execution_count": null,
   "metadata": {},
   "outputs": [],
   "source": [
    "g = 9.81"
   ]
  },
  {
   "cell_type": "code",
   "execution_count": null,
   "metadata": {},
   "outputs": [],
   "source": [
    "f = lambda x,u: vertcat(x[3],x[4],x[5],g*tan(u[0]),-g*tan(u[1]),u[2]-g) #dx/dt = f(x,u)"
   ]
  },
  {
   "cell_type": "code",
   "execution_count": null,
   "metadata": {},
   "outputs": [],
   "source": [
    "for k in range(N): #loop over control intervals\n",
    "    # Runge-Kutta 4 integration\n",
    "    k1 = f(X[:,k],         U[:,k])\n",
    "    k2 = f(X[:,k]+dt/2*k1, U[:,k])\n",
    "    k3 = f(X[:,k]+dt/2*k2, U[:,k])\n",
    "    k4 = f(X[:,k]+dt*k3,   U[:,k])\n",
    "    x_next = X[:,k] + dt/6*(k1+2*k2+2*k3+k4) \n",
    "\n",
    "    opti.subject_to(X[:,k+1]==x_next) # close the gaps\n"
   ]
  },
  {
   "cell_type": "code",
   "execution_count": null,
   "metadata": {},
   "outputs": [],
   "source": [
    "total_stage_cost = 0\n",
    "for j in range(X.shape[1]-1):\n",
    "    for i in range(X.shape[0]):\n",
    "        total_stage_cost += (X[i,j]-xf[i])*Q[i, i]*(X[i,j]-xf[i])\n",
    "\n",
    "for j in range(U.shape[1]-1):\n",
    "    for i in range(U.shape[0]):\n",
    "        total_stage_cost += (U[i,j]-u_ref[i])*R[i, i]*(U[i,j]-u_ref[i])\n",
    "\n",
    "#Quadratic terminal cost:\n",
    "total_terminal_cost = 0\n",
    "# for j in range(X.shape[1]):\n",
    "for i in range(X.shape[0]):\n",
    "    total_terminal_cost += (X[i,-1]-xf[i])*Qf[i, i]*(X[i,-1]-xf[i])"
   ]
  },
  {
   "cell_type": "code",
   "execution_count": null,
   "metadata": {},
   "outputs": [],
   "source": [
    "objective = total_terminal_cost + total_stage_cost\n",
    "# objective = total_stage_cost\n"
   ]
  },
  {
   "cell_type": "code",
   "execution_count": null,
   "metadata": {},
   "outputs": [],
   "source": [
    "opti.minimize(objective) "
   ]
  },
  {
   "cell_type": "code",
   "execution_count": null,
   "metadata": {},
   "outputs": [],
   "source": [
    "opti.subject_to(X[2,:]<=3.0) # altitude p_z is limited\n",
    "opti.subject_to(0.4<=X[2,:])\n",
    "\n",
    "opti.subject_to(X[0,:]<=3) # p_x is limited\n",
    "opti.subject_to(-3<=X[0,:])\n",
    "\n",
    "opti.subject_to(X[1,:]<=3) # p_y is limited\n",
    "opti.subject_to(-3<=X[1,:])\n",
    "\n",
    "opti.subject_to(U[0,:]<=np.pi/6) # theta is limited\n",
    "opti.subject_to(-np.pi/6<=U[0,:])\n",
    "\n",
    "opti.subject_to(U[1,:]<=np.pi/6) # phi is limited\n",
    "opti.subject_to(-np.pi/6<=U[1,:])\n",
    "\n",
    "opti.subject_to(U[2,:]<=25) # tau is limited\n",
    "opti.subject_to(0<=U[2,:]) #minimum force \n",
    "\n",
    "# opti.subject_to(X[0:3,-1] == xf[0:3])\n",
    "#equality constraints:\n",
    "opti.subject_to(X[:,0] == x0)\n",
    "t0 = perf_counter()\n",
    "opti.solver(\"ipopt\")\n",
    "sol = opti.solve()\n",
    "tf = perf_counter()\n",
    "\n",
    "print(f'total run time is {tf-t0} seconds')\n"
   ]
  },
  {
   "cell_type": "code",
   "execution_count": null,
   "metadata": {},
   "outputs": [],
   "source": [
    "X_trj = sol.value(X)\n",
    "U_trj = sol.value(U)"
   ]
  },
  {
   "cell_type": "code",
   "execution_count": null,
   "metadata": {},
   "outputs": [],
   "source": [
    "U_trj.shape"
   ]
  },
  {
   "cell_type": "code",
   "execution_count": null,
   "metadata": {},
   "outputs": [],
   "source": [
    "%matplotlib ipympl\n",
    "fig = plt.figure()\n",
    "ax = plt.axes(projection='3d')\n",
    "ax.scatter(X_trj[0,:],X_trj[1,:],X_trj[2,:])\n",
    "ax.set_title('Trajectory from one-shot optimization')\n"
   ]
  },
  {
   "cell_type": "code",
   "execution_count": null,
   "metadata": {},
   "outputs": [],
   "source": [
    "pos_err = np.linalg.norm(X_trj[0:3,-1]-xf[0:3])\n",
    "pos_err"
   ]
  },
  {
   "cell_type": "markdown",
   "metadata": {},
   "source": [
    "## Running the above optimizaiton but in a receding-horizon fashion:\n",
    "In this case, we relax the terminal state constraint and impose a terminal state cost into the objective function. The reason is that each optimization step is solved over a control horizon, and it's not possible that the drone reaches its goal after each control horizon (which keeps shifting forward)"
   ]
  },
  {
   "cell_type": "code",
   "execution_count": 3,
   "metadata": {},
   "outputs": [],
   "source": [
    "def objective(X,U,u_ref,xf,Q,R,Qf):\n",
    "    total_stage_cost = 0\n",
    "    for j in range(X.shape[1]-1):\n",
    "        for i in range(X.shape[0]):\n",
    "            total_stage_cost += (X[i,j]-xf[i])*Q[i, i]*(X[i,j]-xf[i])\n",
    "\n",
    "    for j in range(U.shape[1]-1):\n",
    "        for i in range(U.shape[0]):\n",
    "            total_stage_cost += (U[i,j]-u_ref[i])*R[i, i]*(U[i,j]-u_ref[i])\n",
    "\n",
    "    #Quadratic terminal cost:\n",
    "    total_terminal_cost = 0\n",
    "\n",
    "    for i in range(X.shape[0]):\n",
    "        total_terminal_cost += (X[i,-1]-xf[i])*Qf[i, i]*(X[i,-1]-xf[i])\n",
    "            \n",
    "    return total_stage_cost + total_terminal_cost\n",
    "    # return total_stage_cost"
   ]
  },
  {
   "cell_type": "code",
   "execution_count": null,
   "metadata": {},
   "outputs": [],
   "source": [
    "x0 = np.array([0.5, 0.5, 1.0, 0.0, 0.0, 0.0])\n",
    "xf = np.array([1.3, 1.1, 1.8, 0, 0, 0])\n",
    "Q = np.diag([5,5,5,1,1,1])\n",
    "R = np.eye(3)*0.01\n",
    "Qf = np.eye(6)*1000\n",
    "\n",
    "# u_ref = np.zeros((3,1))\n",
    "u_ref = np.array([0,0,9.8])"
   ]
  },
  {
   "cell_type": "code",
   "execution_count": null,
   "metadata": {},
   "outputs": [],
   "source": [
    "n_agents = 1\n",
    "n_states = 6\n",
    "n_inputs=  3"
   ]
  },
  {
   "cell_type": "code",
   "execution_count": null,
   "metadata": {},
   "outputs": [],
   "source": [
    "def solve_rhc(x0,xf,u_ref,N,Qf):\n",
    "    #N is the shifting prediction horizon\n",
    "    \n",
    "    p_opts = {\"expand\":True}\n",
    "    s_opts = {\"max_iter\": 100,\"print_level\":4}\n",
    "    \n",
    "    opti = Opti()\n",
    "    M = 100 # this is the entire fixed horizon\n",
    " \n",
    "    n_x = n_agents*n_states\n",
    "    n_u = n_agents*n_inputs\n",
    "    \n",
    "    X_full = np.zeros((0, n_x))\n",
    "    U_full = np.zeros((0, n_u))\n",
    "    \n",
    "    t = 0\n",
    "\n",
    "    J_list = []\n",
    "    J_list.append(np.inf)\n",
    "    # for i in range(M) :\n",
    "    i = 0\n",
    "    \n",
    "    f = lambda x,u: vertcat(x[3],x[4],x[5],g*tan(u[0]),-g*tan(u[1]),u[2]-g) #dx/dt = f(x,u)\n",
    "    \n",
    "    dt = 0.05\n",
    "    \n",
    "    while (np.linalg.norm(x0[0:3]-xf[0:3]) > 0.1) and (i < M):\n",
    "    \n",
    "        X = opti.variable(6,N+1)\n",
    "        U = opti.variable(3,N)\n",
    "        \n",
    "        cost_fun = objective(X,U,u_ref,xf,Q,R,Qf)\n",
    "        opti.minimize(cost_fun)\n",
    "        \n",
    "        for k in range(N): #loop over control intervals\n",
    "            # Runge-Kutta 4 integration\n",
    "            k1 = f(X[:,k],         U[:,k])\n",
    "            k2 = f(X[:,k]+dt/2*k1, U[:,k])\n",
    "            k3 = f(X[:,k]+dt/2*k2, U[:,k])\n",
    "            k4 = f(X[:,k]+dt*k3,   U[:,k])\n",
    "            x_next = X[:,k] + dt/6*(k1+2*k2+2*k3+k4) \n",
    "\n",
    "            opti.subject_to(X[:,k+1]==x_next) # close the gaps\n",
    "\n",
    "        opti.subject_to(X[2,:]<=3.0) # altitude p_z is limited\n",
    "        opti.subject_to(0.4<=X[2,:])\n",
    "\n",
    "        opti.subject_to(X[0,:]<=3) # p_x is limited\n",
    "        opti.subject_to(-3<=X[0,:])\n",
    "\n",
    "        opti.subject_to(X[1,:]<=3) # p_y is limited\n",
    "        opti.subject_to(-3<=X[1,:])\n",
    "        \n",
    "        opti.subject_to(X[3,:] <=5) #Vx is limited\n",
    "        opti.subject_to(0 <= X[3,:])\n",
    "        \n",
    "        opti.subject_to(X[4,:] <=5) #Vy is limited\n",
    "        opti.subject_to(0 <= X[4,:])\n",
    "        \n",
    "        opti.subject_to(X[5,:] <=5) #Vz is limited\n",
    "        opti.subject_to(0 <= X[5,:])\n",
    "\n",
    "        opti.subject_to(U[0,:]<=np.pi/6) # theta is limited\n",
    "        opti.subject_to(-np.pi/6<=U[0,:])\n",
    "\n",
    "        opti.subject_to(U[1,:]<=np.pi/6) # phi is limited\n",
    "        opti.subject_to(-np.pi/6<=U[1,:])\n",
    "\n",
    "        opti.subject_to(U[2,:]<=20) # tau is limited\n",
    "        opti.subject_to(0<=U[2,:]) #minimum force keeps the drone at hover\n",
    "\n",
    "        #equality constraints for initial condition:\n",
    "        opti.subject_to(X[:,0] == x0)\n",
    "\n",
    "        \n",
    "        opti.solver(\"ipopt\",p_opts,\n",
    "                    s_opts) \n",
    "        \n",
    "        \n",
    "        sol = opti.solve()\n",
    "        x0 = sol.value(X)[:,1]\n",
    "        u_sol = sol.value(U)[:,0]\n",
    "        J_list.append(sol.value(cost_fun))\n",
    "        \n",
    "        \n",
    "        #Store the trajectory\n",
    "        \n",
    "        X_full = np.r_[X_full, x0.reshape(1,-1)]\n",
    "        U_full = np.r_[U_full, u_sol.reshape(1,-1)]\n",
    "        \n",
    "        t += dt\n",
    "        i +=1\n",
    "        \n",
    "        if abs(J_list[i]-J_list[i-1]) <= 10 :\n",
    "            print(f'Terminated! at i = {i}')\n",
    "            break\n",
    "        \n",
    "        \n",
    "    return X_full,U_full, t\n",
    "    "
   ]
  },
  {
   "cell_type": "code",
   "execution_count": null,
   "metadata": {},
   "outputs": [],
   "source": [
    "from time import perf_counter"
   ]
  },
  {
   "cell_type": "code",
   "execution_count": null,
   "metadata": {},
   "outputs": [],
   "source": [
    "N = 5\n",
    "t0 = perf_counter()\n",
    "x_trj,u_trj, t = solve_rhc(x0,xf,u_ref,N,Qf)\n",
    "tf = perf_counter()\n",
    "print(f'total run time is {tf-t0} seconds')"
   ]
  },
  {
   "cell_type": "code",
   "execution_count": null,
   "metadata": {},
   "outputs": [],
   "source": [
    "x_trj.shape"
   ]
  },
  {
   "cell_type": "code",
   "execution_count": null,
   "metadata": {},
   "outputs": [],
   "source": [
    "%matplotlib ipympl\n",
    "fig = plt.figure()\n",
    "ax = plt.axes(projection='3d')\n",
    "ax.scatter(x_trj[:,0],x_trj[:,1],x_trj[:,2])\n",
    "ax.set_title('Trajectory with receding horizon')"
   ]
  },
  {
   "cell_type": "code",
   "execution_count": null,
   "metadata": {},
   "outputs": [],
   "source": [
    "x0"
   ]
  },
  {
   "cell_type": "code",
   "execution_count": null,
   "metadata": {},
   "outputs": [],
   "source": [
    "xf"
   ]
  },
  {
   "cell_type": "code",
   "execution_count": null,
   "metadata": {},
   "outputs": [],
   "source": [
    "pos_err = np.linalg.norm(x_trj[-1,0:3]-xf[0:3])"
   ]
  },
  {
   "cell_type": "code",
   "execution_count": null,
   "metadata": {},
   "outputs": [],
   "source": [
    "pos_err  #not bad!\n"
   ]
  },
  {
   "cell_type": "markdown",
   "metadata": {},
   "source": [
    "## Running 3 drones in a centralized fashion:"
   ]
  },
  {
   "cell_type": "code",
   "execution_count": 15,
   "metadata": {},
   "outputs": [],
   "source": [
    "x0,xf = paper_setup_3_quads()"
   ]
  },
  {
   "cell_type": "code",
   "execution_count": 298,
   "metadata": {},
   "outputs": [
    {
     "data": {
      "text/plain": [
       "(18, 1)"
      ]
     },
     "execution_count": 298,
     "metadata": {},
     "output_type": "execute_result"
    }
   ],
   "source": [
    "xf.shape"
   ]
  },
  {
   "cell_type": "code",
   "execution_count": 16,
   "metadata": {},
   "outputs": [],
   "source": [
    "g = 9.81"
   ]
  },
  {
   "cell_type": "code",
   "execution_count": 349,
   "metadata": {},
   "outputs": [],
   "source": [
    "n_agents = 3\n",
    "n_states = 6\n",
    "n_inputs=  3\n",
    "\n",
    "\n",
    "# Qs = [Q] * n_agents\n",
    "# Rs = [R] * n_agents\n",
    "# Qfs = [Qf] * n_agents\n",
    "# x_dims = [n_states]*n_agents\n",
    "# u_dims = [n_inputs]*n_agents"
   ]
  },
  {
   "cell_type": "code",
   "execution_count": 350,
   "metadata": {},
   "outputs": [],
   "source": [
    "u_ref = np.array([0, 0, g, 0, 0, g, 0, 0, g])\n",
    "Q = np.diag([5,5,5,1,1,1,5,5,5,1,1,1,5,5,5,1,1,1])\n",
    "R = np.eye(n_agents*n_inputs)*0.01\n",
    "Qf = np.eye(n_agents*n_states)*1000"
   ]
  },
  {
   "cell_type": "code",
   "execution_count": 351,
   "metadata": {},
   "outputs": [],
   "source": [
    "theta_max = np.pi/6\n",
    "phi_max = np.pi/6\n",
    "\n",
    "v_max = 3\n",
    "v_min = -3\n",
    "\n",
    "theta_min = -np.pi/6\n",
    "phi_min = -np.pi/6\n",
    "\n",
    "tau_max = 15\n",
    "tau_min = 0"
   ]
  },
  {
   "cell_type": "code",
   "execution_count": 352,
   "metadata": {},
   "outputs": [],
   "source": [
    "x_min = -5\n",
    "x_max = 5\n",
    "\n",
    "y_min = -5\n",
    "y_max = 5\n",
    "\n",
    "z_min = 0\n",
    "z_max = 3.0"
   ]
  },
  {
   "cell_type": "code",
   "execution_count": 353,
   "metadata": {},
   "outputs": [],
   "source": [
    "max_input = np.array([[theta_max], [phi_max], [tau_max], \\\n",
    "                          [theta_max], [phi_max], [tau_max], \\\n",
    "                          [theta_max], [phi_max], [tau_max]])\n",
    "\n",
    "min_input = np.array([[theta_min], [phi_min], [tau_min], \\\n",
    "                      [theta_min], [phi_min], [tau_min], \\\n",
    "                      [theta_min], [phi_min], [tau_min]])\n",
    "\n",
    "max_state_upper = np.array([[x_max], [y_max], [z_max], [v_max],[v_max], [v_max],\\\n",
    "                          [x_max], [y_max], [z_max], [v_max],[v_max], [v_max],\\\n",
    "                          [x_max], [y_max], [z_max], [v_max],[v_max], [v_max]])\n",
    "    \n",
    "max_state_lower = np.array([[x_min], [y_min], [z_min], [v_min],[v_min], [v_min],\\\n",
    "                          [x_min], [y_min], [z_min], [v_min],[v_min], [v_min],\\\n",
    "                          [x_min], [y_min], [z_min], [v_min],[v_min], [v_min]])"
   ]
  },
  {
   "cell_type": "code",
   "execution_count": 354,
   "metadata": {},
   "outputs": [],
   "source": [
    "def objective(X,U,u_ref,xf,Q,R,Qf):\n",
    "    total_stage_cost = 0\n",
    "    for j in range(X.shape[1]-1):\n",
    "        for i in range(X.shape[0]):\n",
    "            total_stage_cost += (X[i,j]-xf[i])*Q[i, i]*(X[i,j]-xf[i])\n",
    "\n",
    "    for j in range(U.shape[1]):\n",
    "        for i in range(U.shape[0]):\n",
    "            total_stage_cost += (U[i,j]-u_ref[i])*R[i, i]*(U[i,j]-u_ref[i])\n",
    "\n",
    "    #Quadratic terminal cost:\n",
    "    total_terminal_cost = 0\n",
    "\n",
    "    for i in range(X.shape[0]):\n",
    "        total_terminal_cost += (X[i,-1]-xf[i])*Qf[i, i]*(X[i,-1]-xf[i])\n",
    "            \n",
    "    return total_stage_cost + total_terminal_cost"
   ]
  },
  {
   "cell_type": "code",
   "execution_count": 355,
   "metadata": {},
   "outputs": [],
   "source": [
    "eps = 1e-3"
   ]
  },
  {
   "cell_type": "code",
   "execution_count": 356,
   "metadata": {},
   "outputs": [],
   "source": [
    "f = lambda x,u: vertcat(x[3],x[4],x[5],  g*tan(u[0]), -g*tan(u[1]),u[2]-g,\n",
    "                        x[9],x[10],x[11], g*tan(u[3]), -g*tan(u[4]), u[5]-g,\n",
    "                        x[15],x[16],x[17], g*tan(u[6]), -g*tan(u[7]), u[8]-g) #dx/dt = f(x,u)"
   ]
  },
  {
   "cell_type": "code",
   "execution_count": 343,
   "metadata": {},
   "outputs": [],
   "source": [
    "def solve_rhc(x0,xf,u_ref,N,Q,R,Qf):\n",
    "    #N is the shifting prediction horizon\n",
    "    \n",
    "    p_opts = {\"expand\":True}\n",
    "    s_opts = {\"max_iter\": 150,\"print_level\":2}\n",
    "    \n",
    "    \n",
    "    M = 200 # this is the entire fixed horizon\n",
    " \n",
    "    n_x = n_agents*n_states\n",
    "    n_u = n_agents*n_inputs\n",
    "    x_dims = [n_states]*n_agents\n",
    "    \n",
    "    \n",
    "    X_full = np.zeros((0, n_x))\n",
    "    U_full = np.zeros((0, n_u))\n",
    "    \n",
    "    t = 0\n",
    "\n",
    "    J_list = []\n",
    "    J_list.append(np.inf)\n",
    "    # for i in range(M) :\n",
    "    i = 0\n",
    "    dt = 0.05\n",
    "    \n",
    "    while (np.linalg.norm(x0[0:3]-xf[0:3]) > 0.1) and (i < M):\n",
    "        \n",
    "        \n",
    "        opti = Opti()\n",
    "        X = opti.variable(n_x,N+1)\n",
    "        U = opti.variable(n_u,N)\n",
    "        \n",
    "        cost_fun = objective(X,U,u_ref,xf,Q,R,Qf)\n",
    "        opti.minimize(cost_fun)\n",
    "        \n",
    "        for k in range(N): #loop over control intervals\n",
    "            # Runge-Kutta 4 integration\n",
    "            k1 = f(X[:,k],         U[:,k])\n",
    "            k2 = f(X[:,k]+dt/2*k1, U[:,k])\n",
    "            k3 = f(X[:,k]+dt/2*k2, U[:,k])\n",
    "            k4 = f(X[:,k]+dt*k3,   U[:,k])\n",
    "            x_next = X[:,k] + dt/6*(k1+2*k2+2*k3+k4) \n",
    "\n",
    "            opti.subject_to(X[:,k+1]==x_next) # close the gaps\n",
    "            \n",
    "            #Constraints on inputs:\n",
    "            for j in range(max_input.shape[0]):\n",
    "\n",
    "                opti.subject_to(U[j,k] <= max_input[j] )\n",
    "                opti.subject_to(min_input[j] <= U[j,k] )\n",
    "                \n",
    "        #Hard-coding collision avoidance constraints:\n",
    "        # for k in range(N+1):    \n",
    "        #     #Collision avoidance:\n",
    "        #     opti.subject_to(-sqrt((X[0,k]-X[6,k])**2+ (X[1,k]-X[7,k])**2 +(X[2,k]-X[8,k])**2 + eps)  <= -0.5)\n",
    "        #     opti.subject_to(-sqrt((X[0,k]-X[12,k])**2 +(X[1,k]-X[13,k])**2 +(X[2,k]-X[14,k])**2 + eps) <= -0.5)\n",
    "        #     opti.subject_to(-sqrt((X[12,k]-X[6,k])**2 +(X[13,k]-X[7,k])**2 +(X[14,k]-X[8,k])**2 + eps) <= -0.5)\n",
    "        \n",
    "        #collision avoidance\n",
    "        for k in range(N+1):\n",
    "            distances = compute_pairwise_distance_Sym(X[:,k], x_dims)\n",
    "            for n in range(len(distances)):\n",
    "                opti.subject_to(distances[n] >= 0.5)\n",
    "                \n",
    "            #constraints on states:\n",
    "            for m in range(max_state_lower.shape[0]):\n",
    "\n",
    "                opti.subject_to(X[m,k]<= max_state_upper[m] )\n",
    "                opti.subject_to(max_state_lower[m] <= X[m,k])\n",
    "\n",
    "            \n",
    "        #equality constraints for initial condition:\n",
    "        opti.subject_to(X[:,0] == x0)\n",
    "        \n",
    "        opti.solver(\"ipopt\",p_opts,\n",
    "                    s_opts) \n",
    "        \n",
    "        \n",
    "        sol = opti.solve()\n",
    "        x0 = sol.value(X)[:,1]\n",
    "        u_sol = sol.value(U)[:,0]\n",
    "        \n",
    "        J_list.append(sol.value(cost_fun))\n",
    "        print(f'current objective function value is {sol.value(cost_fun)}')\n",
    "        \n",
    "        \n",
    "        #Store the trajectory\n",
    "        \n",
    "        X_full = np.r_[X_full, x0.reshape(1,-1)]\n",
    "        U_full = np.r_[U_full, u_sol.reshape(1,-1)]\n",
    "        \n",
    "        t += dt\n",
    "        i +=1\n",
    "        \n",
    "        # print(opti.variable) #print this to check the optimization parameters for each control horizon\n",
    "        \n",
    "        if abs(J_list[i]-J_list[i-1]) <= 1.0 :\n",
    "            print(f'Terminated! at i = {i}')\n",
    "            break\n",
    "            \n",
    "        \n",
    "    return X_full,U_full, t"
   ]
  },
  {
   "cell_type": "code",
   "execution_count": 344,
   "metadata": {},
   "outputs": [
    {
     "name": "stdout",
     "output_type": "stream",
     "text": [
      "      solver  :   t_proc      (avg)   t_wall      (avg)    n_eval\n",
      "       nlp_f  |        0 (       0) 237.20us (  6.59us)        36\n",
      "       nlp_g  |        0 (       0) 795.60us ( 22.10us)        36\n",
      "  nlp_grad_f  |        0 (       0) 321.20us (  9.45us)        34\n",
      "  nlp_hess_l  |        0 (       0)   1.09ms ( 34.14us)        32\n",
      "   nlp_jac_g  |        0 (       0)   1.11ms ( 32.76us)        34\n",
      "       total  | 203.12ms (203.12ms) 207.49ms (207.49ms)         1\n",
      "current objective function value is 3221.042328597976\n",
      "      solver  :   t_proc      (avg)   t_wall      (avg)    n_eval\n",
      "       nlp_f  |        0 (       0) 264.20us (  6.77us)        39\n",
      "       nlp_g  |        0 (       0) 904.90us ( 23.20us)        39\n",
      "  nlp_grad_f  |        0 (       0) 395.10us ( 10.40us)        38\n",
      "  nlp_hess_l  |        0 (       0)   1.28ms ( 35.55us)        36\n",
      "   nlp_jac_g  |        0 (       0)   1.30ms ( 34.27us)        38\n",
      "       total  | 234.38ms (234.38ms) 236.95ms (236.95ms)         1\n",
      "current objective function value is 2717.8462408007017\n",
      "      solver  :   t_proc      (avg)   t_wall      (avg)    n_eval\n",
      "       nlp_f  |        0 (       0) 232.80us (  6.65us)        35\n",
      "       nlp_g  |        0 (       0) 779.50us ( 22.27us)        35\n",
      "  nlp_grad_f  |  15.62ms (434.03us) 333.80us (  9.27us)        36\n",
      "  nlp_hess_l  |        0 (       0)   1.15ms ( 33.79us)        34\n",
      "   nlp_jac_g  |        0 (       0)   1.21ms ( 33.59us)        36\n",
      "       total  | 218.75ms (218.75ms) 220.79ms (220.79ms)         1\n",
      "current objective function value is 2184.618322803642\n",
      "      solver  :   t_proc      (avg)   t_wall      (avg)    n_eval\n",
      "       nlp_f  |        0 (       0) 297.20us (  7.25us)        41\n",
      "       nlp_g  |        0 (       0)   1.04ms ( 25.27us)        41\n",
      "  nlp_grad_f  |        0 (       0) 417.60us (  9.94us)        42\n",
      "  nlp_hess_l  |        0 (       0)   1.44ms ( 36.10us)        40\n",
      "   nlp_jac_g  |        0 (       0)   1.47ms ( 35.00us)        42\n",
      "       total  | 265.62ms (265.62ms) 257.71ms (257.71ms)         1\n",
      "current objective function value is 1689.8897038154503\n",
      "      solver  :   t_proc      (avg)   t_wall      (avg)    n_eval\n",
      "       nlp_f  |        0 (       0) 306.30us (  6.81us)        45\n",
      "       nlp_g  |        0 (       0)   1.07ms ( 23.88us)        45\n",
      "  nlp_grad_f  |        0 (       0) 431.80us (  9.39us)        46\n",
      "  nlp_hess_l  |        0 (       0)   1.54ms ( 34.94us)        44\n",
      "   nlp_jac_g  |        0 (       0)   1.60ms ( 34.69us)        46\n",
      "       total  | 296.88ms (296.88ms) 298.83ms (298.83ms)         1\n",
      "current objective function value is 1267.193548186511\n",
      "      solver  :   t_proc      (avg)   t_wall      (avg)    n_eval\n",
      "       nlp_f  |        0 (       0) 316.70us (  6.88us)        46\n",
      "       nlp_g  |        0 (       0)   1.09ms ( 23.70us)        46\n",
      "  nlp_grad_f  |        0 (       0) 458.20us (  9.75us)        47\n",
      "  nlp_hess_l  |        0 (       0)   1.68ms ( 37.43us)        45\n",
      "   nlp_jac_g  |        0 (       0)   1.60ms ( 34.06us)        47\n",
      "       total  | 296.88ms (296.88ms) 295.90ms (295.90ms)         1\n",
      "current objective function value is 926.2590468051228\n",
      "      solver  :   t_proc      (avg)   t_wall      (avg)    n_eval\n",
      "       nlp_f  |        0 (       0) 324.10us (  7.54us)        43\n",
      "       nlp_g  |  15.62ms (363.37us)   1.19ms ( 27.73us)        43\n",
      "  nlp_grad_f  |        0 (       0) 457.50us ( 10.40us)        44\n",
      "  nlp_hess_l  |        0 (       0)   1.61ms ( 38.23us)        42\n",
      "   nlp_jac_g  |        0 (       0)   1.70ms ( 38.69us)        44\n",
      "       total  | 296.88ms (296.88ms) 295.46ms (295.46ms)         1\n",
      "current objective function value is 642.606826043933\n",
      "      solver  :   t_proc      (avg)   t_wall      (avg)    n_eval\n",
      "       nlp_f  |        0 (       0) 405.00us (  7.50us)        54\n",
      "       nlp_g  |        0 (       0)   1.46ms ( 27.10us)        54\n",
      "  nlp_grad_f  |        0 (       0) 564.00us ( 10.25us)        55\n",
      "  nlp_hess_l  |  15.62ms (294.81us)   2.01ms ( 37.91us)        53\n",
      "   nlp_jac_g  |        0 (       0)   2.08ms ( 37.79us)        55\n",
      "       total  | 421.88ms (421.88ms) 416.24ms (416.24ms)         1\n",
      "current objective function value is 436.3572038001714\n",
      "      solver  :   t_proc      (avg)   t_wall      (avg)    n_eval\n",
      "       nlp_f  |        0 (       0) 395.00us (  7.05us)        56\n",
      "       nlp_g  |        0 (       0)   1.28ms ( 22.77us)        56\n",
      "  nlp_grad_f  |        0 (       0) 525.20us (  9.21us)        57\n",
      "  nlp_hess_l  |        0 (       0)   1.88ms ( 34.23us)        55\n",
      "   nlp_jac_g  |        0 (       0)   1.92ms ( 33.69us)        57\n",
      "       total  | 375.00ms (375.00ms) 374.47ms (374.47ms)         1\n",
      "current objective function value is 303.94985208883895\n",
      "      solver  :   t_proc      (avg)   t_wall      (avg)    n_eval\n",
      "       nlp_f  |        0 (       0) 505.20us (  6.92us)        73\n",
      "       nlp_g  |        0 (       0)   1.80ms ( 24.63us)        73\n",
      "  nlp_grad_f  |        0 (       0) 715.70us (  9.67us)        74\n",
      "  nlp_hess_l  |  15.62ms (217.01us)   2.61ms ( 36.26us)        72\n",
      "   nlp_jac_g  |        0 (       0)   2.57ms ( 34.78us)        74\n",
      "       total  | 515.62ms (515.62ms) 515.88ms (515.88ms)         1\n",
      "current objective function value is 241.20610374498472\n",
      "      solver  :   t_proc      (avg)   t_wall      (avg)    n_eval\n",
      "       nlp_f  |        0 (       0) 411.90us (  6.64us)        62\n",
      "       nlp_g  |        0 (       0)   1.34ms ( 21.68us)        62\n",
      "  nlp_grad_f  |  15.62ms (248.02us) 589.50us (  9.36us)        63\n",
      "  nlp_hess_l  |        0 (       0)   2.16ms ( 35.37us)        61\n",
      "   nlp_jac_g  |        0 (       0)   2.05ms ( 32.54us)        63\n",
      "       total  | 421.88ms (421.88ms) 430.15ms (430.15ms)         1\n",
      "current objective function value is 198.463759097904\n",
      "      solver  :   t_proc      (avg)   t_wall      (avg)    n_eval\n",
      "       nlp_f  |        0 (       0) 241.20us (  6.89us)        35\n",
      "       nlp_g  |        0 (       0) 789.40us ( 22.55us)        35\n",
      "  nlp_grad_f  |        0 (       0) 314.50us (  9.83us)        32\n",
      "  nlp_hess_l  |        0 (       0)   1.08ms ( 35.91us)        30\n",
      "   nlp_jac_g  |        0 (       0)   1.14ms ( 33.67us)        34\n",
      "       total  | 203.12ms (203.12ms) 212.46ms (212.46ms)         1\n",
      "current objective function value is 158.80491803315127\n",
      "      solver  :   t_proc      (avg)   t_wall      (avg)    n_eval\n",
      "       nlp_f  |        0 (       0)   1.10ms (  7.08us)       155\n",
      "       nlp_g  |        0 (       0)   3.49ms ( 22.51us)       155\n",
      "  nlp_grad_f  |        0 (       0) 875.00us ( 11.36us)        77\n",
      "  nlp_hess_l  |        0 (       0)   2.48ms ( 36.45us)        68\n",
      "   nlp_jac_g  |        0 (       0)   3.47ms ( 34.65us)       100\n",
      "       total  | 906.25ms (906.25ms) 545.78ms (545.78ms)         1\n",
      "current objective function value is 123.54009531223049\n",
      "      solver  :   t_proc      (avg)   t_wall      (avg)    n_eval\n",
      "       nlp_f  |        0 (       0) 312.80us (  7.27us)        43\n",
      "       nlp_g  |        0 (       0)   1.09ms ( 25.34us)        43\n",
      "  nlp_grad_f  |        0 (       0) 331.30us ( 10.04us)        33\n",
      "  nlp_hess_l  |        0 (       0)   1.13ms ( 36.60us)        31\n",
      "   nlp_jac_g  |        0 (       0)   1.27ms ( 34.36us)        37\n",
      "       total  | 218.75ms (218.75ms) 224.95ms (224.95ms)         1\n",
      "current objective function value is 95.68996761815654\n",
      "      solver  :   t_proc      (avg)   t_wall      (avg)    n_eval\n",
      "       nlp_f  |        0 (       0) 229.70us (  6.56us)        35\n",
      "       nlp_g  |        0 (       0) 718.90us ( 20.54us)        35\n",
      "  nlp_grad_f  |        0 (       0) 283.80us (  9.15us)        31\n",
      "  nlp_hess_l  |  15.62ms (538.79us) 972.40us ( 33.53us)        29\n",
      "   nlp_jac_g  |        0 (       0)   1.04ms ( 31.59us)        33\n",
      "       total  | 187.50ms (187.50ms) 188.20ms (188.20ms)         1\n",
      "current objective function value is 73.70552929278605\n",
      "      solver  :   t_proc      (avg)   t_wall      (avg)    n_eval\n",
      "       nlp_f  |        0 (       0) 198.00us (  6.60us)        30\n",
      "       nlp_g  |        0 (       0) 644.60us ( 21.49us)        30\n",
      "  nlp_grad_f  |        0 (       0) 295.10us (  9.52us)        31\n",
      "  nlp_hess_l  |        0 (       0) 993.30us ( 34.25us)        29\n",
      "   nlp_jac_g  |        0 (       0)   1.04ms ( 33.43us)        31\n",
      "       total  | 187.50ms (187.50ms) 184.14ms (184.14ms)         1\n",
      "current objective function value is 56.36234987763327\n",
      "      solver  :   t_proc      (avg)   t_wall      (avg)    n_eval\n",
      "       nlp_f  |        0 (       0) 251.90us (  8.13us)        31\n",
      "       nlp_g  |        0 (       0) 896.90us ( 28.93us)        31\n",
      "  nlp_grad_f  |        0 (       0) 370.70us ( 11.58us)        32\n",
      "  nlp_hess_l  |        0 (       0)   1.14ms ( 38.14us)        30\n",
      "   nlp_jac_g  |        0 (       0)   1.17ms ( 36.69us)        32\n",
      "       total  | 203.12ms (203.12ms) 201.16ms (201.16ms)         1\n",
      "current objective function value is 43.221522400047455\n",
      "      solver  :   t_proc      (avg)   t_wall      (avg)    n_eval\n",
      "       nlp_f  |        0 (       0) 217.50us (  6.59us)        33\n",
      "       nlp_g  |        0 (       0) 702.40us ( 21.28us)        33\n",
      "  nlp_grad_f  |        0 (       0) 320.10us (  9.41us)        34\n",
      "  nlp_hess_l  |        0 (       0)   1.12ms ( 35.02us)        32\n",
      "   nlp_jac_g  |        0 (       0)   1.09ms ( 32.17us)        34\n",
      "       total  | 187.50ms (187.50ms) 195.65ms (195.65ms)         1\n",
      "current objective function value is 33.47493084296447\n",
      "      solver  :   t_proc      (avg)   t_wall      (avg)    n_eval\n",
      "       nlp_f  |        0 (       0) 205.50us (  6.63us)        31\n",
      "       nlp_g  |        0 (       0) 697.90us ( 22.51us)        31\n",
      "  nlp_grad_f  |        0 (       0) 307.50us (  9.61us)        32\n",
      "  nlp_hess_l  |  15.62ms (520.83us)   1.02ms ( 33.96us)        30\n",
      "   nlp_jac_g  |        0 (       0)   1.05ms ( 32.73us)        32\n",
      "       total  | 203.12ms (203.12ms) 198.15ms (198.15ms)         1\n",
      "current objective function value is 26.11868664911858\n",
      "      solver  :   t_proc      (avg)   t_wall      (avg)    n_eval\n",
      "       nlp_f  |        0 (       0) 218.20us (  7.04us)        31\n",
      "       nlp_g  |        0 (       0) 701.50us ( 22.63us)        31\n",
      "  nlp_grad_f  |        0 (       0) 311.60us (  9.74us)        32\n",
      "  nlp_hess_l  |        0 (       0)   1.05ms ( 35.12us)        30\n",
      "   nlp_jac_g  |        0 (       0)   1.04ms ( 32.61us)        32\n",
      "       total  | 203.12ms (203.12ms) 199.41ms (199.41ms)         1\n",
      "current objective function value is 20.390037667651995\n",
      "      solver  :   t_proc      (avg)   t_wall      (avg)    n_eval\n",
      "       nlp_f  |        0 (       0) 219.00us (  6.84us)        32\n",
      "       nlp_g  |        0 (       0) 754.00us ( 23.56us)        32\n",
      "  nlp_grad_f  |        0 (       0) 315.80us (  9.57us)        33\n",
      "  nlp_hess_l  |        0 (       0)   1.09ms ( 35.13us)        31\n",
      "   nlp_jac_g  |        0 (       0)   1.09ms ( 33.13us)        33\n",
      "       total  | 203.12ms (203.12ms) 207.70ms (207.70ms)         1\n",
      "current objective function value is 15.926662778937814\n",
      "      solver  :   t_proc      (avg)   t_wall      (avg)    n_eval\n",
      "       nlp_f  |        0 (       0) 245.30us (  7.67us)        32\n",
      "       nlp_g  |        0 (       0) 865.00us ( 27.03us)        32\n",
      "  nlp_grad_f  |        0 (       0) 351.00us ( 10.64us)        33\n",
      "  nlp_hess_l  |        0 (       0)   1.16ms ( 37.50us)        31\n",
      "   nlp_jac_g  |        0 (       0)   1.16ms ( 35.20us)        33\n",
      "       total  | 218.75ms (218.75ms) 207.41ms (207.41ms)         1\n",
      "current objective function value is 12.449347079801937\n",
      "      solver  :   t_proc      (avg)   t_wall      (avg)    n_eval\n",
      "       nlp_f  |        0 (       0) 201.20us (  6.71us)        30\n",
      "       nlp_g  |        0 (       0) 660.10us ( 22.00us)        30\n",
      "  nlp_grad_f  |        0 (       0) 289.10us (  9.33us)        31\n",
      "  nlp_hess_l  |        0 (       0)   1.02ms ( 35.33us)        29\n",
      "   nlp_jac_g  |        0 (       0) 992.10us ( 32.00us)        31\n",
      "       total  | 187.50ms (187.50ms) 189.53ms (189.53ms)         1\n",
      "current objective function value is 9.737000395797205\n",
      "      solver  :   t_proc      (avg)   t_wall      (avg)    n_eval\n",
      "       nlp_f  |        0 (       0) 192.80us (  6.65us)        29\n",
      "       nlp_g  |        0 (       0) 626.70us ( 21.61us)        29\n",
      "  nlp_grad_f  |        0 (       0) 289.80us (  9.66us)        30\n",
      "  nlp_hess_l  |  15.62ms (558.04us) 941.10us ( 33.61us)        28\n",
      "   nlp_jac_g  |        0 (       0) 966.90us ( 32.23us)        30\n",
      "       total  | 187.50ms (187.50ms) 180.63ms (180.63ms)         1\n",
      "current objective function value is 7.618649757588804\n",
      "      solver  :   t_proc      (avg)   t_wall      (avg)    n_eval\n",
      "       nlp_f  |        0 (       0) 204.90us (  7.32us)        28\n",
      "       nlp_g  |        0 (       0) 672.50us ( 24.02us)        28\n",
      "  nlp_grad_f  |        0 (       0) 284.10us (  9.80us)        29\n",
      "  nlp_hess_l  |  15.62ms (578.70us) 959.40us ( 35.53us)        27\n",
      "   nlp_jac_g  |        0 (       0) 993.10us ( 34.24us)        29\n",
      "       total  | 171.88ms (171.88ms) 184.15ms (184.15ms)         1\n",
      "current objective function value is 5.961092004795787\n",
      "Terminated! at i = 25\n",
      "total run time is 13.319708299997728 seconds\n"
     ]
    }
   ],
   "source": [
    "N = 15\n",
    "t0 = perf_counter()\n",
    "x_trj,u_trj, t = solve_rhc(x0,xf,u_ref,N,Q,R,Qf)\n",
    "tf = perf_counter()\n",
    "print(f'total run time is {tf-t0} seconds')"
   ]
  },
  {
   "cell_type": "code",
   "execution_count": 345,
   "metadata": {},
   "outputs": [
    {
     "data": {
      "application/vnd.jupyter.widget-view+json": {
       "model_id": "bafb443e29e344e0bd686fc1400bbbbe",
       "version_major": 2,
       "version_minor": 0
      },
      "image/png": "[encoded data removed]",
      "text/html": [
       "\n",
       "            <div style=\"display: inline-block;\">\n",
       "                <div class=\"jupyter-widgets widget-label\" style=\"text-align: center;\">\n",
       "                    Figure\n",
       "                </div>\n",
       "                <img src='data:image/png;base64,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' width=640.0/>\n",
       "            </div>\n",
       "        "
      ],
      "text/plain": [
       "Canvas(toolbar=Toolbar(toolitems=[('Home', 'Reset original view', 'home', 'home'), ('Back', 'Back to previous …"
      ]
     },
     "metadata": {},
     "output_type": "display_data"
    }
   ],
   "source": [
    "plt.figure()\n",
    "util.plot_solve(x_trj,6.2, xf, [6,6,6], n_d=3)\n",
    "plt.title('Centralized MPC (IPOPT) for 3 drones');\n",
    "plt.legend(plt.gca().get_children()[1:3], [\"Start Position\", \"Goal Position\"]);\n",
    "plt.savefig('results/Centralized MPC (IPOPT) for 3 drones.png')"
   ]
  },
  {
   "cell_type": "markdown",
   "metadata": {},
   "source": [
    "## Todo: run the centralized MPC above for up to 10 drones:"
   ]
  },
  {
   "cell_type": "markdown",
   "metadata": {},
   "source": [
    "## Now run the above optimization problem in distributed fashion using game-potential formulation:"
   ]
  },
  {
   "cell_type": "code",
   "execution_count": 100,
   "metadata": {},
   "outputs": [],
   "source": [
    "n_agents = 3"
   ]
  },
  {
   "cell_type": "code",
   "execution_count": 101,
   "metadata": {},
   "outputs": [],
   "source": [
    "ids = [100 + i for i in range(n_agents)]"
   ]
  },
  {
   "cell_type": "code",
   "execution_count": 357,
   "metadata": {},
   "outputs": [],
   "source": [
    "def define_inter_graph_threshold(X, radius, x_dims, ids):\n",
    "    \"\"\"\n",
    "    Compute the interaction graph based on a simple thresholded distance\n",
    "    for each pair of agents at a specific time step\n",
    "    (X is a one-dimensional array)\n",
    "    \"\"\"\n",
    "    \n",
    "    \n",
    "    #radius is the collision avoidance threshold\n",
    "    #Planning_radii is the threshold distance below which two agents are combined into a sub problem\n",
    "    planning_radii = 2 * radius\n",
    "   \n",
    "    rel_dists = util.compute_pairwise_distance(X, x_dims)\n",
    "\n",
    "    # N = X.shape[0]\n",
    "    # n_samples = 10\n",
    "    # sample_step = max(N // n_samples, 1)\n",
    "    # sample_slice = slice(0, N + 1, sample_step)\n",
    "\n",
    "    # Put each pair of agents within each others' graphs if they are within\n",
    "    # some threshold distance from each other.\n",
    "    graph = {id_: [id_] for id_ in ids}\n",
    "    pair_inds = np.array(list(itertools.combinations(ids, 2)))\n",
    "   \n",
    "    for i, pair in enumerate(pair_inds):\n",
    "    \n",
    "        if np.any(rel_dists.flatten()[i] < planning_radii):\n",
    "            graph[pair[0]].append(pair[1])\n",
    "            graph[pair[1]].append(pair[0])\n",
    "\n",
    "    graph = {agent_id: sorted(prob_ids) for agent_id, prob_ids in graph.items()}\n",
    "    return graph"
   ]
  },
  {
   "cell_type": "code",
   "execution_count": 358,
   "metadata": {},
   "outputs": [],
   "source": [
    "graph = define_inter_graph_threshold(x0.T*0.5, 0.5, x_dims, ids)"
   ]
  },
  {
   "cell_type": "code",
   "execution_count": 404,
   "metadata": {},
   "outputs": [
    {
     "data": {
      "text/plain": [
       "[array([[0.5, 1.5, 1. , 0. , 0. , 0. , 1.5, 1.3, 1. , 0. , 0. , 0. ]]),\n",
       " array([[2.5, 1.5, 1. , 0. , 0. , 0. , 1.5, 1.3, 1. , 0. , 0. , 0. ]]),\n",
       " array([[0.5, 1.5, 1. , 0. , 0. , 0. , 2.5, 1.5, 1. , 0. , 0. , 0. , 1.5,\n",
       "         1.3, 1. , 0. , 0. , 0. ]])]"
      ]
     },
     "execution_count": 404,
     "metadata": {},
     "output_type": "execute_result"
    }
   ],
   "source": [
    "split_problem_states = split_graph(x0.T,x_dims,graph)\n",
    "split_problem_states"
   ]
  },
  {
   "cell_type": "code",
   "execution_count": 405,
   "metadata": {},
   "outputs": [
    {
     "data": {
      "text/plain": [
       "[array([[0.  , 0.  , 9.81, 0.  , 0.  , 9.81]]),\n",
       " array([[0.  , 0.  , 9.81, 0.  , 0.  , 9.81]]),\n",
       " array([[0.  , 0.  , 9.81, 0.  , 0.  , 9.81, 0.  , 0.  , 9.81]])]"
      ]
     },
     "execution_count": 405,
     "metadata": {},
     "output_type": "execute_result"
    }
   ],
   "source": [
    "split_problem_inputs = split_graph(u_ref.reshape(-1,1).T,u_dims,graph)\n",
    "split_problem_inputs"
   ]
  },
  {
   "cell_type": "code",
   "execution_count": 457,
   "metadata": {},
   "outputs": [],
   "source": [
    "#build a dictionary holding numerous Opti() objects\n",
    "d = {}\n",
    "states = {}\n",
    "inputs = {}\n",
    "cost_fun_list = []\n",
    "for i,j in enumerate(split_graph(x0.T,x_dims,graph)):\n",
    "    d[\"opti_{0}\".format(i)] = Opti()\n",
    "    states['X_{0}'.format(i)] = d[f'opti_{i}'].variable(j.shape[1],N+1) \n",
    "    \n",
    "for i,j in enumerate(split_graph(u_ref.reshape(-1,1).T,u_dims,graph)):\n",
    "    inputs['U_{0}'.format(i)] = d[f'opti_{i}'].variable(j.shape[1],N)\n",
    "    \n",
    "for i in range(len(split_problem_states)):\n",
    "    cost_fun_list.append(objective(states[f'X_{i}'],\\\n",
    "                           inputs[f'U_{i}'],\\\n",
    "                           split_problem_inputs[i].reshape(-1,),\\\n",
    "                           split_problem_states[i].reshape(-1,1),\\\n",
    "                           np.eye(split_problem_states[i].shape[1]),\n",
    "                           np.eye(split_problem_inputs[i].reshape(-1,).shape[0])*0.01,\n",
    "                           np.eye(split_problem_states[i].shape[1])*100))"
   ]
  },
  {
   "cell_type": "code",
   "execution_count": null,
   "metadata": {},
   "outputs": [],
   "source": []
  },
  {
   "cell_type": "code",
   "execution_count": 410,
   "metadata": {},
   "outputs": [],
   "source": [
    "# objective(states[f'X_{0}'],\\\n",
    "#           inputs[f'U_{0}'],\\\n",
    "#           split_graph(u_ref.reshape(-1,1).T,u_dims,graph)[0].reshape(-1,),\\\n",
    "#           split_graph(xf.T,x_dims,graph)[0].reshape(-1,1),\\\n",
    "#           np.eye(n_states * split_problem[0].shape[1]),\n",
    "#           np.eye(n_inputs * split_problem[0].shape[1]),\n",
    "#           np.eye(n_states * split_problem[0].shape[1])*100)"
   ]
  },
  {
   "cell_type": "code",
   "execution_count": null,
   "metadata": {},
   "outputs": [],
   "source": [
    "def solve_rhc_distributed(x0,xf,u_ref,N,Q,R,Qf,n_agents,n_states,n_inputs,radius, ids):\n",
    "    Qs = [Q] * n_agents\n",
    "    Rs = [R] * n_agents\n",
    "    Qfs = [Qf] * n_agents\n",
    "    x_dims = [n_states]*n_agents\n",
    "    u_dims = [n_inputs]*n_agents\n",
    "    \n",
    "    p_opts = {\"expand\":True}\n",
    "    s_opts = {\"max_iter\": 150,\"print_level\":2}\n",
    "    \n",
    "    \n",
    "    M = 200 # this is the entire fixed horizon\n",
    " \n",
    "    n_x = n_agents*n_states\n",
    "    n_u = n_agents*n_inputs\n",
    "    x_dims = [n_states]*n_agents\n",
    "    \n",
    "    \n",
    "    X_dec = np.zeros((N + 1, n_agents * n_states))\n",
    "    U_dec = np.zeros((N, n_agents * n_controls))\n",
    "    \n",
    "    t = 0\n",
    "\n",
    "    J_list = []\n",
    "    J_list.append(np.inf)\n",
    "    # for i in range(M) :\n",
    "    i = 0\n",
    "    dt = 0.05\n",
    "    \n",
    "    while (np.linalg.norm(x0[0:3]-xf[0:3]) > 0.1) and (i < M):\n",
    "        #determine sub problems to solve:\n",
    "     \n",
    "        #compute numerical pairwise distances at current time step:\n",
    "        # dist_init = util.compute_pairwise_distance(x0,x_dims)\n",
    "        \n",
    "        #compute interaction graph at the current time step:\n",
    "        graph_init = define_inter_graph_threshold(x0, radius, x_dims, ids)\n",
    "        \n",
    "        #break up the problem into potential-game sub-problems:\n",
    "        split_problem_states = split_graph(x0.T,x_dims,graph)\n",
    "        split_problem_inputs = split_graph(u_ref.reshape(-1,1).T,u_dims,graph)\n",
    "        \n",
    "        #Initiate different instances of Opti() object\n",
    "        #Each Opti() object corresponds to a subproblem\n",
    "        #Note that when 2 agents are combined into a single problem, we have 2 copies of the same sub problem\n",
    "        \n",
    "        d = {}\n",
    "        states = {}\n",
    "        inputs = {}\n",
    "        cost_fun_list = [] \n",
    "        \n",
    "        d = {}\n",
    "        states = {}\n",
    "        inputs = {}\n",
    "        \n",
    "       \n",
    "        for i,j in enumerate(split_problem_states):\n",
    "            d[\"opti_{0}\".format(i)] = Opti()\n",
    "            states['X_{0}'.format(i)] = d[f'opti_{i}'].variable(j.shape[1],N+1) \n",
    "\n",
    "        for i,j in enumerate(split_problem_inputs):\n",
    "            inputs['U_{0}'.format(i)] = d[f'opti_{i}'].variable(j.shape[1],N)\n",
    "        \n",
    "        for i in range(len(split_problem_states)):\n",
    "                    cost_fun_list.append(objective(states[f'X_{i}'],\\\n",
    "                           inputs[f'U_{i}'],\\\n",
    "                           split_problem_inputs[i].reshape(-1,),\\\n",
    "                           split_problem_states[i].reshape(-1,1),\\\n",
    "                           np.eye(split_problem_states[i].shape[1]),\n",
    "                           np.eye(split_problem_inputs[i].reshape(-1,).shape[0])*0.01,\n",
    "                           np.eye(split_problem_states[i].shape[1])*100))\n",
    "\n",
    "        # cost_fun = objective(X,U,u_ref,xf,Q,R,Qf)\n",
    "        opti.minimize(cost_fun)\n",
    "        \n",
    "        for k in range(N): #loop over control intervals\n",
    "            # Runge-Kutta 4 integration\n",
    "            k1 = f(X[:,k],         U[:,k])\n",
    "            k2 = f(X[:,k]+dt/2*k1, U[:,k])\n",
    "            k3 = f(X[:,k]+dt/2*k2, U[:,k])\n",
    "            k4 = f(X[:,k]+dt*k3,   U[:,k])\n",
    "            x_next = X[:,k] + dt/6*(k1+2*k2+2*k3+k4) \n",
    "\n",
    "            opti.subject_to(X[:,k+1]==x_next) # close the gaps\n",
    "            \n",
    "            #Constraints on inputs:\n",
    "            for j in range(max_input.shape[0]):\n",
    "\n",
    "                opti.subject_to(U[j,k] <= max_input[j] )\n",
    "                opti.subject_to(min_input[j] <= U[j,k] )\n",
    "     \n",
    "        #collision avoidance\n",
    "        for k in range(N+1):\n",
    "            distances = compute_pairwise_distance_Sym(X[:,k], x_dims)\n",
    "            for n in range(len(distances)):\n",
    "                opti.subject_to(distances[n] >= 0.5)\n",
    "                \n",
    "            #constraints on states:\n",
    "            for m in range(max_state_lower.shape[0]):\n",
    "\n",
    "                opti.subject_to(X[m,k]<= max_state_upper[m] )\n",
    "                opti.subject_to(max_state_lower[m] <= X[m,k])\n",
    "\n",
    "            \n",
    "        #equality constraints for initial condition:\n",
    "        opti.subject_to(X[:,0] == x0)\n",
    "        \n",
    "        opti.solver(\"ipopt\",p_opts,\n",
    "                    s_opts) \n",
    "        \n",
    "        \n",
    "        sol = opti.solve()\n",
    "        x0 = sol.value(X)[:,1]\n",
    "        u_sol = sol.value(U)[:,0]\n",
    "        \n",
    "        J_list.append(sol.value(cost_fun))\n",
    "        print(f'current objective function value is {sol.value(cost_fun)}')\n",
    "        \n",
    "        \n",
    "        #Store the trajectory\n",
    "        \n",
    "        X_full = np.r_[X_full, x0.reshape(1,-1)]\n",
    "        U_full = np.r_[U_full, u_sol.reshape(1,-1)]\n",
    "        \n",
    "        t += dt\n",
    "        i +=1\n",
    "        \n",
    "        # print(opti.variable) #print this to check the optimization parameters for each control horizon\n",
    "        \n",
    "        if abs(J_list[i]-J_list[i-1]) <= 2.0 :\n",
    "            print(f'Terminated! at i = {i}')\n",
    "            break\n",
    "            \n",
    "        \n",
    "    return X_full,U_full, t\n",
    "    \n",
    "    "
   ]
  },
  {
   "cell_type": "code",
   "execution_count": null,
   "metadata": {},
   "outputs": [],
   "source": []
  },
  {
   "cell_type": "code",
   "execution_count": null,
   "metadata": {},
   "outputs": [],
   "source": []
  },
  {
   "cell_type": "code",
   "execution_count": null,
   "metadata": {},
   "outputs": [],
   "source": []
  }
 ],
 "metadata": {
  "kernelspec": {
   "display_name": "Python 3 (ipykernel)",
   "language": "python",
   "name": "python3"
  },
  "language_info": {
   "codemirror_mode": {
    "name": "ipython",
    "version": 3
   },
   "file_extension": ".py",
   "mimetype": "text/x-python",
   "name": "python",
   "nbconvert_exporter": "python",
   "pygments_lexer": "ipython3",
   "version": "3.10.4"
  },
  "vscode": {
   "interpreter": {
    "hash": "399811294a7819b7e239898a57da83318870bf6cc244d0feadb37fb854947374"
   }
  }
 },
 "nbformat": 4,
 "nbformat_minor": 4
}
