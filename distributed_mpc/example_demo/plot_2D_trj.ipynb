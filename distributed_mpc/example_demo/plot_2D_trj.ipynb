{
 "cells": [
  {
   "cell_type": "code",
   "execution_count": 1,
   "id": "6d8f33a2-564b-427f-9d2d-857350cf6927",
   "metadata": {},
   "outputs": [],
   "source": [
    "import matplotlib.pyplot as plt\n",
    "import numpy as np"
   ]
  },
  {
   "cell_type": "code",
   "execution_count": 2,
   "id": "856d0a1f-1226-44d4-93bd-33eb3743efcc",
   "metadata": {},
   "outputs": [],
   "source": [
    "import util"
   ]
  },
  {
   "cell_type": "code",
   "execution_count": 3,
   "id": "33562d75-b1d4-4858-a6c0-0d85fa6f2b76",
   "metadata": {},
   "outputs": [],
   "source": [
    "x0,xf = util.paper_setup_5_quads()"
   ]
  },
  {
   "cell_type": "code",
   "execution_count": 4,
   "id": "7f3bd400-d6dd-454d-80f7-dcb2624bc987",
   "metadata": {},
   "outputs": [
    {
     "data": {
      "text/plain": [
       "array([[ 0.5,  1.5,  1. ,  0. ,  0. ,  0. ,  2.5,  1.5,  1. ,  0. ,  0. ,\n",
       "         0. ,  1.5,  1.3,  1. ,  0. ,  0. ,  0. , -0.5,  0.5,  1. ,  0. ,\n",
       "         0. ,  0. ,  1.1,  1.1,  1. ,  0. ,  0. ,  0. ]])"
      ]
     },
     "execution_count": 4,
     "metadata": {},
     "output_type": "execute_result"
    }
   ],
   "source": [
    "x0.T"
   ]
  },
  {
   "cell_type": "code",
   "execution_count": 5,
   "id": "2c7b701e-91a3-4b11-8998-f727861dff0b",
   "metadata": {},
   "outputs": [
    {
     "data": {
      "text/plain": [
       "array([[ 2.5,  1.5,  1. ,  0. ,  0. ,  0. ,  0.5,  1.5,  1. ,  0. ,  0. ,\n",
       "         0. ,  1.5,  2.2,  1. ,  0. ,  0. ,  0. , -0.5,  1.5,  1. ,  0. ,\n",
       "         0. ,  0. , -1.1,  1.1,  1. ,  0. ,  0. ,  0. ]])"
      ]
     },
     "execution_count": 5,
     "metadata": {},
     "output_type": "execute_result"
    }
   ],
   "source": [
    "xf.T"
   ]
  },
  {
   "cell_type": "code",
   "execution_count": 7,
   "id": "53271bfa-4f56-461a-b449-aafa0b8fc51c",
   "metadata": {},
   "outputs": [],
   "source": [
    "def set_bounds(xydata, ax=None, zoom=0.1):\n",
    "    \"\"\"Set the axis on plt.gca() by some margin beyond the data, default 10% margin\n",
    "\n",
    "    Reference:\n",
    "    https://github.com/zjwilliams20/pocketknives/blob/main/pocketknives/python/graphics.py\n",
    "\n",
    "    \"\"\"\n",
    "\n",
    "    xydata = np.atleast_2d(xydata)\n",
    "\n",
    "    if not ax:\n",
    "        ax = plt.gca()\n",
    "\n",
    "    xmarg = xydata[:, 0].ptp() * zoom\n",
    "    ymarg = xydata[:, 1].ptp() * zoom\n",
    "    ax.set(\n",
    "        xlim=(xydata[:, 0].min() - xmarg, xydata[:, 0].max() + xmarg),\n",
    "        ylim=(xydata[:, 1].min() - ymarg, xydata[:, 1].max() + ymarg),\n",
    "    )"
   ]
  },
  {
   "cell_type": "code",
   "execution_count": 30,
   "id": "8da04096-2012-483c-89e5-534af14a20ad",
   "metadata": {},
   "outputs": [],
   "source": [
    "trajs = [\n",
    "    (\n",
    "        np.array(\n",
    "            [[0.5, 1.5, 1, 0, 0, 0,\n",
    "                    2.5, 1.5, 1, 0, 0, 0,\n",
    "                    1.5, 1.3, 1, 0, 0, 0,\n",
    "                    -0.5 ,0.5, 1, 0, 0, 0,\n",
    "                   1.1, 1.1, 1, 0, 0, 0]]\n",
    "                ),\n",
    "        np.array(\n",
    "            [\n",
    "               [[2.5, 1.5, 1, 0, 0, 0, \n",
    "                    0.5, 1.5, 1, 0, 0, 0, \n",
    "                    1.5, 2.2, 1, 0, 0, 0,\n",
    "                   -0.5, 1.5, 1, 0, 0, 0,\n",
    "               -1.1, 1.1, 1, 0, 0, 0]]\n",
    "            ]\n",
    "        ),\n",
    "    ),\n",
    "    \n",
    "]"
   ]
  },
  {
   "cell_type": "code",
   "execution_count": 39,
   "id": "9576c888-336d-4bea-867b-50ee083a19fc",
   "metadata": {},
   "outputs": [
    {
     "name": "stdout",
     "output_type": "stream",
     "text": [
      "0 [[ 0.5  1.5  1.   0.   0.   0.   2.5  1.5  1.   0.   0.   0.   1.5  1.3\n",
      "   1.   0.   0.   0.  -0.5  0.5  1.   0.   0.   0.   1.1  1.1  1.   0.\n",
      "   0.   0. ]] [[[ 2.5  1.5  1.   0.   0.   0.   0.5  1.5  1.   0.   0.   0.   1.5  2.2\n",
      "    1.   0.   0.   0.  -0.5  1.5  1.   0.   0.   0.  -1.1  1.1  1.   0.\n",
      "    0.   0. ]]]\n"
     ]
    }
   ],
   "source": [
    "for i, (x0, xf) in enumerate(trajs[0: 1]):\n",
    "    print(i,x0,xf)"
   ]
  },
  {
   "cell_type": "code",
   "execution_count": 40,
   "id": "5030adcb-a42e-4153-ab7e-ed4c84150492",
   "metadata": {},
   "outputs": [],
   "source": [
    "def render_trials():\n",
    "\n",
    "    fig = plt.figure()\n",
    "    plt.style.use(\"dark_background\")\n",
    "\n",
    "    # n_agents, n_states = trajs[0].shape\n",
    "    n_agents = 5\n",
    "    n_states = 6\n",
    "\n",
    "   \n",
    "    plt.clf()\n",
    "    t = 0\n",
    "    plt.clf()\n",
    "    for i, (x0, xf) in enumerate(trajs[t : t + 1]):\n",
    "        ax = fig.add_subplot(1, 1, i + 1)\n",
    "        ax.set_aspect(\"equal\")\n",
    "        # ax.set_facecolor(\"k\")\n",
    "        # ax.yaxis.set_tick_params(labelcolor=\"w\", color=\"w\")\n",
    "        # ax.xaxis.set_tick_params(\n",
    "        X = np.dstack(\n",
    "            [x0.reshape(n_agents, n_states), xf.reshape(n_agents, n_states)]\n",
    "        ).swapaxes(1, 2)\n",
    "        for i, Xi in enumerate(X):\n",
    "            plt.annotate(\n",
    "                \"\",\n",
    "                Xi[1, :2],\n",
    "                Xi[0, :2],\n",
    "                arrowprops=dict(facecolor=plt.cm.Dark2.colors[i]),\n",
    "            )\n",
    "        set_bounds(X.reshape(-1, n_states), zoom=0.1)\n",
    "        plt.draw()\n",
    "    plt.savefig(f\"trial{t+1}.png\", dpi=1000.0)"
   ]
  },
  {
   "cell_type": "code",
   "execution_count": 41,
   "id": "25b96a58-3b58-4fbb-9f80-c698ad0e4dd5",
   "metadata": {},
   "outputs": [
    {
     "data": {
      "image/png": "[encoded data removed]",
      "text/plain": [
       "<Figure size 640x480 with 1 Axes>"
      ]
     },
     "metadata": {},
     "output_type": "display_data"
    }
   ],
   "source": [
    "render_trials()"
   ]
  },
  {
   "cell_type": "code",
   "execution_count": null,
   "id": "40248ce7-5704-4269-a1e3-fa98bc56b1dd",
   "metadata": {},
   "outputs": [],
   "source": []
  }
 ],
 "metadata": {
  "kernelspec": {
   "display_name": "Python 3 (ipykernel)",
   "language": "python",
   "name": "python3"
  },
  "language_info": {
   "codemirror_mode": {
    "name": "ipython",
    "version": 3
   },
   "file_extension": ".py",
   "mimetype": "text/x-python",
   "name": "python",
   "nbconvert_exporter": "python",
   "pygments_lexer": "ipython3",
   "version": "3.10.4"
  }
 },
 "nbformat": 4,
 "nbformat_minor": 5
}
