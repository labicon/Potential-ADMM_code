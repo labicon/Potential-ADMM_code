{
 "cells": [
  {
   "cell_type": "code",
   "execution_count": null,
   "metadata": {},
   "outputs": [],
   "source": [
    "from time import perf_counter as pc\n",
    "import warnings\n",
    "\n",
    "import numpy as np\n",
    "import matplotlib.pyplot as plt\n",
    "from matplotlib.animation import FuncAnimation\n",
    "\n",
    "from dpilqr import split_agents, plot_solve, split_agents_gen\n",
    "import dpilqr as dec\n",
    "import pocketknives\n",
    "\n",
    "π = np.pi\n",
    "g = 9.80665"
   ]
  },
  {
   "cell_type": "code",
   "execution_count": null,
   "metadata": {},
   "outputs": [],
   "source": [
    "import util"
   ]
  },
  {
   "cell_type": "code",
   "execution_count": null,
   "metadata": {},
   "outputs": [],
   "source": [
    "%load_ext autoreload\n",
    "%autoreload 1"
   ]
  },
  {
   "cell_type": "code",
   "execution_count": null,
   "metadata": {},
   "outputs": [],
   "source": [
    "def paper_setup_3_quads():\n",
    "    x0 = np.array([[0.5, 1.5, 1, 0.5, 0.0, 0,\n",
    "                    2.5, 1.5, 1, -0.5, 0.0, 0,\n",
    "                    1.5, 1.3, 1, 0, 0.2, 0]], \n",
    "                     dtype=float).T\n",
    "    xf = np.array([[2.5, 1.5, 1, 0, 0, 0, \n",
    "                    0.5, 1.5, 1, 0, 0, 0, \n",
    "                    1.5, 2.2, 1, 0, 0, 0]]).T\n",
    "    # x0[dec.pos_mask([6]*3, 3)] += 0.1*np.random.randn(9, 1)\n",
    "    # xf[dec.pos_mask([6]*3, 3)] += 0.1*np.random.randn(9, 1)\n",
    "    return x0, xf"
   ]
  },
  {
   "cell_type": "markdown",
   "metadata": {},
   "source": [
    "## 3 Drones"
   ]
  },
  {
   "cell_type": "code",
   "execution_count": null,
   "metadata": {},
   "outputs": [],
   "source": [
    "n_agents = 3\n",
    "n_states = 6\n",
    "n_controls = 3\n",
    "\n",
    "x_dims = [n_states] * n_agents\n",
    "u_dims = [n_controls] * n_agents\n",
    "\n",
    "n_dims = [3,3,3]\n",
    "\n",
    "dt = 0.05\n",
    "\n",
    "radius = 0.5\n",
    "\n",
    "x0, xf = paper_setup_3_quads()\n",
    "\n",
    "Q = np.diag([1, 1, 1, 5, 5, 5])\n",
    "R = np.diag([0, 1, 1])\n",
    "Qf = 1e3 * np.eye(n_states)\n",
    "\n",
    "Qs = [Q] * n_agents\n",
    "Rs = [R] * n_agents\n",
    "Qfs = [Qf] * n_agents\n",
    "\n",
    "\n",
    "ids = [100 + i for i in range(n_agents)]\n",
    "model = dec.QuadcopterDynamics6D\n",
    "dynamics = dec.MultiDynamicalModel([model(dt, id_) for id_ in ids])\n",
    "\n",
    "\n",
    "goal_costs = [\n",
    "    dec.ReferenceCost(xf_i, Q.copy(), R.copy(), Qf.copy(), id_)\n",
    "    for xf_i, id_, x_dim, u_dim in zip(\n",
    "        dec.split_agents_gen(xf, x_dims), ids, x_dims, u_dims\n",
    "    )\n",
    "]\n",
    "prox_cost = dec.ProximityCost(x_dims, radius, n_dims)\n",
    "goal_costs = [dec.ReferenceCost(xf_i, Q.copy(), R.copy(), Qf.copy(), id_) \n",
    "              for xf_i, id_ in zip(split_agents(xf.T, x_dims), ids)]\n",
    "game_cost = dec.GameCost(goal_costs, prox_cost)\n",
    "\n",
    "problem = dec.ilqrProblem(dynamics, game_cost)\n",
    "# solver = dec.ilqrSolver(problem, N)\n"
   ]
  },
  {
   "cell_type": "code",
   "execution_count": null,
   "metadata": {},
   "outputs": [],
   "source": [
    "problem.dynamics.n_u"
   ]
  },
  {
   "cell_type": "code",
   "execution_count": null,
   "metadata": {},
   "outputs": [],
   "source": [
    "dec.solve_rhc?"
   ]
  },
  {
   "cell_type": "code",
   "execution_count": null,
   "metadata": {},
   "outputs": [],
   "source": [
    "%%time\n",
    "#Decentralized without multiprocessing:\n",
    "step_size = 1\n",
    "n_d = 3\n",
    "N = 15\n",
    "# U0 = np.zeros((N, dynamics.n_u))\n",
    "X_trj, U, J = dec.solve_rhc(\n",
    "    problem, x0, N, radius,\n",
    "    centralized=False,\n",
    "    n_d=n_d,\n",
    "    step_size=step_size, \n",
    "    dist_converge=0.1,\n",
    "    verbose=True,\n",
    "    t_kill=step_size*dt,\n",
    "    t_diverge=None\n",
    ")"
   ]
  },
  {
   "cell_type": "code",
   "execution_count": null,
   "metadata": {},
   "outputs": [],
   "source": [
    "%matplotlib ipympl\n",
    "plt.figure(dpi=150)\n",
    "plot_solve(X_trj, J, xf, x_dims, n_d=3)\n",
    "plt.savefig('results/3_drones_DP_ILQR.png')"
   ]
  },
  {
   "cell_type": "code",
   "execution_count": null,
   "metadata": {},
   "outputs": [],
   "source": [
    "!pip install imagemagick"
   ]
  },
  {
   "cell_type": "code",
   "execution_count": null,
   "metadata": {},
   "outputs": [],
   "source": [
    "import matplotlib.animation as animation\n",
    "\n",
    "\n",
    "# first, fill X_trj with some test data\n",
    "\n",
    "\n",
    "# second, create a function that updates the scatter plot for each frame\n",
    "def update_plot(k, X_trj, scatters):\n",
    "     # Set the data for each scatter plot\n",
    "    scatters[0]._offsets3d = X_trj.T[0:3, :k]\n",
    "    scatters[1]._offsets3d = X_trj.T[6:9, :k]\n",
    "    scatters[2]._offsets3d = X_trj.T[12:15, :k]\n",
    "    return scatters\n",
    "\n",
    "# Create the figure and axis\n",
    "fig = plt.figure()\n",
    "ax = plt.axes(projection='3d')\n",
    "\n",
    "# Create the scatter plots\n",
    "scatters = []\n",
    "scatters.append(ax.scatter([], [], []))\n",
    "scatters.append(ax.scatter([], [], []))\n",
    "scatters.append(ax.scatter([], [], []))\n",
    "\n",
    "# set the axis limits\n",
    "ax.set_xlim3d(X_trj.T[[0, 6, 12], :].min(), X_trj.T[[0, 6, 12], :].max())\n",
    "ax.set_ylim3d(X_trj.T[[1, 7, 13], :].min(), X_trj.T[[1, 7, 13], :].max())\n",
    "ax.set_zlim3d(X_trj.T[[2, 8, 14], :].min(), X_trj.T[[2, 8, 14], :].max())\n",
    "\n",
    "\n",
    "# Set the title\n",
    "# ax.set_title('Trajectory from one-shot optimization (human + drones)')\n",
    "\n",
    "ani = animation.FuncAnimation(fig, update_plot, frames=500, fargs=(X_trj, scatters))\n",
    "\n",
    "ani.save('animation(3_drones_ILQR).gif',dpi = 150)\n",
    "plt.show()"
   ]
  },
  {
   "cell_type": "markdown",
   "metadata": {},
   "source": [
    "## 5 Drones"
   ]
  },
  {
   "cell_type": "code",
   "execution_count": null,
   "metadata": {},
   "outputs": [],
   "source": [
    "n_agents = 5\n",
    "n_states = 6\n",
    "n_controls = 3\n",
    "\n",
    "x_dims = [n_states] * n_agents\n",
    "u_dims = [n_controls] * n_agents\n",
    "\n",
    "n_dims = [3,3,3,3,3]\n",
    "\n",
    "dt = 0.05\n",
    "\n",
    "radius = 0.6\n",
    "\n",
    "x0, xf = util.paper_setup_5_quads()\n",
    "\n",
    "Q = np.diag([1, 1, 1, 5, 5, 5])\n",
    "R = np.diag([0, 1, 1])\n",
    "Qf = 1e3 * np.eye(n_states)\n",
    "\n",
    "Qs = [Q] * n_agents\n",
    "Rs = [R] * n_agents\n",
    "Qfs = [Qf] * n_agents\n",
    "\n",
    "\n",
    "ids = [100 + i for i in range(n_agents)]\n",
    "model = dec.QuadcopterDynamics6D\n",
    "dynamics = dec.MultiDynamicalModel([model(dt, id_) for id_ in ids])\n",
    "\n",
    "\n",
    "goal_costs = [\n",
    "    dec.ReferenceCost(xf_i, Q.copy(), R.copy(), Qf.copy(), id_)\n",
    "    for xf_i, id_, x_dim, u_dim in zip(\n",
    "        dec.split_agents_gen(xf, x_dims), ids, x_dims, u_dims\n",
    "    )\n",
    "]\n",
    "prox_cost = dec.ProximityCost(x_dims, radius, n_dims)\n",
    "goal_costs = [dec.ReferenceCost(xf_i, Q.copy(), R.copy(), Qf.copy(), id_) \n",
    "              for xf_i, id_ in zip(split_agents(xf.T, x_dims), ids)]\n",
    "game_cost = dec.GameCost(goal_costs, prox_cost)\n",
    "\n",
    "problem = dec.ilqrProblem(dynamics, game_cost)\n",
    "# solver = dec.ilqrSolver(problem, N)\n"
   ]
  },
  {
   "cell_type": "code",
   "execution_count": null,
   "metadata": {},
   "outputs": [],
   "source": [
    "%%time\n",
    "#Decentralized without multiprocessing:\n",
    "step_size = 1\n",
    "n_d = 3\n",
    "N = 15\n",
    "# U0 = np.zeros((N, dynamics.n_u))\n",
    "X_trj, U, J = dec.solve_rhc(\n",
    "    problem, x0, N, radius,\n",
    "    centralized=False,\n",
    "    n_d=n_d,\n",
    "    step_size=step_size, \n",
    "    dist_converge=0.1,\n",
    "    verbose=True,\n",
    "    t_kill=step_size*dt,\n",
    "    t_diverge=None\n",
    ")"
   ]
  },
  {
   "cell_type": "code",
   "execution_count": null,
   "metadata": {},
   "outputs": [],
   "source": [
    "%matplotlib ipympl\n",
    "plt.figure(dpi=150)\n",
    "plot_solve(X_trj, J, xf, x_dims, n_d=3)\n",
    "\n",
    "plt.savefig('results/5_drones_DP_ILQR.png')"
   ]
  },
  {
   "cell_type": "code",
   "execution_count": null,
   "metadata": {},
   "outputs": [],
   "source": [
    "import matplotlib.animation as animation\n",
    "\n",
    "# second, create a function that updates the scatter plot for each frame\n",
    "def update_plot(k, X_trj, scatters):\n",
    "     # Set the data for each scatter plot\n",
    "    scatters[0]._offsets3d = X_trj.T[0:3, :k]\n",
    "    scatters[1]._offsets3d = X_trj.T[6:9, :k]\n",
    "    scatters[2]._offsets3d = X_trj.T[12:15, :k]\n",
    "    scatters[3]._offsets3d = X_trj.T[18:21, :k]\n",
    "    scatters[4]._offsets3d = X_trj.T[24:27, :k]\n",
    "    return scatters\n"
   ]
  },
  {
   "cell_type": "code",
   "execution_count": null,
   "metadata": {},
   "outputs": [],
   "source": [
    "# Create the figure and axis\n",
    "fig = plt.figure()\n",
    "ax = plt.axes(projection='3d')\n",
    "\n",
    "# Create the scatter plots\n",
    "scatters = []\n",
    "scatters.append(ax.scatter([], [], []))\n",
    "scatters.append(ax.scatter([], [], []))\n",
    "scatters.append(ax.scatter([], [], []))\n",
    "scatters.append(ax.scatter([], [], []))\n",
    "scatters.append(ax.scatter([], [], []))\n",
    "\n",
    "\n",
    "# set the axis limits\n",
    "ax.set_xlim3d(X_trj.T[[0, 6, 12, 18, 24], :].min(), X_trj.T[[0, 6, 12, 18, 24], :].max())\n",
    "ax.set_ylim3d(X_trj.T[[1, 7, 13, 19, 25], :].min(), X_trj.T[[1, 7, 13, 19, 25], :].max())\n",
    "ax.set_zlim3d(X_trj.T[[2, 8, 14, 20, 26], :].min(), X_trj.T[[2, 8, 14, 20, 26], :].max())\n",
    "\n",
    "\n",
    "# Set the title\n",
    "# ax.set_title('Trajectory from one-shot optimization (human + drones)')\n",
    "\n",
    "ani = animation.FuncAnimation(fig, update_plot, frames=500, fargs=(X_trj, scatters))\n",
    "\n",
    "ani.save('animation(5_drones_ILQR).gif',dpi = 150)\n",
    "plt.show()"
   ]
  },
  {
   "cell_type": "code",
   "execution_count": null,
   "metadata": {},
   "outputs": [],
   "source": []
  },
  {
   "cell_type": "code",
   "execution_count": null,
   "metadata": {},
   "outputs": [],
   "source": []
  }
 ],
 "metadata": {
  "kernelspec": {
   "display_name": "Python 3 (ipykernel)",
   "language": "python",
   "name": "python3"
  },
  "language_info": {
   "codemirror_mode": {
    "name": "ipython",
    "version": 3
   },
   "file_extension": ".py",
   "mimetype": "text/x-python",
   "name": "python",
   "nbconvert_exporter": "python",
   "pygments_lexer": "ipython3",
   "version": "3.10.4"
  },
  "vscode": {
   "interpreter": {
    "hash": "399811294a7819b7e239898a57da83318870bf6cc244d0feadb37fb854947374"
   }
  }
 },
 "nbformat": 4,
 "nbformat_minor": 4
}
