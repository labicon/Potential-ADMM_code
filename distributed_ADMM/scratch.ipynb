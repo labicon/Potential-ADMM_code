{
 "cells": [
  {
   "cell_type": "code",
   "execution_count": 1,
   "id": "39da7078-d0e5-4039-8c12-113859f23d94",
   "metadata": {},
   "outputs": [],
   "source": [
    "import numpy as np\n",
    "import osqp\n",
    "import matplotlib.pyplot as plt\n",
    "from scipy import sparse\n",
    "import control as ct\n",
    "from casadi import *\n",
    "import dpilqr\n",
    "import itertools"
   ]
  },
  {
   "cell_type": "code",
   "execution_count": 2,
   "id": "2e3fef3c",
   "metadata": {},
   "outputs": [],
   "source": [
    "def split(array, nrows, ncols):\n",
    "    \"\"\"Split a matrix into sub-matrices.\"\"\"\n",
    "\n",
    "    r, h = array.shape\n",
    "    return (array.reshape(h//nrows, nrows, -1, ncols)\n",
    "                 .swapaxes(1, 2)\n",
    "                 .reshape(-1, nrows, ncols))"
   ]
  },
  {
   "cell_type": "code",
   "execution_count": 3,
   "id": "fe0b142a",
   "metadata": {},
   "outputs": [],
   "source": [
    "from solvers.util import (\n",
    "    compute_pairwise_distance,\n",
    "    compute_pairwise_distance_nd_Sym,\n",
    "    define_inter_graph_threshold,\n",
    "    distance_to_goal,\n",
    "    split_graph, \n",
    "    generate_f,\n",
    "    generate_f_human_drone,\n",
    "    objective,\n",
    "    generate_min_max_input,\n",
    "    generate_min_max_state\n",
    ")\n"
   ]
  },
  {
   "cell_type": "code",
   "execution_count": 4,
   "id": "821d8f93-aced-48a9-b964-af71b5f48fb9",
   "metadata": {},
   "outputs": [],
   "source": [
    "def linear_kinodynamics(dt,n_agent):\n",
    "    #Decision vector is a = [a_x, a_y, a_z]\n",
    "    #State vector is X = [p_x, p_y, p_z, v_x, v_y, v_z]\n",
    "    #Discretization time step is dt\n",
    "    A_tot = sparse.lil_matrix((6*n_agent, 6*n_agent))\n",
    "    B_tot = sparse.lil_matrix((6*n_agent, 3*n_agent))\n",
    "    A = sparse.csc_matrix([[1, 0, 0, dt, 0, 0],\n",
    "                           [0, 1, 0, 0 , dt ,0],\\\n",
    "                           [0, 0, 1, 0, 0 , dt],\\\n",
    "                           [0, 0, 0, 1, 0 ,0],\\\n",
    "                           [0, 0, 0, 0, 1 ,0],\\\n",
    "                           [0, 0, 0, 0, 0, 1]])\n",
    "    B = sparse.csc_matrix([[dt**2/2, 0, 0],\\\n",
    "                           [0, dt**2/2, 0],\\\n",
    "                           [0, 0, dt**2/2],\\\n",
    "                           [dt, 0, 0 ],\\\n",
    "                           [0, dt , 0],\\\n",
    "                           [0, 0, dt]])\n",
    "\n",
    "    for i in range(n_agent):\n",
    "        A_tot[i*6:(i+1)*6,i*6:(i+1)*6] = A\n",
    "        B_tot[i*6:(i+1)*6,i*3:(i+1)*3] = B\n",
    "        \n",
    "    \n",
    "    return A_tot, B_tot\n",
    "        \n",
    "        \n",
    "    "
   ]
  },
  {
   "cell_type": "code",
   "execution_count": 5,
   "id": "e1bed8fb",
   "metadata": {},
   "outputs": [],
   "source": [
    "A_tot,B_tot = linear_kinodynamics(0.1,3)"
   ]
  },
  {
   "cell_type": "code",
   "execution_count": 6,
   "id": "5d3048d3",
   "metadata": {},
   "outputs": [],
   "source": [
    "from solvers import util"
   ]
  },
  {
   "cell_type": "code",
   "execution_count": 7,
   "id": "b699979f",
   "metadata": {},
   "outputs": [],
   "source": [
    "x0,xr = util.paper_setup_3_quads()"
   ]
  },
  {
   "cell_type": "code",
   "execution_count": 8,
   "id": "350c9938",
   "metadata": {},
   "outputs": [],
   "source": [
    "def split(array, nrows, ncols):\n",
    "    \"\"\"Split a matrix into sub-matrices.\"\"\"\n",
    "\n",
    "    r, h = array.shape\n",
    "    return (array.reshape(h//nrows, nrows, -1, ncols)\n",
    "                 .swapaxes(1, 2)\n",
    "                 .reshape(-1, nrows, ncols))\n"
   ]
  },
  {
   "cell_type": "code",
   "execution_count": 9,
   "id": "eece1868",
   "metadata": {},
   "outputs": [],
   "source": [
    "def diag_block_mat_booliex(L):\n",
    "    shp = L[0].shape\n",
    "    mask = np.kron(np.eye(len(L)), np.ones(shp))==1\n",
    "    out = np.zeros(np.asarray(shp)*len(L),dtype=int)\n",
    "    out[mask] = np.concatenate(L).ravel()\n",
    "    return out"
   ]
  },
  {
   "cell_type": "code",
   "execution_count": 10,
   "id": "72d2525e",
   "metadata": {},
   "outputs": [],
   "source": [
    "def get_coll_cost(x, x_dims, radius, weight=200):\n",
    "    distances = compute_pairwise_distance(x0, x_dims)\n",
    "    pair_costs = np.fmin(np.zeros(1), distances - radius) ** 2\n",
    "    return pair_costs.sum()*weight"
   ]
  },
  {
   "cell_type": "code",
   "execution_count": 11,
   "id": "8e565206",
   "metadata": {},
   "outputs": [],
   "source": [
    "def construct_P(P_base, num_agents):\n",
    "    n = 6  # Dimension of state vector for each agent\n",
    "    for i in range(num_agents):\n",
    "        for j in range(num_agents):\n",
    "            if i !=j:\n",
    "                # Determine the position iices of agents i and j in the state vector\n",
    "                pos_i = n * i  # Assuming each agent has 6 state vector components (3 positions + 3 velocities)\n",
    "                pos_j = n * j\n",
    "\n",
    "                # Modify the corresponding elements in P to incorporate collision avoidance\n",
    "                # P_base[pos_i:pos_i + 3, pos_i:pos_i + 3] += np.eye(3) # (pos_i, pos_i)\n",
    "                P_base[pos_i:pos_i + 3, pos_j:pos_j + 3] = np.eye(3)*50 # (pos_i, pos_j)\n",
    "                P_base[pos_j:pos_j + 3, pos_i:pos_i + 3] = -np.eye(3)*50  # (pos_j, pos_i)\n",
    "                # P_base[pos_j:pos_j + 3, pos_j:pos_j + 3] += np.eye(3) # (pos_j, pos_j)\n",
    "\n",
    "    return P_base"
   ]
  },
  {
   "cell_type": "markdown",
   "id": "894e1fa6",
   "metadata": {},
   "source": [
    "## Solving the consensus ADMM problem with OSQP"
   ]
  },
  {
   "cell_type": "code",
   "execution_count": 12,
   "id": "19580003",
   "metadata": {},
   "outputs": [],
   "source": [
    "import cvxpy as cp"
   ]
  },
  {
   "cell_type": "markdown",
   "id": "4716b81e",
   "metadata": {},
   "source": []
  },
  {
   "cell_type": "code",
   "execution_count": 13,
   "id": "0533dd7d",
   "metadata": {},
   "outputs": [],
   "source": [
    "def compute_pairwise_distance_CVX(X, x_dims, n_dims):\n",
    "    \"\"\"Analog to the above whenever some agents only use distance in the x-y plane\"\"\"\n",
    "    CYLiER_RADIUS = 0.2\n",
    "\n",
    "    n_states = x_dims[0]\n",
    "    n_agents = len(x_dims)\n",
    "    distances = []\n",
    "    eps = 1e-3\n",
    "\n",
    "    for i, n_dim_i in zip(range(n_agents), n_dims):\n",
    "        for j, n_dim_j in zip(range(i + 1, n_agents), n_dims[i + 1 :]):\n",
    "            n_dim = min(n_dim_i, n_dim_j)\n",
    "\n",
    "            Xi = X[i * n_states : i * n_states + n_dim]\n",
    "            Xj = X[j * n_states : j * n_states + n_dim]\n",
    "            dX = Xi-Xj\n",
    "\n",
    "            if n_dim == 3:\n",
    "                # distances.append(cp.sqrt(dX[0]**2+dX[1]**2+dX[2]**2+eps))\n",
    "                distances.append(cp.norm(dX))\n",
    "            else:\n",
    "                distances.append(cp.sqrt(dX[0]**2+dX[1]**2 + eps)+CYLiER_RADIUS)\n",
    "    \n",
    "    return distances"
   ]
  },
  {
   "cell_type": "code",
   "execution_count": 14,
   "id": "c5b3d1ca",
   "metadata": {},
   "outputs": [],
   "source": [
    "# # Solving MPC with OSQP solver\n",
    "# N = 10\n",
    "\n",
    "# cost = 0\n",
    "# constr = []\n",
    "# x0,xr = util.paper_setup_3_quads()\n",
    "\n",
    "\n",
    "# nsim = 50\n",
    "# radius = 0.5\n",
    "\n",
    "\n",
    "# # X_full = np.zeros((nsim+1,nx))\n",
    "# X_full = np.zeros((0,nx))\n",
    "# X_full = np.r_[X_full,x0.reshape(1,-1)]\n",
    "# xi = x0.flatten()\n",
    "# xr = xr.flatten()\n",
    "# Ad,Bd = linear_kinodynamics(0.1, 3)\n",
    "# n_agents = 3\n",
    "# nx = n_agents * 6\n",
    "# nu = n_agents * 3\n",
    "# Q = sparse.diags([10., 10., 10., 10., 10., 10.]*n_agents)\n",
    "# QN = Q*10\n",
    "# R = 0.1*sparse.eye(nu)\n",
    "# s_prev = None\n",
    "\n",
    "# iter = 0\n",
    "# x_dims = [n_states]*n_agents\n",
    "# n_dims = [3]*n_agents\n",
    "# # while not np.all(dpilqr.distance_to_goal(xi,xr,3,6,3) < 0.1) and (iter <= nsim):\n",
    "# for _ in range(nsim):\n",
    "#     x = cp.Variable((N+1,nx))\n",
    "#     u = cp.Variable((N,nu))\n",
    "#     cost = 0\n",
    "#     constr = []\n",
    "    \n",
    "#     for t in range(N):\n",
    "\n",
    "#         cost += cp.quad_form(x[t+1,:],Q) + cp.quad_form(u[t,:],R)\n",
    "  \n",
    "#         # Linearized collision avoidance constraints\n",
    "#         if iter > 0:\n",
    "#             for i in range(n_agents):\n",
    "#                 for j in range(n_agents):\n",
    "#                     if j != i:\n",
    "#                         for k in range(N+1):\n",
    "#                             constr += [cp.norm(x_prev[k,j*n_states:j*n_states+3]-x_prev[k,i*n_states:i*n_states+3], 1) + \\\n",
    "#                                     (x_prev[k,j*n_states:j*n_states+3].T- x_prev[k,i*n_states:i*n_states+3].T)/cp.norm(x_prev[k,j*n_states:j*n_states+3]\\\n",
    "#                                     -x_prev[k,i*n_states:i*n_states+3], 1)@\\\n",
    "#                                     (x[k,j*n_states:j*n_states+3]-x[k,i*n_states:i*n_states+3]) >= radius]\n",
    "    \n",
    "                        \n",
    "#         constr += [x[t + 1,:] == Ad @ x[t,:] + Bd @ u[t, :]]\n",
    "#         constr += [u[t,:] <= np.tile(np.array([5, 5, 5]),(n_agents,)) ]\n",
    "#         constr += [np.tile(np.array([-5, -5, -5]),(n_agents,)) <= u[t, :]]\n",
    "#         # constr += [x[t, :] <= np.tile(np.array([np.inf, np.inf, np.inf, 2, 2, 2]),(n_agents,))]\n",
    "#         # constr += [np.tile(-np.array([np.inf, np.inf, np.inf, 2, 2, 2]),(n_agents,)) <= x[t,:]]\n",
    "\n",
    "#     cost += cp.quad_form((x[-1,:]-xr.flatten()),Q)    \n",
    "#     constr += [x[0, :] == xi]\n",
    "\n",
    "#     problem = cp.Problem(cp.Minimize(cost), constr)\n",
    "#     problem.solve(verbose=True)\n",
    "\n",
    "#     u_trj = u.value\n",
    "#     x_trj = x.value\n",
    "#     x_prev = x_trj\n",
    "#     ctrl = u_trj[1]\n",
    "#     xi = Ad@xi + Bd@ctrl\n",
    "#     # X_full[iter+1,:] = xi\n",
    "#     X_full = np.r_[X_full,xi.reshape(1,-1)]\n",
    "    \n",
    "#     iter +=1\n",
    "    \n"
   ]
  },
  {
   "cell_type": "code",
   "execution_count": 15,
   "id": "441fd3d3",
   "metadata": {},
   "outputs": [],
   "source": [
    "# %matplotlib ipympl\n",
    "# plt.figure(dpi=100)\n",
    "# dpilqr.plot_solve(X_full,0,xr,[6,6,6],True,3)\n",
    "# plt.legend(plt.gca().get_children()[1:3], [\"Start Position\", \"Goal Position\"])"
   ]
  },
  {
   "cell_type": "markdown",
   "id": "31f920e7",
   "metadata": {},
   "source": [
    "### Consensus-ADMM MPC"
   ]
  },
  {
   "cell_type": "code",
   "execution_count": 20,
   "id": "ae4d72d7",
   "metadata": {},
   "outputs": [],
   "source": [
    "from solvers import util\n",
    "from multiprocessing import Process, Pipe\n",
    "import cvxpy as cp\n",
    "from multi_agent_scp import *"
   ]
  },
  {
   "cell_type": "code",
   "execution_count": 21,
   "id": "616df57e",
   "metadata": {},
   "outputs": [
    {
     "name": "stdout",
     "output_type": "stream",
     "text": [
      "The autoreload extension is already loaded. To reload it, use:\n",
      "  %reload_ext autoreload\n"
     ]
    }
   ],
   "source": [
    "%load_ext autoreload\n",
    "%autoreload 2"
   ]
  },
  {
   "cell_type": "code",
   "execution_count": 28,
   "id": "c08028ec-3e73-45c2-b66a-2f8cc69d10be",
   "metadata": {},
   "outputs": [],
   "source": [
    "objective = objective_admm(nx, nu, xr, T, Q_try, R_try, Q_try*10)"
   ]
  },
  {
   "cell_type": "code",
   "execution_count": 31,
   "id": "fe7cb22e-2356-4980-a92d-c67c4dba0283",
   "metadata": {},
   "outputs": [
    {
     "name": "stdout",
     "output_type": "stream",
     "text": [
      "(1, 1)\n"
     ]
    }
   ],
   "source": [
    "objective.val"
   ]
  },
  {
   "cell_type": "code",
   "execution_count": 75,
   "id": "24b84e49",
   "metadata": {},
   "outputs": [
    {
     "name": "stdout",
     "output_type": "stream",
     "text": [
      "state_prev has shape (198,)state_prev has shape (198,)state_prev has shape (198,)\n",
      "\n",
      "\n"
     ]
    },
    {
     "name": "stderr",
     "output_type": "stream",
     "text": [
      "Process Process-40:\n",
      "Process Process-39:\n",
      "Process Process-38:\n",
      "Traceback (most recent call last):\n",
      "Traceback (most recent call last):\n",
      "Traceback (most recent call last):\n",
      "  File \"/home/randychen233/anaconda3/envs/ICON_lab/lib/python3.10/multiprocessing/process.py\", line 315, in _bootstrap\n",
      "    self.run()\n",
      "  File \"/home/randychen233/anaconda3/envs/ICON_lab/lib/python3.10/multiprocessing/process.py\", line 315, in _bootstrap\n",
      "    self.run()\n",
      "  File \"/home/randychen233/anaconda3/envs/ICON_lab/lib/python3.10/multiprocessing/process.py\", line 315, in _bootstrap\n",
      "    self.run()\n",
      "  File \"/home/randychen233/anaconda3/envs/ICON_lab/lib/python3.10/multiprocessing/process.py\", line 108, in run\n",
      "    self._target(*self._args, **self._kwargs)\n",
      "  File \"/home/randychen233/anaconda3/envs/ICON_lab/lib/python3.10/multiprocessing/process.py\", line 108, in run\n",
      "    self._target(*self._args, **self._kwargs)\n",
      "  File \"/home/randychen233/anaconda3/envs/ICON_lab/lib/python3.10/multiprocessing/process.py\", line 108, in run\n",
      "    self._target(*self._args, **self._kwargs)\n",
      "  File \"/tmp/ipykernel_3761/988675516.py\", line 62, in run_worker\n",
      "    constr += [cp.norm(state_prev[(k+1)*j*nx:(k+1)*T*j*nx+3]-\\\n",
      "  File \"/tmp/ipykernel_3761/988675516.py\", line 62, in run_worker\n",
      "    constr += [cp.norm(state_prev[(k+1)*j*nx:(k+1)*T*j*nx+3]-\\\n",
      "  File \"/tmp/ipykernel_3761/988675516.py\", line 62, in run_worker\n",
      "    constr += [cp.norm(state_prev[(k+1)*j*nx:(k+1)*T*j*nx+3]-\\\n",
      "ValueError: operands could not be broadcast together with shapes (165,) (3,) \n",
      "ValueError: operands could not be broadcast together with shapes (165,) (3,) \n",
      "ValueError: operands could not be broadcast together with shapes (165,) (3,) \n"
     ]
    },
    {
     "ename": "EOFError",
     "evalue": "",
     "output_type": "error",
     "traceback": [
      "\u001b[0;31m---------------------------------------------------------------------------\u001b[0m",
      "\u001b[0;31mEOFError\u001b[0m                                  Traceback (most recent call last)",
      "Input \u001b[0;32mIn [77]\u001b[0m, in \u001b[0;36m<cell line: 99>\u001b[0;34m()\u001b[0m\n\u001b[1;32m     98\u001b[0m solution_list \u001b[38;5;241m=\u001b[39m []\n\u001b[1;32m     99\u001b[0m \u001b[38;5;28;01mfor\u001b[39;00m i \u001b[38;5;129;01min\u001b[39;00m \u001b[38;5;28mrange\u001b[39m(\u001b[38;5;241m10\u001b[39m):\n\u001b[1;32m    100\u001b[0m     \u001b[38;5;66;03m# Gather and average xi\u001b[39;00m\n\u001b[0;32m--> 102\u001b[0m     xbar \u001b[38;5;241m=\u001b[39m \u001b[38;5;28;43msum\u001b[39;49m\u001b[43m(\u001b[49m\u001b[43mpipe\u001b[49m\u001b[38;5;241;43m.\u001b[39;49m\u001b[43mrecv\u001b[49m\u001b[43m(\u001b[49m\u001b[43m)\u001b[49m\u001b[43m \u001b[49m\u001b[38;5;28;43;01mfor\u001b[39;49;00m\u001b[43m \u001b[49m\u001b[43mpipe\u001b[49m\u001b[43m \u001b[49m\u001b[38;5;129;43;01min\u001b[39;49;00m\u001b[43m \u001b[49m\u001b[43mpipes\u001b[49m\u001b[43m)\u001b[49m\u001b[38;5;241m/\u001b[39mN\n\u001b[1;32m    103\u001b[0m     \u001b[38;5;66;03m# print(f'xbar is {xbar}, has shape {xbar.shape}\\n')\u001b[39;00m\n\u001b[1;32m    105\u001b[0m     solution_list\u001b[38;5;241m.\u001b[39mappend(xbar)\n",
      "Input \u001b[0;32mIn [77]\u001b[0m, in \u001b[0;36m<genexpr>\u001b[0;34m(.0)\u001b[0m\n\u001b[1;32m     98\u001b[0m solution_list \u001b[38;5;241m=\u001b[39m []\n\u001b[1;32m     99\u001b[0m \u001b[38;5;28;01mfor\u001b[39;00m i \u001b[38;5;129;01min\u001b[39;00m \u001b[38;5;28mrange\u001b[39m(\u001b[38;5;241m10\u001b[39m):\n\u001b[1;32m    100\u001b[0m     \u001b[38;5;66;03m# Gather and average xi\u001b[39;00m\n\u001b[0;32m--> 102\u001b[0m     xbar \u001b[38;5;241m=\u001b[39m \u001b[38;5;28msum\u001b[39m(\u001b[43mpipe\u001b[49m\u001b[38;5;241;43m.\u001b[39;49m\u001b[43mrecv\u001b[49m\u001b[43m(\u001b[49m\u001b[43m)\u001b[49m \u001b[38;5;28;01mfor\u001b[39;00m pipe \u001b[38;5;129;01min\u001b[39;00m pipes)\u001b[38;5;241m/\u001b[39mN\n\u001b[1;32m    103\u001b[0m     \u001b[38;5;66;03m# print(f'xbar is {xbar}, has shape {xbar.shape}\\n')\u001b[39;00m\n\u001b[1;32m    105\u001b[0m     solution_list\u001b[38;5;241m.\u001b[39mappend(xbar)\n",
      "File \u001b[0;32m~/anaconda3/envs/ICON_lab/lib/python3.10/multiprocessing/connection.py:255\u001b[0m, in \u001b[0;36m_ConnectionBase.recv\u001b[0;34m(self)\u001b[0m\n\u001b[1;32m    253\u001b[0m \u001b[38;5;28mself\u001b[39m\u001b[38;5;241m.\u001b[39m_check_closed()\n\u001b[1;32m    254\u001b[0m \u001b[38;5;28mself\u001b[39m\u001b[38;5;241m.\u001b[39m_check_readable()\n\u001b[0;32m--> 255\u001b[0m buf \u001b[38;5;241m=\u001b[39m \u001b[38;5;28;43mself\u001b[39;49m\u001b[38;5;241;43m.\u001b[39;49m\u001b[43m_recv_bytes\u001b[49m\u001b[43m(\u001b[49m\u001b[43m)\u001b[49m\n\u001b[1;32m    256\u001b[0m \u001b[38;5;28;01mreturn\u001b[39;00m _ForkingPickler\u001b[38;5;241m.\u001b[39mloads(buf\u001b[38;5;241m.\u001b[39mgetbuffer())\n",
      "File \u001b[0;32m~/anaconda3/envs/ICON_lab/lib/python3.10/multiprocessing/connection.py:419\u001b[0m, in \u001b[0;36mConnection._recv_bytes\u001b[0;34m(self, maxsize)\u001b[0m\n\u001b[1;32m    418\u001b[0m \u001b[38;5;28;01mdef\u001b[39;00m \u001b[38;5;21m_recv_bytes\u001b[39m(\u001b[38;5;28mself\u001b[39m, maxsize\u001b[38;5;241m=\u001b[39m\u001b[38;5;28;01mNone\u001b[39;00m):\n\u001b[0;32m--> 419\u001b[0m     buf \u001b[38;5;241m=\u001b[39m \u001b[38;5;28;43mself\u001b[39;49m\u001b[38;5;241;43m.\u001b[39;49m\u001b[43m_recv\u001b[49m\u001b[43m(\u001b[49m\u001b[38;5;241;43m4\u001b[39;49m\u001b[43m)\u001b[49m\n\u001b[1;32m    420\u001b[0m     size, \u001b[38;5;241m=\u001b[39m struct\u001b[38;5;241m.\u001b[39munpack(\u001b[38;5;124m\"\u001b[39m\u001b[38;5;124m!i\u001b[39m\u001b[38;5;124m\"\u001b[39m, buf\u001b[38;5;241m.\u001b[39mgetvalue())\n\u001b[1;32m    421\u001b[0m     \u001b[38;5;28;01mif\u001b[39;00m size \u001b[38;5;241m==\u001b[39m \u001b[38;5;241m-\u001b[39m\u001b[38;5;241m1\u001b[39m:\n",
      "File \u001b[0;32m~/anaconda3/envs/ICON_lab/lib/python3.10/multiprocessing/connection.py:388\u001b[0m, in \u001b[0;36mConnection._recv\u001b[0;34m(self, size, read)\u001b[0m\n\u001b[1;32m    386\u001b[0m \u001b[38;5;28;01mif\u001b[39;00m n \u001b[38;5;241m==\u001b[39m \u001b[38;5;241m0\u001b[39m:\n\u001b[1;32m    387\u001b[0m     \u001b[38;5;28;01mif\u001b[39;00m remaining \u001b[38;5;241m==\u001b[39m size:\n\u001b[0;32m--> 388\u001b[0m         \u001b[38;5;28;01mraise\u001b[39;00m \u001b[38;5;167;01mEOFError\u001b[39;00m\n\u001b[1;32m    389\u001b[0m     \u001b[38;5;28;01melse\u001b[39;00m:\n\u001b[1;32m    390\u001b[0m         \u001b[38;5;28;01mraise\u001b[39;00m \u001b[38;5;167;01mOSError\u001b[39;00m(\u001b[38;5;124m\"\u001b[39m\u001b[38;5;124mgot end of file during message\u001b[39m\u001b[38;5;124m\"\u001b[39m)\n",
      "\u001b[0;31mEOFError\u001b[0m: "
     ]
    }
   ],
   "source": [
    "# Number of terms f_i.\n",
    "N = 3\n",
    "Ad,Bd = linear_kinodynamics(0.1,N)\n",
    "# A list of all the f_i.\n",
    "T = 10 #Prediction horizon\n",
    "n_states = 6\n",
    "n_inputs = 3\n",
    "Q_try = np.eye(n_states*N)\n",
    "R_try = np.eye(n_inputs*N)*0.1\n",
    "n = n_states*N\n",
    "\n",
    "x0, xr = util.paper_setup_3_quads()\n",
    "\n",
    "\n",
    "# f_list = []\n",
    "\n",
    "nx = n_states*N\n",
    "nu = n_inputs*N\n",
    "# x = cp.Variable(((T+1)*nx, 1))\n",
    "# u_input = cp.Variable((T*nu, 1))\n",
    "\n",
    "def construct_obj(nx, nu, xr, T, Q_try, R_try, N):\n",
    "    f_list = []\n",
    "    y_state = cp.Variable(((T+1)*nx + T * nu, 1))\n",
    "    for id in range(N):\n",
    "        cost_i = objective_admm(y_state, nx, nu, xr, T, Q_try, R_try, Q_try*10)\n",
    "        f_list.append(cost_i)\n",
    "        \n",
    "    return f_list\n",
    "    \n",
    "def run_worker(f, pipe):\n",
    "    \n",
    "    y_state = cp.Variable(((T+1)*nx + T * nu, 1))\n",
    "    \n",
    "    Q = np.diag([1., 1., 1., 1., 1., 1.]* N)\n",
    "    x_dims = [6]*N\n",
    "    QN = Q*10\n",
    "\n",
    "    xbar = cp.Parameter((T+1)*nx + T*nu, value=np.zeros((T+1)*nx + T*nu))\n",
    "    u = cp.Parameter((T+1)*nx + T*nu, value=np.zeros((T+1)*nx + T*nu)) #This is the scaled Lagrange multiplier\n",
    "    \n",
    "    rho = 1\n",
    "    f += (rho/2)*cp.sum_squares(y_state.flatten() - xbar + u)\n",
    "    x0, xr = util.paper_setup_3_quads()\n",
    "    constr = []\n",
    "    constr += [y_state[0:nx] == x0]\n",
    "    \n",
    "    for k in range(T):\n",
    "        constr += [y_state[(k+1)*nx:(k+2)*nx] == Ad @ y_state[k * nx:(k+1) * nx] \\\n",
    "                                               + Bd @ y_state[(T+1)*nx+ k * nu: (T+1) * nx + (k+1) * nu]]    \n",
    "    radius = 0.4   \n",
    "    # ADMM loop\n",
    "    iter = 0\n",
    "    while True:\n",
    "        try:\n",
    "            #Solve local constrained problem with OSQP solver in CVXPY\n",
    "            if iter > 0 :\n",
    "                for i in range(N):\n",
    "                    for j in range(N):\n",
    "                        if j != i:\n",
    "                            for k in range(T+1):\n",
    "                                constr += [cp.norm(state_prev[(k+1)*j*nx:(k+1)*T*j*nx+3]-\\\n",
    "                                                   state_prev[(k+1)*i*nx:(k+1)*T*i*nx+3], 1) + \\\n",
    "                                        (state_prev[k*j*nx:k*j*nx+3].T- \\\n",
    "                                         state_prev[k*i*nx:k*i*nx+3].T)/cp.norm(state_prev[k*j*nx:k*j*nx+3]\\\n",
    "                                        -state_prev[k*i*nx:k*i*nx+3], 1)@\\\n",
    "                                        (y_state[0:(T+1)*nx][k*j*nx:k*j*nx+3]-y_state[0:(T+1)*nx][k*i*nx:k*i*nx+3]) >= radius]\n",
    "            \n",
    "            prox = cp.Problem(cp.Minimize(f),constr)\n",
    "            prox.solve()\n",
    "            pipe.send(y_state.value.flatten())\n",
    "            xbar.value = pipe.recv() #receive the averaged result from the main process.\n",
    "            # print(f'xbar has shape {xbar.value.shape} \\n')\n",
    "            u.value += y_state.value.flatten() - xbar.value\n",
    "            iter +=1\n",
    "            \n",
    "            state_prev = xbar.value[0:(T+1)*nx]\n",
    "            print(f'state_prev has shape {state_prev.shape}')\n",
    "            ctrl_prev = xbar.value[(T+1)*nx:]\n",
    "            \n",
    "            # y_state_prev = xbar.value\n",
    "            \n",
    "        \n",
    "        except EOFError:\n",
    "            print(\"Connection closed.\")\n",
    "            break\n",
    "\n",
    "# Setup the workers.\n",
    "pipes = []\n",
    "procs = []\n",
    "for i in range(N):\n",
    "    local, remote = Pipe()\n",
    "    pipes += [local]\n",
    "    procs += [Process(target=run_worker, args=(construct_obj(nx, nu, xr, T, Q_try, R_try, N)[i], remote))]\n",
    "    procs[-1].start()\n",
    "\n",
    "# ADMM loop.\n",
    "solution_list = []\n",
    "for i in range(10):\n",
    "    # Gather and average xi\n",
    "    \n",
    "    xbar = sum(pipe.recv() for pipe in pipes)/N\n",
    "    # print(f'xbar is {xbar}, has shape {xbar.shape}\\n')\n",
    "    \n",
    "    solution_list.append(xbar)\n",
    "    # print(f'average of xbar is {np.mean(xbar)}\\n')\n",
    "    \n",
    "    # Scatter xbar\n",
    "    for pipe in pipes:\n",
    "        pipe.send(xbar)\n",
    "    \n",
    "[p.terminate() for p in procs]"
   ]
  },
  {
   "cell_type": "code",
   "execution_count": 76,
   "id": "2c889dfb-9885-490c-89f6-fe7117006471",
   "metadata": {},
   "outputs": [
    {
     "name": "stdout",
     "output_type": "stream",
     "text": [
      "1 0\n",
      "2 0\n",
      "0 1\n",
      "2 1\n",
      "0 2\n",
      "1 2\n"
     ]
    }
   ],
   "source": [
    "for i in range(N):\n",
    "    for j in range(N):\n",
    "        if j != i:\n",
    "            print(j,i)"
   ]
  },
  {
   "cell_type": "code",
   "execution_count": null,
   "id": "95775d05-6bda-439f-9d2f-09abc0605e2c",
   "metadata": {},
   "outputs": [],
   "source": []
  }
 ],
 "metadata": {
  "kernelspec": {
   "display_name": "Python 3 (ipykernel)",
   "language": "python",
   "name": "python3"
  },
  "language_info": {
   "codemirror_mode": {
    "name": "ipython",
    "version": 3
   },
   "file_extension": ".py",
   "mimetype": "text/x-python",
   "name": "python",
   "nbconvert_exporter": "python",
   "pygments_lexer": "ipython3",
   "version": "3.10.4"
  }
 },
 "nbformat": 4,
 "nbformat_minor": 5
}
