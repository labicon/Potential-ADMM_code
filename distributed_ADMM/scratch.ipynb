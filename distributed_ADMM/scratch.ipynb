{
 "cells": [
  {
   "cell_type": "code",
   "execution_count": 1,
   "id": "39da7078-d0e5-4039-8c12-113859f23d94",
   "metadata": {},
   "outputs": [],
   "source": [
    "import numpy as np\n",
    "import osqp\n",
    "import matplotlib.pyplot as plt\n",
    "from scipy import sparse\n",
    "import control as ct\n",
    "from casadi import *\n",
    "import dpilqr\n",
    "import itertools"
   ]
  },
  {
   "cell_type": "code",
   "execution_count": 34,
   "id": "2e3fef3c",
   "metadata": {},
   "outputs": [],
   "source": [
    "def split(array, nrows, ncols):\n",
    "    \"\"\"Split a matrix into sub-matrices.\"\"\"\n",
    "\n",
    "    r, h = array.shape\n",
    "    return (array.reshape(h//nrows, nrows, -1, ncols)\n",
    "                 .swapaxes(1, 2)\n",
    "                 .reshape(-1, nrows, ncols))"
   ]
  },
  {
   "cell_type": "code",
   "execution_count": 35,
   "id": "fe0b142a",
   "metadata": {},
   "outputs": [],
   "source": [
    "from solvers.util import (\n",
    "    compute_pairwise_distance,\n",
    "    compute_pairwise_distance_nd_Sym,\n",
    "    define_inter_graph_threshold,\n",
    "    distance_to_goal,\n",
    "    split_graph, \n",
    "    generate_f,\n",
    "    generate_f_human_drone,\n",
    "    objective,\n",
    "    generate_min_max_input,\n",
    "    generate_min_max_state\n",
    ")\n"
   ]
  },
  {
   "cell_type": "code",
   "execution_count": 36,
   "id": "821d8f93-aced-48a9-b964-af71b5f48fb9",
   "metadata": {},
   "outputs": [],
   "source": [
    "def linear_kinodynamics(dt,n_agent):\n",
    "    #Decision vector is a = [a_x, a_y, a_z]\n",
    "    #State vector is X = [p_x, p_y, p_z, v_x, v_y, v_z]\n",
    "    #Discretization time step is dt\n",
    "    A_tot = sparse.lil_matrix((6*n_agent, 6*n_agent))\n",
    "    B_tot = sparse.lil_matrix((6*n_agent, 3*n_agent))\n",
    "    A = sparse.csc_matrix([[1, 0, 0, dt, 0, 0],\n",
    "                           [0, 1, 0, 0 , dt ,0],\\\n",
    "                           [0, 0, 1, 0, 0 , dt],\\\n",
    "                           [0, 0, 0, 1, 0 ,0],\\\n",
    "                           [0, 0, 0, 0, 1 ,0],\\\n",
    "                           [0, 0, 0, 0, 0, 1]])\n",
    "    B = sparse.csc_matrix([[dt**2/2, 0, 0],\\\n",
    "                           [0, dt**2/2, 0],\\\n",
    "                           [0, 0, dt**2/2],\\\n",
    "                           [dt, 0, 0 ],\\\n",
    "                           [0, dt , 0],\\\n",
    "                           [0, 0, dt]])\n",
    "\n",
    "    for i in range(n_agent):\n",
    "        A_tot[i*6:(i+1)*6,i*6:(i+1)*6] = A\n",
    "        B_tot[i*6:(i+1)*6,i*3:(i+1)*3] = B\n",
    "        \n",
    "    \n",
    "    return A_tot, B_tot\n",
    "        \n",
    "        \n",
    "    "
   ]
  },
  {
   "cell_type": "code",
   "execution_count": 37,
   "id": "e1bed8fb",
   "metadata": {},
   "outputs": [],
   "source": [
    "A_tot,B_tot = linear_kinodynamics(0.1,3)"
   ]
  },
  {
   "cell_type": "code",
   "execution_count": 38,
   "id": "5d3048d3",
   "metadata": {},
   "outputs": [],
   "source": [
    "from solvers import util"
   ]
  },
  {
   "cell_type": "code",
   "execution_count": 39,
   "id": "b699979f",
   "metadata": {},
   "outputs": [],
   "source": [
    "x0,xr = util.paper_setup_3_quads()"
   ]
  },
  {
   "cell_type": "code",
   "execution_count": 40,
   "id": "350c9938",
   "metadata": {},
   "outputs": [],
   "source": [
    "def split(array, nrows, ncols):\n",
    "    \"\"\"Split a matrix into sub-matrices.\"\"\"\n",
    "\n",
    "    r, h = array.shape\n",
    "    return (array.reshape(h//nrows, nrows, -1, ncols)\n",
    "                 .swapaxes(1, 2)\n",
    "                 .reshape(-1, nrows, ncols))\n"
   ]
  },
  {
   "cell_type": "code",
   "execution_count": 41,
   "id": "eece1868",
   "metadata": {},
   "outputs": [],
   "source": [
    "def diag_block_mat_booliex(L):\n",
    "    shp = L[0].shape\n",
    "    mask = np.kron(np.eye(len(L)), np.ones(shp))==1\n",
    "    out = np.zeros(np.asarray(shp)*len(L),dtype=int)\n",
    "    out[mask] = np.concatenate(L).ravel()\n",
    "    return out"
   ]
  },
  {
   "cell_type": "code",
   "execution_count": 42,
   "id": "72d2525e",
   "metadata": {},
   "outputs": [],
   "source": [
    "def get_coll_cost(x, x_dims, radius, weight=200):\n",
    "    distances = compute_pairwise_distance(x0, x_dims)\n",
    "    pair_costs = np.fmin(np.zeros(1), distances - radius) ** 2\n",
    "    return pair_costs.sum()*weight"
   ]
  },
  {
   "cell_type": "code",
   "execution_count": 43,
   "id": "8e565206",
   "metadata": {},
   "outputs": [],
   "source": [
    "def construct_P(P_base, num_agents):\n",
    "    n = 6  # Dimension of state vector for each agent\n",
    "    for i in range(num_agents):\n",
    "        for j in range(num_agents):\n",
    "            if i !=j:\n",
    "                # Determine the position iices of agents i and j in the state vector\n",
    "                pos_i = n * i  # Assuming each agent has 6 state vector components (3 positions + 3 velocities)\n",
    "                pos_j = n * j\n",
    "\n",
    "                # Modify the corresponding elements in P to incorporate collision avoidance\n",
    "                # P_base[pos_i:pos_i + 3, pos_i:pos_i + 3] += np.eye(3) # (pos_i, pos_i)\n",
    "                P_base[pos_i:pos_i + 3, pos_j:pos_j + 3] = np.eye(3)*50 # (pos_i, pos_j)\n",
    "                P_base[pos_j:pos_j + 3, pos_i:pos_i + 3] = -np.eye(3)*50  # (pos_j, pos_i)\n",
    "                # P_base[pos_j:pos_j + 3, pos_j:pos_j + 3] += np.eye(3) # (pos_j, pos_j)\n",
    "\n",
    "    return P_base"
   ]
  },
  {
   "attachments": {},
   "cell_type": "markdown",
   "id": "894e1fa6",
   "metadata": {},
   "source": [
    "## Solving the consensus ADMM problem with OSQP"
   ]
  },
  {
   "cell_type": "code",
   "execution_count": 44,
   "id": "19580003",
   "metadata": {},
   "outputs": [],
   "source": [
    "import cvxpy as cp"
   ]
  },
  {
   "attachments": {},
   "cell_type": "markdown",
   "id": "4716b81e",
   "metadata": {},
   "source": []
  },
  {
   "cell_type": "code",
   "execution_count": 45,
   "id": "0533dd7d",
   "metadata": {},
   "outputs": [],
   "source": [
    "def compute_pairwise_distance_CVX(X, x_dims, n_dims):\n",
    "    \"\"\"Analog to the above whenever some agents only use distance in the x-y plane\"\"\"\n",
    "    CYLiER_RADIUS = 0.2\n",
    "\n",
    "    n_states = x_dims[0]\n",
    "    n_agents = len(x_dims)\n",
    "    distances = []\n",
    "    eps = 1e-3\n",
    "\n",
    "    for i, n_dim_i in zip(range(n_agents), n_dims):\n",
    "        for j, n_dim_j in zip(range(i + 1, n_agents), n_dims[i + 1 :]):\n",
    "            n_dim = min(n_dim_i, n_dim_j)\n",
    "\n",
    "            Xi = X[i * n_states : i * n_states + n_dim]\n",
    "            Xj = X[j * n_states : j * n_states + n_dim]\n",
    "            dX = Xi-Xj\n",
    "\n",
    "            if n_dim == 3:\n",
    "                # distances.append(cp.sqrt(dX[0]**2+dX[1]**2+dX[2]**2+eps))\n",
    "                distances.append(cp.norm(dX))\n",
    "            else:\n",
    "                distances.append(cp.sqrt(dX[0]**2+dX[1]**2 + eps)+CYLiER_RADIUS)\n",
    "    \n",
    "    return distances"
   ]
  },
  {
   "cell_type": "code",
   "execution_count": 46,
   "id": "c5b3d1ca",
   "metadata": {},
   "outputs": [],
   "source": [
    "# # Solving MPC with OSQP solver\n",
    "# N = 10\n",
    "\n",
    "# cost = 0\n",
    "# constr = []\n",
    "# x0,xr = util.paper_setup_3_quads()\n",
    "\n",
    "\n",
    "# nsim = 50\n",
    "# radius = 0.5\n",
    "\n",
    "\n",
    "# # X_full = np.zeros((nsim+1,nx))\n",
    "# X_full = np.zeros((0,nx))\n",
    "# X_full = np.r_[X_full,x0.reshape(1,-1)]\n",
    "# xi = x0.flatten()\n",
    "# xr = xr.flatten()\n",
    "# Ad,Bd = linear_kinodynamics(0.1, 3)\n",
    "# n_agents = 3\n",
    "# nx = n_agents * 6\n",
    "# nu = n_agents * 3\n",
    "# Q = sparse.diags([10., 10., 10., 10., 10., 10.]*n_agents)\n",
    "# QN = Q*10\n",
    "# R = 0.1*sparse.eye(nu)\n",
    "# s_prev = None\n",
    "\n",
    "# iter = 0\n",
    "# x_dims = [n_states]*n_agents\n",
    "# n_dims = [3]*n_agents\n",
    "# # while not np.all(dpilqr.distance_to_goal(xi,xr,3,6,3) < 0.1) and (iter <= nsim):\n",
    "# for _ in range(nsim):\n",
    "#     x = cp.Variable((N+1,nx))\n",
    "#     u = cp.Variable((N,nu))\n",
    "#     cost = 0\n",
    "#     constr = []\n",
    "    \n",
    "#     for t in range(N):\n",
    "\n",
    "#         cost += cp.quad_form(x[t+1,:],Q) + cp.quad_form(u[t,:],R)\n",
    "  \n",
    "#         # Linearized collision avoidance constraints\n",
    "#         if iter > 0:\n",
    "#             for i in range(n_agents):\n",
    "#                 for j in range(n_agents):\n",
    "#                     if j != i:\n",
    "#                         for k in range(N+1):\n",
    "#                             constr += [cp.norm(x_prev[k,j*n_states:j*n_states+3]-x_prev[k,i*n_states:i*n_states+3], 1) + \\\n",
    "#                                     (x_prev[k,j*n_states:j*n_states+3].T- x_prev[k,i*n_states:i*n_states+3].T)/cp.norm(x_prev[k,j*n_states:j*n_states+3]\\\n",
    "#                                     -x_prev[k,i*n_states:i*n_states+3], 1)@\\\n",
    "#                                     (x[k,j*n_states:j*n_states+3]-x[k,i*n_states:i*n_states+3]) >= radius]\n",
    "    \n",
    "                        \n",
    "#         constr += [x[t + 1,:] == Ad @ x[t,:] + Bd @ u[t, :]]\n",
    "#         constr += [u[t,:] <= np.tile(np.array([5, 5, 5]),(n_agents,)) ]\n",
    "#         constr += [np.tile(np.array([-5, -5, -5]),(n_agents,)) <= u[t, :]]\n",
    "#         # constr += [x[t, :] <= np.tile(np.array([np.inf, np.inf, np.inf, 2, 2, 2]),(n_agents,))]\n",
    "#         # constr += [np.tile(-np.array([np.inf, np.inf, np.inf, 2, 2, 2]),(n_agents,)) <= x[t,:]]\n",
    "\n",
    "#     cost += cp.quad_form((x[-1,:]-xr.flatten()),Q)    \n",
    "#     constr += [x[0, :] == xi]\n",
    "\n",
    "#     problem = cp.Problem(cp.Minimize(cost), constr)\n",
    "#     problem.solve(verbose=True)\n",
    "\n",
    "#     u_trj = u.value\n",
    "#     x_trj = x.value\n",
    "#     x_prev = x_trj\n",
    "#     ctrl = u_trj[1]\n",
    "#     xi = Ad@xi + Bd@ctrl\n",
    "#     # X_full[iter+1,:] = xi\n",
    "#     X_full = np.r_[X_full,xi.reshape(1,-1)]\n",
    "    \n",
    "#     iter +=1\n",
    "    \n"
   ]
  },
  {
   "cell_type": "code",
   "execution_count": 47,
   "id": "441fd3d3",
   "metadata": {},
   "outputs": [],
   "source": [
    "# %matplotlib ipympl\n",
    "# plt.figure(dpi=100)\n",
    "# dpilqr.plot_solve(X_full,0,xr,[6,6,6],True,3)\n",
    "# plt.legend(plt.gca().get_children()[1:3], [\"Start Position\", \"Goal Position\"])"
   ]
  },
  {
   "attachments": {},
   "cell_type": "markdown",
   "id": "31f920e7",
   "metadata": {},
   "source": [
    "### Consensus-ADMM"
   ]
  },
  {
   "cell_type": "code",
   "execution_count": 1,
   "id": "ae4d72d7",
   "metadata": {},
   "outputs": [],
   "source": [
    "from solvers import util\n",
    "from multiprocessing import Process, Pipe\n",
    "import cvxpy as cp\n",
    "from multi_agent_scp import *"
   ]
  },
  {
   "cell_type": "code",
   "execution_count": 2,
   "id": "616df57e",
   "metadata": {},
   "outputs": [],
   "source": [
    "%load_ext autoreload\n",
    "%autoreload 2"
   ]
  },
  {
   "cell_type": "code",
   "execution_count": 14,
   "id": "24b84e49",
   "metadata": {},
   "outputs": [
    {
     "ename": "ValueError",
     "evalue": "dimension mismatch",
     "output_type": "error",
     "traceback": [
      "\u001b[0;31m---------------------------------------------------------------------------\u001b[0m",
      "\u001b[0;31mValueError\u001b[0m                                Traceback (most recent call last)",
      "\u001b[1;32m/home/randychen233/projects/ICON_lab/distributed_opt/distributed_ADMM/scratch.ipynb Cell 21\u001b[0m in \u001b[0;36m<cell line: 25>\u001b[0;34m()\u001b[0m\n\u001b[1;32m     <a href='vscode-notebook-cell://wsl%2Bubuntu-20.04/home/randychen233/projects/ICON_lab/distributed_opt/distributed_ADMM/scratch.ipynb#X36sdnNjb2RlLXJlbW90ZQ%3D%3D?line=22'>23</a>\u001b[0m y_state \u001b[39m=\u001b[39m cp\u001b[39m.\u001b[39mVariable(((T\u001b[39m+\u001b[39m\u001b[39m1\u001b[39m)\u001b[39m*\u001b[39mnx \u001b[39m+\u001b[39m T \u001b[39m*\u001b[39m nu, \u001b[39m1\u001b[39m))\n\u001b[1;32m     <a href='vscode-notebook-cell://wsl%2Bubuntu-20.04/home/randychen233/projects/ICON_lab/distributed_opt/distributed_ADMM/scratch.ipynb#X36sdnNjb2RlLXJlbW90ZQ%3D%3D?line=24'>25</a>\u001b[0m \u001b[39mfor\u001b[39;00m \u001b[39mid\u001b[39m \u001b[39min\u001b[39;00m \u001b[39mrange\u001b[39m(N):\n\u001b[0;32m---> <a href='vscode-notebook-cell://wsl%2Bubuntu-20.04/home/randychen233/projects/ICON_lab/distributed_opt/distributed_ADMM/scratch.ipynb#X36sdnNjb2RlLXJlbW90ZQ%3D%3D?line=25'>26</a>\u001b[0m     objective \u001b[39m=\u001b[39m objective_admm(y_state, xr, T, Q_try, R_try, Q\u001b[39m*\u001b[39;49m\u001b[39m10\u001b[39;49m)\n\u001b[1;32m     <a href='vscode-notebook-cell://wsl%2Bubuntu-20.04/home/randychen233/projects/ICON_lab/distributed_opt/distributed_ADMM/scratch.ipynb#X36sdnNjb2RlLXJlbW90ZQ%3D%3D?line=26'>27</a>\u001b[0m     f_list\u001b[39m.\u001b[39mappend(objective)\n\u001b[1;32m     <a href='vscode-notebook-cell://wsl%2Bubuntu-20.04/home/randychen233/projects/ICON_lab/distributed_opt/distributed_ADMM/scratch.ipynb#X36sdnNjb2RlLXJlbW90ZQ%3D%3D?line=28'>29</a>\u001b[0m \u001b[39mdef\u001b[39;00m \u001b[39mrun_worker\u001b[39m(f, pipe):\n",
      "File \u001b[0;32m~/projects/ICON_lab/distributed_opt/distributed_ADMM/multi_agent_scp.py:36\u001b[0m, in \u001b[0;36mobjective_admm\u001b[0;34m(y_aug, s_goal, N, Q, R, P)\u001b[0m\n\u001b[1;32m     33\u001b[0m P \u001b[39m=\u001b[39m sparse\u001b[39m.\u001b[39mblock_diag([sparse\u001b[39m.\u001b[39mkron(sparse\u001b[39m.\u001b[39meye(N), Q), P,\n\u001b[1;32m     34\u001b[0m                    sparse\u001b[39m.\u001b[39mkron(sparse\u001b[39m.\u001b[39meye(N), R)], \u001b[39mformat\u001b[39m\u001b[39m=\u001b[39m\u001b[39m'\u001b[39m\u001b[39mcsc\u001b[39m\u001b[39m'\u001b[39m)\n\u001b[1;32m     35\u001b[0m \u001b[39m# linear objective\u001b[39;00m\n\u001b[0;32m---> 36\u001b[0m q \u001b[39m=\u001b[39m np\u001b[39m.\u001b[39mhstack([np\u001b[39m.\u001b[39mkron(np\u001b[39m.\u001b[39mones(N), \u001b[39m-\u001b[39mQ\u001b[39m@s_goal\u001b[39m\u001b[39m.\u001b[39mflatten()), \u001b[39m-\u001b[39;49mP\u001b[39m@s_goal\u001b[39;49m\u001b[39m.\u001b[39;49mflatten(), np\u001b[39m.\u001b[39mzeros(N\u001b[39m*\u001b[39mnu)])\n\u001b[1;32m     37\u001b[0m \u001b[39mprint\u001b[39m(\u001b[39mf\u001b[39m\u001b[39m'\u001b[39m\u001b[39mq has shape \u001b[39m\u001b[39m{\u001b[39;00mq\u001b[39m.\u001b[39mshape\u001b[39m}\u001b[39;00m\u001b[39m'\u001b[39m)\n\u001b[1;32m     38\u001b[0m objective \u001b[39m+\u001b[39m\u001b[39m=\u001b[39m cp\u001b[39m.\u001b[39mquad_form(y_aug, H) \u001b[39m+\u001b[39m q\u001b[39m.\u001b[39mT \u001b[39m@\u001b[39m y_aug\n",
      "File \u001b[0;32m~/anaconda3/envs/ICON_lab/lib/python3.10/site-packages/scipy/sparse/_base.py:623\u001b[0m, in \u001b[0;36mspmatrix.__matmul__\u001b[0;34m(self, other)\u001b[0m\n\u001b[1;32m    620\u001b[0m \u001b[39mif\u001b[39;00m isscalarlike(other):\n\u001b[1;32m    621\u001b[0m     \u001b[39mraise\u001b[39;00m \u001b[39mValueError\u001b[39;00m(\u001b[39m\"\u001b[39m\u001b[39mScalar operands are not allowed, \u001b[39m\u001b[39m\"\u001b[39m\n\u001b[1;32m    622\u001b[0m                      \u001b[39m\"\u001b[39m\u001b[39muse \u001b[39m\u001b[39m'\u001b[39m\u001b[39m*\u001b[39m\u001b[39m'\u001b[39m\u001b[39m instead\u001b[39m\u001b[39m\"\u001b[39m)\n\u001b[0;32m--> 623\u001b[0m \u001b[39mreturn\u001b[39;00m \u001b[39mself\u001b[39;49m\u001b[39m.\u001b[39;49m_mul_dispatch(other)\n",
      "File \u001b[0;32m~/anaconda3/envs/ICON_lab/lib/python3.10/site-packages/scipy/sparse/_base.py:555\u001b[0m, in \u001b[0;36mspmatrix._mul_dispatch\u001b[0;34m(self, other)\u001b[0m\n\u001b[1;32m    552\u001b[0m \u001b[39mif\u001b[39;00m other\u001b[39m.\u001b[39mndim \u001b[39m==\u001b[39m \u001b[39m1\u001b[39m \u001b[39mor\u001b[39;00m other\u001b[39m.\u001b[39mndim \u001b[39m==\u001b[39m \u001b[39m2\u001b[39m \u001b[39mand\u001b[39;00m other\u001b[39m.\u001b[39mshape[\u001b[39m1\u001b[39m] \u001b[39m==\u001b[39m \u001b[39m1\u001b[39m:\n\u001b[1;32m    553\u001b[0m     \u001b[39m# dense row or column vector\u001b[39;00m\n\u001b[1;32m    554\u001b[0m     \u001b[39mif\u001b[39;00m other\u001b[39m.\u001b[39mshape \u001b[39m!=\u001b[39m (N,) \u001b[39mand\u001b[39;00m other\u001b[39m.\u001b[39mshape \u001b[39m!=\u001b[39m (N, \u001b[39m1\u001b[39m):\n\u001b[0;32m--> 555\u001b[0m         \u001b[39mraise\u001b[39;00m \u001b[39mValueError\u001b[39;00m(\u001b[39m'\u001b[39m\u001b[39mdimension mismatch\u001b[39m\u001b[39m'\u001b[39m)\n\u001b[1;32m    557\u001b[0m     result \u001b[39m=\u001b[39m \u001b[39mself\u001b[39m\u001b[39m.\u001b[39m_mul_vector(np\u001b[39m.\u001b[39mravel(other))\n\u001b[1;32m    559\u001b[0m     \u001b[39mif\u001b[39;00m \u001b[39misinstance\u001b[39m(other, np\u001b[39m.\u001b[39mmatrix):\n",
      "\u001b[0;31mValueError\u001b[0m: dimension mismatch"
     ]
    }
   ],
   "source": [
    "# Number of terms f_i.\n",
    "N = 3\n",
    "Ad,Bd = linear_kinodynamics(0.1,N)\n",
    "# A list of all the f_i.\n",
    "T = 15 #Prediction horizon\n",
    "n_states = 6\n",
    "n_inputs = 3\n",
    "Q_try = np.eye(n_states*N)\n",
    "R_try = np.eye(n_inputs*N)*0.1\n",
    "n = n_states*N\n",
    "\n",
    "x0, xr = util.paper_setup_3_quads()\n",
    "\n",
    "constr = []\n",
    "cost_i = 0\n",
    "f_list = []\n",
    "\n",
    "nx = n_states*N\n",
    "nu = n_inputs*N\n",
    "\n",
    "# x = cp.Variable(((T+1)*nx, 1))\n",
    "# u_input = cp.Variable((T*nu, 1))\n",
    "y_state = cp.Variable(((T+1)*nx + T * nu, 1))\n",
    "\n",
    "for id in range(N):\n",
    "    objective = objective_admm(y_state, xr, T, Q_try, R_try, Q*10)\n",
    "    f_list.append(objective)\n",
    "\n",
    "def run_worker(f, pipe):\n",
    "    Q = np.diag([10., 10., 10., 10., 10., 10.]* N)\n",
    "    x_dims = [6]*3\n",
    "    QN = Q*10\n",
    "    P = 1e3*np.eye(nx) \n",
    "    R = 0.1*np.eye(nu)\n",
    "    ρ = 200                        \n",
    "    tol = 5e-1\n",
    "\n",
    "    rho = 1\n",
    "    xbar = cp.Parameter((T+1)*nx + T*nu, value=np.zeros((T+1)*nx + T*nu))\n",
    "    u = cp.Parameter((T+1)*nx + T*nu, value=np.zeros((T+1)*nx + T*nu)) #This is the scaled Lagrange multiplier\n",
    "    f += (rho/2)*cp.sum_squares(y_state.flatten() - xbar + u)\n",
    "    prox = cp.Problem(cp.Minimize(f),constr)\n",
    "    # ADMM loop.\n",
    "    iter = 0\n",
    "    \n",
    "    fd = jax.jit(discretize(multi_Quad_Dynamics, 0.1, x_dims))\n",
    "    while True:\n",
    "        try:\n",
    "            #Solve local constrained problem with SCP \n",
    "            # s,u = solve_scp(fd, P, Q, R, T, xr, x0.reshape(1,-1), ρ, tol, 30, N, 0.5, f)\n",
    "            \n",
    "            prox.solve()\n",
    "            \n",
    "            # pipe.send(np.hstack((s.flatten(),u.flatten())))\n",
    "            pipe.send(y_state.value.flatten())\n",
    "            \n",
    "            xbar.value = pipe.recv() #receive the averaged result from the main process.\n",
    "            # print(f'xbar has shape {xbar.value.shape} \\n')\n",
    "            u.value += y_state.value.flatten() - xbar.value\n",
    "            # u.value += np.hstack((s.flatten(),u.flatten())) - xbar.value\n",
    "            iter += 1\n",
    "            \n",
    "        except EOFError:\n",
    "            print(\"Connection closed.\")\n",
    "            break\n",
    "\n",
    "# Setup the workers.\n",
    "pipes = []\n",
    "procs = []\n",
    "for i in range(N):\n",
    "    local, remote = Pipe()\n",
    "    pipes += [local]\n",
    "    procs += [Process(target=run_worker, args=(f_list[i], remote))]\n",
    "    procs[-1].start()\n",
    "\n",
    "# ADMM loop.\n",
    "solution_list = []\n",
    "for i in range(30):\n",
    "    # Gather and average xi\n",
    "    xbar = sum(pipe.recv() for pipe in pipes)/N\n",
    "    # print(f'xbar is {xbar}, has shape {xbar.shape}\\n')\n",
    "    solution_list.append(xbar)\n",
    "    # print(f'average of xbar is {np.mean(xbar)}\\n')\n",
    "    # Scatter xbar\n",
    "    for pipe in pipes:\n",
    "        pipe.send(xbar)\n",
    "    \n",
    "[p.terminate() for p in procs]"
   ]
  },
  {
   "cell_type": "code",
   "execution_count": 158,
   "id": "8a851fa3",
   "metadata": {},
   "outputs": [
    {
     "data": {
      "text/plain": [
       "array([[2.5, 1.5, 1. , 0. , 0. , 0. , 0.5, 1.5, 1. , 0. , 0. , 0. , 1.5,\n",
       "        2.2, 1. , 0. , 0. , 0. ]])"
      ]
     },
     "execution_count": 158,
     "metadata": {},
     "output_type": "execute_result"
    }
   ],
   "source": [
    "xr.T"
   ]
  },
  {
   "cell_type": "code",
   "execution_count": 160,
   "id": "371bfebb",
   "metadata": {},
   "outputs": [
    {
     "data": {
      "text/plain": [
       "array([ 0.173,  0.52 ,  0.347, -0.057, -0.17 , -0.113,  0.866,  0.52 ,\n",
       "        0.347, -0.283, -0.17 , -0.113,  0.52 ,  0.451,  0.347, -0.17 ,\n",
       "       -0.147, -0.113])"
      ]
     },
     "execution_count": 160,
     "metadata": {},
     "output_type": "execute_result"
    }
   ],
   "source": [
    "solution_list[-1][T*nx:(T+1)*nx] #state vector at the last step of the horizon T"
   ]
  },
  {
   "cell_type": "code",
   "execution_count": null,
   "id": "e95b3d10",
   "metadata": {},
   "outputs": [],
   "source": []
  }
 ],
 "metadata": {
  "kernelspec": {
   "display_name": "Python 3 (ipykernel)",
   "language": "python",
   "name": "python3"
  },
  "language_info": {
   "codemirror_mode": {
    "name": "ipython",
    "version": 3
   },
   "file_extension": ".py",
   "mimetype": "text/x-python",
   "name": "python",
   "nbconvert_exporter": "python",
   "pygments_lexer": "ipython3",
   "version": "3.10.4"
  }
 },
 "nbformat": 4,
 "nbformat_minor": 5
}
