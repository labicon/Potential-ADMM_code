{
 "cells": [
  {
   "cell_type": "code",
   "execution_count": 12,
   "metadata": {},
   "outputs": [],
   "source": [
    "import pandas as pd\n",
    "import numpy as np \n",
    "import matplotlib.pyplot as plt\n",
    "import seaborn as sns"
   ]
  },
  {
   "cell_type": "code",
   "execution_count": 550,
   "metadata": {},
   "outputs": [],
   "source": [
    "from solvers import util\n"
   ]
  },
  {
   "cell_type": "markdown",
   "metadata": {},
   "source": [
    "#### We start by analyzing the comparison of computation times between DP-ILQR, regular consensus ADMM, and potential ADMM:"
   ]
  },
  {
   "cell_type": "code",
   "execution_count": 594,
   "metadata": {},
   "outputs": [],
   "source": [
    "drones_3_8_combined= pd.read_excel('ADMM_mpc_3_to_8_agents.xlsm', sheet_name='Sheet1')"
   ]
  },
  {
   "cell_type": "code",
   "execution_count": 595,
   "metadata": {},
   "outputs": [
    {
     "data": {
      "text/plain": [
       "Index(['i_trial', ' n_agents', ' t', ' converged', ' obj_trj', 'T', 'dt',\n",
       "       'radius', '         SOVA_admm ', 't_solve_avg', ' t_solve_std',\n",
       "       ' MAX_ITER', ' dist_to_goal'],\n",
       "      dtype='object')"
      ]
     },
     "execution_count": 595,
     "metadata": {},
     "output_type": "execute_result"
    }
   ],
   "source": [
    "drones_3_8_combined.columns"
   ]
  },
  {
   "cell_type": "code",
   "execution_count": 596,
   "metadata": {},
   "outputs": [],
   "source": [
    "drones_3_8_combined.columns = ['i_trial','n_agents','t','converged','obj_trj','T','dt','radius','SOVA_admm','t_solve_avg','t_solve_std','MAX_ITER','dist_to_goal']"
   ]
  },
  {
   "cell_type": "code",
   "execution_count": 597,
   "metadata": {},
   "outputs": [],
   "source": [
    "drones_3_8_combined = drones_3_8_combined.loc[drones_3_8_combined['converged']==True]"
   ]
  },
  {
   "cell_type": "code",
   "execution_count": 598,
   "metadata": {},
   "outputs": [],
   "source": [
    "drones_3_8_combined = drones_3_8_combined.replace(to_replace='None', value=np.nan).dropna()"
   ]
  },
  {
   "cell_type": "code",
   "execution_count": 599,
   "metadata": {},
   "outputs": [],
   "source": [
    "drones_3_8_combined = drones_3_8_combined.dropna()"
   ]
  },
  {
   "cell_type": "code",
   "execution_count": 600,
   "metadata": {},
   "outputs": [
    {
     "data": {
      "text/plain": [
       "Index(['i_trial', 'n_agents', 't', 'converged', 'obj_trj', 'T', 'dt', 'radius',\n",
       "       'SOVA_admm', 't_solve_avg', 't_solve_std', 'MAX_ITER', 'dist_to_goal'],\n",
       "      dtype='object')"
      ]
     },
     "execution_count": 600,
     "metadata": {},
     "output_type": "execute_result"
    }
   ],
   "source": [
    "drones_3_8_combined.columns"
   ]
  },
  {
   "cell_type": "code",
   "execution_count": 694,
   "metadata": {},
   "outputs": [],
   "source": [
    "drones_3_8_combined['normalized_t_solve'] = drones_3_8_combined['t_solve_avg']/drones_3_8_combined['obj_trj']"
   ]
  },
  {
   "cell_type": "code",
   "execution_count": 695,
   "metadata": {},
   "outputs": [],
   "source": [
    "drones_3_8_combined['normalized_t_std'] = drones_3_8_combined['t_solve_std']/drones_3_8_combined['obj_trj']"
   ]
  },
  {
   "cell_type": "code",
   "execution_count": 696,
   "metadata": {},
   "outputs": [],
   "source": [
    "dpilqr_3_to_8_agents = pd.read_excel('dpilqr_3_to_8.xlsm', sheet_name='Sheet1')"
   ]
  },
  {
   "cell_type": "code",
   "execution_count": 697,
   "metadata": {},
   "outputs": [
    {
     "data": {
      "text/plain": [
       "Index(['dynamics', 'n_agents', 'i_trial', 'centralized', 'last', 't', 'J',\n",
       "       'horizon', 'dt', 'converged', 'ids', 't_solve_avg', 't_solve_std',\n",
       "       'subgraphs', 'dist_left'],\n",
       "      dtype='object')"
      ]
     },
     "execution_count": 697,
     "metadata": {},
     "output_type": "execute_result"
    }
   ],
   "source": [
    "dpilqr_3_to_8_agents.columns"
   ]
  },
  {
   "cell_type": "code",
   "execution_count": 698,
   "metadata": {},
   "outputs": [],
   "source": [
    "dpilqr_3_to_8_agents.drop(columns=['dynamics','last','ids','subgraphs'],inplace=True)"
   ]
  },
  {
   "cell_type": "code",
   "execution_count": 699,
   "metadata": {},
   "outputs": [],
   "source": [
    "dpilqr_3_to_8_agents.columns = ['n_agents', 'i_trial', 'SOVA_admm', 't','obj_trj', 'T', 'dt', 'converged','t_solve_avg', 't_solve_std', 'dist_to_goal']"
   ]
  },
  {
   "cell_type": "code",
   "execution_count": 700,
   "metadata": {},
   "outputs": [],
   "source": [
    "dpilqr_3_to_8_agents['normalized_t_solve'] = dpilqr_3_to_8_agents['t_solve_avg']/dpilqr_3_to_8_agents['obj_trj']\n"
   ]
  },
  {
   "cell_type": "code",
   "execution_count": 701,
   "metadata": {},
   "outputs": [],
   "source": [
    "dpilqr_3_to_8_agents['normalized_t_std'] = dpilqr_3_to_8_agents['t_solve_std']/dpilqr_3_to_8_agents['obj_trj']"
   ]
  },
  {
   "cell_type": "code",
   "execution_count": 702,
   "metadata": {},
   "outputs": [
    {
     "data": {
      "text/html": [
       "<div>\n",
       "<style scoped>\n",
       "    .dataframe tbody tr th:only-of-type {\n",
       "        vertical-align: middle;\n",
       "    }\n",
       "\n",
       "    .dataframe tbody tr th {\n",
       "        vertical-align: top;\n",
       "    }\n",
       "\n",
       "    .dataframe thead th {\n",
       "        text-align: right;\n",
       "    }\n",
       "</style>\n",
       "<table border=\"1\" class=\"dataframe\">\n",
       "  <thead>\n",
       "    <tr style=\"text-align: right;\">\n",
       "      <th></th>\n",
       "      <th>n_agents</th>\n",
       "      <th>i_trial</th>\n",
       "      <th>SOVA_admm</th>\n",
       "      <th>t</th>\n",
       "      <th>obj_trj</th>\n",
       "      <th>T</th>\n",
       "      <th>dt</th>\n",
       "      <th>converged</th>\n",
       "      <th>t_solve_avg</th>\n",
       "      <th>t_solve_std</th>\n",
       "      <th>dist_to_goal</th>\n",
       "      <th>normalized_t_solve</th>\n",
       "      <th>normalized_t_std</th>\n",
       "    </tr>\n",
       "  </thead>\n",
       "  <tbody>\n",
       "    <tr>\n",
       "      <th>0</th>\n",
       "      <td>3</td>\n",
       "      <td>0</td>\n",
       "      <td>False</td>\n",
       "      <td>1.3</td>\n",
       "      <td>828.167463</td>\n",
       "      <td>8</td>\n",
       "      <td>0.1</td>\n",
       "      <td>True</td>\n",
       "      <td>0.018375</td>\n",
       "      <td>0.003508</td>\n",
       "      <td>[0.06809967102056529, 0.08392775736397566, 0.0...</td>\n",
       "      <td>0.000022</td>\n",
       "      <td>4.235851e-06</td>\n",
       "    </tr>\n",
       "    <tr>\n",
       "      <th>1</th>\n",
       "      <td>3</td>\n",
       "      <td>1</td>\n",
       "      <td>False</td>\n",
       "      <td>1.4</td>\n",
       "      <td>1247.440727</td>\n",
       "      <td>8</td>\n",
       "      <td>0.1</td>\n",
       "      <td>True</td>\n",
       "      <td>0.019545</td>\n",
       "      <td>0.001119</td>\n",
       "      <td>[0.08209382373905584, 0.027239258113921368, 0....</td>\n",
       "      <td>0.000016</td>\n",
       "      <td>8.973174e-07</td>\n",
       "    </tr>\n",
       "    <tr>\n",
       "      <th>2</th>\n",
       "      <td>3</td>\n",
       "      <td>2</td>\n",
       "      <td>False</td>\n",
       "      <td>1.7</td>\n",
       "      <td>1800.550330</td>\n",
       "      <td>8</td>\n",
       "      <td>0.1</td>\n",
       "      <td>True</td>\n",
       "      <td>0.080149</td>\n",
       "      <td>0.007683</td>\n",
       "      <td>[0.09771915630264676, 0.07990022619853404, 0.0...</td>\n",
       "      <td>0.000045</td>\n",
       "      <td>4.267041e-06</td>\n",
       "    </tr>\n",
       "    <tr>\n",
       "      <th>3</th>\n",
       "      <td>3</td>\n",
       "      <td>3</td>\n",
       "      <td>False</td>\n",
       "      <td>1.2</td>\n",
       "      <td>875.209328</td>\n",
       "      <td>8</td>\n",
       "      <td>0.1</td>\n",
       "      <td>True</td>\n",
       "      <td>0.037942</td>\n",
       "      <td>0.003617</td>\n",
       "      <td>[0.027404585265289782, 0.057506596816226156, 0...</td>\n",
       "      <td>0.000043</td>\n",
       "      <td>4.133216e-06</td>\n",
       "    </tr>\n",
       "    <tr>\n",
       "      <th>4</th>\n",
       "      <td>3</td>\n",
       "      <td>4</td>\n",
       "      <td>False</td>\n",
       "      <td>1.1</td>\n",
       "      <td>802.755533</td>\n",
       "      <td>8</td>\n",
       "      <td>0.1</td>\n",
       "      <td>True</td>\n",
       "      <td>0.031827</td>\n",
       "      <td>0.004204</td>\n",
       "      <td>[0.023639860153240266, 0.05510405304572813, 0....</td>\n",
       "      <td>0.000040</td>\n",
       "      <td>5.236896e-06</td>\n",
       "    </tr>\n",
       "  </tbody>\n",
       "</table>\n",
       "</div>"
      ],
      "text/plain": [
       "   n_agents  i_trial  SOVA_admm    t      obj_trj  T   dt  converged  \\\n",
       "0         3        0      False  1.3   828.167463  8  0.1       True   \n",
       "1         3        1      False  1.4  1247.440727  8  0.1       True   \n",
       "2         3        2      False  1.7  1800.550330  8  0.1       True   \n",
       "3         3        3      False  1.2   875.209328  8  0.1       True   \n",
       "4         3        4      False  1.1   802.755533  8  0.1       True   \n",
       "\n",
       "   t_solve_avg  t_solve_std  \\\n",
       "0     0.018375     0.003508   \n",
       "1     0.019545     0.001119   \n",
       "2     0.080149     0.007683   \n",
       "3     0.037942     0.003617   \n",
       "4     0.031827     0.004204   \n",
       "\n",
       "                                        dist_to_goal  normalized_t_solve  \\\n",
       "0  [0.06809967102056529, 0.08392775736397566, 0.0...            0.000022   \n",
       "1  [0.08209382373905584, 0.027239258113921368, 0....            0.000016   \n",
       "2  [0.09771915630264676, 0.07990022619853404, 0.0...            0.000045   \n",
       "3  [0.027404585265289782, 0.057506596816226156, 0...            0.000043   \n",
       "4  [0.023639860153240266, 0.05510405304572813, 0....            0.000040   \n",
       "\n",
       "   normalized_t_std  \n",
       "0      4.235851e-06  \n",
       "1      8.973174e-07  \n",
       "2      4.267041e-06  \n",
       "3      4.133216e-06  \n",
       "4      5.236896e-06  "
      ]
     },
     "execution_count": 702,
     "metadata": {},
     "output_type": "execute_result"
    }
   ],
   "source": [
    "dpilqr_3_to_8_agents.head()"
   ]
  },
  {
   "cell_type": "code",
   "execution_count": 703,
   "metadata": {},
   "outputs": [],
   "source": [
    "dpilqr_3_to_8_agents['SOVA_admm']='ilqr'"
   ]
  },
  {
   "cell_type": "code",
   "execution_count": 704,
   "metadata": {},
   "outputs": [],
   "source": [
    "dpilqr_admm_df = pd.concat((dpilqr_3_to_8_agents,drones_3_8_combined),ignore_index=True)"
   ]
  },
  {
   "cell_type": "code",
   "execution_count": 705,
   "metadata": {},
   "outputs": [
    {
     "data": {
      "text/plain": [
       "Index(['n_agents', 'i_trial', 'SOVA_admm', 't', 'obj_trj', 'T', 'dt',\n",
       "       'converged', 't_solve_avg', 't_solve_std', 'dist_to_goal',\n",
       "       'normalized_t_solve', 'normalized_t_std', 'radius', 'MAX_ITER'],\n",
       "      dtype='object')"
      ]
     },
     "execution_count": 705,
     "metadata": {},
     "output_type": "execute_result"
    }
   ],
   "source": [
    "dpilqr_admm_df.columns"
   ]
  },
  {
   "cell_type": "code",
   "execution_count": 706,
   "metadata": {},
   "outputs": [
    {
     "data": {
      "image/png": "[encoded data removed]",
      "text/plain": [
       "<Figure size 960x720 with 1 Axes>"
      ]
     },
     "metadata": {},
     "output_type": "display_data"
    }
   ],
   "source": [
    "plt.figure(dpi=150)\n",
    "err_kws = {'capsize': 5, 'capthick':1, 'elinewidth':2.5}\n",
    "ax = sns.lineplot(data=dpilqr_admm_df, x=\"n_agents\", y=\"normalized_t_solve\", hue='SOVA_admm', lw=1.0, style='SOVA_admm',\n",
    "             dashes=False, markers=True, markersize=6.5 ,palette=[\"green\", \"firebrick\", \"grey\"], err_style='bars', err_kws = err_kws)\n",
    "\n",
    "for axis in ['bottom','left']:\n",
    "    ax.spines[axis].set_linewidth(2.0)\n",
    "\n",
    "    \n",
    "ax.spines['top'].set_visible(False)\n",
    "ax.spines['right'].set_visible(False)\n",
    "ax.tick_params(width=2.0)\n",
    "\n",
    "plt.xticks(size=12, weight= 'bold')\n",
    "plt.yticks(size=12, weight= 'bold')\n",
    "# ax.set_xlabel(ax.get_xlabel(), fontsize=12, weight='bold')\n",
    "# ax.set_ylabel(ax.get_ylabel(), fontsize=12, weight='bold')\n",
    "plt.ylabel('Normalized Average Computation Time' , fontsize=12, weight='bold');\n",
    "plt.xlabel('Number of Agents', fontsize=12, weight='bold');\n",
    "plt.legend(labels=['Regular Consensus ADMM','Potential ADMM','DP-ILQR'],frameon=False,prop={'weight':'bold','size':12})\n",
    "\n",
    "plt.savefig('results/avg_computation_times_comparison.png', bbox_inches = 'tight', dpi=250, facecolor = ax.get_facecolor())\n"
   ]
  },
  {
   "cell_type": "code",
   "execution_count": 945,
   "metadata": {},
   "outputs": [
    {
     "data": {
      "image/png": "[encoded data removed]",
      "text/plain": [
       "<Figure size 960x720 with 1 Axes>"
      ]
     },
     "metadata": {},
     "output_type": "display_data"
    }
   ],
   "source": [
    "plt.figure(dpi=150)\n",
    "err_kws = {'capsize': 5, 'capthick':1, 'elinewidth':2.5}\n",
    "ax = sns.lineplot(data=dpilqr_admm_df, x=\"n_agents\", y=\"normalized_t_std\", hue='SOVA_admm', lw=1.0, style='SOVA_admm',\n",
    "             dashes=False, markers=True, markersize=6.5,palette=[\"green\", \"firebrick\", \"grey\"], err_style='bars', err_kws = err_kws)\n",
    "\n",
    "\n",
    "for axis in ['bottom','left']:\n",
    "    ax.spines[axis].set_linewidth(2.0)\n",
    "    \n",
    "ax.spines['top'].set_visible(False)\n",
    "ax.spines['right'].set_visible(False)\n",
    "ax.tick_params(width=2.0)\n",
    "\n",
    "plt.xticks(size=12, weight= 'bold')\n",
    "plt.yticks(size=12, weight= 'bold')\n",
    "# ax.set_xlabel(ax.get_xlabel(), fontsize=12, weight='bold')\n",
    "# ax.set_ylabel(ax.get_ylabel(), fontsize=12, weight='bold')\n",
    "plt.ylabel('Normalized Std. of Computation Time',fontsize=12, weight='bold');\n",
    "plt.xlabel('Number of Agents',fontsize=12, weight='bold');\n",
    "plt.legend(labels=['Regular Consensus ADMM','Potential ADMM','DP-ILQR'],frameon=False,prop={'weight':'bold','size':12})\n",
    "\n",
    "plt.savefig('results/std_computation_times_comparison.png', bbox_inches = 'tight', dpi=250, facecolor = ax.get_facecolor())\n"
   ]
  },
  {
   "cell_type": "markdown",
   "metadata": {},
   "source": [
    "#### Now we analyze optimality gaps between DP-ILQR and potential ADMM compared against a vanilla centralized MPC baseline\n"
   ]
  },
  {
   "cell_type": "code",
   "execution_count": 924,
   "metadata": {},
   "outputs": [],
   "source": [
    "optimality_df = pd.read_excel('ADMM_mpc_max_Iters_1_to_10.xlsm', sheet_name='Sheet1')"
   ]
  },
  {
   "cell_type": "code",
   "execution_count": 925,
   "metadata": {},
   "outputs": [
    {
     "data": {
      "text/plain": [
       "Index(['i_trial', ' n_agents', ' t', ' converged', ' obj_trj', 'T', 'dt',\n",
       "       'radius', '         SOVA_admm ', 't_solve_avg', ' t_solve_std',\n",
       "       ' MAX_ITER', ' dist_to_goal'],\n",
       "      dtype='object')"
      ]
     },
     "execution_count": 925,
     "metadata": {},
     "output_type": "execute_result"
    }
   ],
   "source": [
    "optimality_df.columns"
   ]
  },
  {
   "cell_type": "code",
   "execution_count": 926,
   "metadata": {},
   "outputs": [],
   "source": [
    "optimality_df.columns = ['i_trial', 'n_agents', 't', 'converged', 'obj_trj', 'T', 'dt',\n",
    "       'radius', 'SOVA_admm', 't_solve_avg', 't_solve_std',\n",
    "       'MAX_ITER', 'dist_to_goal']"
   ]
  },
  {
   "cell_type": "code",
   "execution_count": 927,
   "metadata": {},
   "outputs": [],
   "source": [
    "optimality_df = optimality_df[optimality_df['converged']==True]"
   ]
  },
  {
   "cell_type": "code",
   "execution_count": 929,
   "metadata": {},
   "outputs": [],
   "source": [
    "optimality_df = optimality_df.replace(to_replace=np.inf, value=np.nan).dropna()"
   ]
  },
  {
   "cell_type": "code",
   "execution_count": 930,
   "metadata": {},
   "outputs": [],
   "source": [
    "# optimality_df.loc[optimality_df['MAX_ITER']==' None']"
   ]
  },
  {
   "cell_type": "code",
   "execution_count": 931,
   "metadata": {},
   "outputs": [],
   "source": [
    "optimality_df = optimality_df[optimality_df['MAX_ITER'].isin([3, ' None'])]"
   ]
  },
  {
   "cell_type": "code",
   "execution_count": 932,
   "metadata": {},
   "outputs": [],
   "source": [
    "optimality_df = optimality_df.drop(columns=['MAX_ITER','radius'])"
   ]
  },
  {
   "cell_type": "code",
   "execution_count": 933,
   "metadata": {},
   "outputs": [],
   "source": [
    "optimality_df['normalized_t_solve'] = optimality_df['t_solve_avg']/optimality_df['obj_trj']\n"
   ]
  },
  {
   "cell_type": "code",
   "execution_count": 934,
   "metadata": {},
   "outputs": [],
   "source": [
    "optimality_df['normalized_t_std'] = optimality_df['t_solve_std']/optimality_df['obj_trj']"
   ]
  },
  {
   "cell_type": "code",
   "execution_count": 935,
   "metadata": {},
   "outputs": [
    {
     "data": {
      "text/plain": [
       "Index(['i_trial', 'n_agents', 't', 'converged', 'obj_trj', 'T', 'dt',\n",
       "       'SOVA_admm', 't_solve_avg', 't_solve_std', 'dist_to_goal',\n",
       "       'normalized_t_solve', 'normalized_t_std'],\n",
       "      dtype='object')"
      ]
     },
     "execution_count": 935,
     "metadata": {},
     "output_type": "execute_result"
    }
   ],
   "source": [
    "optimality_df.columns"
   ]
  },
  {
   "cell_type": "code",
   "execution_count": 936,
   "metadata": {},
   "outputs": [
    {
     "data": {
      "text/plain": [
       "Index(['n_agents', 'i_trial', 'SOVA_admm', 't', 'obj_trj', 'T', 'dt',\n",
       "       'converged', 't_solve_avg', 't_solve_std', 'dist_to_goal',\n",
       "       'normalized_t_solve', 'normalized_t_std'],\n",
       "      dtype='object')"
      ]
     },
     "execution_count": 936,
     "metadata": {},
     "output_type": "execute_result"
    }
   ],
   "source": [
    "dpilqr_3_to_8_agents.columns"
   ]
  },
  {
   "cell_type": "code",
   "execution_count": 937,
   "metadata": {},
   "outputs": [],
   "source": [
    "final_df = pd.concat((optimality_df,dpilqr_3_to_8_agents),ignore_index=True)"
   ]
  },
  {
   "cell_type": "code",
   "execution_count": 938,
   "metadata": {},
   "outputs": [
    {
     "data": {
      "text/html": [
       "<div>\n",
       "<style scoped>\n",
       "    .dataframe tbody tr th:only-of-type {\n",
       "        vertical-align: middle;\n",
       "    }\n",
       "\n",
       "    .dataframe tbody tr th {\n",
       "        vertical-align: top;\n",
       "    }\n",
       "\n",
       "    .dataframe thead th {\n",
       "        text-align: right;\n",
       "    }\n",
       "</style>\n",
       "<table border=\"1\" class=\"dataframe\">\n",
       "  <thead>\n",
       "    <tr style=\"text-align: right;\">\n",
       "      <th></th>\n",
       "      <th>i_trial</th>\n",
       "      <th>n_agents</th>\n",
       "      <th>t</th>\n",
       "      <th>converged</th>\n",
       "      <th>obj_trj</th>\n",
       "      <th>T</th>\n",
       "      <th>dt</th>\n",
       "      <th>SOVA_admm</th>\n",
       "      <th>t_solve_avg</th>\n",
       "      <th>t_solve_std</th>\n",
       "      <th>dist_to_goal</th>\n",
       "      <th>normalized_t_solve</th>\n",
       "      <th>normalized_t_std</th>\n",
       "    </tr>\n",
       "  </thead>\n",
       "  <tbody>\n",
       "    <tr>\n",
       "      <th>0</th>\n",
       "      <td>0</td>\n",
       "      <td>3</td>\n",
       "      <td>1.2</td>\n",
       "      <td>True</td>\n",
       "      <td>543.811964</td>\n",
       "      <td>8</td>\n",
       "      <td>0.1</td>\n",
       "      <td>centralized_mpc</td>\n",
       "      <td>0.334100</td>\n",
       "      <td>0.018095</td>\n",
       "      <td>[0.079 0.078 0.021]</td>\n",
       "      <td>0.000614</td>\n",
       "      <td>0.000033</td>\n",
       "    </tr>\n",
       "    <tr>\n",
       "      <th>1</th>\n",
       "      <td>0</td>\n",
       "      <td>3</td>\n",
       "      <td>1.2</td>\n",
       "      <td>True</td>\n",
       "      <td>607.180803</td>\n",
       "      <td>8</td>\n",
       "      <td>0.1</td>\n",
       "      <td>True</td>\n",
       "      <td>0.486333</td>\n",
       "      <td>0.065603</td>\n",
       "      <td>[0.08  0.069 0.022]</td>\n",
       "      <td>0.000801</td>\n",
       "      <td>0.000108</td>\n",
       "    </tr>\n",
       "    <tr>\n",
       "      <th>2</th>\n",
       "      <td>0</td>\n",
       "      <td>3</td>\n",
       "      <td>1.4</td>\n",
       "      <td>True</td>\n",
       "      <td>836.399225</td>\n",
       "      <td>8</td>\n",
       "      <td>0.1</td>\n",
       "      <td>centralized_mpc</td>\n",
       "      <td>0.342919</td>\n",
       "      <td>0.021259</td>\n",
       "      <td>[0.056 0.067 0.095]</td>\n",
       "      <td>0.000410</td>\n",
       "      <td>0.000025</td>\n",
       "    </tr>\n",
       "    <tr>\n",
       "      <th>3</th>\n",
       "      <td>0</td>\n",
       "      <td>3</td>\n",
       "      <td>1.4</td>\n",
       "      <td>True</td>\n",
       "      <td>1043.743207</td>\n",
       "      <td>8</td>\n",
       "      <td>0.1</td>\n",
       "      <td>centralized_mpc</td>\n",
       "      <td>0.348794</td>\n",
       "      <td>0.029577</td>\n",
       "      <td>[0.089 0.093 0.098]</td>\n",
       "      <td>0.000334</td>\n",
       "      <td>0.000028</td>\n",
       "    </tr>\n",
       "    <tr>\n",
       "      <th>4</th>\n",
       "      <td>1</td>\n",
       "      <td>3</td>\n",
       "      <td>1.4</td>\n",
       "      <td>True</td>\n",
       "      <td>907.196652</td>\n",
       "      <td>8</td>\n",
       "      <td>0.1</td>\n",
       "      <td>centralized_mpc</td>\n",
       "      <td>0.349751</td>\n",
       "      <td>0.037983</td>\n",
       "      <td>[0.1   0.081 0.083]</td>\n",
       "      <td>0.000386</td>\n",
       "      <td>0.000042</td>\n",
       "    </tr>\n",
       "  </tbody>\n",
       "</table>\n",
       "</div>"
      ],
      "text/plain": [
       "   i_trial  n_agents    t  converged      obj_trj  T   dt        SOVA_admm  \\\n",
       "0        0         3  1.2       True   543.811964  8  0.1  centralized_mpc   \n",
       "1        0         3  1.2       True   607.180803  8  0.1             True   \n",
       "2        0         3  1.4       True   836.399225  8  0.1  centralized_mpc   \n",
       "3        0         3  1.4       True  1043.743207  8  0.1  centralized_mpc   \n",
       "4        1         3  1.4       True   907.196652  8  0.1  centralized_mpc   \n",
       "\n",
       "   t_solve_avg  t_solve_std         dist_to_goal  normalized_t_solve  \\\n",
       "0     0.334100     0.018095  [0.079 0.078 0.021]            0.000614   \n",
       "1     0.486333     0.065603  [0.08  0.069 0.022]            0.000801   \n",
       "2     0.342919     0.021259  [0.056 0.067 0.095]            0.000410   \n",
       "3     0.348794     0.029577  [0.089 0.093 0.098]            0.000334   \n",
       "4     0.349751     0.037983  [0.1   0.081 0.083]            0.000386   \n",
       "\n",
       "   normalized_t_std  \n",
       "0          0.000033  \n",
       "1          0.000108  \n",
       "2          0.000025  \n",
       "3          0.000028  \n",
       "4          0.000042  "
      ]
     },
     "execution_count": 938,
     "metadata": {},
     "output_type": "execute_result"
    }
   ],
   "source": [
    "final_df.head()"
   ]
  },
  {
   "cell_type": "code",
   "execution_count": 939,
   "metadata": {},
   "outputs": [
    {
     "data": {
      "text/plain": [
       "array(['centralized_mpc', True, 'ilqr'], dtype=object)"
      ]
     },
     "execution_count": 939,
     "metadata": {},
     "output_type": "execute_result"
    }
   ],
   "source": [
    "final_df['SOVA_admm'].unique()"
   ]
  },
  {
   "cell_type": "code",
   "execution_count": 940,
   "metadata": {},
   "outputs": [],
   "source": [
    "final_df['relative_gap'] \\\n",
    "    = np.abs(final_df.loc[final_df['SOVA_admm']==True]['obj_trj']-final_df.loc[final_df['SOVA_admm']=='centralized_mpc']['obj_trj'])/final_df.loc[final_df['SOVA_admm']=='centralized_mpc']['obj_trj']"
   ]
  },
  {
   "cell_type": "code",
   "execution_count": null,
   "metadata": {},
   "outputs": [],
   "source": []
  },
  {
   "cell_type": "code",
   "execution_count": null,
   "metadata": {},
   "outputs": [],
   "source": []
  },
  {
   "cell_type": "code",
   "execution_count": null,
   "metadata": {},
   "outputs": [],
   "source": []
  },
  {
   "cell_type": "markdown",
   "metadata": {},
   "source": [
    "#### This comparison is against a centralized MPC without consensus"
   ]
  },
  {
   "cell_type": "code",
   "execution_count": 395,
   "metadata": {},
   "outputs": [],
   "source": [
    "# #This comparison is against a centralized MPC without consensus, not very fair!!!\n",
    "# plt.figure(dpi=150)\n",
    "# err_kws = {'capsize': 5, 'capthick':1, 'elinewidth':2.5}\n",
    "# sns.lineplot(data=decentralized_admm, x=\"n_agents\", y=\"obj_trj\", hue='MAX_ITER', lw=1.0, style='MAX_ITER',dashes=False,\n",
    "#               markers=True, markersize=8, palette=[\"green\", \"firebrick\",\"black\"],err_style='bars', err_kws = err_kws)\n",
    "# sns.lineplot(data=centralized_admm, x=\"n_agents\", y=\"obj_trj\", lw=1.0, style='MAX_ITER',dashes=False,\n",
    "#               markers=True, markersize=8, palette=[\"grey\"],err_style='bars', err_kws = err_kws)\n",
    "# plt.ylabel('Relative Optimality Gap %');\n",
    "# plt.xlabel('Number of Agents');\n",
    "\n",
    "# for axis in ['bottom','left']:\n",
    "#     ax.spines[axis].set_linewidth(2.0)\n",
    "    \n",
    "# ax.spines['top'].set_visible(False)\n",
    "# ax.spines['right'].set_visible(False)\n",
    "# ax.tick_params(width=2.0)\n",
    "\n",
    "# plt.xticks(size=12, weight= 'bold')\n",
    "# plt.yticks(size=12, weight= 'bold')\n",
    "# ax.set_xlabel(ax.get_xlabel(), fontsize=12, weight='bold')\n",
    "# ax.set_ylabel(ax.get_ylabel(), fontsize=12, weight='bold')\n",
    "\n",
    "# plt.legend(labels=['Potential ADMM with 1 iteration',\n",
    "#                    'Potential ADMM with 5 iteration',\n",
    "#                    'Potential ADMM with 10 iteration',\n",
    "#                    ],frameon=False,prop={'weight':'bold','size':8},loc = 'best')\n",
    "\n",
    "# plt.savefig('results/relative_optimality_gap.png', bbox_inches = 'tight', dpi=250, facecolor = ax.get_facecolor())"
   ]
  },
  {
   "cell_type": "code",
   "execution_count": null,
   "metadata": {},
   "outputs": [],
   "source": []
  },
  {
   "cell_type": "code",
   "execution_count": 384,
   "metadata": {},
   "outputs": [],
   "source": [
    "# success_count=df.groupby(['SOVA_admm','n_agents'])['converged'].value_counts()"
   ]
  },
  {
   "cell_type": "code",
   "execution_count": 385,
   "metadata": {},
   "outputs": [],
   "source": [
    "# success_count"
   ]
  },
  {
   "cell_type": "code",
   "execution_count": 386,
   "metadata": {},
   "outputs": [],
   "source": [
    "# success_count_df = pd.DataFrame(success_count)"
   ]
  },
  {
   "cell_type": "code",
   "execution_count": 387,
   "metadata": {},
   "outputs": [],
   "source": [
    "# success_count_df=success_count_df.rename(columns={'converged':'count'})"
   ]
  },
  {
   "cell_type": "code",
   "execution_count": 388,
   "metadata": {},
   "outputs": [],
   "source": [
    "# success_count_df = success_count_df.reset_index()"
   ]
  },
  {
   "cell_type": "code",
   "execution_count": 389,
   "metadata": {},
   "outputs": [],
   "source": [
    "# success_count_df"
   ]
  },
  {
   "cell_type": "code",
   "execution_count": 390,
   "metadata": {},
   "outputs": [],
   "source": [
    "# centralized = success_count_df.loc[success_count_df['SOVA_admm']==False]"
   ]
  },
  {
   "cell_type": "code",
   "execution_count": 391,
   "metadata": {},
   "outputs": [],
   "source": [
    "# distributed = success_count_df.loc[success_count_df['SOVA_admm']==True]"
   ]
  },
  {
   "cell_type": "code",
   "execution_count": 392,
   "metadata": {},
   "outputs": [],
   "source": [
    "# centralized.loc[centralized['converged']==True]['count'].sum()/180 #probability of convergence out of all trials"
   ]
  },
  {
   "cell_type": "code",
   "execution_count": 393,
   "metadata": {},
   "outputs": [],
   "source": [
    "# distributed.loc[distributed['converged']==True]['count'].sum()/180"
   ]
  },
  {
   "cell_type": "code",
   "execution_count": 394,
   "metadata": {},
   "outputs": [],
   "source": [
    "# success_count_df"
   ]
  },
  {
   "cell_type": "code",
   "execution_count": null,
   "metadata": {},
   "outputs": [],
   "source": []
  },
  {
   "cell_type": "code",
   "execution_count": null,
   "metadata": {},
   "outputs": [],
   "source": []
  },
  {
   "cell_type": "markdown",
   "metadata": {},
   "source": [
    "#### An analysis of optimality gap between potential ADMM vs global variable consensus ADMM would be more fair:"
   ]
  },
  {
   "cell_type": "code",
   "execution_count": null,
   "metadata": {},
   "outputs": [],
   "source": []
  },
  {
   "cell_type": "code",
   "execution_count": null,
   "metadata": {},
   "outputs": [],
   "source": []
  },
  {
   "cell_type": "code",
   "execution_count": null,
   "metadata": {},
   "outputs": [],
   "source": []
  },
  {
   "cell_type": "code",
   "execution_count": null,
   "metadata": {},
   "outputs": [],
   "source": []
  },
  {
   "attachments": {},
   "cell_type": "markdown",
   "metadata": {},
   "source": [
    "### Comparison w/ DP-ilQR:"
   ]
  },
  {
   "cell_type": "code",
   "execution_count": 341,
   "metadata": {},
   "outputs": [],
   "source": [
    "dpilqr_3_to_8_agents = pd.read_excel('dpilqr_3_8_agents.xlsm', sheet_name='Sheet1')"
   ]
  },
  {
   "cell_type": "code",
   "execution_count": 342,
   "metadata": {},
   "outputs": [
    {
     "data": {
      "text/html": [
       "<div>\n",
       "<style scoped>\n",
       "    .dataframe tbody tr th:only-of-type {\n",
       "        vertical-align: middle;\n",
       "    }\n",
       "\n",
       "    .dataframe tbody tr th {\n",
       "        vertical-align: top;\n",
       "    }\n",
       "\n",
       "    .dataframe thead th {\n",
       "        text-align: right;\n",
       "    }\n",
       "</style>\n",
       "<table border=\"1\" class=\"dataframe\">\n",
       "  <thead>\n",
       "    <tr style=\"text-align: right;\">\n",
       "      <th></th>\n",
       "      <th>n_agents</th>\n",
       "      <th>trial</th>\n",
       "      <th>centralized</th>\n",
       "      <th>J</th>\n",
       "      <th>horizon</th>\n",
       "      <th>dt</th>\n",
       "      <th>converged</th>\n",
       "      <th>times</th>\n",
       "      <th>dist_left</th>\n",
       "    </tr>\n",
       "  </thead>\n",
       "  <tbody>\n",
       "    <tr>\n",
       "      <th>0</th>\n",
       "      <td>3</td>\n",
       "      <td>0</td>\n",
       "      <td>False</td>\n",
       "      <td>632.247133</td>\n",
       "      <td>8</td>\n",
       "      <td>0.1</td>\n",
       "      <td>True</td>\n",
       "      <td>0.020832</td>\n",
       "      <td>[0.08713813708025549, 0.0602860545647581, 0.03...</td>\n",
       "    </tr>\n",
       "    <tr>\n",
       "      <th>1</th>\n",
       "      <td>3</td>\n",
       "      <td>1</td>\n",
       "      <td>False</td>\n",
       "      <td>1194.222717</td>\n",
       "      <td>8</td>\n",
       "      <td>0.1</td>\n",
       "      <td>True</td>\n",
       "      <td>0.059418</td>\n",
       "      <td>[0.09974560245842003, 0.03773806272288654, 0.0...</td>\n",
       "    </tr>\n",
       "    <tr>\n",
       "      <th>2</th>\n",
       "      <td>3</td>\n",
       "      <td>2</td>\n",
       "      <td>False</td>\n",
       "      <td>730.520005</td>\n",
       "      <td>8</td>\n",
       "      <td>0.1</td>\n",
       "      <td>True</td>\n",
       "      <td>0.039853</td>\n",
       "      <td>[0.09920918487331863, 0.0666942255881801, 0.09...</td>\n",
       "    </tr>\n",
       "    <tr>\n",
       "      <th>3</th>\n",
       "      <td>3</td>\n",
       "      <td>3</td>\n",
       "      <td>False</td>\n",
       "      <td>680.692175</td>\n",
       "      <td>8</td>\n",
       "      <td>0.1</td>\n",
       "      <td>True</td>\n",
       "      <td>0.016438</td>\n",
       "      <td>[0.06604134328275323, 0.02728557933646599, 0.0...</td>\n",
       "    </tr>\n",
       "    <tr>\n",
       "      <th>4</th>\n",
       "      <td>3</td>\n",
       "      <td>4</td>\n",
       "      <td>False</td>\n",
       "      <td>948.543104</td>\n",
       "      <td>8</td>\n",
       "      <td>0.1</td>\n",
       "      <td>True</td>\n",
       "      <td>0.025794</td>\n",
       "      <td>[0.06962963788774379, 0.08250096513209344, 0.0...</td>\n",
       "    </tr>\n",
       "  </tbody>\n",
       "</table>\n",
       "</div>"
      ],
      "text/plain": [
       "   n_agents  trial  centralized            J  horizon   dt  converged  \\\n",
       "0         3      0        False   632.247133        8  0.1       True   \n",
       "1         3      1        False  1194.222717        8  0.1       True   \n",
       "2         3      2        False   730.520005        8  0.1       True   \n",
       "3         3      3        False   680.692175        8  0.1       True   \n",
       "4         3      4        False   948.543104        8  0.1       True   \n",
       "\n",
       "      times                                          dist_left  \n",
       "0  0.020832  [0.08713813708025549, 0.0602860545647581, 0.03...  \n",
       "1  0.059418  [0.09974560245842003, 0.03773806272288654, 0.0...  \n",
       "2  0.039853  [0.09920918487331863, 0.0666942255881801, 0.09...  \n",
       "3  0.016438  [0.06604134328275323, 0.02728557933646599, 0.0...  \n",
       "4  0.025794  [0.06962963788774379, 0.08250096513209344, 0.0...  "
      ]
     },
     "execution_count": 342,
     "metadata": {},
     "output_type": "execute_result"
    }
   ],
   "source": [
    "dpilqr_3_to_8_agents.head()"
   ]
  },
  {
   "cell_type": "code",
   "execution_count": 343,
   "metadata": {},
   "outputs": [],
   "source": [
    "dpilqr_3_to_8_agents = dpilqr_3_to_8_agents.loc[dpilqr_3_to_8_agents['converged']==True]"
   ]
  },
  {
   "cell_type": "code",
   "execution_count": 351,
   "metadata": {},
   "outputs": [],
   "source": [
    "dpilqr_results = dpilqr_3_to_8_agents.loc[dpilqr_3_to_8_agents['centralized']==False]"
   ]
  },
  {
   "cell_type": "code",
   "execution_count": 352,
   "metadata": {},
   "outputs": [
    {
     "data": {
      "text/html": [
       "<div>\n",
       "<style scoped>\n",
       "    .dataframe tbody tr th:only-of-type {\n",
       "        vertical-align: middle;\n",
       "    }\n",
       "\n",
       "    .dataframe tbody tr th {\n",
       "        vertical-align: top;\n",
       "    }\n",
       "\n",
       "    .dataframe thead th {\n",
       "        text-align: right;\n",
       "    }\n",
       "</style>\n",
       "<table border=\"1\" class=\"dataframe\">\n",
       "  <thead>\n",
       "    <tr style=\"text-align: right;\">\n",
       "      <th></th>\n",
       "      <th>n_agents</th>\n",
       "      <th>trial</th>\n",
       "      <th>centralized</th>\n",
       "      <th>J</th>\n",
       "      <th>horizon</th>\n",
       "      <th>dt</th>\n",
       "      <th>converged</th>\n",
       "      <th>times</th>\n",
       "      <th>dist_left</th>\n",
       "    </tr>\n",
       "  </thead>\n",
       "  <tbody>\n",
       "    <tr>\n",
       "      <th>0</th>\n",
       "      <td>3</td>\n",
       "      <td>0</td>\n",
       "      <td>False</td>\n",
       "      <td>632.247133</td>\n",
       "      <td>8</td>\n",
       "      <td>0.1</td>\n",
       "      <td>True</td>\n",
       "      <td>0.020832</td>\n",
       "      <td>[0.08713813708025549, 0.0602860545647581, 0.03...</td>\n",
       "    </tr>\n",
       "    <tr>\n",
       "      <th>1</th>\n",
       "      <td>3</td>\n",
       "      <td>1</td>\n",
       "      <td>False</td>\n",
       "      <td>1194.222717</td>\n",
       "      <td>8</td>\n",
       "      <td>0.1</td>\n",
       "      <td>True</td>\n",
       "      <td>0.059418</td>\n",
       "      <td>[0.09974560245842003, 0.03773806272288654, 0.0...</td>\n",
       "    </tr>\n",
       "    <tr>\n",
       "      <th>2</th>\n",
       "      <td>3</td>\n",
       "      <td>2</td>\n",
       "      <td>False</td>\n",
       "      <td>730.520005</td>\n",
       "      <td>8</td>\n",
       "      <td>0.1</td>\n",
       "      <td>True</td>\n",
       "      <td>0.039853</td>\n",
       "      <td>[0.09920918487331863, 0.0666942255881801, 0.09...</td>\n",
       "    </tr>\n",
       "    <tr>\n",
       "      <th>3</th>\n",
       "      <td>3</td>\n",
       "      <td>3</td>\n",
       "      <td>False</td>\n",
       "      <td>680.692175</td>\n",
       "      <td>8</td>\n",
       "      <td>0.1</td>\n",
       "      <td>True</td>\n",
       "      <td>0.016438</td>\n",
       "      <td>[0.06604134328275323, 0.02728557933646599, 0.0...</td>\n",
       "    </tr>\n",
       "    <tr>\n",
       "      <th>4</th>\n",
       "      <td>3</td>\n",
       "      <td>4</td>\n",
       "      <td>False</td>\n",
       "      <td>948.543104</td>\n",
       "      <td>8</td>\n",
       "      <td>0.1</td>\n",
       "      <td>True</td>\n",
       "      <td>0.025794</td>\n",
       "      <td>[0.06962963788774379, 0.08250096513209344, 0.0...</td>\n",
       "    </tr>\n",
       "  </tbody>\n",
       "</table>\n",
       "</div>"
      ],
      "text/plain": [
       "   n_agents  trial  centralized            J  horizon   dt  converged  \\\n",
       "0         3      0        False   632.247133        8  0.1       True   \n",
       "1         3      1        False  1194.222717        8  0.1       True   \n",
       "2         3      2        False   730.520005        8  0.1       True   \n",
       "3         3      3        False   680.692175        8  0.1       True   \n",
       "4         3      4        False   948.543104        8  0.1       True   \n",
       "\n",
       "      times                                          dist_left  \n",
       "0  0.020832  [0.08713813708025549, 0.0602860545647581, 0.03...  \n",
       "1  0.059418  [0.09974560245842003, 0.03773806272288654, 0.0...  \n",
       "2  0.039853  [0.09920918487331863, 0.0666942255881801, 0.09...  \n",
       "3  0.016438  [0.06604134328275323, 0.02728557933646599, 0.0...  \n",
       "4  0.025794  [0.06962963788774379, 0.08250096513209344, 0.0...  "
      ]
     },
     "execution_count": 352,
     "metadata": {},
     "output_type": "execute_result"
    }
   ],
   "source": [
    "dpilqr_results.head()"
   ]
  },
  {
   "cell_type": "code",
   "execution_count": 349,
   "metadata": {},
   "outputs": [],
   "source": [
    "# dpilqr_comparison_df = dpilqr_results.groupby(['n_agents']).agg({'J': ['mean', 'std']})"
   ]
  },
  {
   "cell_type": "code",
   "execution_count": 353,
   "metadata": {},
   "outputs": [],
   "source": [
    "# dpilqr_comparison_df"
   ]
  },
  {
   "cell_type": "code",
   "execution_count": 354,
   "metadata": {},
   "outputs": [],
   "source": [
    "# dpilqr_comparison_df.columns=['mean_value','std_value']"
   ]
  },
  {
   "cell_type": "code",
   "execution_count": 355,
   "metadata": {},
   "outputs": [],
   "source": [
    "# dpilqr_comparison_df = dpilqr_comparison_df.reset_index()"
   ]
  },
  {
   "cell_type": "code",
   "execution_count": 356,
   "metadata": {},
   "outputs": [],
   "source": [
    "# dpilqr_comparison_df['SOVA_admm']=False"
   ]
  },
  {
   "cell_type": "code",
   "execution_count": 357,
   "metadata": {},
   "outputs": [],
   "source": [
    "# admm_dpilqr_comparison =pd.concat((decentralized_admm,dpilqr_comparison_df))"
   ]
  },
  {
   "cell_type": "code",
   "execution_count": 358,
   "metadata": {},
   "outputs": [],
   "source": [
    "# decentralized_admm_comparison.columns"
   ]
  },
  {
   "cell_type": "code",
   "execution_count": 363,
   "metadata": {},
   "outputs": [],
   "source": [
    "# dpilqr_comparison_df"
   ]
  },
  {
   "cell_type": "code",
   "execution_count": 361,
   "metadata": {},
   "outputs": [],
   "source": [
    "# admm_dpilqr_comparison = admm_dpilqr_comparison.loc[admm_dpilqr_comparison['SOVA_admm']==True]"
   ]
  },
  {
   "cell_type": "code",
   "execution_count": 364,
   "metadata": {},
   "outputs": [
    {
     "data": {
      "text/html": [
       "<div>\n",
       "<style scoped>\n",
       "    .dataframe tbody tr th:only-of-type {\n",
       "        vertical-align: middle;\n",
       "    }\n",
       "\n",
       "    .dataframe tbody tr th {\n",
       "        vertical-align: top;\n",
       "    }\n",
       "\n",
       "    .dataframe thead th {\n",
       "        text-align: right;\n",
       "    }\n",
       "</style>\n",
       "<table border=\"1\" class=\"dataframe\">\n",
       "  <thead>\n",
       "    <tr style=\"text-align: right;\">\n",
       "      <th></th>\n",
       "      <th>n_agents</th>\n",
       "      <th>trial</th>\n",
       "      <th>centralized</th>\n",
       "      <th>J</th>\n",
       "      <th>horizon</th>\n",
       "      <th>dt</th>\n",
       "      <th>converged</th>\n",
       "      <th>times</th>\n",
       "      <th>dist_left</th>\n",
       "    </tr>\n",
       "  </thead>\n",
       "  <tbody>\n",
       "    <tr>\n",
       "      <th>0</th>\n",
       "      <td>3</td>\n",
       "      <td>0</td>\n",
       "      <td>False</td>\n",
       "      <td>632.247133</td>\n",
       "      <td>8</td>\n",
       "      <td>0.1</td>\n",
       "      <td>True</td>\n",
       "      <td>0.020832</td>\n",
       "      <td>[0.08713813708025549, 0.0602860545647581, 0.03...</td>\n",
       "    </tr>\n",
       "    <tr>\n",
       "      <th>1</th>\n",
       "      <td>3</td>\n",
       "      <td>1</td>\n",
       "      <td>False</td>\n",
       "      <td>1194.222717</td>\n",
       "      <td>8</td>\n",
       "      <td>0.1</td>\n",
       "      <td>True</td>\n",
       "      <td>0.059418</td>\n",
       "      <td>[0.09974560245842003, 0.03773806272288654, 0.0...</td>\n",
       "    </tr>\n",
       "    <tr>\n",
       "      <th>2</th>\n",
       "      <td>3</td>\n",
       "      <td>2</td>\n",
       "      <td>False</td>\n",
       "      <td>730.520005</td>\n",
       "      <td>8</td>\n",
       "      <td>0.1</td>\n",
       "      <td>True</td>\n",
       "      <td>0.039853</td>\n",
       "      <td>[0.09920918487331863, 0.0666942255881801, 0.09...</td>\n",
       "    </tr>\n",
       "    <tr>\n",
       "      <th>3</th>\n",
       "      <td>3</td>\n",
       "      <td>3</td>\n",
       "      <td>False</td>\n",
       "      <td>680.692175</td>\n",
       "      <td>8</td>\n",
       "      <td>0.1</td>\n",
       "      <td>True</td>\n",
       "      <td>0.016438</td>\n",
       "      <td>[0.06604134328275323, 0.02728557933646599, 0.0...</td>\n",
       "    </tr>\n",
       "    <tr>\n",
       "      <th>4</th>\n",
       "      <td>3</td>\n",
       "      <td>4</td>\n",
       "      <td>False</td>\n",
       "      <td>948.543104</td>\n",
       "      <td>8</td>\n",
       "      <td>0.1</td>\n",
       "      <td>True</td>\n",
       "      <td>0.025794</td>\n",
       "      <td>[0.06962963788774379, 0.08250096513209344, 0.0...</td>\n",
       "    </tr>\n",
       "  </tbody>\n",
       "</table>\n",
       "</div>"
      ],
      "text/plain": [
       "   n_agents  trial  centralized            J  horizon   dt  converged  \\\n",
       "0         3      0        False   632.247133        8  0.1       True   \n",
       "1         3      1        False  1194.222717        8  0.1       True   \n",
       "2         3      2        False   730.520005        8  0.1       True   \n",
       "3         3      3        False   680.692175        8  0.1       True   \n",
       "4         3      4        False   948.543104        8  0.1       True   \n",
       "\n",
       "      times                                          dist_left  \n",
       "0  0.020832  [0.08713813708025549, 0.0602860545647581, 0.03...  \n",
       "1  0.059418  [0.09974560245842003, 0.03773806272288654, 0.0...  \n",
       "2  0.039853  [0.09920918487331863, 0.0666942255881801, 0.09...  \n",
       "3  0.016438  [0.06604134328275323, 0.02728557933646599, 0.0...  \n",
       "4  0.025794  [0.06962963788774379, 0.08250096513209344, 0.0...  "
      ]
     },
     "execution_count": 364,
     "metadata": {},
     "output_type": "execute_result"
    }
   ],
   "source": [
    "dpilqr_results.head()"
   ]
  },
  {
   "cell_type": "code",
   "execution_count": 362,
   "metadata": {},
   "outputs": [
    {
     "data": {
      "text/html": [
       "<div>\n",
       "<style scoped>\n",
       "    .dataframe tbody tr th:only-of-type {\n",
       "        vertical-align: middle;\n",
       "    }\n",
       "\n",
       "    .dataframe tbody tr th {\n",
       "        vertical-align: top;\n",
       "    }\n",
       "\n",
       "    .dataframe thead th {\n",
       "        text-align: right;\n",
       "    }\n",
       "</style>\n",
       "<table border=\"1\" class=\"dataframe\">\n",
       "  <thead>\n",
       "    <tr style=\"text-align: right;\">\n",
       "      <th></th>\n",
       "      <th>i_tria</th>\n",
       "      <th>n_agents</th>\n",
       "      <th>t</th>\n",
       "      <th>converged</th>\n",
       "      <th>obj_trj</th>\n",
       "      <th>T</th>\n",
       "      <th>dt</th>\n",
       "      <th>radius</th>\n",
       "      <th>SOVA_admm</th>\n",
       "      <th>t_solve_avg</th>\n",
       "      <th>t_solve_std</th>\n",
       "      <th>MAX_ITER</th>\n",
       "      <th>dist_to_goal</th>\n",
       "      <th>normalized_t_solve</th>\n",
       "      <th>normalized_std</th>\n",
       "    </tr>\n",
       "  </thead>\n",
       "  <tbody>\n",
       "    <tr>\n",
       "      <th>0</th>\n",
       "      <td>0.0</td>\n",
       "      <td>3</td>\n",
       "      <td>1.9</td>\n",
       "      <td>1.0</td>\n",
       "      <td>1131.695506</td>\n",
       "      <td>8.0</td>\n",
       "      <td>0.1</td>\n",
       "      <td>0.5</td>\n",
       "      <td>False</td>\n",
       "      <td>0.882948</td>\n",
       "      <td>0.137242</td>\n",
       "      <td>3.0</td>\n",
       "      <td>[0.091 0.023 0.077]</td>\n",
       "      <td>0.000780</td>\n",
       "      <td>0.000121</td>\n",
       "    </tr>\n",
       "    <tr>\n",
       "      <th>1</th>\n",
       "      <td>0.0</td>\n",
       "      <td>3</td>\n",
       "      <td>1.6</td>\n",
       "      <td>1.0</td>\n",
       "      <td>2462.952611</td>\n",
       "      <td>8.0</td>\n",
       "      <td>0.1</td>\n",
       "      <td>0.5</td>\n",
       "      <td>True</td>\n",
       "      <td>0.389646</td>\n",
       "      <td>0.051050</td>\n",
       "      <td>3.0</td>\n",
       "      <td>[0.096 0.056 0.095]</td>\n",
       "      <td>0.000158</td>\n",
       "      <td>0.000021</td>\n",
       "    </tr>\n",
       "    <tr>\n",
       "      <th>4</th>\n",
       "      <td>2.0</td>\n",
       "      <td>3</td>\n",
       "      <td>1.6</td>\n",
       "      <td>1.0</td>\n",
       "      <td>2188.728334</td>\n",
       "      <td>8.0</td>\n",
       "      <td>0.1</td>\n",
       "      <td>0.5</td>\n",
       "      <td>False</td>\n",
       "      <td>0.761009</td>\n",
       "      <td>0.048872</td>\n",
       "      <td>3.0</td>\n",
       "      <td>[0.064 0.034 0.086]</td>\n",
       "      <td>0.000348</td>\n",
       "      <td>0.000022</td>\n",
       "    </tr>\n",
       "    <tr>\n",
       "      <th>5</th>\n",
       "      <td>2.0</td>\n",
       "      <td>3</td>\n",
       "      <td>1.6</td>\n",
       "      <td>1.0</td>\n",
       "      <td>2133.528468</td>\n",
       "      <td>8.0</td>\n",
       "      <td>0.1</td>\n",
       "      <td>0.5</td>\n",
       "      <td>True</td>\n",
       "      <td>0.336251</td>\n",
       "      <td>0.056193</td>\n",
       "      <td>3.0</td>\n",
       "      <td>[0.066 0.034 0.086]</td>\n",
       "      <td>0.000158</td>\n",
       "      <td>0.000026</td>\n",
       "    </tr>\n",
       "    <tr>\n",
       "      <th>6</th>\n",
       "      <td>3.0</td>\n",
       "      <td>3</td>\n",
       "      <td>1.2</td>\n",
       "      <td>1.0</td>\n",
       "      <td>454.775939</td>\n",
       "      <td>8.0</td>\n",
       "      <td>0.1</td>\n",
       "      <td>0.5</td>\n",
       "      <td>False</td>\n",
       "      <td>0.749026</td>\n",
       "      <td>0.045300</td>\n",
       "      <td>3.0</td>\n",
       "      <td>[0.091 0.081 0.051]</td>\n",
       "      <td>0.001647</td>\n",
       "      <td>0.000100</td>\n",
       "    </tr>\n",
       "  </tbody>\n",
       "</table>\n",
       "</div>"
      ],
      "text/plain": [
       "   i_tria  n_agents    t  converged      obj_trj    T   dt  radius SOVA_admm  \\\n",
       "0     0.0         3  1.9        1.0  1131.695506  8.0  0.1     0.5     False   \n",
       "1     0.0         3  1.6        1.0  2462.952611  8.0  0.1     0.5      True   \n",
       "4     2.0         3  1.6        1.0  2188.728334  8.0  0.1     0.5     False   \n",
       "5     2.0         3  1.6        1.0  2133.528468  8.0  0.1     0.5      True   \n",
       "6     3.0         3  1.2        1.0   454.775939  8.0  0.1     0.5     False   \n",
       "\n",
       "   t_solve_avg  t_solve_std  MAX_ITER         dist_to_goal  \\\n",
       "0     0.882948     0.137242       3.0  [0.091 0.023 0.077]   \n",
       "1     0.389646     0.051050       3.0  [0.096 0.056 0.095]   \n",
       "4     0.761009     0.048872       3.0  [0.064 0.034 0.086]   \n",
       "5     0.336251     0.056193       3.0  [0.066 0.034 0.086]   \n",
       "6     0.749026     0.045300       3.0  [0.091 0.081 0.051]   \n",
       "\n",
       "   normalized_t_solve  normalized_std  \n",
       "0            0.000780        0.000121  \n",
       "1            0.000158        0.000021  \n",
       "4            0.000348        0.000022  \n",
       "5            0.000158        0.000026  \n",
       "6            0.001647        0.000100  "
      ]
     },
     "execution_count": 362,
     "metadata": {},
     "output_type": "execute_result"
    }
   ],
   "source": [
    "drones_3_8_combined.head()"
   ]
  },
  {
   "cell_type": "code",
   "execution_count": 412,
   "metadata": {},
   "outputs": [
    {
     "data": {
      "image/png": "[encoded data removed]",
      "text/plain": [
       "<Figure size 960x720 with 1 Axes>"
      ]
     },
     "metadata": {},
     "output_type": "display_data"
    }
   ],
   "source": [
    "plt.figure(dpi=150)\n",
    "# sns.lineplot(data=drones_3_8_combined , x='n_agents', y='obj_trj',label='Potential ADMM')\n",
    "# sns.lineplot(data=dpilqr_results, x='n_agents',y='J' ,label='DP-ILQR')\n",
    "err_kws = {'capsize': 5, 'capthick':1, 'elinewidth':2.5}\n",
    "sns.lineplot(data=drones_3_8_combined, x=\"n_agents\", y=\"obj_trj\", lw=1.0, dashes=False,\n",
    "              markers=['o'], markersize=8, palette=[\"green\"],err_style='bars', err_kws = err_kws,label='Potential ADMM')\n",
    "sns.lineplot(data=dpilqr_results, x=\"n_agents\", y=\"J\", lw=1.0, dashes=False,\n",
    "              markers=['^'], markersize=8, palette=[\"grey\"],err_style='bars', err_kws = err_kws,label='DP-ILQR')\n",
    "# plt.xlabel('No of agents')\n",
    "# plt.ylabel('Average Trajectory Cost')\n",
    "\n",
    "for axis in ['bottom','left']:\n",
    "    ax.spines[axis].set_linewidth(2.0)\n",
    "    \n",
    "ax.spines['top'].set_visible(False)\n",
    "ax.spines['right'].set_visible(False)\n",
    "ax.tick_params(width=2.0)\n",
    "\n",
    "plt.xticks(size=12, weight= 'bold')\n",
    "plt.yticks(size=12, weight= 'bold')\n",
    "# ax.set_xlabel('Predicted optimal cost', fontsize=12, weight='bold')\n",
    "# ax.set_ylabel(ax.get_ylabel(), fontsize=12, weight='bold')\n",
    "plt.ylabel('Predicted optimal cost',fontsize=10,weight='bold')\n",
    "plt.xlabel('No. of agents',fontsize=10,weight='bold')\n",
    "plt.legend(frameon=False,prop={'weight':'bold','size':12},loc = 'best')\n",
    "\n",
    "plt.savefig('results/ADMM_vs_DPILQR.png')"
   ]
  },
  {
   "cell_type": "code",
   "execution_count": null,
   "metadata": {},
   "outputs": [],
   "source": []
  }
 ],
 "metadata": {
  "kernelspec": {
   "display_name": "ICON_lab",
   "language": "python",
   "name": "python3"
  },
  "language_info": {
   "codemirror_mode": {
    "name": "ipython",
    "version": 3
   },
   "file_extension": ".py",
   "mimetype": "text/x-python",
   "name": "python",
   "nbconvert_exporter": "python",
   "pygments_lexer": "ipython3",
   "version": "3.10.4"
  },
  "orig_nbformat": 4
 },
 "nbformat": 4,
 "nbformat_minor": 2
}
