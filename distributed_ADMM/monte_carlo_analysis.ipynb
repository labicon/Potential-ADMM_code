{
 "cells": [
  {
   "cell_type": "code",
   "execution_count": 418,
   "metadata": {},
   "outputs": [],
   "source": [
    "import pandas as pd\n",
    "import numpy as np \n",
    "import matplotlib.pyplot as plt\n",
    "import seaborn as sns"
   ]
  },
  {
   "cell_type": "code",
   "execution_count": 419,
   "metadata": {},
   "outputs": [
    {
     "data": {
      "text/plain": [
       "['/usr/share/fonts/truetype/ubuntu/UbuntuMono-B.ttf',\n",
       " '/usr/share/fonts/truetype/dejavu/DejaVuSansMono.ttf',\n",
       " '/usr/share/fonts/truetype/ubuntu/Ubuntu-LI.ttf',\n",
       " '/usr/share/fonts/truetype/ubuntu/UbuntuMono-RI.ttf',\n",
       " '/usr/share/fonts/truetype/ubuntu/UbuntuMono-BI.ttf',\n",
       " '/usr/share/fonts/truetype/ubuntu/Ubuntu-B.ttf',\n",
       " '/usr/share/fonts/truetype/ubuntu/Ubuntu-Th.ttf',\n",
       " '/usr/share/fonts/truetype/dejavu/DejaVuSans-Bold.ttf',\n",
       " '/usr/share/fonts/truetype/ubuntu/Ubuntu-L.ttf',\n",
       " '/usr/share/fonts/truetype/ubuntu/Ubuntu-R.ttf',\n",
       " '/usr/share/fonts/truetype/ubuntu/Ubuntu-C.ttf',\n",
       " '/usr/share/fonts/truetype/ubuntu/Ubuntu-BI.ttf',\n",
       " '/usr/share/fonts/truetype/ubuntu/UbuntuMono-R.ttf',\n",
       " '/usr/share/fonts/truetype/palatino/Palatino Normal.ttf',\n",
       " '/usr/share/fonts/truetype/ubuntu/Ubuntu-MI.ttf',\n",
       " '/usr/share/fonts/truetype/dejavu/DejaVuSans.ttf',\n",
       " '/usr/share/fonts/truetype/dejavu/DejaVuSerif-Bold.ttf',\n",
       " '/usr/share/fonts/truetype/dejavu/DejaVuSansMono-Bold.ttf',\n",
       " '/usr/share/fonts/truetype/ubuntu/Ubuntu-M.ttf',\n",
       " '/usr/share/fonts/truetype/ubuntu/Ubuntu-RI.ttf',\n",
       " '/usr/share/fonts/truetype/dejavu/DejaVuSerif.ttf']"
      ]
     },
     "execution_count": 419,
     "metadata": {},
     "output_type": "execute_result"
    }
   ],
   "source": [
    "from matplotlib import font_manager\n",
    "font_manager.findSystemFonts(fontpaths=None, fontext=\"ttf\")"
   ]
  },
  {
   "cell_type": "code",
   "execution_count": 420,
   "metadata": {},
   "outputs": [],
   "source": [
    "from solvers import util\n",
    "import matplotlib.font_manager"
   ]
  },
  {
   "cell_type": "code",
   "execution_count": 421,
   "metadata": {},
   "outputs": [],
   "source": [
    "# flist = matplotlib.font_manager.get_fontconfig_fonts()\n",
    "# names = [matplotlib.font_manager.FontProperties(fname=fname).get_name() for fname in flist]\n",
    "# names"
   ]
  },
  {
   "cell_type": "markdown",
   "metadata": {},
   "source": [
    "#### We start by analyzing the comparison of computation times between DP-ILQR, regular consensus ADMM, and potential ADMM:"
   ]
  },
  {
   "cell_type": "code",
   "execution_count": 422,
   "metadata": {},
   "outputs": [],
   "source": [
    "drones_3_8_combined= pd.read_excel('logs/ADMM_mpc_3_to_8_agents.xlsm', sheet_name='Sheet1')"
   ]
  },
  {
   "cell_type": "code",
   "execution_count": 423,
   "metadata": {},
   "outputs": [
    {
     "data": {
      "text/plain": [
       "Index(['i_trial', ' n_agents', ' t', ' converged', ' obj_trj', 'T', 'dt',\n",
       "       'radius', '         SOVA_admm ', 't_solve_avg', ' t_solve_std',\n",
       "       ' MAX_ITER', ' dist_to_goal'],\n",
       "      dtype='object')"
      ]
     },
     "execution_count": 423,
     "metadata": {},
     "output_type": "execute_result"
    }
   ],
   "source": [
    "drones_3_8_combined.columns"
   ]
  },
  {
   "cell_type": "code",
   "execution_count": 424,
   "metadata": {},
   "outputs": [],
   "source": [
    "drones_3_8_combined.columns = ['i_trial','n_agents','t','converged','obj_trj','T','dt','radius','SOVA_admm','t_solve_avg','t_solve_std','MAX_ITER','dist_to_goal']"
   ]
  },
  {
   "cell_type": "code",
   "execution_count": 425,
   "metadata": {},
   "outputs": [],
   "source": [
    "drones_3_8_combined = drones_3_8_combined.loc[drones_3_8_combined['converged']==True]"
   ]
  },
  {
   "cell_type": "code",
   "execution_count": 426,
   "metadata": {},
   "outputs": [],
   "source": [
    "drones_3_8_combined = drones_3_8_combined.replace(to_replace='None', value=np.nan).dropna()"
   ]
  },
  {
   "cell_type": "code",
   "execution_count": 427,
   "metadata": {},
   "outputs": [],
   "source": [
    "drones_3_8_combined = drones_3_8_combined.dropna()"
   ]
  },
  {
   "cell_type": "code",
   "execution_count": 428,
   "metadata": {},
   "outputs": [
    {
     "data": {
      "text/plain": [
       "Index(['i_trial', 'n_agents', 't', 'converged', 'obj_trj', 'T', 'dt', 'radius',\n",
       "       'SOVA_admm', 't_solve_avg', 't_solve_std', 'MAX_ITER', 'dist_to_goal'],\n",
       "      dtype='object')"
      ]
     },
     "execution_count": 428,
     "metadata": {},
     "output_type": "execute_result"
    }
   ],
   "source": [
    "drones_3_8_combined.columns"
   ]
  },
  {
   "cell_type": "code",
   "execution_count": 429,
   "metadata": {},
   "outputs": [],
   "source": [
    "drones_3_8_combined['normalized_t_solve'] = drones_3_8_combined['t_solve_avg']/drones_3_8_combined['obj_trj']"
   ]
  },
  {
   "cell_type": "code",
   "execution_count": 430,
   "metadata": {},
   "outputs": [],
   "source": [
    "drones_3_8_combined['normalized_t_std'] = drones_3_8_combined['t_solve_std']/drones_3_8_combined['obj_trj']"
   ]
  },
  {
   "cell_type": "code",
   "execution_count": 431,
   "metadata": {},
   "outputs": [],
   "source": [
    "dpilqr_3_to_8_agents = pd.read_excel('logs/dpilqr_3_to_8.xlsm', sheet_name='Sheet1')"
   ]
  },
  {
   "cell_type": "code",
   "execution_count": 432,
   "metadata": {},
   "outputs": [
    {
     "data": {
      "text/plain": [
       "Index(['dynamics', 'n_agents', 'i_trial', 'centralized', 'last', 't', 'J',\n",
       "       'horizon', 'dt', 'converged', 'ids', 't_solve_avg', 't_solve_std',\n",
       "       'subgraphs', 'dist_left'],\n",
       "      dtype='object')"
      ]
     },
     "execution_count": 432,
     "metadata": {},
     "output_type": "execute_result"
    }
   ],
   "source": [
    "dpilqr_3_to_8_agents.columns"
   ]
  },
  {
   "cell_type": "code",
   "execution_count": 433,
   "metadata": {},
   "outputs": [],
   "source": [
    "dpilqr_3_to_8_agents.drop(columns=['dynamics','last','ids','subgraphs'],inplace=True)"
   ]
  },
  {
   "cell_type": "code",
   "execution_count": 434,
   "metadata": {},
   "outputs": [],
   "source": [
    "dpilqr_3_to_8_agents.columns = ['n_agents', 'i_trial', 'SOVA_admm', 't','obj_trj', 'T', 'dt', 'converged','t_solve_avg', 't_solve_std', 'dist_to_goal']"
   ]
  },
  {
   "cell_type": "code",
   "execution_count": 435,
   "metadata": {},
   "outputs": [],
   "source": [
    "dpilqr_3_to_8_agents['normalized_t_solve'] = dpilqr_3_to_8_agents['t_solve_avg']/dpilqr_3_to_8_agents['obj_trj']\n"
   ]
  },
  {
   "cell_type": "code",
   "execution_count": 436,
   "metadata": {},
   "outputs": [],
   "source": [
    "dpilqr_3_to_8_agents['normalized_t_std'] = dpilqr_3_to_8_agents['t_solve_std']/dpilqr_3_to_8_agents['obj_trj']"
   ]
  },
  {
   "cell_type": "code",
   "execution_count": 437,
   "metadata": {},
   "outputs": [
    {
     "data": {
      "text/html": [
       "<div>\n",
       "<style scoped>\n",
       "    .dataframe tbody tr th:only-of-type {\n",
       "        vertical-align: middle;\n",
       "    }\n",
       "\n",
       "    .dataframe tbody tr th {\n",
       "        vertical-align: top;\n",
       "    }\n",
       "\n",
       "    .dataframe thead th {\n",
       "        text-align: right;\n",
       "    }\n",
       "</style>\n",
       "<table border=\"1\" class=\"dataframe\">\n",
       "  <thead>\n",
       "    <tr style=\"text-align: right;\">\n",
       "      <th></th>\n",
       "      <th>n_agents</th>\n",
       "      <th>i_trial</th>\n",
       "      <th>SOVA_admm</th>\n",
       "      <th>t</th>\n",
       "      <th>obj_trj</th>\n",
       "      <th>T</th>\n",
       "      <th>dt</th>\n",
       "      <th>converged</th>\n",
       "      <th>t_solve_avg</th>\n",
       "      <th>t_solve_std</th>\n",
       "      <th>dist_to_goal</th>\n",
       "      <th>normalized_t_solve</th>\n",
       "      <th>normalized_t_std</th>\n",
       "    </tr>\n",
       "  </thead>\n",
       "  <tbody>\n",
       "    <tr>\n",
       "      <th>0</th>\n",
       "      <td>3</td>\n",
       "      <td>0</td>\n",
       "      <td>False</td>\n",
       "      <td>1.3</td>\n",
       "      <td>828.167463</td>\n",
       "      <td>8</td>\n",
       "      <td>0.1</td>\n",
       "      <td>True</td>\n",
       "      <td>0.018375</td>\n",
       "      <td>0.003508</td>\n",
       "      <td>[0.06809967102056529, 0.08392775736397566, 0.0...</td>\n",
       "      <td>0.000022</td>\n",
       "      <td>4.235851e-06</td>\n",
       "    </tr>\n",
       "    <tr>\n",
       "      <th>1</th>\n",
       "      <td>3</td>\n",
       "      <td>1</td>\n",
       "      <td>False</td>\n",
       "      <td>1.4</td>\n",
       "      <td>1247.440727</td>\n",
       "      <td>8</td>\n",
       "      <td>0.1</td>\n",
       "      <td>True</td>\n",
       "      <td>0.019545</td>\n",
       "      <td>0.001119</td>\n",
       "      <td>[0.08209382373905584, 0.027239258113921368, 0....</td>\n",
       "      <td>0.000016</td>\n",
       "      <td>8.973174e-07</td>\n",
       "    </tr>\n",
       "    <tr>\n",
       "      <th>2</th>\n",
       "      <td>3</td>\n",
       "      <td>2</td>\n",
       "      <td>False</td>\n",
       "      <td>1.7</td>\n",
       "      <td>1800.550330</td>\n",
       "      <td>8</td>\n",
       "      <td>0.1</td>\n",
       "      <td>True</td>\n",
       "      <td>0.080149</td>\n",
       "      <td>0.007683</td>\n",
       "      <td>[0.09771915630264676, 0.07990022619853404, 0.0...</td>\n",
       "      <td>0.000045</td>\n",
       "      <td>4.267041e-06</td>\n",
       "    </tr>\n",
       "    <tr>\n",
       "      <th>3</th>\n",
       "      <td>3</td>\n",
       "      <td>3</td>\n",
       "      <td>False</td>\n",
       "      <td>1.2</td>\n",
       "      <td>875.209328</td>\n",
       "      <td>8</td>\n",
       "      <td>0.1</td>\n",
       "      <td>True</td>\n",
       "      <td>0.037942</td>\n",
       "      <td>0.003617</td>\n",
       "      <td>[0.027404585265289782, 0.057506596816226156, 0...</td>\n",
       "      <td>0.000043</td>\n",
       "      <td>4.133216e-06</td>\n",
       "    </tr>\n",
       "    <tr>\n",
       "      <th>4</th>\n",
       "      <td>3</td>\n",
       "      <td>4</td>\n",
       "      <td>False</td>\n",
       "      <td>1.1</td>\n",
       "      <td>802.755533</td>\n",
       "      <td>8</td>\n",
       "      <td>0.1</td>\n",
       "      <td>True</td>\n",
       "      <td>0.031827</td>\n",
       "      <td>0.004204</td>\n",
       "      <td>[0.023639860153240266, 0.05510405304572813, 0....</td>\n",
       "      <td>0.000040</td>\n",
       "      <td>5.236896e-06</td>\n",
       "    </tr>\n",
       "  </tbody>\n",
       "</table>\n",
       "</div>"
      ],
      "text/plain": [
       "   n_agents  i_trial  SOVA_admm    t      obj_trj  T   dt  converged   \n",
       "0         3        0      False  1.3   828.167463  8  0.1       True  \\\n",
       "1         3        1      False  1.4  1247.440727  8  0.1       True   \n",
       "2         3        2      False  1.7  1800.550330  8  0.1       True   \n",
       "3         3        3      False  1.2   875.209328  8  0.1       True   \n",
       "4         3        4      False  1.1   802.755533  8  0.1       True   \n",
       "\n",
       "   t_solve_avg  t_solve_std   \n",
       "0     0.018375     0.003508  \\\n",
       "1     0.019545     0.001119   \n",
       "2     0.080149     0.007683   \n",
       "3     0.037942     0.003617   \n",
       "4     0.031827     0.004204   \n",
       "\n",
       "                                        dist_to_goal  normalized_t_solve   \n",
       "0  [0.06809967102056529, 0.08392775736397566, 0.0...            0.000022  \\\n",
       "1  [0.08209382373905584, 0.027239258113921368, 0....            0.000016   \n",
       "2  [0.09771915630264676, 0.07990022619853404, 0.0...            0.000045   \n",
       "3  [0.027404585265289782, 0.057506596816226156, 0...            0.000043   \n",
       "4  [0.023639860153240266, 0.05510405304572813, 0....            0.000040   \n",
       "\n",
       "   normalized_t_std  \n",
       "0      4.235851e-06  \n",
       "1      8.973174e-07  \n",
       "2      4.267041e-06  \n",
       "3      4.133216e-06  \n",
       "4      5.236896e-06  "
      ]
     },
     "execution_count": 437,
     "metadata": {},
     "output_type": "execute_result"
    }
   ],
   "source": [
    "dpilqr_3_to_8_agents.head()"
   ]
  },
  {
   "cell_type": "code",
   "execution_count": 438,
   "metadata": {},
   "outputs": [],
   "source": [
    "dpilqr_3_to_8_agents['SOVA_admm']='ilqr'"
   ]
  },
  {
   "cell_type": "code",
   "execution_count": 439,
   "metadata": {},
   "outputs": [],
   "source": [
    "dpilqr_admm_df = pd.concat((dpilqr_3_to_8_agents,drones_3_8_combined),ignore_index=True)"
   ]
  },
  {
   "cell_type": "code",
   "execution_count": 440,
   "metadata": {},
   "outputs": [
    {
     "data": {
      "text/plain": [
       "Index(['n_agents', 'i_trial', 'SOVA_admm', 't', 'obj_trj', 'T', 'dt',\n",
       "       'converged', 't_solve_avg', 't_solve_std', 'dist_to_goal',\n",
       "       'normalized_t_solve', 'normalized_t_std', 'radius', 'MAX_ITER'],\n",
       "      dtype='object')"
      ]
     },
     "execution_count": 440,
     "metadata": {},
     "output_type": "execute_result"
    }
   ],
   "source": [
    "dpilqr_admm_df.columns"
   ]
  },
  {
   "cell_type": "code",
   "execution_count": 441,
   "metadata": {},
   "outputs": [],
   "source": [
    "import matplotlib.ticker as ticker\n",
    "from matplotlib.font_manager import FontProperties\n",
    "import matplotlib.font_manager\n",
    "font_family = 'Palatino LT'"
   ]
  },
  {
   "cell_type": "code",
   "execution_count": 442,
   "metadata": {},
   "outputs": [
    {
     "name": "stderr",
     "output_type": "stream",
     "text": [
      "findfont: Font family 'Palatino LT' not found.\n",
      "findfont: Font family 'Palatino LT' not found.\n",
      "findfont: Font family 'Palatino LT' not found.\n",
      "findfont: Font family 'Palatino LT' not found.\n",
      "findfont: Font family 'Palatino LT' not found.\n",
      "findfont: Font family 'Palatino LT' not found.\n",
      "findfont: Font family 'Palatino LT' not found.\n",
      "findfont: Font family 'Palatino LT' not found.\n",
      "findfont: Font family 'Palatino LT' not found.\n",
      "findfont: Font family 'Palatino LT' not found.\n",
      "findfont: Font family 'Palatino LT' not found.\n",
      "findfont: Font family 'Palatino LT' not found.\n",
      "findfont: Font family 'Palatino LT' not found.\n",
      "findfont: Font family 'Palatino LT' not found.\n",
      "findfont: Font family 'Palatino LT' not found.\n",
      "findfont: Font family 'Palatino LT' not found.\n",
      "findfont: Font family 'Palatino LT' not found.\n",
      "findfont: Font family 'Palatino LT' not found.\n",
      "findfont: Font family 'Palatino LT' not found.\n",
      "findfont: Font family 'Palatino LT' not found.\n",
      "findfont: Font family 'Palatino LT' not found.\n",
      "findfont: Font family 'Palatino LT' not found.\n",
      "findfont: Font family 'Palatino LT' not found.\n",
      "findfont: Font family 'Palatino LT' not found.\n",
      "findfont: Font family 'Palatino LT' not found.\n",
      "findfont: Font family 'Palatino LT' not found.\n",
      "findfont: Font family 'Palatino LT' not found.\n",
      "findfont: Font family 'Palatino LT' not found.\n",
      "findfont: Font family 'Palatino LT' not found.\n",
      "findfont: Font family 'Palatino LT' not found.\n",
      "findfont: Font family 'Palatino LT' not found.\n",
      "findfont: Font family 'Palatino LT' not found.\n",
      "findfont: Font family 'Palatino LT' not found.\n",
      "findfont: Font family 'Palatino LT' not found.\n",
      "findfont: Font family 'Palatino LT' not found.\n",
      "findfont: Font family 'Palatino LT' not found.\n",
      "findfont: Font family 'Palatino LT' not found.\n",
      "findfont: Font family 'Palatino LT' not found.\n",
      "findfont: Font family 'Palatino LT' not found.\n",
      "findfont: Font family 'Palatino LT' not found.\n",
      "findfont: Font family 'Palatino LT' not found.\n",
      "findfont: Font family 'Palatino LT' not found.\n",
      "findfont: Font family 'Palatino LT' not found.\n",
      "findfont: Font family 'Palatino LT' not found.\n",
      "findfont: Font family 'Palatino LT' not found.\n",
      "findfont: Font family 'Palatino LT' not found.\n",
      "findfont: Font family 'Palatino LT' not found.\n",
      "findfont: Font family 'Palatino LT' not found.\n",
      "findfont: Font family 'Palatino LT' not found.\n",
      "findfont: Font family 'Palatino LT' not found.\n",
      "findfont: Font family 'Palatino LT' not found.\n",
      "findfont: Font family 'Palatino LT' not found.\n",
      "findfont: Font family 'Palatino LT' not found.\n",
      "findfont: Font family 'Palatino LT' not found.\n",
      "findfont: Font family 'Palatino LT' not found.\n",
      "findfont: Font family 'Palatino LT' not found.\n",
      "findfont: Font family 'Palatino LT' not found.\n",
      "findfont: Font family 'Palatino LT' not found.\n",
      "findfont: Font family 'Palatino LT' not found.\n",
      "findfont: Font family 'Palatino LT' not found.\n",
      "findfont: Font family 'Palatino LT' not found.\n",
      "findfont: Font family 'Palatino LT' not found.\n",
      "findfont: Font family 'Palatino LT' not found.\n",
      "findfont: Font family 'Palatino LT' not found.\n",
      "findfont: Font family 'Palatino LT' not found.\n",
      "findfont: Font family 'Palatino LT' not found.\n",
      "findfont: Font family 'Palatino LT' not found.\n",
      "findfont: Font family 'Palatino LT' not found.\n",
      "findfont: Font family 'Palatino LT' not found.\n",
      "findfont: Font family 'Palatino LT' not found.\n",
      "findfont: Font family 'Palatino LT' not found.\n",
      "findfont: Font family 'Palatino LT' not found.\n",
      "findfont: Font family 'Palatino LT' not found.\n",
      "findfont: Font family 'Palatino LT' not found.\n",
      "findfont: Font family 'Palatino LT' not found.\n",
      "findfont: Font family 'Palatino LT' not found.\n",
      "findfont: Font family 'Palatino LT' not found.\n",
      "findfont: Font family 'Palatino LT' not found.\n",
      "findfont: Font family 'Palatino LT' not found.\n",
      "findfont: Font family 'Palatino LT' not found.\n",
      "findfont: Font family 'Palatino LT' not found.\n",
      "findfont: Font family 'Palatino LT' not found.\n",
      "findfont: Font family 'Palatino LT' not found.\n",
      "findfont: Font family 'Palatino LT' not found.\n",
      "findfont: Font family 'Palatino LT' not found.\n",
      "findfont: Font family 'Palatino LT' not found.\n",
      "findfont: Font family 'Palatino LT' not found.\n",
      "findfont: Font family 'Palatino LT' not found.\n",
      "findfont: Font family 'Palatino LT' not found.\n",
      "findfont: Font family 'Palatino LT' not found.\n",
      "findfont: Font family 'Palatino LT' not found.\n",
      "findfont: Font family 'Palatino LT' not found.\n",
      "findfont: Font family 'Palatino LT' not found.\n",
      "findfont: Font family 'Palatino LT' not found.\n",
      "findfont: Font family 'Palatino LT' not found.\n",
      "findfont: Font family 'Palatino LT' not found.\n",
      "findfont: Font family 'Palatino LT' not found.\n",
      "findfont: Font family 'Palatino LT' not found.\n",
      "findfont: Font family 'Palatino LT' not found.\n",
      "findfont: Font family 'Palatino LT' not found.\n",
      "findfont: Font family 'Palatino LT' not found.\n",
      "findfont: Font family 'Palatino LT' not found.\n",
      "findfont: Font family 'Palatino LT' not found.\n",
      "findfont: Font family 'Palatino LT' not found.\n",
      "findfont: Font family 'Palatino LT' not found.\n",
      "findfont: Font family 'Palatino LT' not found.\n",
      "findfont: Font family 'Palatino LT' not found.\n",
      "findfont: Font family 'Palatino LT' not found.\n",
      "findfont: Font family 'Palatino LT' not found.\n",
      "findfont: Font family 'Palatino LT' not found.\n",
      "findfont: Font family 'Palatino LT' not found.\n",
      "findfont: Font family 'Palatino LT' not found.\n",
      "findfont: Font family 'Palatino LT' not found.\n",
      "findfont: Font family 'Palatino LT' not found.\n",
      "findfont: Font family 'Palatino LT' not found.\n",
      "findfont: Font family 'Palatino LT' not found.\n",
      "findfont: Font family 'Palatino LT' not found.\n",
      "findfont: Font family 'Palatino LT' not found.\n",
      "findfont: Font family 'Palatino LT' not found.\n",
      "findfont: Font family 'Palatino LT' not found.\n",
      "findfont: Font family 'Palatino LT' not found.\n",
      "findfont: Font family 'Palatino LT' not found.\n",
      "findfont: Font family 'Palatino LT' not found.\n",
      "findfont: Font family 'Palatino LT' not found.\n",
      "findfont: Font family 'Palatino LT' not found.\n",
      "findfont: Font family 'Palatino LT' not found.\n",
      "findfont: Font family 'Palatino LT' not found.\n",
      "findfont: Font family 'Palatino LT' not found.\n",
      "findfont: Font family 'Palatino LT' not found.\n",
      "findfont: Font family 'Palatino LT' not found.\n"
     ]
    },
    {
     "data": {
      "image/png": "[encoded data removed]",
      "text/plain": [
       "<Figure size 960x720 with 1 Axes>"
      ]
     },
     "metadata": {},
     "output_type": "display_data"
    }
   ],
   "source": [
    "plt.figure(dpi=150)\n",
    "err_kws = {'capsize': 5, 'capthick': 1, 'elinewidth': 2.5}\n",
    "ax = sns.lineplot(data=dpilqr_admm_df, x=\"n_agents\", y=\"normalized_t_solve\", hue='SOVA_admm', lw=1.0, style='SOVA_admm',\n",
    "                  dashes=False, markers=True, markersize=6.5, palette=[\"green\", \"firebrick\", \"grey\"], err_style='bars', err_kws=err_kws)\n",
    "\n",
    "for axis in ['bottom', 'left']:\n",
    "    ax.spines[axis].set_linewidth(2.0)\n",
    "\n",
    "ax.spines['top'].set_visible(False)\n",
    "ax.spines['right'].set_visible(False)\n",
    "ax.tick_params(width=2.0)\n",
    "\n",
    "plt.xticks(fontname = font_family, size=14, weight='bold')\n",
    "plt.yticks(fontname = font_family,size=14, weight='bold')\n",
    "\n",
    "plt.ylabel('Normalized Average Computation Time', fontname = font_family,fontsize=14, weight='bold')\n",
    "plt.xlabel('Number of Agents', fontname = font_family, fontsize=14, weight='bold')\n",
    "plt.legend(labels=['DP-ILQR', 'Regular Consensus-ADMM', 'Potential ADMM'], frameon=False, \\\n",
    "           prop={'family':font_family,'weight': 'bold', 'size': 14})\n",
    "\n",
    "# Set y-axis to scientific notation style with fewer ticks\n",
    "ax.yaxis.get_major_formatter().set_powerlimits((-2, 2))\n",
    "ax.yaxis.set_major_locator(ticker.MaxNLocator(nbins=4))\n",
    "font = FontProperties(family=font_family,weight='bold')\n",
    "ax.yaxis.get_offset_text().set_font_properties(font)\n",
    "# plt.savefig('results/avg_computation_times_comparison.png', bbox_inches = 'tight', dpi=250, facecolor = ax.get_facecolor())"
   ]
  },
  {
   "cell_type": "code",
   "execution_count": 443,
   "metadata": {},
   "outputs": [
    {
     "name": "stderr",
     "output_type": "stream",
     "text": [
      "findfont: Font family 'Palatino LT' not found.\n",
      "findfont: Font family 'Palatino LT' not found.\n",
      "findfont: Font family 'Palatino LT' not found.\n",
      "findfont: Font family 'Palatino LT' not found.\n",
      "findfont: Font family 'Palatino LT' not found.\n",
      "findfont: Font family 'Palatino LT' not found.\n",
      "findfont: Font family 'Palatino LT' not found.\n",
      "findfont: Font family 'Palatino LT' not found.\n",
      "findfont: Font family 'Palatino LT' not found.\n",
      "findfont: Font family 'Palatino LT' not found.\n",
      "findfont: Font family 'Palatino LT' not found.\n",
      "findfont: Font family 'Palatino LT' not found.\n",
      "findfont: Font family 'Palatino LT' not found.\n",
      "findfont: Font family 'Palatino LT' not found.\n",
      "findfont: Font family 'Palatino LT' not found.\n",
      "findfont: Font family 'Palatino LT' not found.\n",
      "findfont: Font family 'Palatino LT' not found.\n",
      "findfont: Font family 'Palatino LT' not found.\n",
      "findfont: Font family 'Palatino LT' not found.\n",
      "findfont: Font family 'Palatino LT' not found.\n",
      "findfont: Font family 'Palatino LT' not found.\n",
      "findfont: Font family 'Palatino LT' not found.\n",
      "findfont: Font family 'Palatino LT' not found.\n",
      "findfont: Font family 'Palatino LT' not found.\n",
      "findfont: Font family 'Palatino LT' not found.\n",
      "findfont: Font family 'Palatino LT' not found.\n",
      "findfont: Font family 'Palatino LT' not found.\n",
      "findfont: Font family 'Palatino LT' not found.\n",
      "findfont: Font family 'Palatino LT' not found.\n",
      "findfont: Font family 'Palatino LT' not found.\n",
      "findfont: Font family 'Palatino LT' not found.\n",
      "findfont: Font family 'Palatino LT' not found.\n",
      "findfont: Font family 'Palatino LT' not found.\n",
      "findfont: Font family 'Palatino LT' not found.\n",
      "findfont: Font family 'Palatino LT' not found.\n",
      "findfont: Font family 'Palatino LT' not found.\n",
      "findfont: Font family 'Palatino LT' not found.\n",
      "findfont: Font family 'Palatino LT' not found.\n",
      "findfont: Font family 'Palatino LT' not found.\n",
      "findfont: Font family 'Palatino LT' not found.\n",
      "findfont: Font family 'Palatino LT' not found.\n",
      "findfont: Font family 'Palatino LT' not found.\n",
      "findfont: Font family 'Palatino LT' not found.\n",
      "findfont: Font family 'Palatino LT' not found.\n",
      "findfont: Font family 'Palatino LT' not found.\n",
      "findfont: Font family 'Palatino LT' not found.\n",
      "findfont: Font family 'Palatino LT' not found.\n",
      "findfont: Font family 'Palatino LT' not found.\n"
     ]
    },
    {
     "name": "stderr",
     "output_type": "stream",
     "text": [
      "findfont: Font family 'Palatino LT' not found.\n",
      "findfont: Font family 'Palatino LT' not found.\n",
      "findfont: Font family 'Palatino LT' not found.\n",
      "findfont: Font family 'Palatino LT' not found.\n",
      "findfont: Font family 'Palatino LT' not found.\n",
      "findfont: Font family 'Palatino LT' not found.\n",
      "findfont: Font family 'Palatino LT' not found.\n",
      "findfont: Font family 'Palatino LT' not found.\n",
      "findfont: Font family 'Palatino LT' not found.\n",
      "findfont: Font family 'Palatino LT' not found.\n",
      "findfont: Font family 'Palatino LT' not found.\n",
      "findfont: Font family 'Palatino LT' not found.\n",
      "findfont: Font family 'Palatino LT' not found.\n",
      "findfont: Font family 'Palatino LT' not found.\n",
      "findfont: Font family 'Palatino LT' not found.\n",
      "findfont: Font family 'Palatino LT' not found.\n",
      "findfont: Font family 'Palatino LT' not found.\n",
      "findfont: Font family 'Palatino LT' not found.\n",
      "findfont: Font family 'Palatino LT' not found.\n",
      "findfont: Font family 'Palatino LT' not found.\n",
      "findfont: Font family 'Palatino LT' not found.\n",
      "findfont: Font family 'Palatino LT' not found.\n",
      "findfont: Font family 'Palatino LT' not found.\n",
      "findfont: Font family 'Palatino LT' not found.\n",
      "findfont: Font family 'Palatino LT' not found.\n",
      "findfont: Font family 'Palatino LT' not found.\n",
      "findfont: Font family 'Palatino LT' not found.\n",
      "findfont: Font family 'Palatino LT' not found.\n",
      "findfont: Font family 'Palatino LT' not found.\n",
      "findfont: Font family 'Palatino LT' not found.\n",
      "findfont: Font family 'Palatino LT' not found.\n",
      "findfont: Font family 'Palatino LT' not found.\n",
      "findfont: Font family 'Palatino LT' not found.\n",
      "findfont: Font family 'Palatino LT' not found.\n",
      "findfont: Font family 'Palatino LT' not found.\n",
      "findfont: Font family 'Palatino LT' not found.\n",
      "findfont: Font family 'Palatino LT' not found.\n",
      "findfont: Font family 'Palatino LT' not found.\n",
      "findfont: Font family 'Palatino LT' not found.\n",
      "findfont: Font family 'Palatino LT' not found.\n",
      "findfont: Font family 'Palatino LT' not found.\n",
      "findfont: Font family 'Palatino LT' not found.\n",
      "findfont: Font family 'Palatino LT' not found.\n",
      "findfont: Font family 'Palatino LT' not found.\n",
      "findfont: Font family 'Palatino LT' not found.\n",
      "findfont: Font family 'Palatino LT' not found.\n",
      "findfont: Font family 'Palatino LT' not found.\n",
      "findfont: Font family 'Palatino LT' not found.\n",
      "findfont: Font family 'Palatino LT' not found.\n",
      "findfont: Font family 'Palatino LT' not found.\n",
      "findfont: Font family 'Palatino LT' not found.\n",
      "findfont: Font family 'Palatino LT' not found.\n",
      "findfont: Font family 'Palatino LT' not found.\n",
      "findfont: Font family 'Palatino LT' not found.\n",
      "findfont: Font family 'Palatino LT' not found.\n",
      "findfont: Font family 'Palatino LT' not found.\n",
      "findfont: Font family 'Palatino LT' not found.\n",
      "findfont: Font family 'Palatino LT' not found.\n",
      "findfont: Font family 'Palatino LT' not found.\n",
      "findfont: Font family 'Palatino LT' not found.\n",
      "findfont: Font family 'Palatino LT' not found.\n",
      "findfont: Font family 'Palatino LT' not found.\n",
      "findfont: Font family 'Palatino LT' not found.\n",
      "findfont: Font family 'Palatino LT' not found.\n",
      "findfont: Font family 'Palatino LT' not found.\n",
      "findfont: Font family 'Palatino LT' not found.\n",
      "findfont: Font family 'Palatino LT' not found.\n",
      "findfont: Font family 'Palatino LT' not found.\n",
      "findfont: Font family 'Palatino LT' not found.\n",
      "findfont: Font family 'Palatino LT' not found.\n",
      "findfont: Font family 'Palatino LT' not found.\n",
      "findfont: Font family 'Palatino LT' not found.\n",
      "findfont: Font family 'Palatino LT' not found.\n",
      "findfont: Font family 'Palatino LT' not found.\n",
      "findfont: Font family 'Palatino LT' not found.\n",
      "findfont: Font family 'Palatino LT' not found.\n",
      "findfont: Font family 'Palatino LT' not found.\n",
      "findfont: Font family 'Palatino LT' not found.\n",
      "findfont: Font family 'Palatino LT' not found.\n",
      "findfont: Font family 'Palatino LT' not found.\n",
      "findfont: Font family 'Palatino LT' not found.\n",
      "findfont: Font family 'Palatino LT' not found.\n",
      "findfont: Font family 'Palatino LT' not found.\n",
      "findfont: Font family 'Palatino LT' not found.\n",
      "findfont: Font family 'Palatino LT' not found.\n",
      "findfont: Font family 'Palatino LT' not found.\n",
      "findfont: Font family 'Palatino LT' not found.\n",
      "findfont: Font family 'Palatino LT' not found.\n",
      "findfont: Font family 'Palatino LT' not found.\n",
      "findfont: Font family 'Palatino LT' not found.\n",
      "findfont: Font family 'Palatino LT' not found.\n",
      "findfont: Font family 'Palatino LT' not found.\n",
      "findfont: Font family 'Palatino LT' not found.\n",
      "findfont: Font family 'Palatino LT' not found.\n",
      "findfont: Font family 'Palatino LT' not found.\n",
      "findfont: Font family 'Palatino LT' not found.\n",
      "findfont: Font family 'Palatino LT' not found.\n",
      "findfont: Font family 'Palatino LT' not found.\n",
      "findfont: Font family 'Palatino LT' not found.\n",
      "findfont: Font family 'Palatino LT' not found.\n",
      "findfont: Font family 'Palatino LT' not found.\n",
      "findfont: Font family 'Palatino LT' not found.\n",
      "findfont: Font family 'Palatino LT' not found.\n",
      "findfont: Font family 'Palatino LT' not found.\n",
      "findfont: Font family 'Palatino LT' not found.\n",
      "findfont: Font family 'Palatino LT' not found.\n",
      "findfont: Font family 'Palatino LT' not found.\n",
      "findfont: Font family 'Palatino LT' not found.\n",
      "findfont: Font family 'Palatino LT' not found.\n",
      "findfont: Font family 'Palatino LT' not found.\n",
      "findfont: Font family 'Palatino LT' not found.\n",
      "findfont: Font family 'Palatino LT' not found.\n",
      "findfont: Font family 'Palatino LT' not found.\n",
      "findfont: Font family 'Palatino LT' not found.\n",
      "findfont: Font family 'Palatino LT' not found.\n",
      "findfont: Font family 'Palatino LT' not found.\n",
      "findfont: Font family 'Palatino LT' not found.\n",
      "findfont: Font family 'Palatino LT' not found.\n",
      "findfont: Font family 'Palatino LT' not found.\n",
      "findfont: Font family 'Palatino LT' not found.\n",
      "findfont: Font family 'Palatino LT' not found.\n",
      "findfont: Font family 'Palatino LT' not found.\n",
      "findfont: Font family 'Palatino LT' not found.\n",
      "findfont: Font family 'Palatino LT' not found.\n",
      "findfont: Font family 'Palatino LT' not found.\n",
      "findfont: Font family 'Palatino LT' not found.\n",
      "findfont: Font family 'Palatino LT' not found.\n",
      "findfont: Font family 'Palatino LT' not found.\n",
      "findfont: Font family 'Palatino LT' not found.\n",
      "findfont: Font family 'Palatino LT' not found.\n",
      "findfont: Font family 'Palatino LT' not found.\n",
      "findfont: Font family 'Palatino LT' not found.\n",
      "findfont: Font family 'Palatino LT' not found.\n",
      "findfont: Font family 'Palatino LT' not found.\n",
      "findfont: Font family 'Palatino LT' not found.\n",
      "findfont: Font family 'Palatino LT' not found.\n",
      "findfont: Font family 'Palatino LT' not found.\n",
      "findfont: Font family 'Palatino LT' not found.\n",
      "findfont: Font family 'Palatino LT' not found.\n",
      "findfont: Font family 'Palatino LT' not found.\n",
      "findfont: Font family 'Palatino LT' not found.\n",
      "findfont: Font family 'Palatino LT' not found.\n",
      "findfont: Font family 'Palatino LT' not found.\n",
      "findfont: Font family 'Palatino LT' not found.\n",
      "findfont: Font family 'Palatino LT' not found.\n",
      "findfont: Font family 'Palatino LT' not found.\n",
      "findfont: Font family 'Palatino LT' not found.\n",
      "findfont: Font family 'Palatino LT' not found.\n",
      "findfont: Font family 'Palatino LT' not found.\n",
      "findfont: Font family 'Palatino LT' not found.\n",
      "findfont: Font family 'Palatino LT' not found.\n",
      "findfont: Font family 'Palatino LT' not found.\n",
      "findfont: Font family 'Palatino LT' not found.\n",
      "findfont: Font family 'Palatino LT' not found.\n",
      "findfont: Font family 'Palatino LT' not found.\n",
      "findfont: Font family 'Palatino LT' not found.\n",
      "findfont: Font family 'Palatino LT' not found.\n",
      "findfont: Font family 'Palatino LT' not found.\n",
      "findfont: Font family 'Palatino LT' not found.\n",
      "findfont: Font family 'Palatino LT' not found.\n",
      "findfont: Font family 'Palatino LT' not found.\n",
      "findfont: Font family 'Palatino LT' not found.\n",
      "findfont: Font family 'Palatino LT' not found.\n",
      "findfont: Font family 'Palatino LT' not found.\n",
      "findfont: Font family 'Palatino LT' not found.\n",
      "findfont: Font family 'Palatino LT' not found.\n",
      "findfont: Font family 'Palatino LT' not found.\n",
      "findfont: Font family 'Palatino LT' not found.\n",
      "findfont: Font family 'Palatino LT' not found.\n",
      "findfont: Font family 'Palatino LT' not found.\n",
      "findfont: Font family 'Palatino LT' not found.\n",
      "findfont: Font family 'Palatino LT' not found.\n",
      "findfont: Font family 'Palatino LT' not found.\n",
      "findfont: Font family 'Palatino LT' not found.\n",
      "findfont: Font family 'Palatino LT' not found.\n",
      "findfont: Font family 'Palatino LT' not found.\n",
      "findfont: Font family 'Palatino LT' not found.\n",
      "findfont: Font family 'Palatino LT' not found.\n",
      "findfont: Font family 'Palatino LT' not found.\n",
      "findfont: Font family 'Palatino LT' not found.\n",
      "findfont: Font family 'Palatino LT' not found.\n",
      "findfont: Font family 'Palatino LT' not found.\n",
      "findfont: Font family 'Palatino LT' not found.\n"
     ]
    },
    {
     "data": {
      "image/png": "[encoded data removed]",
      "text/plain": [
       "<Figure size 960x720 with 1 Axes>"
      ]
     },
     "metadata": {},
     "output_type": "display_data"
    }
   ],
   "source": [
    "plt.figure(dpi=150)\n",
    "err_kws = {'capsize': 5, 'capthick':1, 'elinewidth':2.5}\n",
    "ax = sns.lineplot(data=dpilqr_admm_df, x=\"n_agents\", y=\"normalized_t_std\", hue='SOVA_admm', lw=1.0, style='SOVA_admm',\n",
    "             dashes=False, markers=True, markersize=6.5,palette=[\"green\", \"firebrick\", \"grey\"], err_style='bars', err_kws = err_kws)\n",
    "\n",
    "\n",
    "for axis in ['bottom','left']:\n",
    "    ax.spines[axis].set_linewidth(2.0)\n",
    "    \n",
    "ax.spines['top'].set_visible(False)\n",
    "ax.spines['right'].set_visible(False)\n",
    "ax.tick_params(width=2.0)\n",
    "\n",
    "plt.xticks(fontname = font_family, size=14, weight='bold')\n",
    "plt.yticks(fontname = font_family,size=14, weight='bold')\n",
    "# ax.set_xlabel(ax.get_xlabel(), fontsize=12, weight='bold')\n",
    "# ax.set_ylabel(ax.get_ylabel(), fontsize=12, weight='bold')\n",
    "plt.ylabel('Normalized Std. of Computation Time',fontname = font_family,fontsize=14, weight='bold');\n",
    "plt.xlabel('Number of Agents',fontname = font_family,fontsize=14, weight='bold');\n",
    "plt.legend(labels=['DP-ILQR','Regular Consensus-ADMM','Potential ADMM'],frameon=False,\\\n",
    "           prop={'family':font_family,'weight':'bold','size':14})\n",
    "\n",
    "# Set y-axis to scientific notation style with fewer ticks\n",
    "ax.yaxis.get_major_formatter().set_powerlimits((-2, 2))\n",
    "ax.yaxis.set_major_locator(ticker.MaxNLocator(nbins=4))\n",
    "font = FontProperties(family=font_family,weight='bold')\n",
    "ax.yaxis.get_offset_text().set_font_properties(font)\n",
    "\n",
    "plt.savefig('results/std_computation_times_comparison.png', bbox_inches = 'tight', dpi=250, facecolor = ax.get_facecolor())\n"
   ]
  },
  {
   "cell_type": "markdown",
   "metadata": {},
   "source": []
  },
  {
   "cell_type": "markdown",
   "metadata": {},
   "source": [
    "#### The following optimality gap analysis uses data where each scenario is run 60 trials:"
   ]
  },
  {
   "cell_type": "code",
   "execution_count": 444,
   "metadata": {},
   "outputs": [],
   "source": [
    "optimality_60trials = pd.read_excel('logs/optimality_gap_60Trials.xlsm', sheet_name='optimality_gap_60Trials')"
   ]
  },
  {
   "cell_type": "code",
   "execution_count": 445,
   "metadata": {},
   "outputs": [],
   "source": [
    "optimality_60trials.columns = ['i_trial', 'n_agents', 't', 'converged', 'obj_trj', 'T', 'dt',\n",
    "       'radius', 'SOVA_admm', 't_solve_avg', 't_solve_std',\n",
    "       'MAX_ITER', 'dist_to_goal']"
   ]
  },
  {
   "cell_type": "code",
   "execution_count": 446,
   "metadata": {},
   "outputs": [
    {
     "data": {
      "text/html": [
       "<div>\n",
       "<style scoped>\n",
       "    .dataframe tbody tr th:only-of-type {\n",
       "        vertical-align: middle;\n",
       "    }\n",
       "\n",
       "    .dataframe tbody tr th {\n",
       "        vertical-align: top;\n",
       "    }\n",
       "\n",
       "    .dataframe thead th {\n",
       "        text-align: right;\n",
       "    }\n",
       "</style>\n",
       "<table border=\"1\" class=\"dataframe\">\n",
       "  <thead>\n",
       "    <tr style=\"text-align: right;\">\n",
       "      <th></th>\n",
       "      <th>i_trial</th>\n",
       "      <th>n_agents</th>\n",
       "      <th>t</th>\n",
       "      <th>converged</th>\n",
       "      <th>obj_trj</th>\n",
       "      <th>T</th>\n",
       "      <th>dt</th>\n",
       "      <th>radius</th>\n",
       "      <th>SOVA_admm</th>\n",
       "      <th>t_solve_avg</th>\n",
       "      <th>t_solve_std</th>\n",
       "      <th>MAX_ITER</th>\n",
       "      <th>dist_to_goal</th>\n",
       "    </tr>\n",
       "  </thead>\n",
       "  <tbody>\n",
       "    <tr>\n",
       "      <th>0</th>\n",
       "      <td>0</td>\n",
       "      <td>3</td>\n",
       "      <td>1.2</td>\n",
       "      <td>True</td>\n",
       "      <td>618.599116</td>\n",
       "      <td>8</td>\n",
       "      <td>0.1</td>\n",
       "      <td>0.2</td>\n",
       "      <td>centralized_mpc</td>\n",
       "      <td>0.423846</td>\n",
       "      <td>0.105043</td>\n",
       "      <td>3</td>\n",
       "      <td>[0.08  0.055 0.093]</td>\n",
       "    </tr>\n",
       "    <tr>\n",
       "      <th>1</th>\n",
       "      <td>0</td>\n",
       "      <td>3</td>\n",
       "      <td>1.2</td>\n",
       "      <td>True</td>\n",
       "      <td>652.274774</td>\n",
       "      <td>8</td>\n",
       "      <td>0.1</td>\n",
       "      <td>0.2</td>\n",
       "      <td>True</td>\n",
       "      <td>0.463307</td>\n",
       "      <td>0.046052</td>\n",
       "      <td>3</td>\n",
       "      <td>[0.084 0.051 0.049]</td>\n",
       "    </tr>\n",
       "    <tr>\n",
       "      <th>2</th>\n",
       "      <td>1</td>\n",
       "      <td>3</td>\n",
       "      <td>1.0</td>\n",
       "      <td>True</td>\n",
       "      <td>411.398870</td>\n",
       "      <td>8</td>\n",
       "      <td>0.1</td>\n",
       "      <td>0.2</td>\n",
       "      <td>centralized_mpc</td>\n",
       "      <td>0.327532</td>\n",
       "      <td>0.009642</td>\n",
       "      <td>3</td>\n",
       "      <td>[0.04  0.081 0.074]</td>\n",
       "    </tr>\n",
       "    <tr>\n",
       "      <th>3</th>\n",
       "      <td>1</td>\n",
       "      <td>3</td>\n",
       "      <td>1.0</td>\n",
       "      <td>True</td>\n",
       "      <td>418.837521</td>\n",
       "      <td>8</td>\n",
       "      <td>0.1</td>\n",
       "      <td>0.2</td>\n",
       "      <td>True</td>\n",
       "      <td>0.434283</td>\n",
       "      <td>0.023814</td>\n",
       "      <td>3</td>\n",
       "      <td>[0.043 0.087 0.08 ]</td>\n",
       "    </tr>\n",
       "    <tr>\n",
       "      <th>4</th>\n",
       "      <td>2</td>\n",
       "      <td>3</td>\n",
       "      <td>1.2</td>\n",
       "      <td>True</td>\n",
       "      <td>561.208497</td>\n",
       "      <td>8</td>\n",
       "      <td>0.1</td>\n",
       "      <td>0.2</td>\n",
       "      <td>centralized_mpc</td>\n",
       "      <td>0.335040</td>\n",
       "      <td>0.016040</td>\n",
       "      <td>3</td>\n",
       "      <td>[0.046 0.076 0.088]</td>\n",
       "    </tr>\n",
       "  </tbody>\n",
       "</table>\n",
       "</div>"
      ],
      "text/plain": [
       "   i_trial  n_agents    t  converged     obj_trj  T   dt  radius   \n",
       "0        0         3  1.2       True  618.599116  8  0.1     0.2  \\\n",
       "1        0         3  1.2       True  652.274774  8  0.1     0.2   \n",
       "2        1         3  1.0       True  411.398870  8  0.1     0.2   \n",
       "3        1         3  1.0       True  418.837521  8  0.1     0.2   \n",
       "4        2         3  1.2       True  561.208497  8  0.1     0.2   \n",
       "\n",
       "         SOVA_admm  t_solve_avg  t_solve_std  MAX_ITER         dist_to_goal  \n",
       "0  centralized_mpc     0.423846     0.105043         3  [0.08  0.055 0.093]  \n",
       "1             True     0.463307     0.046052         3  [0.084 0.051 0.049]  \n",
       "2  centralized_mpc     0.327532     0.009642         3  [0.04  0.081 0.074]  \n",
       "3             True     0.434283     0.023814         3  [0.043 0.087 0.08 ]  \n",
       "4  centralized_mpc     0.335040     0.016040         3  [0.046 0.076 0.088]  "
      ]
     },
     "execution_count": 446,
     "metadata": {},
     "output_type": "execute_result"
    }
   ],
   "source": [
    "optimality_60trials.head()"
   ]
  },
  {
   "cell_type": "code",
   "execution_count": 447,
   "metadata": {},
   "outputs": [],
   "source": [
    "agents_3_60trials =np.abs(optimality_60trials[(optimality_60trials['n_agents']==3) & (optimality_60trials['SOVA_admm']==True)]['obj_trj'].values-\\\n",
    "                optimality_60trials[(optimality_60trials['n_agents']==3) & (optimality_60trials['SOVA_admm']=='centralized_mpc')]['obj_trj'].values)/optimality_60trials[(optimality_60trials['n_agents']==3) & (optimality_60trials['SOVA_admm']=='centralized_mpc')]['obj_trj'].values"
   ]
  },
  {
   "cell_type": "code",
   "execution_count": 448,
   "metadata": {},
   "outputs": [],
   "source": [
    "agents_4_60trials =np.abs(optimality_60trials[(optimality_60trials['n_agents']==4) & (optimality_60trials['SOVA_admm']==True)]['obj_trj'].values-\\\n",
    "                optimality_60trials[(optimality_60trials['n_agents']==4) & (optimality_60trials['SOVA_admm']=='centralized_mpc')]['obj_trj'].values)/optimality_60trials[(optimality_60trials['n_agents']==4) & (optimality_60trials['SOVA_admm']=='centralized_mpc')]['obj_trj'].values"
   ]
  },
  {
   "cell_type": "code",
   "execution_count": 449,
   "metadata": {},
   "outputs": [],
   "source": [
    "agents_5_60trials =np.abs(optimality_60trials[(optimality_60trials['n_agents']==5) & (optimality_60trials['SOVA_admm']==True)]['obj_trj'].values-\\\n",
    "                optimality_60trials[(optimality_60trials['n_agents']==5) & (optimality_60trials['SOVA_admm']=='centralized_mpc')]['obj_trj'].values)/optimality_60trials[(optimality_60trials['n_agents']==5) & (optimality_60trials['SOVA_admm']=='centralized_mpc')]['obj_trj'].values"
   ]
  },
  {
   "cell_type": "code",
   "execution_count": 450,
   "metadata": {},
   "outputs": [],
   "source": [
    "agents_6_60trials =np.abs(optimality_60trials[(optimality_60trials['n_agents']==6) & (optimality_60trials['SOVA_admm']==True)]['obj_trj'].values-\\\n",
    "                optimality_60trials[(optimality_60trials['n_agents']==6) & (optimality_60trials['SOVA_admm']=='centralized_mpc')]['obj_trj'].values)/optimality_60trials[(optimality_60trials['n_agents']==6) & (optimality_60trials['SOVA_admm']=='centralized_mpc')]['obj_trj'].values"
   ]
  },
  {
   "cell_type": "code",
   "execution_count": 451,
   "metadata": {},
   "outputs": [],
   "source": [
    "agents_7_60trials =np.abs(optimality_60trials[(optimality_60trials['n_agents']==7) & (optimality_60trials['SOVA_admm']==True)]['obj_trj'].values-\\\n",
    "                optimality_60trials[(optimality_60trials['n_agents']==7) & (optimality_60trials['SOVA_admm']=='centralized_mpc')]['obj_trj'].values)/optimality_60trials[(optimality_60trials['n_agents']==7) & (optimality_60trials['SOVA_admm']=='centralized_mpc')]['obj_trj'].values"
   ]
  },
  {
   "cell_type": "code",
   "execution_count": 452,
   "metadata": {},
   "outputs": [],
   "source": [
    "agents_8_60trials =np.abs(optimality_60trials[(optimality_60trials['n_agents']==8) & (optimality_60trials['SOVA_admm']==True)]['obj_trj'].values-\\\n",
    "                optimality_60trials[(optimality_60trials['n_agents']==8) & (optimality_60trials['SOVA_admm']=='centralized_mpc')]['obj_trj'].values)/optimality_60trials[(optimality_60trials['n_agents']==8) & (optimality_60trials['SOVA_admm']=='centralized_mpc')]['obj_trj'].values"
   ]
  },
  {
   "cell_type": "code",
   "execution_count": 453,
   "metadata": {},
   "outputs": [],
   "source": [
    "def reject_outliers_2(data, m=2.):\n",
    "    d = np.abs(data - np.median(data))\n",
    "    mdev = np.median(d)\n",
    "    s = d / (mdev if mdev else 1.)\n",
    "    return data[s < m]"
   ]
  },
  {
   "cell_type": "code",
   "execution_count": 454,
   "metadata": {},
   "outputs": [],
   "source": [
    "#Remove outliers using the median and \"median absolute distance to the median.\"\n",
    "agents_3_60trials = reject_outliers_2(agents_3_60trials, m=1.5)\n",
    "agents_4_60trials = reject_outliers_2(agents_4_60trials, m=1.5)\n",
    "agents_5_60trials = reject_outliers_2(agents_5_60trials, m=1.5)\n",
    "agents_6_60trials = reject_outliers_2(agents_6_60trials, m=1.5)\n",
    "agents_7_60trials = reject_outliers_2(agents_7_60trials, m=1.5)\n",
    "agents_8_60trials = reject_outliers_2(agents_8_60trials, m=1.5)\n",
    "\n"
   ]
  },
  {
   "cell_type": "code",
   "execution_count": 455,
   "metadata": {},
   "outputs": [],
   "source": [
    "relative_gap_admm = np.hstack((agents_3_60trials ,agents_4_60trials ,agents_5_60trials ,\n",
    "                               agents_6_60trials ,agents_7_60trials ,agents_8_60trials ))"
   ]
  },
  {
   "cell_type": "code",
   "execution_count": 456,
   "metadata": {},
   "outputs": [],
   "source": [
    "n_agents = np.hstack(([3]*agents_3_60trials.size,\n",
    "                      [4]*agents_4_60trials.size, \n",
    "                      [5]*agents_5_60trials.size, \n",
    "                      [6]*agents_6_60trials.size, \n",
    "                      [7]*agents_7_60trials.size, \n",
    "                      [8]*agents_8_60trials.size))"
   ]
  },
  {
   "cell_type": "code",
   "execution_count": 457,
   "metadata": {},
   "outputs": [],
   "source": [
    "optimality_new_df = pd.DataFrame({'n_agents':n_agents.flatten(),\n",
    "                                  'relative_gap_admm':relative_gap_admm.flatten()})"
   ]
  },
  {
   "cell_type": "code",
   "execution_count": 458,
   "metadata": {},
   "outputs": [],
   "source": [
    "optimality_new_df['relative_gap_admm'] = optimality_new_df['relative_gap_admm']*100"
   ]
  },
  {
   "cell_type": "code",
   "execution_count": 459,
   "metadata": {},
   "outputs": [
    {
     "data": {
      "text/html": [
       "<div>\n",
       "<style scoped>\n",
       "    .dataframe tbody tr th:only-of-type {\n",
       "        vertical-align: middle;\n",
       "    }\n",
       "\n",
       "    .dataframe tbody tr th {\n",
       "        vertical-align: top;\n",
       "    }\n",
       "\n",
       "    .dataframe thead th {\n",
       "        text-align: right;\n",
       "    }\n",
       "</style>\n",
       "<table border=\"1\" class=\"dataframe\">\n",
       "  <thead>\n",
       "    <tr style=\"text-align: right;\">\n",
       "      <th></th>\n",
       "      <th>n_agents</th>\n",
       "      <th>mean %</th>\n",
       "      <th>std %</th>\n",
       "    </tr>\n",
       "  </thead>\n",
       "  <tbody>\n",
       "    <tr>\n",
       "      <th>0</th>\n",
       "      <td>3</td>\n",
       "      <td>0.862002</td>\n",
       "      <td>0.153643</td>\n",
       "    </tr>\n",
       "    <tr>\n",
       "      <th>1</th>\n",
       "      <td>4</td>\n",
       "      <td>0.819996</td>\n",
       "      <td>0.411973</td>\n",
       "    </tr>\n",
       "    <tr>\n",
       "      <th>2</th>\n",
       "      <td>5</td>\n",
       "      <td>2.694291</td>\n",
       "      <td>1.820282</td>\n",
       "    </tr>\n",
       "    <tr>\n",
       "      <th>3</th>\n",
       "      <td>6</td>\n",
       "      <td>3.571168</td>\n",
       "      <td>2.651489</td>\n",
       "    </tr>\n",
       "    <tr>\n",
       "      <th>4</th>\n",
       "      <td>7</td>\n",
       "      <td>5.204225</td>\n",
       "      <td>3.314343</td>\n",
       "    </tr>\n",
       "    <tr>\n",
       "      <th>5</th>\n",
       "      <td>8</td>\n",
       "      <td>7.649426</td>\n",
       "      <td>4.117975</td>\n",
       "    </tr>\n",
       "  </tbody>\n",
       "</table>\n",
       "</div>"
      ],
      "text/plain": [
       "   n_agents    mean %     std %\n",
       "0         3  0.862002  0.153643\n",
       "1         4  0.819996  0.411973\n",
       "2         5  2.694291  1.820282\n",
       "3         6  3.571168  2.651489\n",
       "4         7  5.204225  3.314343\n",
       "5         8  7.649426  4.117975"
      ]
     },
     "execution_count": 459,
     "metadata": {},
     "output_type": "execute_result"
    }
   ],
   "source": [
    "optimality_stats = optimality_new_df.groupby('n_agents').agg({'relative_gap_admm':['mean','std']})\n",
    "optimality_stats.columns = ['mean %','std %']\n",
    "optimality_stats = optimality_stats.reset_index()\n",
    "optimality_stats"
   ]
  },
  {
   "cell_type": "code",
   "execution_count": 460,
   "metadata": {},
   "outputs": [
    {
     "name": "stderr",
     "output_type": "stream",
     "text": [
      "findfont: Font family 'Palatino LT' not found.\n",
      "findfont: Font family 'Palatino LT' not found.\n",
      "findfont: Font family 'Palatino LT' not found.\n",
      "findfont: Font family 'Palatino LT' not found.\n",
      "findfont: Font family 'Palatino LT' not found.\n",
      "findfont: Font family 'Palatino LT' not found.\n",
      "findfont: Font family 'Palatino LT' not found.\n",
      "findfont: Font family 'Palatino LT' not found.\n",
      "findfont: Font family 'Palatino LT' not found.\n",
      "findfont: Font family 'Palatino LT' not found.\n",
      "findfont: Font family 'Palatino LT' not found.\n",
      "findfont: Font family 'Palatino LT' not found.\n",
      "findfont: Font family 'Palatino LT' not found.\n",
      "findfont: Font family 'Palatino LT' not found.\n",
      "findfont: Font family 'Palatino LT' not found.\n",
      "findfont: Font family 'Palatino LT' not found.\n",
      "findfont: Font family 'Palatino LT' not found.\n",
      "findfont: Font family 'Palatino LT' not found.\n",
      "findfont: Font family 'Palatino LT' not found.\n",
      "findfont: Font family 'Palatino LT' not found.\n",
      "findfont: Font family 'Palatino LT' not found.\n",
      "findfont: Font family 'Palatino LT' not found.\n",
      "findfont: Font family 'Palatino LT' not found.\n",
      "findfont: Font family 'Palatino LT' not found.\n",
      "findfont: Font family 'Palatino LT' not found.\n",
      "findfont: Font family 'Palatino LT' not found.\n",
      "findfont: Font family 'Palatino LT' not found.\n",
      "findfont: Font family 'Palatino LT' not found.\n",
      "findfont: Font family 'Palatino LT' not found.\n",
      "findfont: Font family 'Palatino LT' not found.\n",
      "findfont: Font family 'Palatino LT' not found.\n",
      "findfont: Font family 'Palatino LT' not found.\n",
      "findfont: Font family 'Palatino LT' not found.\n",
      "findfont: Font family 'Palatino LT' not found.\n",
      "findfont: Font family 'Palatino LT' not found.\n",
      "findfont: Font family 'Palatino LT' not found.\n",
      "findfont: Font family 'Palatino LT' not found.\n",
      "findfont: Font family 'Palatino LT' not found.\n",
      "findfont: Font family 'Palatino LT' not found.\n",
      "findfont: Font family 'Palatino LT' not found.\n",
      "findfont: Font family 'Palatino LT' not found.\n",
      "findfont: Font family 'Palatino LT' not found.\n",
      "findfont: Font family 'Palatino LT' not found.\n",
      "findfont: Font family 'Palatino LT' not found.\n",
      "findfont: Font family 'Palatino LT' not found.\n",
      "findfont: Font family 'Palatino LT' not found.\n",
      "findfont: Font family 'Palatino LT' not found.\n",
      "findfont: Font family 'Palatino LT' not found.\n",
      "findfont: Font family 'Palatino LT' not found.\n",
      "findfont: Font family 'Palatino LT' not found.\n",
      "findfont: Font family 'Palatino LT' not found.\n",
      "findfont: Font family 'Palatino LT' not found.\n",
      "findfont: Font family 'Palatino LT' not found.\n",
      "findfont: Font family 'Palatino LT' not found.\n",
      "findfont: Font family 'Palatino LT' not found.\n",
      "findfont: Font family 'Palatino LT' not found.\n",
      "findfont: Font family 'Palatino LT' not found.\n",
      "findfont: Font family 'Palatino LT' not found.\n",
      "findfont: Font family 'Palatino LT' not found.\n",
      "findfont: Font family 'Palatino LT' not found.\n"
     ]
    },
    {
     "data": {
      "text/plain": [
       "<Figure size 960x720 with 0 Axes>"
      ]
     },
     "metadata": {},
     "output_type": "display_data"
    },
    {
     "name": "stderr",
     "output_type": "stream",
     "text": [
      "findfont: Font family 'Palatino LT' not found.\n",
      "findfont: Font family 'Palatino LT' not found.\n",
      "findfont: Font family 'Palatino LT' not found.\n",
      "findfont: Font family 'Palatino LT' not found.\n",
      "findfont: Font family 'Palatino LT' not found.\n",
      "findfont: Font family 'Palatino LT' not found.\n",
      "findfont: Font family 'Palatino LT' not found.\n",
      "findfont: Font family 'Palatino LT' not found.\n",
      "findfont: Font family 'Palatino LT' not found.\n",
      "findfont: Font family 'Palatino LT' not found.\n",
      "findfont: Font family 'Palatino LT' not found.\n",
      "findfont: Font family 'Palatino LT' not found.\n",
      "findfont: Font family 'Palatino LT' not found.\n",
      "findfont: Font family 'Palatino LT' not found.\n",
      "findfont: Font family 'Palatino LT' not found.\n",
      "findfont: Font family 'Palatino LT' not found.\n",
      "findfont: Font family 'Palatino LT' not found.\n",
      "findfont: Font family 'Palatino LT' not found.\n",
      "findfont: Font family 'Palatino LT' not found.\n",
      "findfont: Font family 'Palatino LT' not found.\n",
      "findfont: Font family 'Palatino LT' not found.\n",
      "findfont: Font family 'Palatino LT' not found.\n",
      "findfont: Font family 'Palatino LT' not found.\n",
      "findfont: Font family 'Palatino LT' not found.\n"
     ]
    },
    {
     "data": {
      "image/png": "[encoded data removed]",
      "text/plain": [
       "<Figure size 640x480 with 1 Axes>"
      ]
     },
     "metadata": {},
     "output_type": "display_data"
    }
   ],
   "source": [
    "plt.figure(dpi=150)  # Increase dpi for better resolution (adjust as needed)\n",
    "fig, ax = plt.subplots()\n",
    "sns.boxplot(x='n_agents', y='relative_gap_admm', data=optimality_new_df, ax=ax, color=\"cyan\", showfliers=False,\n",
    "            medianprops={'color': 'orange','linewidth':1.5})\n",
    "sns.despine(right=True)\n",
    "\n",
    "# Increase linewidth of bottom and left spines\n",
    "for axis in ['bottom', 'left']:\n",
    "    ax.spines[axis].set_linewidth(2.0)\n",
    "\n",
    "ax.spines['top'].set_visible(False)\n",
    "ax.spines['right'].set_visible(False)\n",
    "\n",
    "# Increase tick width\n",
    "ax.tick_params(width=2.0)\n",
    "\n",
    "# Increase label and tick font sizes\n",
    "plt.xticks(fontname = font_family, size=14, weight='bold')\n",
    "plt.yticks(fontname = font_family,size=14, weight='bold')\n",
    "\n",
    "plt.ylabel('Relative Optimality Gap (%)', fontname = font_family, fontsize=14, weight='bold')\n",
    "plt.xlabel('Number of Agents', fontname = font_family, fontsize=14, weight='bold')\n",
    "\n",
    "ax.yaxis.set_major_locator(ticker.MaxNLocator(nbins=4))\n",
    "# Add a legend if necessary\n",
    "# plt.legend(labels=['Potential ADMM optimality gap'], frameon=False, prop={'weight': 'bold', 'size': 8}, loc='best')\n",
    "\n",
    "plt.savefig('results/potential_admm_optimality_gap.png', bbox_inches='tight', dpi=250, facecolor=ax.get_facecolor())\n",
    "\n",
    "# Show the plot (optional)\n",
    "plt.show()"
   ]
  },
  {
   "cell_type": "markdown",
   "metadata": {},
   "source": [
    "#### Relative optimality gap between DP-ILQR and centralized MPC baseline:"
   ]
  },
  {
   "cell_type": "code",
   "execution_count": 701,
   "metadata": {},
   "outputs": [],
   "source": [
    "dpilqr_df = pd.read_excel('logs/ilqr_vs_centralized.xlsm', sheet_name='ilqr_vs_centralized')"
   ]
  },
  {
   "cell_type": "code",
   "execution_count": 702,
   "metadata": {},
   "outputs": [
    {
     "data": {
      "text/plain": [
       "Index(['i_trial', ' n_agents', ' t', ' converged', ' obj_trj', 'T', 'dt',\n",
       "       'radius', '         SOVA_admm '],\n",
       "      dtype='object')"
      ]
     },
     "execution_count": 702,
     "metadata": {},
     "output_type": "execute_result"
    }
   ],
   "source": [
    "dpilqr_df.columns"
   ]
  },
  {
   "cell_type": "markdown",
   "metadata": {},
   "source": []
  },
  {
   "cell_type": "code",
   "execution_count": 703,
   "metadata": {},
   "outputs": [],
   "source": [
    "dpilqr_df.columns = ['i_trial', 'n_agents', 't', 'converged', 'obj_trj', 'T', 'dt',\n",
    "       'radius', 'SOVA_admm']"
   ]
  },
  {
   "cell_type": "code",
   "execution_count": 704,
   "metadata": {},
   "outputs": [],
   "source": [
    "agents_3_60trials_sova =(dpilqr_df[(dpilqr_df['n_agents']==3) & (dpilqr_df['SOVA_admm']==True)]['obj_trj'].values-\\\n",
    "                dpilqr_df[(dpilqr_df['n_agents']==3) & (dpilqr_df['SOVA_admm']=='centralized_mpc')]['obj_trj'].values)/dpilqr_df[(dpilqr_df['n_agents']==3) & (dpilqr_df['SOVA_admm']=='centralized_mpc')]['obj_trj'].values"
   ]
  },
  {
   "cell_type": "code",
   "execution_count": 705,
   "metadata": {},
   "outputs": [],
   "source": [
    "agents_3_60trials_ilqr =(dpilqr_df[(dpilqr_df['n_agents']==3) & (dpilqr_df['SOVA_admm']=='ilqr')]['obj_trj'].values-\\\n",
    "                dpilqr_df[(dpilqr_df['n_agents']==3) & (dpilqr_df['SOVA_admm']=='centralized_mpc')]['obj_trj'].values)/dpilqr_df[(dpilqr_df['n_agents']==3) & (dpilqr_df['SOVA_admm']=='centralized_mpc')]['obj_trj'].values"
   ]
  },
  {
   "cell_type": "code",
   "execution_count": 706,
   "metadata": {},
   "outputs": [],
   "source": [
    "agents_4_60trials_sova =(dpilqr_df[(dpilqr_df['n_agents']==4) & (dpilqr_df['SOVA_admm']==True)]['obj_trj'].values-\\\n",
    "                dpilqr_df[(dpilqr_df['n_agents']==4) & (dpilqr_df['SOVA_admm']=='centralized_mpc')]['obj_trj'].values)/dpilqr_df[(dpilqr_df['n_agents']==4) & (dpilqr_df['SOVA_admm']=='centralized_mpc')]['obj_trj'].values\n",
    "\n",
    "agents_4_60trials_ilqr =(dpilqr_df[(dpilqr_df['n_agents']==4) & (dpilqr_df['SOVA_admm']=='ilqr')]['obj_trj'].values-\\\n",
    "                dpilqr_df[(dpilqr_df['n_agents']==4) & (dpilqr_df['SOVA_admm']=='centralized_mpc')]['obj_trj'].values)/dpilqr_df[(dpilqr_df['n_agents']==4) & (dpilqr_df['SOVA_admm']=='centralized_mpc')]['obj_trj'].values"
   ]
  },
  {
   "cell_type": "code",
   "execution_count": 707,
   "metadata": {},
   "outputs": [],
   "source": [
    "agents_5_60trials_sova =(dpilqr_df[(dpilqr_df['n_agents']==5) & (dpilqr_df['SOVA_admm']==True)]['obj_trj'].values-\\\n",
    "                dpilqr_df[(dpilqr_df['n_agents']==5) & (dpilqr_df['SOVA_admm']=='centralized_mpc')]['obj_trj'].values)/dpilqr_df[(dpilqr_df['n_agents']==5) & (dpilqr_df['SOVA_admm']=='centralized_mpc')]['obj_trj'].values\n",
    "\n",
    "agents_5_60trials_ilqr =(dpilqr_df[(dpilqr_df['n_agents']==5) & (dpilqr_df['SOVA_admm']=='ilqr')]['obj_trj'].values-\\\n",
    "                dpilqr_df[(dpilqr_df['n_agents']==5) & (dpilqr_df['SOVA_admm']=='centralized_mpc')]['obj_trj'].values)/dpilqr_df[(dpilqr_df['n_agents']==5) & (dpilqr_df['SOVA_admm']=='centralized_mpc')]['obj_trj'].values"
   ]
  },
  {
   "cell_type": "code",
   "execution_count": 708,
   "metadata": {},
   "outputs": [],
   "source": [
    "agents_6_60trials_sova =(dpilqr_df[(dpilqr_df['n_agents']==6) & (dpilqr_df['SOVA_admm']==True)]['obj_trj'].values-\\\n",
    "                dpilqr_df[(dpilqr_df['n_agents']==6) & (dpilqr_df['SOVA_admm']=='centralized_mpc')]['obj_trj'].values)/dpilqr_df[(dpilqr_df['n_agents']==6) & (dpilqr_df['SOVA_admm']=='centralized_mpc')]['obj_trj'].values\n",
    "\n",
    "agents_6_60trials_ilqr =(dpilqr_df[(dpilqr_df['n_agents']==6) & (dpilqr_df['SOVA_admm']=='ilqr')]['obj_trj'].values-\\\n",
    "                dpilqr_df[(dpilqr_df['n_agents']==6) & (dpilqr_df['SOVA_admm']=='centralized_mpc')]['obj_trj'].values)/dpilqr_df[(dpilqr_df['n_agents']==6) & (dpilqr_df['SOVA_admm']=='centralized_mpc')]['obj_trj'].values"
   ]
  },
  {
   "cell_type": "code",
   "execution_count": 709,
   "metadata": {},
   "outputs": [],
   "source": [
    "agents_7_60trials_sova =(dpilqr_df[(dpilqr_df['n_agents']==7) & (dpilqr_df['SOVA_admm']==True)]['obj_trj'].values-\\\n",
    "                dpilqr_df[(dpilqr_df['n_agents']==7) & (dpilqr_df['SOVA_admm']=='centralized_mpc')]['obj_trj'].values)/dpilqr_df[(dpilqr_df['n_agents']==7) & (dpilqr_df['SOVA_admm']=='centralized_mpc')]['obj_trj'].values\n",
    "\n",
    "agents_7_60trials_ilqr =(dpilqr_df[(dpilqr_df['n_agents']==7) & (dpilqr_df['SOVA_admm']=='ilqr')]['obj_trj'].values-\\\n",
    "                dpilqr_df[(dpilqr_df['n_agents']==7) & (dpilqr_df['SOVA_admm']=='centralized_mpc')]['obj_trj'].values)/dpilqr_df[(dpilqr_df['n_agents']==7) & (dpilqr_df['SOVA_admm']=='centralized_mpc')]['obj_trj'].values"
   ]
  },
  {
   "cell_type": "code",
   "execution_count": 710,
   "metadata": {},
   "outputs": [],
   "source": [
    "agents_8_60trials_sova =(dpilqr_df[(dpilqr_df['n_agents']==8) & (dpilqr_df['SOVA_admm']==True)]['obj_trj'].values-\\\n",
    "                dpilqr_df[(dpilqr_df['n_agents']==8) & (dpilqr_df['SOVA_admm']=='centralized_mpc')]['obj_trj'].values)/dpilqr_df[(dpilqr_df['n_agents']==8) & (dpilqr_df['SOVA_admm']=='centralized_mpc')]['obj_trj'].values\n",
    "\n",
    "agents_8_60trials_ilqr =(dpilqr_df[(dpilqr_df['n_agents']==8) & (dpilqr_df['SOVA_admm']=='ilqr')]['obj_trj'].values-\\\n",
    "                dpilqr_df[(dpilqr_df['n_agents']==8) & (dpilqr_df['SOVA_admm']=='centralized_mpc')]['obj_trj'].values)/dpilqr_df[(dpilqr_df['n_agents']==8) & (dpilqr_df['SOVA_admm']=='centralized_mpc')]['obj_trj'].values"
   ]
  },
  {
   "cell_type": "code",
   "execution_count": 711,
   "metadata": {},
   "outputs": [],
   "source": [
    "agents_3_60trials_ilqr = agents_3_60trials_ilqr[agents_3_60trials_ilqr >= 0]\n",
    "agents_4_60trials_ilqr = agents_4_60trials_ilqr[agents_4_60trials_ilqr >= 0]\n",
    "agents_5_60trials_ilqr = agents_5_60trials_ilqr[agents_5_60trials_ilqr >= 0]\n",
    "agents_6_60trials_ilqr = agents_6_60trials_ilqr[agents_6_60trials_ilqr >= 0]\n",
    "agents_7_60trials_ilqr = agents_7_60trials_ilqr[agents_7_60trials_ilqr >= 0]\n",
    "agents_8_60trials_ilqr = agents_8_60trials_ilqr[agents_8_60trials_ilqr >= 0]\n"
   ]
  },
  {
   "cell_type": "code",
   "execution_count": 712,
   "metadata": {},
   "outputs": [],
   "source": [
    "agents_3_60trials_sova = agents_3_60trials_sova[agents_3_60trials_sova >= 0]\n",
    "agents_4_60trials_sova = agents_4_60trials_sova[agents_4_60trials_sova >= 0]\n",
    "agents_5_60trials_sova = agents_5_60trials_sova[agents_5_60trials_sova >= 0]\n",
    "agents_6_60trials_sova = agents_6_60trials_sova[agents_6_60trials_sova >= 0]\n",
    "agents_7_60trials_sova = agents_7_60trials_sova[agents_7_60trials_sova >= 0]\n",
    "agents_8_60trials_sova = agents_8_60trials_sova[agents_8_60trials_sova >= 0]"
   ]
  },
  {
   "cell_type": "code",
   "execution_count": 713,
   "metadata": {},
   "outputs": [],
   "source": [
    "# agents_3_60trials_sova = reject_outliers_2(agents_3_60trials_sova, m=1.5)\n",
    "# agents_4_60trials_sova = reject_outliers_2(agents_4_60trials_sova, m=1.5)\n",
    "# agents_5_60trials_sova = reject_outliers_2(agents_5_60trials_sova, m=1.5)\n",
    "# agents_6_60trials_sova = reject_outliers_2(agents_6_60trials_sova, m=1.5)\n",
    "# agents_7_60trials_sova = reject_outliers_2(agents_7_60trials_sova, m=1.5)\n",
    "# agents_8_60trials_sova = reject_outliers_2(agents_8_60trials_sova, m=1.5)"
   ]
  },
  {
   "cell_type": "code",
   "execution_count": 714,
   "metadata": {},
   "outputs": [],
   "source": [
    "# agents_3_60trials_ilqr = reject_outliers_2(agents_3_60trials_ilqr, m=2)\n",
    "# agents_4_60trials_ilqr = reject_outliers_2(agents_4_60trials_ilqr, m=2)\n",
    "# agents_5_60trials_ilqr = reject_outliers_2(agents_5_60trials_ilqr, m=2)\n",
    "# agents_6_60trials_ilqr = reject_outliers_2(agents_6_60trials_ilqr, m=2)\n",
    "# agents_7_60trials_ilqr = reject_outliers_2(agents_7_60trials_ilqr, m=2)\n",
    "# agents_8_60trials_ilqr = reject_outliers_2(agents_8_60trials_ilqr, m=2)"
   ]
  },
  {
   "cell_type": "code",
   "execution_count": 715,
   "metadata": {},
   "outputs": [],
   "source": [
    "relative_gap_admm = np.hstack((agents_3_60trials_sova ,agents_4_60trials_sova ,agents_5_60trials_sova ,\n",
    "                               agents_6_60trials_sova ,agents_7_60trials_sova ,agents_8_60trials_sova ,\n",
    "                               agents_3_60trials_ilqr ,agents_4_60trials_ilqr ,agents_5_60trials_ilqr ,\n",
    "                               agents_6_60trials_ilqr ,agents_7_60trials_ilqr ,agents_8_60trials_ilqr))*100"
   ]
  },
  {
   "cell_type": "code",
   "execution_count": 716,
   "metadata": {},
   "outputs": [],
   "source": [
    "n_agents = np.hstack(([3]*agents_3_60trials_sova.size,\n",
    "                      [4]*agents_4_60trials_sova.size, \n",
    "                      [5]*agents_5_60trials_sova.size, \n",
    "                      [6]*agents_6_60trials_sova.size, \n",
    "                      [7]*agents_7_60trials_sova.size, \n",
    "                      [8]*agents_8_60trials_sova.size,\n",
    "                      [3]*agents_3_60trials_ilqr.size,\n",
    "                      [4]*agents_4_60trials_ilqr.size, \n",
    "                      [5]*agents_5_60trials_ilqr.size, \n",
    "                      [6]*agents_6_60trials_ilqr.size, \n",
    "                      [7]*agents_7_60trials_ilqr.size, \n",
    "                      [8]*agents_8_60trials_ilqr.size\n",
    "                      ))"
   ]
  },
  {
   "cell_type": "code",
   "execution_count": 717,
   "metadata": {},
   "outputs": [],
   "source": [
    "sova_counts = agents_3_60trials_sova.size + agents_4_60trials_sova.size+\\\n",
    "                agents_5_60trials_sova.size + agents_6_60trials_sova.size+\\\n",
    "                  agents_7_60trials_sova.size +   agents_8_60trials_sova.size"
   ]
  },
  {
   "cell_type": "code",
   "execution_count": 718,
   "metadata": {},
   "outputs": [
    {
     "data": {
      "text/plain": [
       "307"
      ]
     },
     "execution_count": 718,
     "metadata": {},
     "output_type": "execute_result"
    }
   ],
   "source": [
    "sova_counts "
   ]
  },
  {
   "cell_type": "code",
   "execution_count": 719,
   "metadata": {},
   "outputs": [],
   "source": [
    "ilqr_counts = n_agents.size - sova_counts"
   ]
  },
  {
   "cell_type": "code",
   "execution_count": 720,
   "metadata": {},
   "outputs": [
    {
     "data": {
      "text/plain": [
       "200"
      ]
     },
     "execution_count": 720,
     "metadata": {},
     "output_type": "execute_result"
    }
   ],
   "source": [
    "ilqr_counts"
   ]
  },
  {
   "cell_type": "code",
   "execution_count": 721,
   "metadata": {},
   "outputs": [],
   "source": [
    "method = np.hstack((['SOVA']*sova_counts,['ilqr']*ilqr_counts))"
   ]
  },
  {
   "cell_type": "code",
   "execution_count": 722,
   "metadata": {},
   "outputs": [],
   "source": [
    "ilqr_df = pd.DataFrame({'n_agents':n_agents,'relative_gap_admm':relative_gap_admm,'method':method})"
   ]
  },
  {
   "cell_type": "code",
   "execution_count": 723,
   "metadata": {},
   "outputs": [],
   "source": [
    "optimality_combined_df = ilqr_df"
   ]
  },
  {
   "cell_type": "code",
   "execution_count": 724,
   "metadata": {},
   "outputs": [
    {
     "data": {
      "text/plain": [
       "Index(['n_agents', 'relative_gap_admm', 'method'], dtype='object')"
      ]
     },
     "execution_count": 724,
     "metadata": {},
     "output_type": "execute_result"
    }
   ],
   "source": [
    "optimality_combined_df.columns"
   ]
  },
  {
   "cell_type": "code",
   "execution_count": 725,
   "metadata": {},
   "outputs": [
    {
     "data": {
      "text/plain": [
       "'Palatino LT'"
      ]
     },
     "execution_count": 725,
     "metadata": {},
     "output_type": "execute_result"
    }
   ],
   "source": [
    "font_family"
   ]
  },
  {
   "cell_type": "code",
   "execution_count": 732,
   "metadata": {},
   "outputs": [
    {
     "data": {
      "text/plain": [
       "<Figure size 960x720 with 0 Axes>"
      ]
     },
     "metadata": {},
     "output_type": "display_data"
    },
    {
     "name": "stderr",
     "output_type": "stream",
     "text": [
      "findfont: Font family 'Palatino LT' not found.\n",
      "findfont: Font family 'Palatino LT' not found.\n",
      "findfont: Font family 'Palatino LT' not found.\n",
      "findfont: Font family 'Palatino LT' not found.\n",
      "findfont: Font family 'Palatino LT' not found.\n",
      "findfont: Font family 'Palatino LT' not found.\n",
      "findfont: Font family 'Palatino LT' not found.\n",
      "findfont: Font family 'Palatino LT' not found.\n",
      "findfont: Font family 'Palatino LT' not found.\n",
      "findfont: Font family 'Palatino LT' not found.\n",
      "findfont: Font family 'Palatino LT' not found.\n",
      "findfont: Font family 'Palatino LT' not found.\n",
      "findfont: Font family 'Palatino LT' not found.\n",
      "findfont: Font family 'Palatino LT' not found.\n",
      "findfont: Font family 'Palatino LT' not found.\n",
      "findfont: Font family 'Palatino LT' not found.\n",
      "findfont: Font family 'Palatino LT' not found.\n",
      "findfont: Font family 'Palatino LT' not found.\n",
      "findfont: Font family 'Palatino LT' not found.\n",
      "findfont: Font family 'Palatino LT' not found.\n",
      "findfont: Font family 'Palatino LT' not found.\n",
      "findfont: Font family 'Palatino LT' not found.\n",
      "findfont: Font family 'Palatino LT' not found.\n",
      "findfont: Font family 'Palatino LT' not found.\n",
      "findfont: Font family 'Palatino LT' not found.\n",
      "findfont: Font family 'Palatino LT' not found.\n",
      "findfont: Font family 'Palatino LT' not found.\n",
      "findfont: Font family 'Palatino LT' not found.\n",
      "findfont: Font family 'Palatino LT' not found.\n",
      "findfont: Font family 'Palatino LT' not found.\n",
      "findfont: Font family 'Palatino LT' not found.\n",
      "findfont: Font family 'Palatino LT' not found.\n",
      "findfont: Font family 'Palatino LT' not found.\n",
      "findfont: Font family 'Palatino LT' not found.\n",
      "findfont: Font family 'Palatino LT' not found.\n",
      "findfont: Font family 'Palatino LT' not found.\n",
      "findfont: Font family 'Palatino LT' not found.\n",
      "findfont: Font family 'Palatino LT' not found.\n",
      "findfont: Font family 'Palatino LT' not found.\n",
      "findfont: Font family 'Palatino LT' not found.\n",
      "findfont: Font family 'Palatino LT' not found.\n",
      "findfont: Font family 'Palatino LT' not found.\n",
      "findfont: Font family 'Palatino LT' not found.\n",
      "findfont: Font family 'Palatino LT' not found.\n",
      "findfont: Font family 'Palatino LT' not found.\n",
      "findfont: Font family 'Palatino LT' not found.\n",
      "findfont: Font family 'Palatino LT' not found.\n",
      "findfont: Font family 'Palatino LT' not found.\n",
      "findfont: Font family 'Palatino LT' not found.\n",
      "findfont: Font family 'Palatino LT' not found.\n",
      "findfont: Font family 'Palatino LT' not found.\n",
      "findfont: Font family 'Palatino LT' not found.\n",
      "findfont: Font family 'Palatino LT' not found.\n",
      "findfont: Font family 'Palatino LT' not found.\n",
      "findfont: Font family 'Palatino LT' not found.\n",
      "findfont: Font family 'Palatino LT' not found.\n",
      "findfont: Font family 'Palatino LT' not found.\n",
      "findfont: Font family 'Palatino LT' not found.\n",
      "findfont: Font family 'Palatino LT' not found.\n",
      "findfont: Font family 'Palatino LT' not found.\n",
      "findfont: Font family 'Palatino LT' not found.\n",
      "findfont: Font family 'Palatino LT' not found.\n",
      "findfont: Font family 'Palatino LT' not found.\n",
      "findfont: Font family 'Palatino LT' not found.\n",
      "findfont: Font family 'Palatino LT' not found.\n",
      "findfont: Font family 'Palatino LT' not found.\n",
      "findfont: Font family 'Palatino LT' not found.\n",
      "findfont: Font family 'Palatino LT' not found.\n",
      "findfont: Font family 'Palatino LT' not found.\n",
      "findfont: Font family 'Palatino LT' not found.\n",
      "findfont: Font family 'Palatino LT' not found.\n",
      "findfont: Font family 'Palatino LT' not found.\n",
      "findfont: Font family 'Palatino LT' not found.\n",
      "findfont: Font family 'Palatino LT' not found.\n",
      "findfont: Font family 'Palatino LT' not found.\n",
      "findfont: Font family 'Palatino LT' not found.\n",
      "findfont: Font family 'Palatino LT' not found.\n",
      "findfont: Font family 'Palatino LT' not found.\n",
      "findfont: Font family 'Palatino LT' not found.\n"
     ]
    },
    {
     "data": {
      "image/png": "[encoded data removed]",
      "text/plain": [
       "<Figure size 640x480 with 1 Axes>"
      ]
     },
     "metadata": {},
     "output_type": "display_data"
    }
   ],
   "source": [
    "# Create a color palette for the two methods\n",
    "colors = ['blue', 'orange']\n",
    "\n",
    "plt.figure(dpi=150)\n",
    "fig, ax = plt.subplots()\n",
    "\n",
    "# Explicitly set colors for each method\n",
    "sns.boxplot(x='n_agents', y='relative_gap_admm', data=optimality_combined_df, ax=ax, hue='method',\n",
    "            palette=colors, showfliers=False)\n",
    "sns.despine(right=True)\n",
    "\n",
    "# Increase linewidth of bottom and left spines\n",
    "for axis in ['bottom', 'left']:\n",
    "    ax.spines[axis].set_linewidth(2.0)\n",
    "\n",
    "ax.spines['top'].set_visible(False)\n",
    "ax.spines['right'].set_visible(False)\n",
    "\n",
    "# Increase tick width\n",
    "ax.tick_params(width=2.0)\n",
    "\n",
    "# Increase label and tick font sizes\n",
    "plt.xticks(fontname=font_family, size=14, weight='bold')\n",
    "plt.yticks(fontname=font_family, size=14, weight='bold')\n",
    "\n",
    "plt.ylabel('Relative Optimality Gap (%)', fontname=font_family, fontsize=14, weight='bold')\n",
    "plt.xlabel('Number of Agents', fontname=font_family, fontsize=14, weight='bold')\n",
    "\n",
    "ax.yaxis.set_major_locator(ticker.MaxNLocator(nbins=5))\n",
    "\n",
    "# Create a custom legend with boxes\n",
    "legend_labels = ['Potential ADMM', 'DP-ILQR']\n",
    "handles = [plt.Line2D([0], [0], marker='s', color='w', label=label, markerfacecolor=color, markersize=10)\n",
    "           for label, color in zip(legend_labels, colors)]\n",
    "plt.legend(loc='upper left',handles=handles, frameon=False, prop={'family': font_family, 'weight': 'bold', 'size': 12})\n",
    "\n",
    "# Show the plot (optional)\n",
    "plt.show()"
   ]
  },
  {
   "cell_type": "code",
   "execution_count": 733,
   "metadata": {},
   "outputs": [
    {
     "data": {
      "text/html": [
       "<div>\n",
       "<style scoped>\n",
       "    .dataframe tbody tr th:only-of-type {\n",
       "        vertical-align: middle;\n",
       "    }\n",
       "\n",
       "    .dataframe tbody tr th {\n",
       "        vertical-align: top;\n",
       "    }\n",
       "\n",
       "    .dataframe thead th {\n",
       "        text-align: right;\n",
       "    }\n",
       "</style>\n",
       "<table border=\"1\" class=\"dataframe\">\n",
       "  <thead>\n",
       "    <tr style=\"text-align: right;\">\n",
       "      <th></th>\n",
       "      <th>n_agents</th>\n",
       "      <th>method</th>\n",
       "      <th>mean %</th>\n",
       "      <th>std %</th>\n",
       "    </tr>\n",
       "  </thead>\n",
       "  <tbody>\n",
       "    <tr>\n",
       "      <th>0</th>\n",
       "      <td>3</td>\n",
       "      <td>SOVA</td>\n",
       "      <td>2.200801</td>\n",
       "      <td>3.973997</td>\n",
       "    </tr>\n",
       "    <tr>\n",
       "      <th>1</th>\n",
       "      <td>3</td>\n",
       "      <td>ilqr</td>\n",
       "      <td>13.131487</td>\n",
       "      <td>17.202176</td>\n",
       "    </tr>\n",
       "    <tr>\n",
       "      <th>2</th>\n",
       "      <td>4</td>\n",
       "      <td>SOVA</td>\n",
       "      <td>1.779774</td>\n",
       "      <td>1.762729</td>\n",
       "    </tr>\n",
       "    <tr>\n",
       "      <th>3</th>\n",
       "      <td>4</td>\n",
       "      <td>ilqr</td>\n",
       "      <td>19.821043</td>\n",
       "      <td>19.187270</td>\n",
       "    </tr>\n",
       "    <tr>\n",
       "      <th>4</th>\n",
       "      <td>5</td>\n",
       "      <td>SOVA</td>\n",
       "      <td>5.037403</td>\n",
       "      <td>4.946410</td>\n",
       "    </tr>\n",
       "    <tr>\n",
       "      <th>5</th>\n",
       "      <td>5</td>\n",
       "      <td>ilqr</td>\n",
       "      <td>15.124626</td>\n",
       "      <td>17.128788</td>\n",
       "    </tr>\n",
       "    <tr>\n",
       "      <th>6</th>\n",
       "      <td>6</td>\n",
       "      <td>SOVA</td>\n",
       "      <td>6.354908</td>\n",
       "      <td>7.515514</td>\n",
       "    </tr>\n",
       "    <tr>\n",
       "      <th>7</th>\n",
       "      <td>6</td>\n",
       "      <td>ilqr</td>\n",
       "      <td>28.671215</td>\n",
       "      <td>80.376557</td>\n",
       "    </tr>\n",
       "    <tr>\n",
       "      <th>8</th>\n",
       "      <td>7</td>\n",
       "      <td>SOVA</td>\n",
       "      <td>8.108640</td>\n",
       "      <td>6.860123</td>\n",
       "    </tr>\n",
       "    <tr>\n",
       "      <th>9</th>\n",
       "      <td>7</td>\n",
       "      <td>ilqr</td>\n",
       "      <td>23.753049</td>\n",
       "      <td>36.171639</td>\n",
       "    </tr>\n",
       "    <tr>\n",
       "      <th>10</th>\n",
       "      <td>8</td>\n",
       "      <td>SOVA</td>\n",
       "      <td>10.794539</td>\n",
       "      <td>8.152250</td>\n",
       "    </tr>\n",
       "    <tr>\n",
       "      <th>11</th>\n",
       "      <td>8</td>\n",
       "      <td>ilqr</td>\n",
       "      <td>54.230280</td>\n",
       "      <td>206.287508</td>\n",
       "    </tr>\n",
       "  </tbody>\n",
       "</table>\n",
       "</div>"
      ],
      "text/plain": [
       "    n_agents method     mean %       std %\n",
       "0          3   SOVA   2.200801    3.973997\n",
       "1          3   ilqr  13.131487   17.202176\n",
       "2          4   SOVA   1.779774    1.762729\n",
       "3          4   ilqr  19.821043   19.187270\n",
       "4          5   SOVA   5.037403    4.946410\n",
       "5          5   ilqr  15.124626   17.128788\n",
       "6          6   SOVA   6.354908    7.515514\n",
       "7          6   ilqr  28.671215   80.376557\n",
       "8          7   SOVA   8.108640    6.860123\n",
       "9          7   ilqr  23.753049   36.171639\n",
       "10         8   SOVA  10.794539    8.152250\n",
       "11         8   ilqr  54.230280  206.287508"
      ]
     },
     "execution_count": 733,
     "metadata": {},
     "output_type": "execute_result"
    }
   ],
   "source": [
    "optimality_stats = optimality_combined_df.groupby(['n_agents','method']).agg({'relative_gap_admm':['mean','std']})\n",
    "optimality_stats.columns = ['mean %','std %']\n",
    "optimality_stats = optimality_stats.reset_index()\n",
    "optimality_stats"
   ]
  },
  {
   "cell_type": "code",
   "execution_count": null,
   "metadata": {},
   "outputs": [],
   "source": []
  },
  {
   "cell_type": "code",
   "execution_count": null,
   "metadata": {},
   "outputs": [],
   "source": []
  }
 ],
 "metadata": {
  "kernelspec": {
   "display_name": "Python 3 (ipykernel)",
   "language": "python",
   "name": "python3"
  },
  "language_info": {
   "codemirror_mode": {
    "name": "ipython",
    "version": 3
   },
   "file_extension": ".py",
   "mimetype": "text/x-python",
   "name": "python",
   "nbconvert_exporter": "python",
   "pygments_lexer": "ipython3",
   "version": "3.10.4"
  }
 },
 "nbformat": 4,
 "nbformat_minor": 4
}
