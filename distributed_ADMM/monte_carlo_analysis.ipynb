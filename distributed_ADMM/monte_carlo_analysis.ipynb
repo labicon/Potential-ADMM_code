{
 "cells": [
  {
   "cell_type": "code",
   "execution_count": 1,
   "metadata": {},
   "outputs": [],
   "source": [
    "import pandas as pd\n",
    "import numpy as np \n",
    "import matplotlib.pyplot as plt\n",
    "import seaborn as sns"
   ]
  },
  {
   "cell_type": "code",
   "execution_count": 2,
   "metadata": {},
   "outputs": [],
   "source": [
    "from solvers import util\n"
   ]
  },
  {
   "cell_type": "code",
   "execution_count": 3,
   "metadata": {},
   "outputs": [
    {
     "data": {
      "text/plain": [
       "['/usr/share/fonts/Palatino LT Medium.ttf',\n",
       " '/usr/share/fonts/Palatino LT Bold Italic.ttf',\n",
       " '/usr/share/fonts/truetype/dejavu/DejaVuSans.ttf',\n",
       " '/usr/share/fonts/truetype/dejavu/DejaVuSansMono-Bold.ttf',\n",
       " '/usr/share/fonts/truetype/Palatino LT Light.ttf',\n",
       " '/usr/share/fonts/Palatino LT Light.ttf',\n",
       " '/usr/share/fonts/Palatino LT Light Italic.ttf',\n",
       " '/usr/share/fonts/truetype/Palatino LT Italic.ttf',\n",
       " '/usr/share/fonts/Palatino LT Black Italic.ttf',\n",
       " '/usr/share/fonts/Palatino LT Italic.ttf',\n",
       " '/usr/share/fonts/Palatino LT Bold.ttf',\n",
       " '/usr/share/fonts/truetype/Palatino LT Bold.ttf',\n",
       " '/usr/share/fonts/truetype/Palatino LT Black.ttf',\n",
       " '/usr/share/fonts/truetype/Palatino LT Medium.ttf',\n",
       " '/usr/share/fonts/Palatino LT Black.ttf',\n",
       " '/usr/share/fonts/Palatino LT Medium Italic.ttf',\n",
       " '/usr/share/fonts/truetype/dejavu/DejaVuSerif.ttf',\n",
       " '/usr/share/fonts/truetype/Palatino LT Black Italic.ttf',\n",
       " '/usr/share/fonts/truetype/dejavu/DejaVuSansMono.ttf',\n",
       " '/usr/share/fonts/truetype/palantino/Palatino LT Bold Italic.ttf',\n",
       " '/usr/share/fonts/Palatino LT Roman.ttf',\n",
       " '/usr/share/fonts/truetype/Palatino LT Light Italic.ttf',\n",
       " '/usr/share/fonts/truetype/Palatino LT Roman.ttf',\n",
       " '/usr/share/fonts/truetype/Palatino LT Medium Italic.ttf',\n",
       " '/usr/share/fonts/truetype/dejavu/DejaVuSans-Bold.ttf',\n",
       " '/usr/share/fonts/truetype/Palatino LT Bold Italic.ttf',\n",
       " '/usr/share/fonts/truetype/dejavu/DejaVuSerif-Bold.ttf']"
      ]
     },
     "execution_count": 3,
     "metadata": {},
     "output_type": "execute_result"
    }
   ],
   "source": [
    "import matplotlib.font_manager\n",
    "matplotlib.font_manager.findSystemFonts(fontpaths=None, fontext='ttf')"
   ]
  },
  {
   "cell_type": "code",
   "execution_count": 4,
   "metadata": {},
   "outputs": [
    {
     "name": "stderr",
     "output_type": "stream",
     "text": [
      "/tmp/ipykernel_7713/882070050.py:2: MatplotlibDeprecationWarning: \n",
      "The get_fontconfig_fonts function was deprecated in Matplotlib 3.5 and will be removed two minor releases later.\n",
      "  flist = matplotlib.font_manager.get_fontconfig_fonts()\n"
     ]
    },
    {
     "data": {
      "text/plain": [
       "['Palatino LT Black',\n",
       " 'Palatino LT Light',\n",
       " 'Palatino LT',\n",
       " 'Palatino LT Light',\n",
       " 'Palatino LT Black',\n",
       " 'Palatino LT Black',\n",
       " 'Palatino LT Light',\n",
       " 'Palatino LT',\n",
       " 'DejaVu Sans',\n",
       " 'Palatino LT',\n",
       " 'Palatino LT Light',\n",
       " 'Palatino LT',\n",
       " 'Palatino LT',\n",
       " 'Palatino LT Light',\n",
       " 'Palatino LT Light',\n",
       " 'Palatino LT',\n",
       " 'DejaVu Sans',\n",
       " 'Palatino LT Light',\n",
       " 'Palatino LT Light',\n",
       " 'DejaVu Sans Mono',\n",
       " 'Palatino LT Black',\n",
       " 'DejaVu Serif',\n",
       " 'DejaVu Serif',\n",
       " 'Palatino LT',\n",
       " 'Palatino LT',\n",
       " 'DejaVu Sans Mono',\n",
       " 'Palatino LT']"
      ]
     },
     "execution_count": 4,
     "metadata": {},
     "output_type": "execute_result"
    }
   ],
   "source": [
    "import matplotlib.font_manager\n",
    "flist = matplotlib.font_manager.get_fontconfig_fonts()\n",
    "names = [matplotlib.font_manager.FontProperties(fname=fname).get_name() for fname in flist]\n",
    "names"
   ]
  },
  {
   "cell_type": "markdown",
   "metadata": {},
   "source": [
    "#### We start by analyzing the comparison of computation times between DP-ILQR, regular consensus ADMM, and potential ADMM:"
   ]
  },
  {
   "cell_type": "code",
   "execution_count": 5,
   "metadata": {},
   "outputs": [],
   "source": [
    "drones_3_8_combined= pd.read_excel('logs/ADMM_mpc_3_to_8_agents.xlsm', sheet_name='Sheet1')"
   ]
  },
  {
   "cell_type": "code",
   "execution_count": 6,
   "metadata": {},
   "outputs": [
    {
     "data": {
      "text/plain": [
       "Index(['i_trial', ' n_agents', ' t', ' converged', ' obj_trj', 'T', 'dt',\n",
       "       'radius', '         SOVA_admm ', 't_solve_avg', ' t_solve_std',\n",
       "       ' MAX_ITER', ' dist_to_goal'],\n",
       "      dtype='object')"
      ]
     },
     "execution_count": 6,
     "metadata": {},
     "output_type": "execute_result"
    }
   ],
   "source": [
    "drones_3_8_combined.columns"
   ]
  },
  {
   "cell_type": "code",
   "execution_count": 7,
   "metadata": {},
   "outputs": [],
   "source": [
    "drones_3_8_combined.columns = ['i_trial','n_agents','t','converged','obj_trj','T','dt','radius','SOVA_admm','t_solve_avg','t_solve_std','MAX_ITER','dist_to_goal']"
   ]
  },
  {
   "cell_type": "code",
   "execution_count": 8,
   "metadata": {},
   "outputs": [],
   "source": [
    "drones_3_8_combined = drones_3_8_combined.loc[drones_3_8_combined['converged']==True]"
   ]
  },
  {
   "cell_type": "code",
   "execution_count": 9,
   "metadata": {},
   "outputs": [],
   "source": [
    "drones_3_8_combined = drones_3_8_combined.replace(to_replace='None', value=np.nan).dropna()"
   ]
  },
  {
   "cell_type": "code",
   "execution_count": 10,
   "metadata": {},
   "outputs": [],
   "source": [
    "drones_3_8_combined = drones_3_8_combined.dropna()"
   ]
  },
  {
   "cell_type": "code",
   "execution_count": 11,
   "metadata": {},
   "outputs": [
    {
     "data": {
      "text/plain": [
       "Index(['i_trial', 'n_agents', 't', 'converged', 'obj_trj', 'T', 'dt', 'radius',\n",
       "       'SOVA_admm', 't_solve_avg', 't_solve_std', 'MAX_ITER', 'dist_to_goal'],\n",
       "      dtype='object')"
      ]
     },
     "execution_count": 11,
     "metadata": {},
     "output_type": "execute_result"
    }
   ],
   "source": [
    "drones_3_8_combined.columns"
   ]
  },
  {
   "cell_type": "code",
   "execution_count": 12,
   "metadata": {},
   "outputs": [],
   "source": [
    "drones_3_8_combined['normalized_t_solve'] = drones_3_8_combined['t_solve_avg']/drones_3_8_combined['obj_trj']"
   ]
  },
  {
   "cell_type": "code",
   "execution_count": 13,
   "metadata": {},
   "outputs": [],
   "source": [
    "drones_3_8_combined['normalized_t_std'] = drones_3_8_combined['t_solve_std']/drones_3_8_combined['obj_trj']"
   ]
  },
  {
   "cell_type": "code",
   "execution_count": 14,
   "metadata": {},
   "outputs": [],
   "source": [
    "dpilqr_3_to_8_agents = pd.read_excel('logs/dpilqr_3_to_8.xlsm', sheet_name='Sheet1')"
   ]
  },
  {
   "cell_type": "code",
   "execution_count": 15,
   "metadata": {},
   "outputs": [
    {
     "data": {
      "text/plain": [
       "Index(['dynamics', 'n_agents', 'i_trial', 'centralized', 'last', 't', 'J',\n",
       "       'horizon', 'dt', 'converged', 'ids', 't_solve_avg', 't_solve_std',\n",
       "       'subgraphs', 'dist_left'],\n",
       "      dtype='object')"
      ]
     },
     "execution_count": 15,
     "metadata": {},
     "output_type": "execute_result"
    }
   ],
   "source": [
    "dpilqr_3_to_8_agents.columns"
   ]
  },
  {
   "cell_type": "code",
   "execution_count": 16,
   "metadata": {},
   "outputs": [],
   "source": [
    "dpilqr_3_to_8_agents.drop(columns=['dynamics','last','ids','subgraphs'],inplace=True)"
   ]
  },
  {
   "cell_type": "code",
   "execution_count": 17,
   "metadata": {},
   "outputs": [],
   "source": [
    "dpilqr_3_to_8_agents.columns = ['n_agents', 'i_trial', 'SOVA_admm', 't','obj_trj', 'T', 'dt', 'converged','t_solve_avg', 't_solve_std', 'dist_to_goal']"
   ]
  },
  {
   "cell_type": "code",
   "execution_count": 18,
   "metadata": {},
   "outputs": [],
   "source": [
    "dpilqr_3_to_8_agents['normalized_t_solve'] = dpilqr_3_to_8_agents['t_solve_avg']/dpilqr_3_to_8_agents['obj_trj']\n"
   ]
  },
  {
   "cell_type": "code",
   "execution_count": 19,
   "metadata": {},
   "outputs": [],
   "source": [
    "dpilqr_3_to_8_agents['normalized_t_std'] = dpilqr_3_to_8_agents['t_solve_std']/dpilqr_3_to_8_agents['obj_trj']"
   ]
  },
  {
   "cell_type": "code",
   "execution_count": 20,
   "metadata": {},
   "outputs": [
    {
     "data": {
      "text/html": [
       "<div>\n",
       "<style scoped>\n",
       "    .dataframe tbody tr th:only-of-type {\n",
       "        vertical-align: middle;\n",
       "    }\n",
       "\n",
       "    .dataframe tbody tr th {\n",
       "        vertical-align: top;\n",
       "    }\n",
       "\n",
       "    .dataframe thead th {\n",
       "        text-align: right;\n",
       "    }\n",
       "</style>\n",
       "<table border=\"1\" class=\"dataframe\">\n",
       "  <thead>\n",
       "    <tr style=\"text-align: right;\">\n",
       "      <th></th>\n",
       "      <th>n_agents</th>\n",
       "      <th>i_trial</th>\n",
       "      <th>SOVA_admm</th>\n",
       "      <th>t</th>\n",
       "      <th>obj_trj</th>\n",
       "      <th>T</th>\n",
       "      <th>dt</th>\n",
       "      <th>converged</th>\n",
       "      <th>t_solve_avg</th>\n",
       "      <th>t_solve_std</th>\n",
       "      <th>dist_to_goal</th>\n",
       "      <th>normalized_t_solve</th>\n",
       "      <th>normalized_t_std</th>\n",
       "    </tr>\n",
       "  </thead>\n",
       "  <tbody>\n",
       "    <tr>\n",
       "      <th>0</th>\n",
       "      <td>3</td>\n",
       "      <td>0</td>\n",
       "      <td>False</td>\n",
       "      <td>1.3</td>\n",
       "      <td>828.167463</td>\n",
       "      <td>8</td>\n",
       "      <td>0.1</td>\n",
       "      <td>True</td>\n",
       "      <td>0.018375</td>\n",
       "      <td>0.003508</td>\n",
       "      <td>[0.06809967102056529, 0.08392775736397566, 0.0...</td>\n",
       "      <td>0.000022</td>\n",
       "      <td>4.235851e-06</td>\n",
       "    </tr>\n",
       "    <tr>\n",
       "      <th>1</th>\n",
       "      <td>3</td>\n",
       "      <td>1</td>\n",
       "      <td>False</td>\n",
       "      <td>1.4</td>\n",
       "      <td>1247.440727</td>\n",
       "      <td>8</td>\n",
       "      <td>0.1</td>\n",
       "      <td>True</td>\n",
       "      <td>0.019545</td>\n",
       "      <td>0.001119</td>\n",
       "      <td>[0.08209382373905584, 0.027239258113921368, 0....</td>\n",
       "      <td>0.000016</td>\n",
       "      <td>8.973174e-07</td>\n",
       "    </tr>\n",
       "    <tr>\n",
       "      <th>2</th>\n",
       "      <td>3</td>\n",
       "      <td>2</td>\n",
       "      <td>False</td>\n",
       "      <td>1.7</td>\n",
       "      <td>1800.550330</td>\n",
       "      <td>8</td>\n",
       "      <td>0.1</td>\n",
       "      <td>True</td>\n",
       "      <td>0.080149</td>\n",
       "      <td>0.007683</td>\n",
       "      <td>[0.09771915630264676, 0.07990022619853404, 0.0...</td>\n",
       "      <td>0.000045</td>\n",
       "      <td>4.267041e-06</td>\n",
       "    </tr>\n",
       "    <tr>\n",
       "      <th>3</th>\n",
       "      <td>3</td>\n",
       "      <td>3</td>\n",
       "      <td>False</td>\n",
       "      <td>1.2</td>\n",
       "      <td>875.209328</td>\n",
       "      <td>8</td>\n",
       "      <td>0.1</td>\n",
       "      <td>True</td>\n",
       "      <td>0.037942</td>\n",
       "      <td>0.003617</td>\n",
       "      <td>[0.027404585265289782, 0.057506596816226156, 0...</td>\n",
       "      <td>0.000043</td>\n",
       "      <td>4.133216e-06</td>\n",
       "    </tr>\n",
       "    <tr>\n",
       "      <th>4</th>\n",
       "      <td>3</td>\n",
       "      <td>4</td>\n",
       "      <td>False</td>\n",
       "      <td>1.1</td>\n",
       "      <td>802.755533</td>\n",
       "      <td>8</td>\n",
       "      <td>0.1</td>\n",
       "      <td>True</td>\n",
       "      <td>0.031827</td>\n",
       "      <td>0.004204</td>\n",
       "      <td>[0.023639860153240266, 0.05510405304572813, 0....</td>\n",
       "      <td>0.000040</td>\n",
       "      <td>5.236896e-06</td>\n",
       "    </tr>\n",
       "  </tbody>\n",
       "</table>\n",
       "</div>"
      ],
      "text/plain": [
       "   n_agents  i_trial  SOVA_admm    t      obj_trj  T   dt  converged  \\\n",
       "0         3        0      False  1.3   828.167463  8  0.1       True   \n",
       "1         3        1      False  1.4  1247.440727  8  0.1       True   \n",
       "2         3        2      False  1.7  1800.550330  8  0.1       True   \n",
       "3         3        3      False  1.2   875.209328  8  0.1       True   \n",
       "4         3        4      False  1.1   802.755533  8  0.1       True   \n",
       "\n",
       "   t_solve_avg  t_solve_std  \\\n",
       "0     0.018375     0.003508   \n",
       "1     0.019545     0.001119   \n",
       "2     0.080149     0.007683   \n",
       "3     0.037942     0.003617   \n",
       "4     0.031827     0.004204   \n",
       "\n",
       "                                        dist_to_goal  normalized_t_solve  \\\n",
       "0  [0.06809967102056529, 0.08392775736397566, 0.0...            0.000022   \n",
       "1  [0.08209382373905584, 0.027239258113921368, 0....            0.000016   \n",
       "2  [0.09771915630264676, 0.07990022619853404, 0.0...            0.000045   \n",
       "3  [0.027404585265289782, 0.057506596816226156, 0...            0.000043   \n",
       "4  [0.023639860153240266, 0.05510405304572813, 0....            0.000040   \n",
       "\n",
       "   normalized_t_std  \n",
       "0      4.235851e-06  \n",
       "1      8.973174e-07  \n",
       "2      4.267041e-06  \n",
       "3      4.133216e-06  \n",
       "4      5.236896e-06  "
      ]
     },
     "execution_count": 20,
     "metadata": {},
     "output_type": "execute_result"
    }
   ],
   "source": [
    "dpilqr_3_to_8_agents.head()"
   ]
  },
  {
   "cell_type": "code",
   "execution_count": 21,
   "metadata": {},
   "outputs": [],
   "source": [
    "dpilqr_3_to_8_agents['SOVA_admm']='ilqr'"
   ]
  },
  {
   "cell_type": "code",
   "execution_count": 22,
   "metadata": {},
   "outputs": [],
   "source": [
    "dpilqr_admm_df = pd.concat((dpilqr_3_to_8_agents,drones_3_8_combined),ignore_index=True)"
   ]
  },
  {
   "cell_type": "code",
   "execution_count": 23,
   "metadata": {},
   "outputs": [
    {
     "data": {
      "text/plain": [
       "Index(['n_agents', 'i_trial', 'SOVA_admm', 't', 'obj_trj', 'T', 'dt',\n",
       "       'converged', 't_solve_avg', 't_solve_std', 'dist_to_goal',\n",
       "       'normalized_t_solve', 'normalized_t_std', 'radius', 'MAX_ITER'],\n",
       "      dtype='object')"
      ]
     },
     "execution_count": 23,
     "metadata": {},
     "output_type": "execute_result"
    }
   ],
   "source": [
    "dpilqr_admm_df.columns"
   ]
  },
  {
   "cell_type": "code",
   "execution_count": 39,
   "metadata": {},
   "outputs": [],
   "source": [
    "import matplotlib.ticker as ticker\n",
    "from matplotlib.font_manager import FontProperties\n",
    "import matplotlib.font_manager\n",
    "font_family = 'Palatino LT'"
   ]
  },
  {
   "cell_type": "code",
   "execution_count": 40,
   "metadata": {},
   "outputs": [
    {
     "data": {
      "image/png": "[encoded data removed]",
      "text/plain": [
       "<Figure size 960x720 with 1 Axes>"
      ]
     },
     "metadata": {},
     "output_type": "display_data"
    }
   ],
   "source": [
    "\n",
    "plt.figure(dpi=150)\n",
    "err_kws = {'capsize': 5, 'capthick': 1, 'elinewidth': 2.5}\n",
    "ax = sns.lineplot(data=dpilqr_admm_df, x=\"n_agents\", y=\"normalized_t_solve\", hue='SOVA_admm', lw=1.0, style='SOVA_admm',\n",
    "                  dashes=False, markers=True, markersize=6.5, palette=[\"green\", \"firebrick\", \"grey\"], err_style='bars', err_kws=err_kws)\n",
    "\n",
    "for axis in ['bottom', 'left']:\n",
    "    ax.spines[axis].set_linewidth(2.0)\n",
    "\n",
    "ax.spines['top'].set_visible(False)\n",
    "ax.spines['right'].set_visible(False)\n",
    "ax.tick_params(width=2.0)\n",
    "\n",
    "plt.xticks(fontname = font_family, size=14, weight='bold')\n",
    "plt.yticks(fontname = font_family,size=14, weight='bold')\n",
    "\n",
    "plt.ylabel('Normalized Average Computation Time', fontname = font_family,fontsize=14, weight='bold')\n",
    "plt.xlabel('Number of Agents', fontname = font_family, fontsize=14, weight='bold')\n",
    "plt.legend(labels=['DP-ILQR', 'Regular Consensus-ADMM', 'Potential ADMM'], frameon=False, \\\n",
    "           prop={'family':font_family,'weight': 'bold', 'size': 14})\n",
    "\n",
    "# Set y-axis to scientific notation style with fewer ticks\n",
    "ax.yaxis.get_major_formatter().set_powerlimits((-2, 2))\n",
    "ax.yaxis.set_major_locator(ticker.MaxNLocator(nbins=4))\n",
    "font = FontProperties(family=font_family,weight='bold')\n",
    "ax.yaxis.get_offset_text().set_font_properties(font)\n",
    "plt.savefig('results/avg_computation_times_comparison.png', bbox_inches = 'tight', dpi=250, facecolor = ax.get_facecolor())"
   ]
  },
  {
   "cell_type": "code",
   "execution_count": 41,
   "metadata": {},
   "outputs": [
    {
     "data": {
      "image/png": "[encoded data removed]",
      "text/plain": [
       "<Figure size 960x720 with 1 Axes>"
      ]
     },
     "metadata": {},
     "output_type": "display_data"
    }
   ],
   "source": [
    "plt.figure(dpi=150)\n",
    "err_kws = {'capsize': 5, 'capthick':1, 'elinewidth':2.5}\n",
    "ax = sns.lineplot(data=dpilqr_admm_df, x=\"n_agents\", y=\"normalized_t_std\", hue='SOVA_admm', lw=1.0, style='SOVA_admm',\n",
    "             dashes=False, markers=True, markersize=6.5,palette=[\"green\", \"firebrick\", \"grey\"], err_style='bars', err_kws = err_kws)\n",
    "\n",
    "\n",
    "for axis in ['bottom','left']:\n",
    "    ax.spines[axis].set_linewidth(2.0)\n",
    "    \n",
    "ax.spines['top'].set_visible(False)\n",
    "ax.spines['right'].set_visible(False)\n",
    "ax.tick_params(width=2.0)\n",
    "\n",
    "plt.xticks(fontname = font_family, size=14, weight='bold')\n",
    "plt.yticks(fontname = font_family,size=14, weight='bold')\n",
    "# ax.set_xlabel(ax.get_xlabel(), fontsize=12, weight='bold')\n",
    "# ax.set_ylabel(ax.get_ylabel(), fontsize=12, weight='bold')\n",
    "plt.ylabel('Normalized Std. of Computation Time',fontname = font_family,fontsize=14, weight='bold');\n",
    "plt.xlabel('Number of Agents',fontname = font_family,fontsize=14, weight='bold');\n",
    "plt.legend(labels=['DP-ILQR','Regular Consensus-ADMM','Potential ADMM'],frameon=False,\\\n",
    "           prop={'family':font_family,'weight':'bold','size':14})\n",
    "\n",
    "# Set y-axis to scientific notation style with fewer ticks\n",
    "ax.yaxis.get_major_formatter().set_powerlimits((-2, 2))\n",
    "ax.yaxis.set_major_locator(ticker.MaxNLocator(nbins=4))\n",
    "font = FontProperties(family=font_family,weight='bold')\n",
    "ax.yaxis.get_offset_text().set_font_properties(font)\n",
    "\n",
    "plt.savefig('results/std_computation_times_comparison.png', bbox_inches = 'tight', dpi=250, facecolor = ax.get_facecolor())\n"
   ]
  },
  {
   "cell_type": "markdown",
   "metadata": {},
   "source": [
    "#### Now we analyze optimality gaps between DP-ILQR and potential ADMM compared against a vanilla centralized MPC baseline\n"
   ]
  },
  {
   "cell_type": "code",
   "execution_count": 44,
   "metadata": {},
   "outputs": [],
   "source": [
    "optimality_df = pd.read_excel('logs/optimality_gap_admm.xlsm', sheet_name='optimality_gap_admm')"
   ]
  },
  {
   "cell_type": "code",
   "execution_count": 45,
   "metadata": {},
   "outputs": [
    {
     "data": {
      "text/plain": [
       "Index(['i_trial', ' n_agents', ' t', ' converged', ' obj_trj', 'T', 'dt',\n",
       "       'radius', '         SOVA_admm ', 't_solve_avg', ' t_solve_std',\n",
       "       ' MAX_ITER', ' dist_to_goal'],\n",
       "      dtype='object')"
      ]
     },
     "execution_count": 45,
     "metadata": {},
     "output_type": "execute_result"
    }
   ],
   "source": [
    "optimality_df.columns"
   ]
  },
  {
   "cell_type": "code",
   "execution_count": 46,
   "metadata": {},
   "outputs": [],
   "source": [
    "optimality_df.columns = ['i_trial', 'n_agents', 't', 'converged', 'obj_trj', 'T', 'dt',\n",
    "       'radius', 'SOVA_admm', 't_solve_avg', 't_solve_std',\n",
    "       'MAX_ITER', 'dist_to_goal']"
   ]
  },
  {
   "cell_type": "code",
   "execution_count": 47,
   "metadata": {},
   "outputs": [],
   "source": [
    "# optimality_df = optimality_df[optimality_df['converged']==True]"
   ]
  },
  {
   "cell_type": "code",
   "execution_count": 48,
   "metadata": {},
   "outputs": [],
   "source": [
    "optimality_df = optimality_df.replace(to_replace=np.inf, value=np.nan).dropna()"
   ]
  },
  {
   "cell_type": "code",
   "execution_count": 49,
   "metadata": {},
   "outputs": [],
   "source": [
    "optimality_df['normalized_t_solve'] = optimality_df['t_solve_avg']/optimality_df['obj_trj']\n"
   ]
  },
  {
   "cell_type": "code",
   "execution_count": 50,
   "metadata": {},
   "outputs": [],
   "source": [
    "optimality_df['normalized_t_std'] = optimality_df['t_solve_std']/optimality_df['obj_trj']"
   ]
  },
  {
   "cell_type": "code",
   "execution_count": 51,
   "metadata": {},
   "outputs": [
    {
     "data": {
      "text/plain": [
       "Index(['i_trial', 'n_agents', 't', 'converged', 'obj_trj', 'T', 'dt', 'radius',\n",
       "       'SOVA_admm', 't_solve_avg', 't_solve_std', 'MAX_ITER', 'dist_to_goal',\n",
       "       'normalized_t_solve', 'normalized_t_std'],\n",
       "      dtype='object')"
      ]
     },
     "execution_count": 51,
     "metadata": {},
     "output_type": "execute_result"
    }
   ],
   "source": [
    "optimality_df.columns"
   ]
  },
  {
   "cell_type": "code",
   "execution_count": 52,
   "metadata": {},
   "outputs": [
    {
     "data": {
      "text/html": [
       "<div>\n",
       "<style scoped>\n",
       "    .dataframe tbody tr th:only-of-type {\n",
       "        vertical-align: middle;\n",
       "    }\n",
       "\n",
       "    .dataframe tbody tr th {\n",
       "        vertical-align: top;\n",
       "    }\n",
       "\n",
       "    .dataframe thead th {\n",
       "        text-align: right;\n",
       "    }\n",
       "</style>\n",
       "<table border=\"1\" class=\"dataframe\">\n",
       "  <thead>\n",
       "    <tr style=\"text-align: right;\">\n",
       "      <th></th>\n",
       "      <th>i_trial</th>\n",
       "      <th>n_agents</th>\n",
       "      <th>t</th>\n",
       "      <th>converged</th>\n",
       "      <th>obj_trj</th>\n",
       "      <th>T</th>\n",
       "      <th>dt</th>\n",
       "      <th>radius</th>\n",
       "      <th>SOVA_admm</th>\n",
       "      <th>t_solve_avg</th>\n",
       "      <th>t_solve_std</th>\n",
       "      <th>MAX_ITER</th>\n",
       "      <th>dist_to_goal</th>\n",
       "      <th>normalized_t_solve</th>\n",
       "      <th>normalized_t_std</th>\n",
       "    </tr>\n",
       "  </thead>\n",
       "  <tbody>\n",
       "    <tr>\n",
       "      <th>0</th>\n",
       "      <td>0</td>\n",
       "      <td>3</td>\n",
       "      <td>1.4</td>\n",
       "      <td>True</td>\n",
       "      <td>575.478449</td>\n",
       "      <td>8</td>\n",
       "      <td>0.1</td>\n",
       "      <td>0.2</td>\n",
       "      <td>centralized_mpc</td>\n",
       "      <td>0.444579</td>\n",
       "      <td>0.054243</td>\n",
       "      <td>3</td>\n",
       "      <td>[0.091 0.098 0.019]</td>\n",
       "      <td>0.000773</td>\n",
       "      <td>0.000094</td>\n",
       "    </tr>\n",
       "    <tr>\n",
       "      <th>1</th>\n",
       "      <td>0</td>\n",
       "      <td>3</td>\n",
       "      <td>1.7</td>\n",
       "      <td>True</td>\n",
       "      <td>702.365930</td>\n",
       "      <td>8</td>\n",
       "      <td>0.1</td>\n",
       "      <td>0.2</td>\n",
       "      <td>True</td>\n",
       "      <td>0.550193</td>\n",
       "      <td>0.103038</td>\n",
       "      <td>3</td>\n",
       "      <td>[0.093 0.095 0.006]</td>\n",
       "      <td>0.000783</td>\n",
       "      <td>0.000147</td>\n",
       "    </tr>\n",
       "    <tr>\n",
       "      <th>2</th>\n",
       "      <td>1</td>\n",
       "      <td>3</td>\n",
       "      <td>1.1</td>\n",
       "      <td>True</td>\n",
       "      <td>417.745606</td>\n",
       "      <td>8</td>\n",
       "      <td>0.1</td>\n",
       "      <td>0.2</td>\n",
       "      <td>centralized_mpc</td>\n",
       "      <td>0.344347</td>\n",
       "      <td>0.009739</td>\n",
       "      <td>3</td>\n",
       "      <td>[0.1   0.032 0.065]</td>\n",
       "      <td>0.000824</td>\n",
       "      <td>0.000023</td>\n",
       "    </tr>\n",
       "    <tr>\n",
       "      <th>3</th>\n",
       "      <td>1</td>\n",
       "      <td>3</td>\n",
       "      <td>1.1</td>\n",
       "      <td>True</td>\n",
       "      <td>450.888900</td>\n",
       "      <td>8</td>\n",
       "      <td>0.1</td>\n",
       "      <td>0.2</td>\n",
       "      <td>True</td>\n",
       "      <td>0.554648</td>\n",
       "      <td>0.107749</td>\n",
       "      <td>3</td>\n",
       "      <td>[0.093 0.051 0.052]</td>\n",
       "      <td>0.001230</td>\n",
       "      <td>0.000239</td>\n",
       "    </tr>\n",
       "    <tr>\n",
       "      <th>4</th>\n",
       "      <td>2</td>\n",
       "      <td>3</td>\n",
       "      <td>1.3</td>\n",
       "      <td>True</td>\n",
       "      <td>657.328357</td>\n",
       "      <td>8</td>\n",
       "      <td>0.1</td>\n",
       "      <td>0.2</td>\n",
       "      <td>centralized_mpc</td>\n",
       "      <td>0.342675</td>\n",
       "      <td>0.017245</td>\n",
       "      <td>3</td>\n",
       "      <td>[0.033 0.054 0.087]</td>\n",
       "      <td>0.000521</td>\n",
       "      <td>0.000026</td>\n",
       "    </tr>\n",
       "  </tbody>\n",
       "</table>\n",
       "</div>"
      ],
      "text/plain": [
       "   i_trial  n_agents    t  converged     obj_trj  T   dt  radius  \\\n",
       "0        0         3  1.4       True  575.478449  8  0.1     0.2   \n",
       "1        0         3  1.7       True  702.365930  8  0.1     0.2   \n",
       "2        1         3  1.1       True  417.745606  8  0.1     0.2   \n",
       "3        1         3  1.1       True  450.888900  8  0.1     0.2   \n",
       "4        2         3  1.3       True  657.328357  8  0.1     0.2   \n",
       "\n",
       "         SOVA_admm  t_solve_avg  t_solve_std  MAX_ITER         dist_to_goal  \\\n",
       "0  centralized_mpc     0.444579     0.054243         3  [0.091 0.098 0.019]   \n",
       "1             True     0.550193     0.103038         3  [0.093 0.095 0.006]   \n",
       "2  centralized_mpc     0.344347     0.009739         3  [0.1   0.032 0.065]   \n",
       "3             True     0.554648     0.107749         3  [0.093 0.051 0.052]   \n",
       "4  centralized_mpc     0.342675     0.017245         3  [0.033 0.054 0.087]   \n",
       "\n",
       "   normalized_t_solve  normalized_t_std  \n",
       "0            0.000773          0.000094  \n",
       "1            0.000783          0.000147  \n",
       "2            0.000824          0.000023  \n",
       "3            0.001230          0.000239  \n",
       "4            0.000521          0.000026  "
      ]
     },
     "execution_count": 52,
     "metadata": {},
     "output_type": "execute_result"
    }
   ],
   "source": [
    "optimality_df.head()"
   ]
  },
  {
   "cell_type": "code",
   "execution_count": 53,
   "metadata": {},
   "outputs": [],
   "source": [
    "relative_gap_admm_3_agents =np.abs(optimality_df[(optimality_df['n_agents']==3) & (optimality_df['SOVA_admm']==True)]['obj_trj'].values-\\\n",
    "                optimality_df[(optimality_df['n_agents']==3) & (optimality_df['SOVA_admm']=='centralized_mpc')]['obj_trj'].values)/optimality_df[(optimality_df['n_agents']==3) & (optimality_df['SOVA_admm']=='centralized_mpc')]['obj_trj'].values"
   ]
  },
  {
   "cell_type": "code",
   "execution_count": 54,
   "metadata": {},
   "outputs": [],
   "source": [
    "relative_gap_admm_4_agents =np.abs(optimality_df[(optimality_df['n_agents']==4) & (optimality_df['SOVA_admm']==True)]['obj_trj'].values-\\\n",
    "                optimality_df[(optimality_df['n_agents']==4) & (optimality_df['SOVA_admm']=='centralized_mpc')]['obj_trj'].values)/optimality_df[(optimality_df['n_agents']==4) & (optimality_df['SOVA_admm']=='centralized_mpc')]['obj_trj'].values"
   ]
  },
  {
   "cell_type": "code",
   "execution_count": 55,
   "metadata": {},
   "outputs": [],
   "source": [
    "relative_gap_admm_5_agents =np.abs(optimality_df[(optimality_df['n_agents']==5) & (optimality_df['SOVA_admm']==True)]['obj_trj'].values-\\\n",
    "                optimality_df[(optimality_df['n_agents']==5) & (optimality_df['SOVA_admm']=='centralized_mpc')]['obj_trj'].values)/optimality_df[(optimality_df['n_agents']==5) & (optimality_df['SOVA_admm']=='centralized_mpc')]['obj_trj'].values"
   ]
  },
  {
   "cell_type": "code",
   "execution_count": 56,
   "metadata": {},
   "outputs": [],
   "source": [
    "relative_gap_admm_6_agents =np.abs(optimality_df[(optimality_df['n_agents']==6) & (optimality_df['SOVA_admm']==True)]['obj_trj'].values-\\\n",
    "                optimality_df[(optimality_df['n_agents']==6) & (optimality_df['SOVA_admm']=='centralized_mpc')]['obj_trj'].values)/optimality_df[(optimality_df['n_agents']==5) & (optimality_df['SOVA_admm']=='centralized_mpc')]['obj_trj'].values"
   ]
  },
  {
   "cell_type": "code",
   "execution_count": 57,
   "metadata": {},
   "outputs": [],
   "source": [
    "relative_gap_admm_7_agents =np.abs(optimality_df[(optimality_df['n_agents']==7) & (optimality_df['SOVA_admm']==True)]['obj_trj'].values-\\\n",
    "                optimality_df[(optimality_df['n_agents']==7) & (optimality_df['SOVA_admm']=='centralized_mpc')]['obj_trj'].values)/optimality_df[(optimality_df['n_agents']==7) & (optimality_df['SOVA_admm']=='centralized_mpc')]['obj_trj'].values"
   ]
  },
  {
   "cell_type": "code",
   "execution_count": 58,
   "metadata": {},
   "outputs": [],
   "source": [
    "relative_gap_admm_8_agents =np.abs(optimality_df[(optimality_df['n_agents']==8) & (optimality_df['SOVA_admm']==True)]['obj_trj'].values-\\\n",
    "                optimality_df[(optimality_df['n_agents']==8) & (optimality_df['SOVA_admm']=='centralized_mpc')]['obj_trj'].values)/optimality_df[(optimality_df['n_agents']==8) & (optimality_df['SOVA_admm']=='centralized_mpc')]['obj_trj'].values"
   ]
  },
  {
   "cell_type": "code",
   "execution_count": 59,
   "metadata": {},
   "outputs": [],
   "source": [
    "relative_gap_admm = np.vstack((relative_gap_admm_3_agents,relative_gap_admm_4_agents,relative_gap_admm_5_agents,\n",
    "                               relative_gap_admm_6_agents,relative_gap_admm_7_agents,relative_gap_admm_8_agents))"
   ]
  },
  {
   "cell_type": "code",
   "execution_count": 60,
   "metadata": {},
   "outputs": [],
   "source": [
    "n_agents = np.array(([3]*30, [4]*30, [5]*30, [6]*30, [7]*30, [8]*30))"
   ]
  },
  {
   "cell_type": "code",
   "execution_count": 61,
   "metadata": {},
   "outputs": [
    {
     "data": {
      "text/plain": [
       "180"
      ]
     },
     "execution_count": 61,
     "metadata": {},
     "output_type": "execute_result"
    }
   ],
   "source": [
    "n_agents.size"
   ]
  },
  {
   "cell_type": "code",
   "execution_count": 62,
   "metadata": {},
   "outputs": [],
   "source": [
    "optimality_new_df = pd.DataFrame({'n_agents':n_agents.flatten(),\n",
    "                                  'relative_gap_admm':relative_gap_admm.flatten()})"
   ]
  },
  {
   "cell_type": "code",
   "execution_count": 63,
   "metadata": {},
   "outputs": [],
   "source": [
    "optimality_new_df['relative_gap_admm']=optimality_new_df['relative_gap_admm']*100"
   ]
  },
  {
   "cell_type": "code",
   "execution_count": 64,
   "metadata": {},
   "outputs": [
    {
     "data": {
      "text/html": [
       "<div>\n",
       "<style scoped>\n",
       "    .dataframe tbody tr th:only-of-type {\n",
       "        vertical-align: middle;\n",
       "    }\n",
       "\n",
       "    .dataframe tbody tr th {\n",
       "        vertical-align: top;\n",
       "    }\n",
       "\n",
       "    .dataframe thead th {\n",
       "        text-align: right;\n",
       "    }\n",
       "</style>\n",
       "<table border=\"1\" class=\"dataframe\">\n",
       "  <thead>\n",
       "    <tr style=\"text-align: right;\">\n",
       "      <th></th>\n",
       "      <th>n_agents</th>\n",
       "      <th>relative_gap_admm</th>\n",
       "    </tr>\n",
       "  </thead>\n",
       "  <tbody>\n",
       "    <tr>\n",
       "      <th>0</th>\n",
       "      <td>3</td>\n",
       "      <td>22.049041</td>\n",
       "    </tr>\n",
       "    <tr>\n",
       "      <th>1</th>\n",
       "      <td>3</td>\n",
       "      <td>7.933846</td>\n",
       "    </tr>\n",
       "    <tr>\n",
       "      <th>2</th>\n",
       "      <td>3</td>\n",
       "      <td>0.545113</td>\n",
       "    </tr>\n",
       "    <tr>\n",
       "      <th>3</th>\n",
       "      <td>3</td>\n",
       "      <td>1.902027</td>\n",
       "    </tr>\n",
       "    <tr>\n",
       "      <th>4</th>\n",
       "      <td>3</td>\n",
       "      <td>1.659460</td>\n",
       "    </tr>\n",
       "    <tr>\n",
       "      <th>...</th>\n",
       "      <td>...</td>\n",
       "      <td>...</td>\n",
       "    </tr>\n",
       "    <tr>\n",
       "      <th>175</th>\n",
       "      <td>8</td>\n",
       "      <td>6.580322</td>\n",
       "    </tr>\n",
       "    <tr>\n",
       "      <th>176</th>\n",
       "      <td>8</td>\n",
       "      <td>8.405246</td>\n",
       "    </tr>\n",
       "    <tr>\n",
       "      <th>177</th>\n",
       "      <td>8</td>\n",
       "      <td>7.942838</td>\n",
       "    </tr>\n",
       "    <tr>\n",
       "      <th>178</th>\n",
       "      <td>8</td>\n",
       "      <td>14.331429</td>\n",
       "    </tr>\n",
       "    <tr>\n",
       "      <th>179</th>\n",
       "      <td>8</td>\n",
       "      <td>5.685701</td>\n",
       "    </tr>\n",
       "  </tbody>\n",
       "</table>\n",
       "<p>180 rows × 2 columns</p>\n",
       "</div>"
      ],
      "text/plain": [
       "     n_agents  relative_gap_admm\n",
       "0           3          22.049041\n",
       "1           3           7.933846\n",
       "2           3           0.545113\n",
       "3           3           1.902027\n",
       "4           3           1.659460\n",
       "..        ...                ...\n",
       "175         8           6.580322\n",
       "176         8           8.405246\n",
       "177         8           7.942838\n",
       "178         8          14.331429\n",
       "179         8           5.685701\n",
       "\n",
       "[180 rows x 2 columns]"
      ]
     },
     "execution_count": 64,
     "metadata": {},
     "output_type": "execute_result"
    }
   ],
   "source": [
    "optimality_new_df"
   ]
  },
  {
   "cell_type": "code",
   "execution_count": 67,
   "metadata": {},
   "outputs": [
    {
     "data": {
      "image/png": "[encoded data removed]",
      "text/plain": [
       "<Figure size 960x720 with 1 Axes>"
      ]
     },
     "metadata": {},
     "output_type": "display_data"
    }
   ],
   "source": [
    "plt.figure(dpi=150)\n",
    "err_kws = {'capsize': 5, 'capthick':1, 'elinewidth':2.5}\n",
    "# sns.lineplot(data=optimality_new_df, x=\"n_agents\", y=\"relative_gap_admm\", lw=1.0, dashes=False,\n",
    "#               markers=True, err_style='bars', err_kws = err_kws)\n",
    "\n",
    "ax = sns.boxplot(x='n_agents',y='relative_gap_admm',data=optimality_new_df, showfliers = False)\n",
    "# plt.scatter(data=optimality_stats, x=\"n_agents\", y=\"mean\")\n",
    "\n",
    "for axis in ['bottom','left']:\n",
    "    ax.spines[axis].set_linewidth(2.0)\n",
    "    \n",
    "ax.spines['top'].set_visible(False)\n",
    "ax.spines['right'].set_visible(False)\n",
    "ax.tick_params(width=2.0)\n",
    "\n",
    "plt.xticks(fontname = font_family, size=14, weight='bold')\n",
    "plt.yticks(fontname = font_family,size=14, weight='bold')\n",
    "\n",
    "# ax.yaxis.set_major_locator(ticker.MaxNLocator(nbins=4))\n",
    "plt.ylabel('Relative Optimality Gap %',fontname = font_family,fontsize=12,weight='bold');\n",
    "plt.xlabel('Number of Agents',fontname = font_family, fontsize=12,weight='bold');\n",
    "\n",
    "# plt.legend(labels=['Potential ADMM optimality gap',\n",
    "#                    ],frameon=False,prop={'weight':'bold','size':8},loc = 'best')\n",
    "\n",
    "plt.savefig('results/potential_admm_optimality_gap.png', bbox_inches = 'tight', dpi=250, facecolor = ax.get_facecolor())"
   ]
  },
  {
   "cell_type": "code",
   "execution_count": 356,
   "metadata": {},
   "outputs": [],
   "source": [
    "optimality_stats = optimality_new_df.groupby('n_agents').agg({'relative_gap_admm':['mean','std']})\n",
    "optimality_stats.columns = ['mean %','std %']\n",
    "optimality_stats = optimality_stats.reset_index()\n",
    "optimality_stats"
   ]
  },
  {
   "cell_type": "code",
   "execution_count": 359,
   "metadata": {},
   "outputs": [
    {
     "data": {
      "text/html": [
       "<div>\n",
       "<style scoped>\n",
       "    .dataframe tbody tr th:only-of-type {\n",
       "        vertical-align: middle;\n",
       "    }\n",
       "\n",
       "    .dataframe tbody tr th {\n",
       "        vertical-align: top;\n",
       "    }\n",
       "\n",
       "    .dataframe thead th {\n",
       "        text-align: right;\n",
       "    }\n",
       "</style>\n",
       "<table border=\"1\" class=\"dataframe\">\n",
       "  <thead>\n",
       "    <tr style=\"text-align: right;\">\n",
       "      <th></th>\n",
       "      <th>n_agents</th>\n",
       "      <th>mean %</th>\n",
       "      <th>std %</th>\n",
       "    </tr>\n",
       "  </thead>\n",
       "  <tbody>\n",
       "    <tr>\n",
       "      <th>0</th>\n",
       "      <td>3</td>\n",
       "      <td>2.687816</td>\n",
       "      <td>4.320282</td>\n",
       "    </tr>\n",
       "    <tr>\n",
       "      <th>1</th>\n",
       "      <td>4</td>\n",
       "      <td>5.363414</td>\n",
       "      <td>9.944916</td>\n",
       "    </tr>\n",
       "    <tr>\n",
       "      <th>2</th>\n",
       "      <td>5</td>\n",
       "      <td>4.388250</td>\n",
       "      <td>5.322935</td>\n",
       "    </tr>\n",
       "    <tr>\n",
       "      <th>3</th>\n",
       "      <td>6</td>\n",
       "      <td>9.399273</td>\n",
       "      <td>10.607020</td>\n",
       "    </tr>\n",
       "    <tr>\n",
       "      <th>4</th>\n",
       "      <td>7</td>\n",
       "      <td>7.556858</td>\n",
       "      <td>6.614591</td>\n",
       "    </tr>\n",
       "    <tr>\n",
       "      <th>5</th>\n",
       "      <td>8</td>\n",
       "      <td>9.901150</td>\n",
       "      <td>6.219642</td>\n",
       "    </tr>\n",
       "  </tbody>\n",
       "</table>\n",
       "</div>"
      ],
      "text/plain": [
       "   n_agents    mean %      std %\n",
       "0         3  2.687816   4.320282\n",
       "1         4  5.363414   9.944916\n",
       "2         5  4.388250   5.322935\n",
       "3         6  9.399273  10.607020\n",
       "4         7  7.556858   6.614591\n",
       "5         8  9.901150   6.219642"
      ]
     },
     "execution_count": 359,
     "metadata": {},
     "output_type": "execute_result"
    }
   ],
   "source": [
    "optimality_stats"
   ]
  },
  {
   "cell_type": "markdown",
   "metadata": {},
   "source": []
  },
  {
   "cell_type": "markdown",
   "metadata": {},
   "source": [
    "#### The following optimality gap analysis uses data where each scenario is run 60 trials:"
   ]
  },
  {
   "cell_type": "code",
   "execution_count": 70,
   "metadata": {},
   "outputs": [],
   "source": [
    "optimality_60trials = pd.read_excel('logs/optimality_gap_60Trials.xlsm', sheet_name='optimality_gap_60Trials')"
   ]
  },
  {
   "cell_type": "code",
   "execution_count": 71,
   "metadata": {},
   "outputs": [],
   "source": [
    "optimality_60trials.columns = ['i_trial', 'n_agents', 't', 'converged', 'obj_trj', 'T', 'dt',\n",
    "       'radius', 'SOVA_admm', 't_solve_avg', 't_solve_std',\n",
    "       'MAX_ITER', 'dist_to_goal']"
   ]
  },
  {
   "cell_type": "code",
   "execution_count": 72,
   "metadata": {},
   "outputs": [
    {
     "data": {
      "text/html": [
       "<div>\n",
       "<style scoped>\n",
       "    .dataframe tbody tr th:only-of-type {\n",
       "        vertical-align: middle;\n",
       "    }\n",
       "\n",
       "    .dataframe tbody tr th {\n",
       "        vertical-align: top;\n",
       "    }\n",
       "\n",
       "    .dataframe thead th {\n",
       "        text-align: right;\n",
       "    }\n",
       "</style>\n",
       "<table border=\"1\" class=\"dataframe\">\n",
       "  <thead>\n",
       "    <tr style=\"text-align: right;\">\n",
       "      <th></th>\n",
       "      <th>i_trial</th>\n",
       "      <th>n_agents</th>\n",
       "      <th>t</th>\n",
       "      <th>converged</th>\n",
       "      <th>obj_trj</th>\n",
       "      <th>T</th>\n",
       "      <th>dt</th>\n",
       "      <th>radius</th>\n",
       "      <th>SOVA_admm</th>\n",
       "      <th>t_solve_avg</th>\n",
       "      <th>t_solve_std</th>\n",
       "      <th>MAX_ITER</th>\n",
       "      <th>dist_to_goal</th>\n",
       "    </tr>\n",
       "  </thead>\n",
       "  <tbody>\n",
       "    <tr>\n",
       "      <th>0</th>\n",
       "      <td>0</td>\n",
       "      <td>3</td>\n",
       "      <td>1.2</td>\n",
       "      <td>True</td>\n",
       "      <td>618.599116</td>\n",
       "      <td>8</td>\n",
       "      <td>0.1</td>\n",
       "      <td>0.2</td>\n",
       "      <td>centralized_mpc</td>\n",
       "      <td>0.423846</td>\n",
       "      <td>0.105043</td>\n",
       "      <td>3</td>\n",
       "      <td>[0.08  0.055 0.093]</td>\n",
       "    </tr>\n",
       "    <tr>\n",
       "      <th>1</th>\n",
       "      <td>0</td>\n",
       "      <td>3</td>\n",
       "      <td>1.2</td>\n",
       "      <td>True</td>\n",
       "      <td>652.274774</td>\n",
       "      <td>8</td>\n",
       "      <td>0.1</td>\n",
       "      <td>0.2</td>\n",
       "      <td>True</td>\n",
       "      <td>0.463307</td>\n",
       "      <td>0.046052</td>\n",
       "      <td>3</td>\n",
       "      <td>[0.084 0.051 0.049]</td>\n",
       "    </tr>\n",
       "    <tr>\n",
       "      <th>2</th>\n",
       "      <td>1</td>\n",
       "      <td>3</td>\n",
       "      <td>1.0</td>\n",
       "      <td>True</td>\n",
       "      <td>411.398870</td>\n",
       "      <td>8</td>\n",
       "      <td>0.1</td>\n",
       "      <td>0.2</td>\n",
       "      <td>centralized_mpc</td>\n",
       "      <td>0.327532</td>\n",
       "      <td>0.009642</td>\n",
       "      <td>3</td>\n",
       "      <td>[0.04  0.081 0.074]</td>\n",
       "    </tr>\n",
       "    <tr>\n",
       "      <th>3</th>\n",
       "      <td>1</td>\n",
       "      <td>3</td>\n",
       "      <td>1.0</td>\n",
       "      <td>True</td>\n",
       "      <td>418.837521</td>\n",
       "      <td>8</td>\n",
       "      <td>0.1</td>\n",
       "      <td>0.2</td>\n",
       "      <td>True</td>\n",
       "      <td>0.434283</td>\n",
       "      <td>0.023814</td>\n",
       "      <td>3</td>\n",
       "      <td>[0.043 0.087 0.08 ]</td>\n",
       "    </tr>\n",
       "    <tr>\n",
       "      <th>4</th>\n",
       "      <td>2</td>\n",
       "      <td>3</td>\n",
       "      <td>1.2</td>\n",
       "      <td>True</td>\n",
       "      <td>561.208497</td>\n",
       "      <td>8</td>\n",
       "      <td>0.1</td>\n",
       "      <td>0.2</td>\n",
       "      <td>centralized_mpc</td>\n",
       "      <td>0.335040</td>\n",
       "      <td>0.016040</td>\n",
       "      <td>3</td>\n",
       "      <td>[0.046 0.076 0.088]</td>\n",
       "    </tr>\n",
       "  </tbody>\n",
       "</table>\n",
       "</div>"
      ],
      "text/plain": [
       "   i_trial  n_agents    t  converged     obj_trj  T   dt  radius  \\\n",
       "0        0         3  1.2       True  618.599116  8  0.1     0.2   \n",
       "1        0         3  1.2       True  652.274774  8  0.1     0.2   \n",
       "2        1         3  1.0       True  411.398870  8  0.1     0.2   \n",
       "3        1         3  1.0       True  418.837521  8  0.1     0.2   \n",
       "4        2         3  1.2       True  561.208497  8  0.1     0.2   \n",
       "\n",
       "         SOVA_admm  t_solve_avg  t_solve_std  MAX_ITER         dist_to_goal  \n",
       "0  centralized_mpc     0.423846     0.105043         3  [0.08  0.055 0.093]  \n",
       "1             True     0.463307     0.046052         3  [0.084 0.051 0.049]  \n",
       "2  centralized_mpc     0.327532     0.009642         3  [0.04  0.081 0.074]  \n",
       "3             True     0.434283     0.023814         3  [0.043 0.087 0.08 ]  \n",
       "4  centralized_mpc     0.335040     0.016040         3  [0.046 0.076 0.088]  "
      ]
     },
     "execution_count": 72,
     "metadata": {},
     "output_type": "execute_result"
    }
   ],
   "source": [
    "optimality_60trials.head()"
   ]
  },
  {
   "cell_type": "code",
   "execution_count": 73,
   "metadata": {},
   "outputs": [],
   "source": [
    "agents_3_60trials =np.abs(optimality_60trials[(optimality_60trials['n_agents']==3) & (optimality_60trials['SOVA_admm']==True)]['obj_trj'].values-\\\n",
    "                optimality_60trials[(optimality_60trials['n_agents']==3) & (optimality_60trials['SOVA_admm']=='centralized_mpc')]['obj_trj'].values)/optimality_60trials[(optimality_60trials['n_agents']==3) & (optimality_60trials['SOVA_admm']=='centralized_mpc')]['obj_trj'].values"
   ]
  },
  {
   "cell_type": "code",
   "execution_count": 74,
   "metadata": {},
   "outputs": [],
   "source": [
    "agents_4_60trials =np.abs(optimality_60trials[(optimality_60trials['n_agents']==4) & (optimality_60trials['SOVA_admm']==True)]['obj_trj'].values-\\\n",
    "                optimality_60trials[(optimality_60trials['n_agents']==4) & (optimality_60trials['SOVA_admm']=='centralized_mpc')]['obj_trj'].values)/optimality_60trials[(optimality_60trials['n_agents']==4) & (optimality_60trials['SOVA_admm']=='centralized_mpc')]['obj_trj'].values"
   ]
  },
  {
   "cell_type": "code",
   "execution_count": 75,
   "metadata": {},
   "outputs": [],
   "source": [
    "agents_5_60trials =np.abs(optimality_60trials[(optimality_60trials['n_agents']==5) & (optimality_60trials['SOVA_admm']==True)]['obj_trj'].values-\\\n",
    "                optimality_60trials[(optimality_60trials['n_agents']==5) & (optimality_60trials['SOVA_admm']=='centralized_mpc')]['obj_trj'].values)/optimality_60trials[(optimality_60trials['n_agents']==5) & (optimality_60trials['SOVA_admm']=='centralized_mpc')]['obj_trj'].values"
   ]
  },
  {
   "cell_type": "code",
   "execution_count": 76,
   "metadata": {},
   "outputs": [],
   "source": [
    "agents_6_60trials =np.abs(optimality_60trials[(optimality_60trials['n_agents']==6) & (optimality_60trials['SOVA_admm']==True)]['obj_trj'].values-\\\n",
    "                optimality_60trials[(optimality_60trials['n_agents']==6) & (optimality_60trials['SOVA_admm']=='centralized_mpc')]['obj_trj'].values)/optimality_60trials[(optimality_60trials['n_agents']==6) & (optimality_60trials['SOVA_admm']=='centralized_mpc')]['obj_trj'].values"
   ]
  },
  {
   "cell_type": "code",
   "execution_count": 77,
   "metadata": {},
   "outputs": [],
   "source": [
    "agents_7_60trials =np.abs(optimality_60trials[(optimality_60trials['n_agents']==7) & (optimality_60trials['SOVA_admm']==True)]['obj_trj'].values-\\\n",
    "                optimality_60trials[(optimality_60trials['n_agents']==7) & (optimality_60trials['SOVA_admm']=='centralized_mpc')]['obj_trj'].values)/optimality_60trials[(optimality_60trials['n_agents']==7) & (optimality_60trials['SOVA_admm']=='centralized_mpc')]['obj_trj'].values"
   ]
  },
  {
   "cell_type": "code",
   "execution_count": 78,
   "metadata": {},
   "outputs": [],
   "source": [
    "agents_8_60trials =np.abs(optimality_60trials[(optimality_60trials['n_agents']==8) & (optimality_60trials['SOVA_admm']==True)]['obj_trj'].values-\\\n",
    "                optimality_60trials[(optimality_60trials['n_agents']==8) & (optimality_60trials['SOVA_admm']=='centralized_mpc')]['obj_trj'].values)/optimality_60trials[(optimality_60trials['n_agents']==8) & (optimality_60trials['SOVA_admm']=='centralized_mpc')]['obj_trj'].values"
   ]
  },
  {
   "cell_type": "code",
   "execution_count": 79,
   "metadata": {},
   "outputs": [],
   "source": [
    "def reject_outliers_2(data, m=2.):\n",
    "    d = np.abs(data - np.median(data))\n",
    "    mdev = np.median(d)\n",
    "    s = d / (mdev if mdev else 1.)\n",
    "    return data[s < m]"
   ]
  },
  {
   "cell_type": "code",
   "execution_count": 80,
   "metadata": {},
   "outputs": [],
   "source": [
    "#Remove outliers using the median and \"median absolute distance to the median.\"\n",
    "agents_3_60trials = reject_outliers_2(agents_3_60trials, m=1.5)\n",
    "agents_4_60trials = reject_outliers_2(agents_4_60trials, m=1.5)\n",
    "agents_5_60trials = reject_outliers_2(agents_5_60trials, m=1.5)\n",
    "agents_6_60trials = reject_outliers_2(agents_6_60trials, m=1.5)\n",
    "agents_7_60trials = reject_outliers_2(agents_7_60trials, m=1.5)\n",
    "agents_8_60trials = reject_outliers_2(agents_8_60trials, m=1.5)\n",
    "\n"
   ]
  },
  {
   "cell_type": "code",
   "execution_count": 81,
   "metadata": {},
   "outputs": [],
   "source": [
    "relative_gap_admm = np.hstack((agents_3_60trials ,agents_4_60trials ,agents_5_60trials ,\n",
    "                               agents_6_60trials ,agents_7_60trials ,agents_8_60trials ))"
   ]
  },
  {
   "cell_type": "code",
   "execution_count": 82,
   "metadata": {},
   "outputs": [],
   "source": [
    "n_agents = np.hstack(([3]*agents_3_60trials.size,\n",
    "                      [4]*agents_4_60trials.size, \n",
    "                      [5]*agents_5_60trials.size, \n",
    "                      [6]*agents_6_60trials.size, \n",
    "                      [7]*agents_7_60trials.size, \n",
    "                      [8]*agents_8_60trials.size))"
   ]
  },
  {
   "cell_type": "code",
   "execution_count": 83,
   "metadata": {},
   "outputs": [],
   "source": [
    "optimality_new_df = pd.DataFrame({'n_agents':n_agents.flatten(),\n",
    "                                  'relative_gap_admm':relative_gap_admm.flatten()})"
   ]
  },
  {
   "cell_type": "code",
   "execution_count": 84,
   "metadata": {},
   "outputs": [],
   "source": [
    "optimality_new_df['relative_gap_admm'] = optimality_new_df['relative_gap_admm']*100"
   ]
  },
  {
   "cell_type": "code",
   "execution_count": 85,
   "metadata": {},
   "outputs": [
    {
     "data": {
      "text/html": [
       "<div>\n",
       "<style scoped>\n",
       "    .dataframe tbody tr th:only-of-type {\n",
       "        vertical-align: middle;\n",
       "    }\n",
       "\n",
       "    .dataframe tbody tr th {\n",
       "        vertical-align: top;\n",
       "    }\n",
       "\n",
       "    .dataframe thead th {\n",
       "        text-align: right;\n",
       "    }\n",
       "</style>\n",
       "<table border=\"1\" class=\"dataframe\">\n",
       "  <thead>\n",
       "    <tr style=\"text-align: right;\">\n",
       "      <th></th>\n",
       "      <th>n_agents</th>\n",
       "      <th>mean %</th>\n",
       "      <th>std %</th>\n",
       "    </tr>\n",
       "  </thead>\n",
       "  <tbody>\n",
       "    <tr>\n",
       "      <th>0</th>\n",
       "      <td>3</td>\n",
       "      <td>0.862002</td>\n",
       "      <td>0.153643</td>\n",
       "    </tr>\n",
       "    <tr>\n",
       "      <th>1</th>\n",
       "      <td>4</td>\n",
       "      <td>0.819996</td>\n",
       "      <td>0.411973</td>\n",
       "    </tr>\n",
       "    <tr>\n",
       "      <th>2</th>\n",
       "      <td>5</td>\n",
       "      <td>2.694291</td>\n",
       "      <td>1.820282</td>\n",
       "    </tr>\n",
       "    <tr>\n",
       "      <th>3</th>\n",
       "      <td>6</td>\n",
       "      <td>3.571168</td>\n",
       "      <td>2.651489</td>\n",
       "    </tr>\n",
       "    <tr>\n",
       "      <th>4</th>\n",
       "      <td>7</td>\n",
       "      <td>5.204225</td>\n",
       "      <td>3.314343</td>\n",
       "    </tr>\n",
       "    <tr>\n",
       "      <th>5</th>\n",
       "      <td>8</td>\n",
       "      <td>7.649426</td>\n",
       "      <td>4.117975</td>\n",
       "    </tr>\n",
       "  </tbody>\n",
       "</table>\n",
       "</div>"
      ],
      "text/plain": [
       "   n_agents    mean %     std %\n",
       "0         3  0.862002  0.153643\n",
       "1         4  0.819996  0.411973\n",
       "2         5  2.694291  1.820282\n",
       "3         6  3.571168  2.651489\n",
       "4         7  5.204225  3.314343\n",
       "5         8  7.649426  4.117975"
      ]
     },
     "execution_count": 85,
     "metadata": {},
     "output_type": "execute_result"
    }
   ],
   "source": [
    "optimality_stats = optimality_new_df.groupby('n_agents').agg({'relative_gap_admm':['mean','std']})\n",
    "optimality_stats.columns = ['mean %','std %']\n",
    "optimality_stats = optimality_stats.reset_index()\n",
    "optimality_stats"
   ]
  },
  {
   "cell_type": "code",
   "execution_count": 88,
   "metadata": {},
   "outputs": [
    {
     "data": {
      "text/plain": [
       "<Figure size 960x720 with 0 Axes>"
      ]
     },
     "metadata": {},
     "output_type": "display_data"
    },
    {
     "data": {
      "image/png": "[encoded data removed]",
      "text/plain": [
       "<Figure size 640x480 with 1 Axes>"
      ]
     },
     "metadata": {},
     "output_type": "display_data"
    }
   ],
   "source": [
    "plt.figure(dpi=150)  # Increase dpi for better resolution (adjust as needed)\n",
    "fig, ax = plt.subplots()\n",
    "sns.boxplot(x='n_agents', y='relative_gap_admm', data=optimality_new_df, ax=ax, color=\"cyan\", showfliers=False,\n",
    "            medianprops={'color': 'orange','linewidth':1.5})\n",
    "sns.despine(right=True)\n",
    "\n",
    "# Increase linewidth of bottom and left spines\n",
    "for axis in ['bottom', 'left']:\n",
    "    ax.spines[axis].set_linewidth(2.0)\n",
    "\n",
    "ax.spines['top'].set_visible(False)\n",
    "ax.spines['right'].set_visible(False)\n",
    "\n",
    "# Increase tick width\n",
    "ax.tick_params(width=2.0)\n",
    "\n",
    "# Increase label and tick font sizes\n",
    "plt.xticks(fontname = font_family, size=14, weight='bold')\n",
    "plt.yticks(fontname = font_family,size=14, weight='bold')\n",
    "\n",
    "plt.ylabel('Relative Optimality Gap (%)', fontname = font_family, fontsize=14, weight='bold')\n",
    "plt.xlabel('Number of Agents', fontname = font_family, fontsize=14, weight='bold')\n",
    "\n",
    "ax.yaxis.set_major_locator(ticker.MaxNLocator(nbins=4))\n",
    "# Add a legend if necessary\n",
    "# plt.legend(labels=['Potential ADMM optimality gap'], frameon=False, prop={'weight': 'bold', 'size': 8}, loc='best')\n",
    "\n",
    "plt.savefig('results/potential_admm_optimality_gap.png', bbox_inches='tight', dpi=250, facecolor=ax.get_facecolor())\n",
    "\n",
    "# Show the plot (optional)\n",
    "plt.show()"
   ]
  },
  {
   "cell_type": "markdown",
   "metadata": {},
   "source": []
  },
  {
   "cell_type": "markdown",
   "metadata": {},
   "source": [
    "#### The following optimality gap analysis uses simulation data in which the max. ADMM iterations for each trial is 20:"
   ]
  },
  {
   "cell_type": "code",
   "execution_count": 433,
   "metadata": {},
   "outputs": [],
   "source": [
    "optimality_gap_20 = pd.read_excel('optimality_gap_20Iters.xlsm',sheet_name='optimality_gap_20Iters')"
   ]
  },
  {
   "cell_type": "code",
   "execution_count": 434,
   "metadata": {},
   "outputs": [
    {
     "data": {
      "text/plain": [
       "Index(['i_trial', ' n_agents', ' t', ' converged', ' obj_trj', 'T', 'dt',\n",
       "       'radius', '         SOVA_admm ', 't_solve_avg', ' t_solve_std',\n",
       "       ' MAX_ITER', ' dist_to_goal'],\n",
       "      dtype='object')"
      ]
     },
     "execution_count": 434,
     "metadata": {},
     "output_type": "execute_result"
    }
   ],
   "source": [
    "optimality_gap_20.columns"
   ]
  },
  {
   "cell_type": "code",
   "execution_count": 435,
   "metadata": {},
   "outputs": [],
   "source": [
    "optimality_gap_20.columns = ['i_trial', 'n_agents', 't', 'converged', 'obj_trj', 'T', 'dt',\n",
    "       'radius', 'SOVA_admm', 't_solve_avg', 't_solve_std',\n",
    "       'MAX_ITER', 'dist_to_goal']"
   ]
  },
  {
   "cell_type": "code",
   "execution_count": 436,
   "metadata": {},
   "outputs": [],
   "source": [
    "relative_gap_20Iters_3_agents =np.abs(optimality_gap_20[(optimality_gap_20['n_agents']==3) & (optimality_gap_20['SOVA_admm']==True)]['obj_trj'].values-\\\n",
    "                optimality_gap_20[(optimality_gap_20['n_agents']==3) & (optimality_gap_20['SOVA_admm']=='centralized_mpc')]['obj_trj'].values)/optimality_gap_20[(optimality_gap_20['n_agents']==3) & (optimality_gap_20['SOVA_admm']=='centralized_mpc')]['obj_trj'].values"
   ]
  },
  {
   "cell_type": "code",
   "execution_count": 437,
   "metadata": {},
   "outputs": [],
   "source": [
    "relative_gap_20Iters_4_agents =np.abs(optimality_gap_20[(optimality_gap_20['n_agents']==4) & (optimality_gap_20['SOVA_admm']==True)]['obj_trj'].values-\\\n",
    "                optimality_gap_20[(optimality_gap_20['n_agents']==4) & (optimality_gap_20['SOVA_admm']=='centralized_mpc')]['obj_trj'].values)/optimality_gap_20[(optimality_gap_20['n_agents']==4) & (optimality_gap_20['SOVA_admm']=='centralized_mpc')]['obj_trj'].values"
   ]
  },
  {
   "cell_type": "code",
   "execution_count": 438,
   "metadata": {},
   "outputs": [],
   "source": [
    "relative_gap_20Iters_5_agents =np.abs(optimality_gap_20[(optimality_gap_20['n_agents']==5) & (optimality_gap_20['SOVA_admm']==True)]['obj_trj'].values-\\\n",
    "                optimality_gap_20[(optimality_gap_20['n_agents']==5) & (optimality_gap_20['SOVA_admm']=='centralized_mpc')]['obj_trj'].values)/optimality_gap_20[(optimality_gap_20['n_agents']==5) & (optimality_gap_20['SOVA_admm']=='centralized_mpc')]['obj_trj'].values"
   ]
  },
  {
   "cell_type": "code",
   "execution_count": 439,
   "metadata": {},
   "outputs": [],
   "source": [
    "relative_gap_20Iters_6_agents =np.abs(optimality_gap_20[(optimality_gap_20['n_agents']==6) & (optimality_gap_20['SOVA_admm']==True)]['obj_trj'].values-\\\n",
    "                optimality_gap_20[(optimality_gap_20['n_agents']==6) & (optimality_gap_20['SOVA_admm']=='centralized_mpc')]['obj_trj'].values)/optimality_gap_20[(optimality_gap_20['n_agents']==6) & (optimality_gap_20['SOVA_admm']=='centralized_mpc')]['obj_trj'].values"
   ]
  },
  {
   "cell_type": "code",
   "execution_count": 440,
   "metadata": {},
   "outputs": [],
   "source": [
    "relative_gap_20Iters_7_agents =np.abs(optimality_gap_20[(optimality_gap_20['n_agents']==7) & (optimality_gap_20['SOVA_admm']==True)]['obj_trj'].values-\\\n",
    "                optimality_gap_20[(optimality_gap_20['n_agents']==7) & (optimality_gap_20['SOVA_admm']=='centralized_mpc')]['obj_trj'].values)/optimality_gap_20[(optimality_gap_20['n_agents']==7) & (optimality_gap_20['SOVA_admm']=='centralized_mpc')]['obj_trj'].values"
   ]
  },
  {
   "cell_type": "code",
   "execution_count": 441,
   "metadata": {},
   "outputs": [],
   "source": [
    "relative_gap_20Iters_8_agents =np.abs(optimality_gap_20[(optimality_gap_20['n_agents']==8) & (optimality_gap_20['SOVA_admm']==True)]['obj_trj'].values-\\\n",
    "                optimality_gap_20[(optimality_gap_20['n_agents']==8) & (optimality_gap_20['SOVA_admm']=='centralized_mpc')]['obj_trj'].values)/optimality_gap_20[(optimality_gap_20['n_agents']==8) & (optimality_gap_20['SOVA_admm']=='centralized_mpc')]['obj_trj'].values"
   ]
  },
  {
   "cell_type": "code",
   "execution_count": 442,
   "metadata": {},
   "outputs": [],
   "source": [
    "relative_gap_admm_20Iters = np.hstack((relative_gap_20Iters_3_agents,relative_gap_20Iters_4_agents,\n",
    "                                       relative_gap_20Iters_5_agents,relative_gap_20Iters_6_agents,\n",
    "                                       relative_gap_20Iters_7_agents,relative_gap_20Iters_8_agents))"
   ]
  },
  {
   "cell_type": "code",
   "execution_count": 443,
   "metadata": {},
   "outputs": [],
   "source": [
    "n_agents = np.array(([3]*30, [4]*30, [5]*30, [6]*30, [7]*30)).flatten()"
   ]
  },
  {
   "cell_type": "code",
   "execution_count": 444,
   "metadata": {},
   "outputs": [],
   "source": [
    "n_agents = np.hstack((n_agents,np.array(([8]*9))))"
   ]
  },
  {
   "cell_type": "code",
   "execution_count": 445,
   "metadata": {},
   "outputs": [
    {
     "data": {
      "text/plain": [
       "159"
      ]
     },
     "execution_count": 445,
     "metadata": {},
     "output_type": "execute_result"
    }
   ],
   "source": [
    "n_agents.size"
   ]
  },
  {
   "cell_type": "code",
   "execution_count": 446,
   "metadata": {},
   "outputs": [
    {
     "data": {
      "text/plain": [
       "(159,)"
      ]
     },
     "execution_count": 446,
     "metadata": {},
     "output_type": "execute_result"
    }
   ],
   "source": [
    "relative_gap_admm_20Iters.shape"
   ]
  },
  {
   "cell_type": "code",
   "execution_count": 447,
   "metadata": {},
   "outputs": [],
   "source": [
    "optimality_gap_20_Iters_df = pd.DataFrame({'n_agents':n_agents,\n",
    "                                  'relative_gap_admm':relative_gap_admm_20Iters.flatten()})"
   ]
  },
  {
   "cell_type": "code",
   "execution_count": 448,
   "metadata": {},
   "outputs": [],
   "source": [
    "optimality_gap_20_Iters_df['relative_gap_admm']=optimality_gap_20_Iters_df['relative_gap_admm']*100"
   ]
  },
  {
   "cell_type": "code",
   "execution_count": 450,
   "metadata": {},
   "outputs": [
    {
     "data": {
      "image/png": "[encoded data removed]",
      "text/plain": [
       "<Figure size 960x720 with 1 Axes>"
      ]
     },
     "metadata": {},
     "output_type": "display_data"
    }
   ],
   "source": [
    "plt.figure(dpi=150)\n",
    "err_kws = {'capsize': 5, 'capthick':1, 'elinewidth':2.5}\n",
    "# sns.lineplot(data=optimality_new_df, x=\"n_agents\", y=\"relative_gap_admm\", lw=1.0, dashes=False,\n",
    "#               markers=True, err_style='bars', err_kws = err_kws)\n",
    "\n",
    "sns.boxplot(x='n_agents',y='relative_gap_admm',data=optimality_gap_20_Iters_df)\n",
    "# plt.scatter(data=optimality_stats, x=\"n_agents\", y=\"mean\")\n",
    "\n",
    "for axis in ['bottom','left']:\n",
    "    ax.spines[axis].set_linewidth(2.0)\n",
    "    \n",
    "ax.spines['top'].set_visible(False)\n",
    "ax.spines['right'].set_visible(False)\n",
    "ax.tick_params(width=2.0)\n",
    "\n",
    "plt.xticks(size=12, weight= 'bold')\n",
    "plt.yticks(size=12, weight= 'bold')\n",
    "\n",
    "plt.ylabel('Relative Optimality Gap %',fontsize=12,weight='bold');\n",
    "plt.xlabel('Number of Agents',fontsize=12,weight='bold');"
   ]
  },
  {
   "cell_type": "code",
   "execution_count": 451,
   "metadata": {},
   "outputs": [
    {
     "data": {
      "text/html": [
       "<div>\n",
       "<style scoped>\n",
       "    .dataframe tbody tr th:only-of-type {\n",
       "        vertical-align: middle;\n",
       "    }\n",
       "\n",
       "    .dataframe tbody tr th {\n",
       "        vertical-align: top;\n",
       "    }\n",
       "\n",
       "    .dataframe thead th {\n",
       "        text-align: right;\n",
       "    }\n",
       "</style>\n",
       "<table border=\"1\" class=\"dataframe\">\n",
       "  <thead>\n",
       "    <tr style=\"text-align: right;\">\n",
       "      <th></th>\n",
       "      <th>n_agents</th>\n",
       "      <th>mean %</th>\n",
       "      <th>std %</th>\n",
       "    </tr>\n",
       "  </thead>\n",
       "  <tbody>\n",
       "    <tr>\n",
       "      <th>0</th>\n",
       "      <td>3</td>\n",
       "      <td>1.576287</td>\n",
       "      <td>2.181373</td>\n",
       "    </tr>\n",
       "    <tr>\n",
       "      <th>1</th>\n",
       "      <td>4</td>\n",
       "      <td>3.218396</td>\n",
       "      <td>4.355520</td>\n",
       "    </tr>\n",
       "    <tr>\n",
       "      <th>2</th>\n",
       "      <td>5</td>\n",
       "      <td>5.586353</td>\n",
       "      <td>5.789113</td>\n",
       "    </tr>\n",
       "    <tr>\n",
       "      <th>3</th>\n",
       "      <td>6</td>\n",
       "      <td>8.015295</td>\n",
       "      <td>9.793707</td>\n",
       "    </tr>\n",
       "    <tr>\n",
       "      <th>4</th>\n",
       "      <td>7</td>\n",
       "      <td>6.991744</td>\n",
       "      <td>5.645524</td>\n",
       "    </tr>\n",
       "    <tr>\n",
       "      <th>5</th>\n",
       "      <td>8</td>\n",
       "      <td>9.424015</td>\n",
       "      <td>6.038236</td>\n",
       "    </tr>\n",
       "  </tbody>\n",
       "</table>\n",
       "</div>"
      ],
      "text/plain": [
       "   n_agents    mean %     std %\n",
       "0         3  1.576287  2.181373\n",
       "1         4  3.218396  4.355520\n",
       "2         5  5.586353  5.789113\n",
       "3         6  8.015295  9.793707\n",
       "4         7  6.991744  5.645524\n",
       "5         8  9.424015  6.038236"
      ]
     },
     "execution_count": 451,
     "metadata": {},
     "output_type": "execute_result"
    }
   ],
   "source": [
    "optimality_stats = optimality_gap_20_Iters_df.groupby('n_agents').agg({'relative_gap_admm':['mean','std']})\n",
    "optimality_stats.columns = ['mean %','std %']\n",
    "optimality_stats = optimality_stats.reset_index()\n",
    "optimality_stats"
   ]
  }
 ],
 "metadata": {
  "kernelspec": {
   "display_name": "Python 3 (ipykernel)",
   "language": "python",
   "name": "python3"
  },
  "language_info": {
   "codemirror_mode": {
    "name": "ipython",
    "version": 3
   },
   "file_extension": ".py",
   "mimetype": "text/x-python",
   "name": "python",
   "nbconvert_exporter": "python",
   "pygments_lexer": "ipython3",
   "version": "3.10.4"
  }
 },
 "nbformat": 4,
 "nbformat_minor": 4
}
