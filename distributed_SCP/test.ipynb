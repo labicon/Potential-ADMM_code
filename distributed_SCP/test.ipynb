{
 "cells": [
  {
   "cell_type": "code",
   "execution_count": null,
   "metadata": {},
   "outputs": [],
   "source": [
    "import matplotlib.pyplot as plt\n",
    "from animations import animate_cartpole\n",
    "fig, ani = animate_cartpole(t, x, θ)\n",
    "ani.save('cartpole.mp4', writer='ffmpeg')\n",
    "plt.show()"
   ]
  }
 ],
 "metadata": {
  "kernelspec": {
   "display_name": "ICON_lab",
   "language": "python",
   "name": "python3"
  },
  "language_info": {
   "codemirror_mode": {
    "name": "ipython",
    "version": 3
   },
   "file_extension": ".py",
   "mimetype": "text/x-python",
   "name": "python",
   "nbconvert_exporter": "python",
   "pygments_lexer": "ipython3",
   "version": "3.10.8"
  },
  "vscode": {
   "interpreter": {
    "hash": "aeabfb964a62f2c3aaa785971088032f5d4c39f0816400ef9383927fc6c9d680"
   }
  }
 },
 "nbformat": 4,
 "nbformat_minor": 4
}
