{
 "cells": [
  {
   "cell_type": "code",
   "execution_count": null,
   "metadata": {},
   "outputs": [],
   "source": [
    "import numpy as np\n",
    "import cvxpy as cvx\n",
    "import jax\n",
    "import jax.numpy as jnp\n",
    "import matplotlib.pyplot as plt\n",
    "from tqdm import tqdm\n",
    "from functools import partial\n",
    "import dpilqr as dec"
   ]
  },
  {
   "cell_type": "code",
   "execution_count": null,
   "metadata": {},
   "outputs": [],
   "source": []
  },
  {
   "cell_type": "code",
   "execution_count": null,
   "metadata": {},
   "outputs": [],
   "source": []
  },
  {
   "cell_type": "code",
   "execution_count": null,
   "metadata": {},
   "outputs": [],
   "source": []
  },
  {
   "cell_type": "code",
   "execution_count": null,
   "metadata": {},
   "outputs": [],
   "source": [
    "\"\"\"Run SCP in receding horizon\"\"\"\n",
    "n_agents = 2\n",
    "n_states = 12\n",
    "count = 0\n",
    "si = s0\n",
    "obj_list = []\n",
    "\n",
    "N = 15\n",
    "# u_try = np.array([0, 0, 0, 4.9])\n",
    "\n",
    "u_try = np.array([0, 0, 0, 4.9,\n",
    "                  0, 0, 0, 4.9])\n",
    "\n",
    "u_bar = np.tile(u_try ,(N,1))\n",
    "s_bar = np.zeros((N + 1, n_agents*n_states))\n",
    "s_bar[0] = s0\n",
    "for k in range(N):\n",
    "    s_bar[k+1] = fd(s_bar[k], u_bar[k])\n",
    "\n",
    "X_trj =  np.zeros((0, n_agents*n_states))  #Full trajectory over entire problem horizon (not just a single prediction horizon)\n",
    "STEP_SIZE=1\n",
    "\n",
    "iterate = 0\n",
    "s_prev = None\n",
    "obj_prev = np.inf\n",
    "tol = 5e-1\n",
    "x_dims = [n_states]*n_agents\n",
    "\n",
    "while not np.all(dec.distance_to_goal(si, s_goal.reshape(1,-1), n_agents ,n_states,n_d= 3) < 0.1) :\n",
    "    s, u, obj = scp_iteration(fd, P, Q, R, N, s_bar, u_bar, s_goal, si,  ρ, iterate, s_prev, n_agents)\n",
    "\n",
    "    s_prev = s\n",
    "    \n",
    "    diff_obj = np.abs(obj - obj_prev)\n",
    "    print(f'current diff_obj is {diff_obj}')\n",
    "    if diff_obj < tol:\n",
    "            \n",
    "        print('SCP converged')\n",
    "        break\n",
    "    \n",
    "    else:\n",
    "        obj_prev = obj\n",
    "        #Re-initialize nominal trajectory to shift prediction horizon\n",
    "        s_bar = np.zeros((N + 1, n))\n",
    "        s_bar[0] = s[STEP_SIZE]\n",
    "        u_bar = np.tile(u_try ,(N,1))\n",
    "        u_bar[0] = u[STEP_SIZE-1]\n",
    "\n",
    "        count +=1\n",
    "        \n",
    "        obj_list.append(obj)\n",
    "        \n",
    "        print(f'current objective value is {obj}!\\n')\n",
    "\n",
    "        X_trj = np.r_[X_trj, s[:STEP_SIZE]]\n",
    "        print(f'X_trj has shape {X_trj.shape}\\n')\n",
    "\n",
    "        if count >=60:\n",
    "            print('max iteration reached')\n",
    "            break\n",
    "\n",
    "# Plot state and control trajectories\n",
    "print(f'Full trajectory has shape {X_trj.shape}')\n",
    "fig = plt.figure(dpi=200)\n",
    "dec.plot_solve(X_trj,0,s_goal,x_dims,n_d = 3)\n",
    "plt.savefig('1quad_rhc_SCP.png')\n"
   ]
  }
 ],
 "metadata": {
  "kernelspec": {
   "display_name": "Randy",
   "language": "python",
   "name": "python3"
  },
  "language_info": {
   "name": "python",
   "version": "3.10.4"
  },
  "orig_nbformat": 4
 },
 "nbformat": 4,
 "nbformat_minor": 2
}
