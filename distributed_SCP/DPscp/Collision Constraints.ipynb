{
 "cells": [
  {
   "cell_type": "code",
   "execution_count": 8,
   "id": "cc8b6cc3",
   "metadata": {},
   "outputs": [],
   "source": [
    "def Collision_Constraint(p, K, rad_min, l, A, prev_pos):\n",
    "    A_in= np.empty(shape=(0, A.shape[1]))\n",
    "    B_in_tot= np.empty(shape=(0, 1))\n",
    "    B_in= np.empty(shape=(0, 1))\n",
    "    Diff_matrix= np.empty(shape=(0, A.shape[1]))\n",
    "    \n",
    "    if(l.size>0):\n",
    "        for i in range (l.shape[2]):\n",
    "            pj= l[:, :, i]\n",
    "            \n",
    "            for j in range (K): \n",
    "                dist= np.linalg.norm(p[:, j]- pj[:, j])\n",
    "                diff= (p[:, j]- pj[:, j]).T\n",
    "                \n",
    "                prev_pj= prev_pos[:, i]\n",
    "                prev_dist = np.linalg.norm(prev_pj - pj[:, j])\n",
    "                \n",
    "                r= dist * (rmin - dist + np.dot((p[:, j] - pj[:, j]).T, p[:, j]) / dist) - np.dot((p[:, j] - pj[:, j]).T, p[:, 0])\n",
    "                B_in= np.vstack(B_in, r)\n",
    "                \n",
    "                diff_r = np.hstack((np.zeros((1, 3 * (j - 1))), diff, np.zeros((1, 3 * (K - j)))))\n",
    "                Diff_matrix= np.vstack(diff_matrix, diff_r)\n",
    "                \n",
    "                A_in= np.vstack(Ain_total, -np.dot(diff_mat, A))\n",
    "                B_in_tot= np.vstack(bin_total, -bin_vec)\n",
    "                \n",
    "                B_in=np.empty(0, 1)\n",
    "                Diff_matrix= np.empty(0, A.shape[1])\n",
    "                \n",
    "    return A_in, B_in_tot"
   ]
  },
  {
   "cell_type": "code",
   "execution_count": null,
   "id": "366ebe5a",
   "metadata": {},
   "outputs": [],
   "source": []
  }
 ],
 "metadata": {
  "kernelspec": {
   "display_name": "Python 3 (ipykernel)",
   "language": "python",
   "name": "python3"
  },
  "language_info": {
   "codemirror_mode": {
    "name": "ipython",
    "version": 3
   },
   "file_extension": ".py",
   "mimetype": "text/x-python",
   "name": "python",
   "nbconvert_exporter": "python",
   "pygments_lexer": "ipython3",
   "version": "3.10.8"
  }
 },
 "nbformat": 4,
 "nbformat_minor": 5
}
